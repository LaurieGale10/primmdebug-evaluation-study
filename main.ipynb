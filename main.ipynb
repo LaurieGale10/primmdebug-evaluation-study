{
 "cells": [
  {
   "cell_type": "markdown",
   "metadata": {},
   "source": [
    "# PRIMMDebug Log Data Analaysis Notebook\n",
    "This notebook displays all of the analysis of the log data that took place in the PRIMMDebug initial research paper.\n",
    "\n",
    "The log data was collected from five schools between December 2024-February 2025. It is divided into the following sections:\n",
    "1. **Summary statistics:** ...\n",
    "2. **Establishing variables:**...\n",
    "3. **Visualisation of variables:**...\n",
    "4. **Students' written responses:**...\n",
    "\n",
    "All you need to do is run the notebooks in order and the statistics that appear in the paper will be displayed. If there are any issues, please report them in the [Issues section of the GitHub repository](https://github.com/LaurieGale10/primmdebug-log-data-analysis/issues).\n",
    "\n",
    "Before we run anything else, let's first import all of the necessary files."
   ]
  },
  {
   "cell_type": "code",
   "execution_count": 2,
   "metadata": {},
   "outputs": [],
   "source": [
    "from classes.ExerciseLog import ExerciseLog\n",
    "from classes.StageLog import StageLog\n",
    "from classes.StudentId import StudentId\n",
    "from classes.processors.ExerciseLogProcessor import ExerciseLogProcessor\n",
    "from classes.processors.StageLogProcessor import StageLogProcessor\n",
    "\n",
    "from fetch_log_from_firebase import *\n",
    "from fetch_logs_from_file import fetch_data_from_json\n",
    "\n",
    "stage_logs: list[StageLog] = parse_stage_logs(fetch_data_from_json(\"data/stage_logs\"))\n",
    "exercise_logs: list[ExerciseLog] = parse_exercise_logs(stage_logs, fetch_data_from_json(\"data/exercise_logs\")) #Cleaning should be done in parsing rather than here\n",
    "student_ids: list[StudentId] = parse_student_ids(fetch_data_from_json(\"data/student_ids\"))"
   ]
  },
  {
   "cell_type": "markdown",
   "metadata": {},
   "source": [
    "## Summary Statistics\n",
    "\n",
    "This data displays the following summary statistics to give information into the scale of the data we collected. We report below on:\n",
    "- Number of exercises (that contain at least one completed PRIMMDebug stage)\n",
    "  - Successful\n",
    "  - Unsuccessful\n",
    "  - Completed\n",
    "- Number of PRIMMDebug stages.\n",
    "- Number of students\n",
    "- Time of data collection\n"
   ]
  },
  {
   "cell_type": "code",
   "execution_count": null,
   "metadata": {},
   "outputs": [],
   "source": [
    "print(f\"Number of attempted PRIMMDebug challenges: {len(exercise_logs)}\")\n",
    "\n",
    "number_successful_exercises: int = 0\n",
    "print(f\"- Number of PRIMMDebug challenges where students reported successfully resolving the error they contained: {number_successful_exercises}\")\n",
    "\n",
    "number_unsuccessful_exercises: int = 0\n",
    "print(f\"- Number of PRIMMDebug challenges where students did not report successfully resolving the error they contained: {number_unsuccessful_exercises}\")\n",
    "\n",
    "number_completed_exercises: int = len([ExerciseLogProcessor.get_last_stage(exercise_log).stage_name for exercise_log in exercise_logs if ExerciseLogProcessor.get_last_stage(exercise_log) is not None and ExerciseLogProcessor.get_last_stage(exercise_log).stage_name == \"modify\"])\n",
    "print(f\"- Number of entirely completed PRIMMDebug challenges (where students reached the Make stage of PRIMMDebug): {number_completed_exercises}\\n\")\n",
    "\n",
    "from collections import Counter\n",
    "print(f\"Final stage of challenge attempts:\\n{dict(Counter([ExerciseLogProcessor.get_last_stage(exercise_log).stage_name for exercise_log in exercise_logs if ExerciseLogProcessor.get_last_stage(exercise_log) is not None]))}\\n\")\n",
    "\n",
    "print(f\"Number of completed PRIMMDebug stages: {len(stage_logs)}\")\n",
    "print(f\"- Number of these containing written responses from students: \\n\")\n",
    "\n",
    "print(f\"Number of participating students: {len(student_ids)}\")\n",
    "\n",
    "from constants import *\n",
    "\n",
    "print(f\"- Gender split (self-reported):\\n{get_gender_split()}\")\n",
    "print(f\"- Year group split (self-reported):\\n{get_year_group_split()}\")\n",
    "print(f\"- Number of students per school:\\n{get_school_split()}\\n\")\n",
    "\n",
    "exercises_per_student: dict[str, int] = {}\n",
    "for exercise in exercise_logs:\n",
    "    student_id: str = exercise.student_id\n",
    "    exercises_per_student[student_id] = exercises_per_student.get(student_id) + 1 if student_id in exercises_per_student else 1\n",
    "print(f\"Attempted challenges per student:\\n{exercises_per_student.values()}\") #To be tabulated or visualised\n"
   ]
  },
  {
   "cell_type": "markdown",
   "metadata": {},
   "source": [
    "## Establishing Variables\n",
    "Now we move onto introducing the variables that underpin our log data analysis. These include:\n",
    "- Time taken\n",
    "  - Per challenge attempt\n",
    "  - Per stage\n",
    "- Correctness of exercise\n",
    "  - Per challenge\n",
    "  - Per student\n",
    "- Number of stages taken for a PRIMMDebug challenge\n",
    "  - Per exercise\n",
    "  - Per student"
   ]
  },
  {
   "cell_type": "code",
   "execution_count": null,
   "metadata": {},
   "outputs": [
    {
     "name": "stdout",
     "output_type": "stream",
     "text": [
      "Time taken (seconds)\n",
      "- Per PRIMMDebug challenge: 319.09000000000003\n",
      "\n",
      "- Per PRIMMDebug stage: 14.496\n",
      "\n",
      " Correctness of PRIMMDebug challenges:\n",
      "- Per PRIMMDebug challenge\n",
      "- Per student\n",
      " Number of stages taken on a PRIMMDebug challenge:\n",
      "- Per PRIMMDebug challenge: 11.0\n",
      "- Per student\n"
     ]
    }
   ],
   "source": [
    "import statistics\n",
    "\n",
    "print(\"Time taken (seconds)\")\n",
    "print(f\"- Per PRIMMDebug challenge: {statistics.median([ExerciseLogProcessor.get_time_on_exercise(exercise) for exercise in exercise_logs if hasattr(exercise,\"end_time\")])}\\n\") #TODO: Add more context for data according to SIGSOFT guidelines\n",
    "print(f\"- Per PRIMMDebug stage: {statistics.median([StageLogProcessor.get_time_on_stage(stage) for stage in stage_logs if StageLogProcessor.get_time_on_stage(stage) is not None])}\\n\")\n",
    "      \n",
    "print(\" Correctness of PRIMMDebug challenges:\")\n",
    "print(f\"- Per PRIMMDebug challenge\")\n",
    "print(f\"- Per student\")\n",
    "\n",
    "print(\" Number of stages taken on a PRIMMDebug challenge:\")\n",
    "print(f\"- Per PRIMMDebug challenge: {statistics.median([len(exercise.stage_logs) for exercise in exercise_logs])}\") #Can visualise this over time\n",
    "print(f\"- Per student\")"
   ]
  },
  {
   "cell_type": "markdown",
   "metadata": {},
   "source": [
    "Other ideas:\n",
    "\n",
    "\n",
    "\n",
    "\"\"\"\n",
    "Some basic exercise log data to get:\n",
    "- Number of exercise logs\n",
    "- Number of null exercise logs\n",
    "- Number of non-null exercise logs\n",
    "- Number of exercise logs for a certain PRIMMDebug challenge\n",
    "\n",
    "Slightly more advanced:\n",
    "- List/count of exercises that do/don't end in erroneous state\n",
    "- Order of PRIMMDebug stages for a given log\n",
    "- Exercises containing a modify stage\n",
    "- Exercises containing a make stage\n",
    "\n",
    "Others from lucidchart:\n",
    "- Exercises where end state of program is erroneous\n",
    "- Exercises where end state of program is not erroneous\n",
    "- Exercises/stages where user entered correct answer\n",
    "- Exercises/stages where user entered incorrect answer\n",
    "- Exercises/stages where user didn't enter response\n",
    "- Stages where user's response was less than x characters\n",
    "- Exercises containing a modify stage\n",
    "- Exercises containing a make stage\n",
    "- Exercises/stages where user focused out\n",
    "- Exercises/stages where user viewed test cases\n",
    "- Exercises/stages where user viewed hints\n",
    "- Total time on log data\n",
    "\n",
    "\"\"\"\n",
    "\n",
    "\n",
    "\"\"\"\n",
    "Some basic stage log data to get:\n",
    "- Number of stage logs\n",
    "- Number of stage logs for a certain PRIMMDebug stage\n",
    "\n",
    "Some slightly more advanced:\n",
    "- Number of correct responses to find the error stage.\n",
    "- Inputs entered into run stages (for certain exercise)\n",
    "- Number of Inspect the Code and/or Test stage logs where test case pane is viewed\n",
    "- Number of Inspect the Code stages where response isn't empty\n",
    "- Average time spent on PRIMMDebug stage (for every stage and particular stages)\n",
    "- Stages where user's response was less than x characters\n",
    "\n",
    "And more advanced:\n",
    "- Overall % of time spent focused on PRIMMDebug window\n",
    "\"\"\"\n",
    "\n",
    "\"\"\"\n",
    "Some student id data to get:\n",
    "- Number of participating students\n",
    "- Number of students from certain school\n",
    "- Number of students who've logged in\n",
    "- Number of studnets who haven't logged in\"\"\""
   ]
  }
 ],
 "metadata": {
  "kernelspec": {
   "display_name": "Python 3",
   "language": "python",
   "name": "python3"
  },
  "language_info": {
   "codemirror_mode": {
    "name": "ipython",
    "version": 3
   },
   "file_extension": ".py",
   "mimetype": "text/x-python",
   "name": "python",
   "nbconvert_exporter": "python",
   "pygments_lexer": "ipython3",
   "version": "3.13.0"
  }
 },
 "nbformat": 4,
 "nbformat_minor": 2
}
