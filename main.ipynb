{
 "cells": [
  {
   "cell_type": "markdown",
   "metadata": {},
   "source": [
    "# PRIMMDebug Log Data Analaysis Notebook\n",
    "This notebook displays all of the analysis of the log data that took place in the PRIMMDebug initial research paper.\n",
    "\n",
    "The log data was collected from five schools between December 2024-February 2025. It is divided into the following sections:\n",
    "1. **Summary statistics:** ...\n",
    "2. **Establishing variables:**...\n",
    "3. **Visualisation of variables:**...\n",
    "4. **Students' written responses:**...\n",
    "\n",
    "All you need to do is run the notebooks in order and the statistics that appear in the paper will be displayed. If there are any issues, please report them in the [Issues section of the GitHub repository](https://github.com/LaurieGale10/primmdebug-log-data-analysis/issues).\n",
    "\n",
    "Before we run anything else, let's first import all of the necessary files."
   ]
  },
  {
   "cell_type": "code",
   "execution_count": 8,
   "metadata": {},
   "outputs": [],
   "source": [
    "from classes.ExerciseLog import ExerciseLog\n",
    "from classes.StageLog import StageLog\n",
    "from classes.StudentId import StudentId\n",
    "from classes.processors.ExerciseLogProcessor import ExerciseLogProcessor\n",
    "from classes.processors.StageLogProcessor import StageLogProcessor\n",
    "\n",
    "from loading_services.fetch_log_from_firebase import *\n",
    "from loading_services.fetch_logs_from_file import fetch_data_from_json\n",
    "\n",
    "from constants import *\n",
    "\n",
    "import plotly.express as px\n",
    "import datetime\n",
    "\n",
    "stage_logs: list[StageLog] = parse_stage_logs(fetch_data_from_json(\"data/stage_logs\"))\n",
    "exercise_logs: list[ExerciseLog] = parse_exercise_logs(stage_logs, fetch_data_from_json(\"data/exercise_logs\")) #Cleaning should be done in parsing rather than here\n",
    "student_ids: list[StudentId] = parse_student_ids(fetch_data_from_json(\"data/student_ids\"))"
   ]
  },
  {
   "cell_type": "markdown",
   "metadata": {},
   "source": [
    "## Summary Statistics\n",
    "\n",
    "This data displays the following summary statistics to give information into the scale of the data we collected. We report below on:\n",
    "- Number of exercises (that contain at least one completed PRIMMDebug stage)\n",
    "  - Successful\n",
    "  - Unsuccessful\n",
    "  - Completed\n",
    "  - Per each PRIMMDebug challenge\n",
    "- Number of PRIMMDebug stages.\n",
    "- Number of students\n",
    "- Time of data collection\n"
   ]
  },
  {
   "cell_type": "code",
   "execution_count": null,
   "metadata": {},
   "outputs": [],
   "source": [
    "print(f\"Number of attempted PRIMMDebug challenges: {len(exercise_logs)}\")\n",
    "\n",
    "number_successful_exercises: int = 0\n",
    "print(f\"- Number of PRIMMDebug challenges where students reported successfully resolving the error they contained: {number_successful_exercises}\")\n",
    "\n",
    "number_unsuccessful_exercises: int = 0\n",
    "print(f\"- Number of PRIMMDebug challenges where students did not report successfully resolving the error they contained: {number_unsuccessful_exercises}\")\n",
    "\n",
    "#TODO: This line is totally unreadable; make this a function in the ExerciseLogProcessor class\n",
    "number_completed_exercises: int = len([ExerciseLogProcessor.get_last_stage(exercise_log).stage_name for exercise_log in exercise_logs if ExerciseLogProcessor.get_last_stage(exercise_log) is not None and ExerciseLogProcessor.get_last_stage(exercise_log).stage_name == \"modify\"])\n",
    "print(f\"- Number of entirely completed PRIMMDebug challenges (where students reached the Make stage of PRIMMDebug): {number_completed_exercises}\\n\")\n",
    "\n",
    "challenge_attempts: dict[str] = {}\n",
    "for exercise_log in exercise_logs:\n",
    "    if exercise_log.exercise_name not in challenge_attempts:\n",
    "        challenge_attempts[exercise_log.exercise_name] = 1\n",
    "    else:\n",
    "        challenge_attempts[exercise_log.exercise_name] += 1\n",
    "challenge_attempts_fig = px.bar(x = challenge_attempts.keys(), y = challenge_attempts.values(), labels = {\"x\": \"Challenge Name\", \"y\": \"Frequency\"})\n",
    "challenge_attempts_fig.show()\n",
    "\n",
    "from collections import Counter\n",
    "challenge_end_stages: dict[str, int] = dict(Counter([ExerciseLogProcessor.get_last_stage(exercise_log).stage_name.name for exercise_log in exercise_logs if ExerciseLogProcessor.get_last_stage(exercise_log) is not None]))\n",
    "final_stage_fig = px.bar(x = list(challenge_end_stages.keys()), y = list(challenge_end_stages.values()), labels = {\"x\": \"Final stage of PRIMMDebug\", \"y\": \"Frequency\"})\n",
    "final_stage_fig.show()\n",
    "\n",
    "print(f\"Number of completed PRIMMDebug stages: {len(stage_logs)}\")\n",
    "\n",
    "print(f\"Number of participating students: {len(student_ids)}\")\n",
    "\n",
    "gender_split_fig = px.bar(x = get_gender_split().keys(), y = get_gender_split().values(), labels = {\"x\": \"Gender\", \"y\": \"Frequency\"})\n",
    "gender_split_fig.show()\n",
    "\n",
    "year_group_split_fig = px.bar(x = get_year_group_split().keys(), y = get_year_group_split().values(), labels={\"x\": \"Year Group\", \"y\": \"Frequency\"})\n",
    "year_group_split_fig.show()\n",
    "\n",
    "school_split_fig = px.bar(x = get_school_split().keys(), y = get_school_split().values(), labels={\"x\": \"School\", \"y\": \"Frequency\"})\n",
    "school_split_fig.show()\n",
    "\n",
    "exercises_per_student: dict[str, int] = {}\n",
    "for exercise in exercise_logs:\n",
    "    student_id: str = exercise.student_id\n",
    "    exercises_per_student[student_id] = exercises_per_student.get(student_id) + 1 if student_id in exercises_per_student else 1\n",
    "\n",
    "attempted_challenges_per_student_fig = px.histogram(exercises_per_student.values(), marginal=\"box\")\n",
    "attempted_challenges_per_student_fig.show()\n"
   ]
  },
  {
   "cell_type": "markdown",
   "metadata": {},
   "source": [
    "## Establishing Variables\n",
    "Now we move onto introducing the variables that underpin our log data analysis. These include:\n",
    "- Time taken\n",
    "  - Per challenge attempt\n",
    "  - Per stage\n",
    "- Correctness of exercise\n",
    "  - Per challenge\n",
    "  - Per student\n",
    "- Number of stages taken for a PRIMMDebug challenge\n",
    "  - Per exercise\n",
    "  - Per student"
   ]
  },
  {
   "cell_type": "code",
   "execution_count": null,
   "metadata": {},
   "outputs": [],
   "source": [
    "print(\"Time taken (seconds)\")\n",
    "time_per_challenge_fig = px.histogram([ExerciseLogProcessor.get_time_on_exercise(exercise) for exercise in exercise_logs if hasattr(exercise,\"end_time\")], marginal=\"box\", labels={\"x\": \"Time taken (seconds)\"})\n",
    "time_per_challenge_fig.show()\n",
    "time_per_stage_fig = px.histogram([StageLogProcessor.get_time_on_stage(stage) for stage in stage_logs if StageLogProcessor.get_time_on_stage(stage) is not None], marginal=\"box\", labels={\"x\": \"Time taken (seconds)\"})\n",
    "time_per_stage_fig.show()\n",
    "\n",
    "print(\" Correctness of PRIMMDebug challenges:\")\n",
    "print(f\"- Per PRIMMDebug challenge\")\n",
    "print(f\"- Per student\")\n",
    "\n",
    "print(\" Number of stages taken on a PRIMMDebug challenge:\")\n",
    "stages_per_challenge_fig = px.histogram([len(exercise.stage_logs) for exercise in exercise_logs], marginal=\"box\", labels={\"x\": \"Number of stages\"})\n",
    "stages_per_challenge_fig.show()\n",
    "#TODO: Segregate by each specific challenge (and student?)"
   ]
  },
  {
   "cell_type": "markdown",
   "metadata": {},
   "source": [
    "## Exercise Log Stats\n",
    "Placeholder for exercise log stats"
   ]
  },
  {
   "cell_type": "code",
   "execution_count": null,
   "metadata": {},
   "outputs": [
    {
     "name": "stdout",
     "output_type": "stream",
     "text": [
      "Total time on PRIMMDebug exercises: 1 day, 20:36:56.082000\n",
      "Proportion of PRIMMDebug challenges where last program run successfully executed: 72.92%\n"
     ]
    },
    {
     "data": {
      "application/vnd.plotly.v1+json": {
       "config": {
        "plotlyServerURL": "https://plot.ly"
       },
       "data": [
        {
         "bingroup": "x",
         "hovertemplate": "variable=0<br>value=%{x}<br>count=%{y}<extra></extra>",
         "legendgroup": "0",
         "marker": {
          "color": "#636efa",
          "pattern": {
           "shape": ""
          }
         },
         "name": "0",
         "orientation": "v",
         "showlegend": true,
         "type": "histogram",
         "x": {
          "bdata": "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",
          "dtype": "f8"
         },
         "xaxis": "x",
         "yaxis": "y"
        },
        {
         "hovertemplate": "variable=0<br>value=%{x}<extra></extra>",
         "legendgroup": "0",
         "marker": {
          "color": "#636efa"
         },
         "name": "0",
         "notched": true,
         "showlegend": false,
         "type": "box",
         "x": {
          "bdata": "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",
          "dtype": "f8"
         },
         "xaxis": "x2",
         "yaxis": "y2"
        }
       ],
       "layout": {
        "barmode": "relative",
        "legend": {
         "title": {
          "text": "variable"
         },
         "tracegroupgap": 0
        },
        "margin": {
         "t": 60
        },
        "template": {
         "data": {
          "bar": [
           {
            "error_x": {
             "color": "#2a3f5f"
            },
            "error_y": {
             "color": "#2a3f5f"
            },
            "marker": {
             "line": {
              "color": "#E5ECF6",
              "width": 0.5
             },
             "pattern": {
              "fillmode": "overlay",
              "size": 10,
              "solidity": 0.2
             }
            },
            "type": "bar"
           }
          ],
          "barpolar": [
           {
            "marker": {
             "line": {
              "color": "#E5ECF6",
              "width": 0.5
             },
             "pattern": {
              "fillmode": "overlay",
              "size": 10,
              "solidity": 0.2
             }
            },
            "type": "barpolar"
           }
          ],
          "carpet": [
           {
            "aaxis": {
             "endlinecolor": "#2a3f5f",
             "gridcolor": "white",
             "linecolor": "white",
             "minorgridcolor": "white",
             "startlinecolor": "#2a3f5f"
            },
            "baxis": {
             "endlinecolor": "#2a3f5f",
             "gridcolor": "white",
             "linecolor": "white",
             "minorgridcolor": "white",
             "startlinecolor": "#2a3f5f"
            },
            "type": "carpet"
           }
          ],
          "choropleth": [
           {
            "colorbar": {
             "outlinewidth": 0,
             "ticks": ""
            },
            "type": "choropleth"
           }
          ],
          "contour": [
           {
            "colorbar": {
             "outlinewidth": 0,
             "ticks": ""
            },
            "colorscale": [
             [
              0,
              "#0d0887"
             ],
             [
              0.1111111111111111,
              "#46039f"
             ],
             [
              0.2222222222222222,
              "#7201a8"
             ],
             [
              0.3333333333333333,
              "#9c179e"
             ],
             [
              0.4444444444444444,
              "#bd3786"
             ],
             [
              0.5555555555555556,
              "#d8576b"
             ],
             [
              0.6666666666666666,
              "#ed7953"
             ],
             [
              0.7777777777777778,
              "#fb9f3a"
             ],
             [
              0.8888888888888888,
              "#fdca26"
             ],
             [
              1,
              "#f0f921"
             ]
            ],
            "type": "contour"
           }
          ],
          "contourcarpet": [
           {
            "colorbar": {
             "outlinewidth": 0,
             "ticks": ""
            },
            "type": "contourcarpet"
           }
          ],
          "heatmap": [
           {
            "colorbar": {
             "outlinewidth": 0,
             "ticks": ""
            },
            "colorscale": [
             [
              0,
              "#0d0887"
             ],
             [
              0.1111111111111111,
              "#46039f"
             ],
             [
              0.2222222222222222,
              "#7201a8"
             ],
             [
              0.3333333333333333,
              "#9c179e"
             ],
             [
              0.4444444444444444,
              "#bd3786"
             ],
             [
              0.5555555555555556,
              "#d8576b"
             ],
             [
              0.6666666666666666,
              "#ed7953"
             ],
             [
              0.7777777777777778,
              "#fb9f3a"
             ],
             [
              0.8888888888888888,
              "#fdca26"
             ],
             [
              1,
              "#f0f921"
             ]
            ],
            "type": "heatmap"
           }
          ],
          "histogram": [
           {
            "marker": {
             "pattern": {
              "fillmode": "overlay",
              "size": 10,
              "solidity": 0.2
             }
            },
            "type": "histogram"
           }
          ],
          "histogram2d": [
           {
            "colorbar": {
             "outlinewidth": 0,
             "ticks": ""
            },
            "colorscale": [
             [
              0,
              "#0d0887"
             ],
             [
              0.1111111111111111,
              "#46039f"
             ],
             [
              0.2222222222222222,
              "#7201a8"
             ],
             [
              0.3333333333333333,
              "#9c179e"
             ],
             [
              0.4444444444444444,
              "#bd3786"
             ],
             [
              0.5555555555555556,
              "#d8576b"
             ],
             [
              0.6666666666666666,
              "#ed7953"
             ],
             [
              0.7777777777777778,
              "#fb9f3a"
             ],
             [
              0.8888888888888888,
              "#fdca26"
             ],
             [
              1,
              "#f0f921"
             ]
            ],
            "type": "histogram2d"
           }
          ],
          "histogram2dcontour": [
           {
            "colorbar": {
             "outlinewidth": 0,
             "ticks": ""
            },
            "colorscale": [
             [
              0,
              "#0d0887"
             ],
             [
              0.1111111111111111,
              "#46039f"
             ],
             [
              0.2222222222222222,
              "#7201a8"
             ],
             [
              0.3333333333333333,
              "#9c179e"
             ],
             [
              0.4444444444444444,
              "#bd3786"
             ],
             [
              0.5555555555555556,
              "#d8576b"
             ],
             [
              0.6666666666666666,
              "#ed7953"
             ],
             [
              0.7777777777777778,
              "#fb9f3a"
             ],
             [
              0.8888888888888888,
              "#fdca26"
             ],
             [
              1,
              "#f0f921"
             ]
            ],
            "type": "histogram2dcontour"
           }
          ],
          "mesh3d": [
           {
            "colorbar": {
             "outlinewidth": 0,
             "ticks": ""
            },
            "type": "mesh3d"
           }
          ],
          "parcoords": [
           {
            "line": {
             "colorbar": {
              "outlinewidth": 0,
              "ticks": ""
             }
            },
            "type": "parcoords"
           }
          ],
          "pie": [
           {
            "automargin": true,
            "type": "pie"
           }
          ],
          "scatter": [
           {
            "fillpattern": {
             "fillmode": "overlay",
             "size": 10,
             "solidity": 0.2
            },
            "type": "scatter"
           }
          ],
          "scatter3d": [
           {
            "line": {
             "colorbar": {
              "outlinewidth": 0,
              "ticks": ""
             }
            },
            "marker": {
             "colorbar": {
              "outlinewidth": 0,
              "ticks": ""
             }
            },
            "type": "scatter3d"
           }
          ],
          "scattercarpet": [
           {
            "marker": {
             "colorbar": {
              "outlinewidth": 0,
              "ticks": ""
             }
            },
            "type": "scattercarpet"
           }
          ],
          "scattergeo": [
           {
            "marker": {
             "colorbar": {
              "outlinewidth": 0,
              "ticks": ""
             }
            },
            "type": "scattergeo"
           }
          ],
          "scattergl": [
           {
            "marker": {
             "colorbar": {
              "outlinewidth": 0,
              "ticks": ""
             }
            },
            "type": "scattergl"
           }
          ],
          "scattermap": [
           {
            "marker": {
             "colorbar": {
              "outlinewidth": 0,
              "ticks": ""
             }
            },
            "type": "scattermap"
           }
          ],
          "scattermapbox": [
           {
            "marker": {
             "colorbar": {
              "outlinewidth": 0,
              "ticks": ""
             }
            },
            "type": "scattermapbox"
           }
          ],
          "scatterpolar": [
           {
            "marker": {
             "colorbar": {
              "outlinewidth": 0,
              "ticks": ""
             }
            },
            "type": "scatterpolar"
           }
          ],
          "scatterpolargl": [
           {
            "marker": {
             "colorbar": {
              "outlinewidth": 0,
              "ticks": ""
             }
            },
            "type": "scatterpolargl"
           }
          ],
          "scatterternary": [
           {
            "marker": {
             "colorbar": {
              "outlinewidth": 0,
              "ticks": ""
             }
            },
            "type": "scatterternary"
           }
          ],
          "surface": [
           {
            "colorbar": {
             "outlinewidth": 0,
             "ticks": ""
            },
            "colorscale": [
             [
              0,
              "#0d0887"
             ],
             [
              0.1111111111111111,
              "#46039f"
             ],
             [
              0.2222222222222222,
              "#7201a8"
             ],
             [
              0.3333333333333333,
              "#9c179e"
             ],
             [
              0.4444444444444444,
              "#bd3786"
             ],
             [
              0.5555555555555556,
              "#d8576b"
             ],
             [
              0.6666666666666666,
              "#ed7953"
             ],
             [
              0.7777777777777778,
              "#fb9f3a"
             ],
             [
              0.8888888888888888,
              "#fdca26"
             ],
             [
              1,
              "#f0f921"
             ]
            ],
            "type": "surface"
           }
          ],
          "table": [
           {
            "cells": {
             "fill": {
              "color": "#EBF0F8"
             },
             "line": {
              "color": "white"
             }
            },
            "header": {
             "fill": {
              "color": "#C8D4E3"
             },
             "line": {
              "color": "white"
             }
            },
            "type": "table"
           }
          ]
         },
         "layout": {
          "annotationdefaults": {
           "arrowcolor": "#2a3f5f",
           "arrowhead": 0,
           "arrowwidth": 1
          },
          "autotypenumbers": "strict",
          "coloraxis": {
           "colorbar": {
            "outlinewidth": 0,
            "ticks": ""
           }
          },
          "colorscale": {
           "diverging": [
            [
             0,
             "#8e0152"
            ],
            [
             0.1,
             "#c51b7d"
            ],
            [
             0.2,
             "#de77ae"
            ],
            [
             0.3,
             "#f1b6da"
            ],
            [
             0.4,
             "#fde0ef"
            ],
            [
             0.5,
             "#f7f7f7"
            ],
            [
             0.6,
             "#e6f5d0"
            ],
            [
             0.7,
             "#b8e186"
            ],
            [
             0.8,
             "#7fbc41"
            ],
            [
             0.9,
             "#4d9221"
            ],
            [
             1,
             "#276419"
            ]
           ],
           "sequential": [
            [
             0,
             "#0d0887"
            ],
            [
             0.1111111111111111,
             "#46039f"
            ],
            [
             0.2222222222222222,
             "#7201a8"
            ],
            [
             0.3333333333333333,
             "#9c179e"
            ],
            [
             0.4444444444444444,
             "#bd3786"
            ],
            [
             0.5555555555555556,
             "#d8576b"
            ],
            [
             0.6666666666666666,
             "#ed7953"
            ],
            [
             0.7777777777777778,
             "#fb9f3a"
            ],
            [
             0.8888888888888888,
             "#fdca26"
            ],
            [
             1,
             "#f0f921"
            ]
           ],
           "sequentialminus": [
            [
             0,
             "#0d0887"
            ],
            [
             0.1111111111111111,
             "#46039f"
            ],
            [
             0.2222222222222222,
             "#7201a8"
            ],
            [
             0.3333333333333333,
             "#9c179e"
            ],
            [
             0.4444444444444444,
             "#bd3786"
            ],
            [
             0.5555555555555556,
             "#d8576b"
            ],
            [
             0.6666666666666666,
             "#ed7953"
            ],
            [
             0.7777777777777778,
             "#fb9f3a"
            ],
            [
             0.8888888888888888,
             "#fdca26"
            ],
            [
             1,
             "#f0f921"
            ]
           ]
          },
          "colorway": [
           "#636efa",
           "#EF553B",
           "#00cc96",
           "#ab63fa",
           "#FFA15A",
           "#19d3f3",
           "#FF6692",
           "#B6E880",
           "#FF97FF",
           "#FECB52"
          ],
          "font": {
           "color": "#2a3f5f"
          },
          "geo": {
           "bgcolor": "white",
           "lakecolor": "white",
           "landcolor": "#E5ECF6",
           "showlakes": true,
           "showland": true,
           "subunitcolor": "white"
          },
          "hoverlabel": {
           "align": "left"
          },
          "hovermode": "closest",
          "mapbox": {
           "style": "light"
          },
          "paper_bgcolor": "white",
          "plot_bgcolor": "#E5ECF6",
          "polar": {
           "angularaxis": {
            "gridcolor": "white",
            "linecolor": "white",
            "ticks": ""
           },
           "bgcolor": "#E5ECF6",
           "radialaxis": {
            "gridcolor": "white",
            "linecolor": "white",
            "ticks": ""
           }
          },
          "scene": {
           "xaxis": {
            "backgroundcolor": "#E5ECF6",
            "gridcolor": "white",
            "gridwidth": 2,
            "linecolor": "white",
            "showbackground": true,
            "ticks": "",
            "zerolinecolor": "white"
           },
           "yaxis": {
            "backgroundcolor": "#E5ECF6",
            "gridcolor": "white",
            "gridwidth": 2,
            "linecolor": "white",
            "showbackground": true,
            "ticks": "",
            "zerolinecolor": "white"
           },
           "zaxis": {
            "backgroundcolor": "#E5ECF6",
            "gridcolor": "white",
            "gridwidth": 2,
            "linecolor": "white",
            "showbackground": true,
            "ticks": "",
            "zerolinecolor": "white"
           }
          },
          "shapedefaults": {
           "line": {
            "color": "#2a3f5f"
           }
          },
          "ternary": {
           "aaxis": {
            "gridcolor": "white",
            "linecolor": "white",
            "ticks": ""
           },
           "baxis": {
            "gridcolor": "white",
            "linecolor": "white",
            "ticks": ""
           },
           "bgcolor": "#E5ECF6",
           "caxis": {
            "gridcolor": "white",
            "linecolor": "white",
            "ticks": ""
           }
          },
          "title": {
           "x": 0.05
          },
          "xaxis": {
           "automargin": true,
           "gridcolor": "white",
           "linecolor": "white",
           "ticks": "",
           "title": {
            "standoff": 15
           },
           "zerolinecolor": "white",
           "zerolinewidth": 2
          },
          "yaxis": {
           "automargin": true,
           "gridcolor": "white",
           "linecolor": "white",
           "ticks": "",
           "title": {
            "standoff": 15
           },
           "zerolinecolor": "white",
           "zerolinewidth": 2
          }
         }
        },
        "xaxis": {
         "anchor": "y",
         "domain": [
          0,
          1
         ],
         "title": {
          "text": "value"
         }
        },
        "xaxis2": {
         "anchor": "y2",
         "domain": [
          0,
          1
         ],
         "matches": "x",
         "showgrid": true,
         "showticklabels": false
        },
        "yaxis": {
         "anchor": "x",
         "domain": [
          0,
          0.7326
         ],
         "title": {
          "text": "count"
         }
        },
        "yaxis2": {
         "anchor": "x2",
         "domain": [
          0.7426,
          1
         ],
         "matches": "y2",
         "showgrid": false,
         "showline": false,
         "showticklabels": false,
         "ticks": ""
        }
       }
      }
     },
     "metadata": {},
     "output_type": "display_data"
    }
   ],
   "source": [
    "total_time: float = sum([ExerciseLogProcessor.get_time_on_exercise(exercise_log) for exercise_log in exercise_logs])\n",
    "print(f\"Total time on PRIMMDebug exercises: {datetime.timedelta(seconds=total_time)}\")\n",
    "\n",
    "final_program_states: list[bool] = [ExerciseLogProcessor.is_final_program_erroneous(exercise) for exercise in exercise_logs]\n",
    "successful_final_program_states: list[bool] = [final_program_state for final_program_state in final_program_states if final_program_state]\n",
    "proportion_successful_final_program_states: float = (len(successful_final_program_states) / len(final_program_states)) * 100\n",
    "print(f\"Proportion of PRIMMDebug challenges where last program run successfully executed: {proportion_successful_final_program_states:.2f}%\")\n",
    "\n",
    "print(\"Time spent focused on PRIMMDebug window per exercise\")\n",
    "time_spent_focused: list[float] = [ExerciseLogProcessor.get_time_focused(exercise) for exercise in exercise_logs]\n",
    "time_spent_focused_fig = px.histogram(time_spent_focused, marginal=\"box\", labels={\"x\": \"100% Time spent focused on PRIMMDebug window\"})\n",
    "time_spent_focused_fig.show()"
   ]
  },
  {
   "cell_type": "markdown",
   "metadata": {},
   "source": [
    "## Written Responses\n",
    "\n",
    "For now, just group written responses by stage name and investigate them. Also get some stats on written responses for context"
   ]
  },
  {
   "cell_type": "code",
   "execution_count": null,
   "metadata": {},
   "outputs": [],
   "source": [
    "import enchant\n",
    "\n",
    "from save_logs import *\n",
    "\n",
    "save_written_responses(exercise_logs)\n",
    "\n",
    "#Proprtion of reflections that contain do not contain at least one valid English word\n",
    "dict = enchant.Dict(\"en_GB\")\n",
    "written_responses = ExerciseLogProcessor.get_written_response_data(exercise_logs)\n",
    "print([response[3] for response in written_responses])\n",
    "\n",
    "#Proportion of inspect the code stages containing written responses (should be modified to \"including at least one valid word\")"
   ]
  }
 ],
 "metadata": {
  "kernelspec": {
   "display_name": "Python 3",
   "language": "python",
   "name": "python3"
  },
  "language_info": {
   "codemirror_mode": {
    "name": "ipython",
    "version": 3
   },
   "file_extension": ".py",
   "mimetype": "text/x-python",
   "name": "python",
   "nbconvert_exporter": "python",
   "pygments_lexer": "ipython3",
   "version": "3.13.0"
  }
 },
 "nbformat": 4,
 "nbformat_minor": 2
}
