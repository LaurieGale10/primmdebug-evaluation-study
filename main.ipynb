{
 "cells": [
  {
   "cell_type": "markdown",
   "metadata": {},
   "source": [
    "# PRIMMDebug Log Data Analaysis Notebook\n",
    "This notebook displays all of the analysis of the log data that took place in the PRIMMDebug initial research paper.\n",
    "\n",
    "The log data was collected from five schools between December 2024-February 2025. It is divided into the following sections:\n",
    "1. **Summary statistics:** ...\n",
    "2. **Establishing variables:**...\n",
    "3. **Visualisation of variables:**...\n",
    "4. **Students' written responses:**...\n",
    "\n",
    "All you need to do is run the notebooks in order and the statistics that appear in the paper will be displayed. If there are any issues, please report them in the [Issues section of the GitHub repository](https://github.com/LaurieGale10/primmdebug-log-data-analysis/issues).\n",
    "\n",
    "Before we run anything else, let's first import all of the necessary files."
   ]
  },
  {
   "cell_type": "code",
   "execution_count": 1,
   "metadata": {},
   "outputs": [
    {
     "ename": "ValueError",
     "evalue": "invalid literal for int() with base 10: 'the'",
     "output_type": "error",
     "traceback": [
      "\u001b[1;31m---------------------------------------------------------------------------\u001b[0m",
      "\u001b[1;31mValueError\u001b[0m                                Traceback (most recent call last)",
      "Cell \u001b[1;32mIn[1], line 9\u001b[0m\n\u001b[0;32m      6\u001b[0m \u001b[38;5;28;01mfrom\u001b[39;00m\u001b[38;5;250m \u001b[39m\u001b[38;5;21;01mfetch_log_from_firebase\u001b[39;00m\u001b[38;5;250m \u001b[39m\u001b[38;5;28;01mimport\u001b[39;00m \u001b[38;5;241m*\u001b[39m\n\u001b[0;32m      7\u001b[0m \u001b[38;5;28;01mfrom\u001b[39;00m\u001b[38;5;250m \u001b[39m\u001b[38;5;21;01mfetch_logs_from_file\u001b[39;00m\u001b[38;5;250m \u001b[39m\u001b[38;5;28;01mimport\u001b[39;00m fetch_data_from_json\n\u001b[1;32m----> 9\u001b[0m stage_logs: \u001b[38;5;28mlist\u001b[39m[StageLog] \u001b[38;5;241m=\u001b[39m \u001b[43mparse_stage_logs\u001b[49m\u001b[43m(\u001b[49m\u001b[43mfetch_data_from_json\u001b[49m\u001b[43m(\u001b[49m\u001b[38;5;124;43m\"\u001b[39;49m\u001b[38;5;124;43mdata/stage_logs\u001b[39;49m\u001b[38;5;124;43m\"\u001b[39;49m\u001b[43m)\u001b[49m\u001b[43m)\u001b[49m\n\u001b[0;32m     10\u001b[0m exercise_logs: \u001b[38;5;28mlist\u001b[39m[ExerciseLog] \u001b[38;5;241m=\u001b[39m parse_exercise_logs(stage_logs, fetch_data_from_json(\u001b[38;5;124m\"\u001b[39m\u001b[38;5;124mdata/exercise_logs\u001b[39m\u001b[38;5;124m\"\u001b[39m)) \u001b[38;5;66;03m#Cleaning should be done in parsing rather than here\u001b[39;00m\n\u001b[0;32m     11\u001b[0m student_ids: \u001b[38;5;28mlist\u001b[39m[StudentId] \u001b[38;5;241m=\u001b[39m parse_student_ids(fetch_data_from_json(\u001b[38;5;124m\"\u001b[39m\u001b[38;5;124mdata/student_ids\u001b[39m\u001b[38;5;124m\"\u001b[39m))\n",
      "File \u001b[1;32mc:\\Users\\Laurie Gale\\OneDrive - University of Cambridge\\Documents\\PhD Computer Science\\Year 3\\Study 3\\Log Data Analysis\\primmdebug-log-data-analysis\\parse_logs.py:18\u001b[0m, in \u001b[0;36mparse_stage_logs\u001b[1;34m(raw_logs)\u001b[0m\n\u001b[0;32m     16\u001b[0m parsed_stage_logs \u001b[38;5;241m=\u001b[39m []\n\u001b[0;32m     17\u001b[0m \u001b[38;5;28;01mfor\u001b[39;00m log \u001b[38;5;129;01min\u001b[39;00m raw_logs:\n\u001b[1;32m---> 18\u001b[0m     parsed_stage_logs\u001b[38;5;241m.\u001b[39mappend(\u001b[43mStageLog\u001b[49m\u001b[38;5;241;43m.\u001b[39;49m\u001b[43mparse_stage_log\u001b[49m\u001b[43m(\u001b[49m\u001b[43mlog\u001b[49m\u001b[43m)\u001b[49m)\n\u001b[0;32m     19\u001b[0m \u001b[38;5;28;01mreturn\u001b[39;00m parsed_stage_logs\n",
      "File \u001b[1;32mc:\\Users\\Laurie Gale\\OneDrive - University of Cambridge\\Documents\\PhD Computer Science\\Year 3\\Study 3\\Log Data Analysis\\primmdebug-log-data-analysis\\classes\\StageLog.py:102\u001b[0m, in \u001b[0;36mStageLog.parse_stage_log\u001b[1;34m(raw_logs)\u001b[0m\n\u001b[0;32m    100\u001b[0m     \u001b[38;5;28;01mif\u001b[39;00m \u001b[38;5;124m\"\u001b[39m\u001b[38;5;124mhintPaneLogs\u001b[39m\u001b[38;5;124m\"\u001b[39m \u001b[38;5;129;01min\u001b[39;00m raw_logs:\n\u001b[0;32m    101\u001b[0m         parsed_hint_pane_log \u001b[38;5;241m=\u001b[39m HintPaneLog\u001b[38;5;241m.\u001b[39mparse_hint_pane_log(raw_logs[\u001b[38;5;124m\"\u001b[39m\u001b[38;5;124mhintPaneLogs\u001b[39m\u001b[38;5;124m\"\u001b[39m])\n\u001b[1;32m--> 102\u001b[0m     \u001b[38;5;28;01mreturn\u001b[39;00m \u001b[43mStageLog\u001b[49m\u001b[43m(\u001b[49m\n\u001b[0;32m    103\u001b[0m \u001b[43m        \u001b[49m\u001b[38;5;28;43mid\u001b[39;49m\u001b[43m \u001b[49m\u001b[38;5;241;43m=\u001b[39;49m\u001b[43m \u001b[49m\u001b[43mraw_logs\u001b[49m\u001b[43m[\u001b[49m\u001b[38;5;124;43m\"\u001b[39;49m\u001b[38;5;124;43mid\u001b[39;49m\u001b[38;5;124;43m\"\u001b[39;49m\u001b[43m]\u001b[49m\u001b[43m,\u001b[49m\n\u001b[0;32m    104\u001b[0m \u001b[43m        \u001b[49m\u001b[43mtime\u001b[49m\u001b[43m \u001b[49m\u001b[38;5;241;43m=\u001b[39;49m\u001b[43m \u001b[49m\u001b[43mraw_logs\u001b[49m\u001b[43m[\u001b[49m\u001b[38;5;124;43m\"\u001b[39;49m\u001b[38;5;124;43mtime\u001b[39;49m\u001b[38;5;124;43m\"\u001b[39;49m\u001b[43m]\u001b[49m\u001b[43m,\u001b[49m\n\u001b[0;32m    105\u001b[0m \u001b[43m        \u001b[49m\u001b[43mstage_string\u001b[49m\u001b[43m \u001b[49m\u001b[38;5;241;43m=\u001b[39;49m\u001b[43m \u001b[49m\u001b[43mraw_logs\u001b[49m\u001b[43m[\u001b[49m\u001b[38;5;124;43m\"\u001b[39;49m\u001b[38;5;124;43mstage\u001b[39;49m\u001b[38;5;124;43m\"\u001b[39;49m\u001b[43m]\u001b[49m\u001b[43m,\u001b[49m\n\u001b[0;32m    106\u001b[0m \u001b[43m        \u001b[49m\u001b[43mprogram_logs\u001b[49m\u001b[43m \u001b[49m\u001b[38;5;241;43m=\u001b[39;49m\u001b[43m \u001b[49m\u001b[43mparsed_program_logs\u001b[49m\u001b[43m \u001b[49m\u001b[38;5;28;43;01mif\u001b[39;49;00m\u001b[43m \u001b[49m\u001b[43mparsed_program_logs\u001b[49m\u001b[43m \u001b[49m\u001b[38;5;129;43;01mis\u001b[39;49;00m\u001b[43m \u001b[49m\u001b[38;5;129;43;01mnot\u001b[39;49;00m\u001b[43m \u001b[49m\u001b[38;5;28;43;01mNone\u001b[39;49;00m\u001b[43m \u001b[49m\u001b[38;5;28;43;01melse\u001b[39;49;00m\u001b[43m \u001b[49m\u001b[38;5;28;43;01mNone\u001b[39;49;00m\u001b[43m,\u001b[49m\n\u001b[0;32m    107\u001b[0m \u001b[43m        \u001b[49m\u001b[43mresponse\u001b[49m\u001b[43m \u001b[49m\u001b[38;5;241;43m=\u001b[39;49m\u001b[43m \u001b[49m\u001b[43mraw_logs\u001b[49m\u001b[43m[\u001b[49m\u001b[38;5;124;43m\"\u001b[39;49m\u001b[38;5;124;43mresponse\u001b[39;49m\u001b[38;5;124;43m\"\u001b[39;49m\u001b[43m]\u001b[49m\u001b[43m \u001b[49m\u001b[38;5;28;43;01mif\u001b[39;49;00m\u001b[43m \u001b[49m\u001b[38;5;124;43m\"\u001b[39;49m\u001b[38;5;124;43mresponse\u001b[39;49m\u001b[38;5;124;43m\"\u001b[39;49m\u001b[43m \u001b[49m\u001b[38;5;129;43;01min\u001b[39;49;00m\u001b[43m \u001b[49m\u001b[43mraw_logs\u001b[49m\u001b[43m \u001b[49m\u001b[38;5;28;43;01melse\u001b[39;49;00m\u001b[43m \u001b[49m\u001b[38;5;28;43;01mNone\u001b[39;49;00m\u001b[43m,\u001b[49m\n\u001b[0;32m    108\u001b[0m \u001b[43m        \u001b[49m\u001b[43mcorrect\u001b[49m\u001b[43m \u001b[49m\u001b[38;5;241;43m=\u001b[39;49m\u001b[43m \u001b[49m\u001b[43mraw_logs\u001b[49m\u001b[43m[\u001b[49m\u001b[38;5;124;43m\"\u001b[39;49m\u001b[38;5;124;43mcorrect\u001b[39;49m\u001b[38;5;124;43m\"\u001b[39;49m\u001b[43m]\u001b[49m\u001b[43m \u001b[49m\u001b[38;5;28;43;01mif\u001b[39;49;00m\u001b[43m \u001b[49m\u001b[38;5;124;43m\"\u001b[39;49m\u001b[38;5;124;43mcorrect\u001b[39;49m\u001b[38;5;124;43m\"\u001b[39;49m\u001b[43m \u001b[49m\u001b[38;5;129;43;01min\u001b[39;49;00m\u001b[43m \u001b[49m\u001b[43mraw_logs\u001b[49m\u001b[43m \u001b[49m\u001b[38;5;28;43;01melse\u001b[39;49;00m\u001b[43m \u001b[49m\u001b[38;5;28;43;01mNone\u001b[39;49;00m\u001b[43m,\u001b[49m\n\u001b[0;32m    109\u001b[0m \u001b[43m        \u001b[49m\u001b[43mfocus_events\u001b[49m\u001b[43m \u001b[49m\u001b[38;5;241;43m=\u001b[39;49m\u001b[43m \u001b[49m\u001b[43mparsed_window_focus_events\u001b[49m\u001b[43m \u001b[49m\u001b[38;5;28;43;01mif\u001b[39;49;00m\u001b[43m \u001b[49m\u001b[43mparsed_window_focus_events\u001b[49m\u001b[43m \u001b[49m\u001b[38;5;129;43;01mis\u001b[39;49;00m\u001b[43m \u001b[49m\u001b[38;5;129;43;01mnot\u001b[39;49;00m\u001b[43m \u001b[49m\u001b[38;5;28;43;01mNone\u001b[39;49;00m\u001b[43m \u001b[49m\u001b[38;5;28;43;01melse\u001b[39;49;00m\u001b[43m \u001b[49m\u001b[38;5;28;43;01mNone\u001b[39;49;00m\u001b[43m,\u001b[49m\n\u001b[0;32m    110\u001b[0m \u001b[43m        \u001b[49m\u001b[43mtest_case_logs\u001b[49m\u001b[43m \u001b[49m\u001b[38;5;241;43m=\u001b[39;49m\u001b[43m \u001b[49m\u001b[43mparsed_test_case_log\u001b[49m\u001b[43m \u001b[49m\u001b[38;5;28;43;01mif\u001b[39;49;00m\u001b[43m \u001b[49m\u001b[43mparsed_test_case_log\u001b[49m\u001b[43m \u001b[49m\u001b[38;5;129;43;01mis\u001b[39;49;00m\u001b[43m \u001b[49m\u001b[38;5;129;43;01mnot\u001b[39;49;00m\u001b[43m \u001b[49m\u001b[38;5;28;43;01mNone\u001b[39;49;00m\u001b[43m \u001b[49m\u001b[38;5;28;43;01melse\u001b[39;49;00m\u001b[43m \u001b[49m\u001b[38;5;28;43;01mNone\u001b[39;49;00m\u001b[43m,\u001b[49m\n\u001b[0;32m    111\u001b[0m \u001b[43m        \u001b[49m\u001b[43mhint_pane_logs\u001b[49m\u001b[43m \u001b[49m\u001b[38;5;241;43m=\u001b[39;49m\u001b[43m \u001b[49m\u001b[43mparsed_hint_pane_log\u001b[49m\u001b[43m \u001b[49m\u001b[38;5;28;43;01mif\u001b[39;49;00m\u001b[43m \u001b[49m\u001b[43mparsed_hint_pane_log\u001b[49m\u001b[43m \u001b[49m\u001b[38;5;129;43;01mis\u001b[39;49;00m\u001b[43m \u001b[49m\u001b[38;5;129;43;01mnot\u001b[39;49;00m\u001b[43m \u001b[49m\u001b[38;5;28;43;01mNone\u001b[39;49;00m\u001b[43m \u001b[49m\u001b[38;5;28;43;01melse\u001b[39;49;00m\u001b[43m \u001b[49m\u001b[38;5;28;43;01mNone\u001b[39;49;00m\n\u001b[0;32m    112\u001b[0m \u001b[43m\u001b[49m\u001b[43m)\u001b[49m\n",
      "File \u001b[1;32mc:\\Users\\Laurie Gale\\OneDrive - University of Cambridge\\Documents\\PhD Computer Science\\Year 3\\Study 3\\Log Data Analysis\\primmdebug-log-data-analysis\\classes\\StageLog.py:19\u001b[0m, in \u001b[0;36mStageLog.__init__\u001b[1;34m(self, id, time, stage_string, program_logs, response, correct, focus_events, test_case_logs, hint_pane_logs)\u001b[0m\n\u001b[0;32m     17\u001b[0m     \u001b[38;5;28mself\u001b[39m\u001b[38;5;241m.\u001b[39m_end_time: datetime \u001b[38;5;241m=\u001b[39m TimestampParser\u001b[38;5;241m.\u001b[39mparse_timestamp_str(time)\n\u001b[0;32m     18\u001b[0m     \u001b[38;5;28mself\u001b[39m\u001b[38;5;241m.\u001b[39m_overall_stage_number: \u001b[38;5;28mint\u001b[39m \u001b[38;5;241m=\u001b[39m \u001b[38;5;28mint\u001b[39m(stage_string\u001b[38;5;241m.\u001b[39msplit(\u001b[38;5;124m\"\u001b[39m\u001b[38;5;124m_\u001b[39m\u001b[38;5;124m\"\u001b[39m)[\u001b[38;5;241m0\u001b[39m])\n\u001b[1;32m---> 19\u001b[0m     \u001b[38;5;28mself\u001b[39m\u001b[38;5;241m.\u001b[39m_stage_iteration: \u001b[38;5;28mint\u001b[39m \u001b[38;5;241m=\u001b[39m \u001b[38;5;28;43mint\u001b[39;49m\u001b[43m(\u001b[49m\u001b[43mstage_string\u001b[49m\u001b[38;5;241;43m.\u001b[39;49m\u001b[43msplit\u001b[49m\u001b[43m(\u001b[49m\u001b[38;5;124;43m\"\u001b[39;49m\u001b[38;5;124;43m_\u001b[39;49m\u001b[38;5;124;43m\"\u001b[39;49m\u001b[43m)\u001b[49m\u001b[43m[\u001b[49m\u001b[38;5;241;43m2\u001b[39;49m\u001b[43m]\u001b[49m\u001b[43m)\u001b[49m\n\u001b[0;32m     20\u001b[0m     \u001b[38;5;28mself\u001b[39m\u001b[38;5;241m.\u001b[39m_stage_name: \u001b[38;5;28mstr\u001b[39m \u001b[38;5;241m=\u001b[39m stage_string\u001b[38;5;241m.\u001b[39msplit(\u001b[38;5;124m\"\u001b[39m\u001b[38;5;124m_\u001b[39m\u001b[38;5;124m\"\u001b[39m)[\u001b[38;5;241m1\u001b[39m] \u001b[38;5;66;03m#Could convert to an enum here?\u001b[39;00m\n\u001b[0;32m     21\u001b[0m \u001b[38;5;66;03m#TODO: Perform null checks here\u001b[39;00m\n",
      "\u001b[1;31mValueError\u001b[0m: invalid literal for int() with base 10: 'the'"
     ]
    }
   ],
   "source": [
    "from classes.ExerciseLog import ExerciseLog\n",
    "from classes.StageLog import StageLog\n",
    "from classes.StudentId import StudentId\n",
    "from classes.processors.ExerciseLogProcessor import ExerciseLogProcessor\n",
    "\n",
    "from fetch_log_from_firebase import *\n",
    "from fetch_logs_from_file import fetch_data_from_json\n",
    "\n",
    "stage_logs: list[StageLog] = parse_stage_logs(fetch_data_from_json(\"data/stage_logs\"))\n",
    "exercise_logs: list[ExerciseLog] = parse_exercise_logs(stage_logs, fetch_data_from_json(\"data/exercise_logs\")) #Cleaning should be done in parsing rather than here\n",
    "student_ids: list[StudentId] = parse_student_ids(fetch_data_from_json(\"data/student_ids\"))"
   ]
  },
  {
   "cell_type": "markdown",
   "metadata": {},
   "source": [
    "## Summary Statistics\n",
    "\n",
    "This data displays the following summary statistics to give information into the scale of the data we collected. We report below on:\n",
    "- Number of exercises (that contain at least one completed PRIMMDebug stage)\n",
    "  - Successful\n",
    "  - Unsuccessful\n",
    "  - Completed\n",
    "- Number of PRIMMDebug stages.\n",
    "- Number of students\n",
    "- Time of data collection\n"
   ]
  },
  {
   "cell_type": "code",
   "execution_count": 2,
   "metadata": {},
   "outputs": [
    {
     "name": "stdout",
     "output_type": "stream",
     "text": [
      "Number of attempted PRIMMDebug challenges: 426\n",
      "- Number of PRIMMDebug challenges where students reported successfully resolving the error they contained: 0\n",
      "- Number of PRIMMDebug challenges where students did not report successfully resolving the error they contained: 0\n",
      "- Number of entirely completed PRIMMDebug challenges (where students reached the Make stage of PRIMMDebug): 5\n",
      "\n",
      "Final stage of challenge attempts:\n",
      "{'find': 65, 'test': 202, 'fix': 18, 'spot': 13, 'run': 25, 'predict': 5, 'inspect': 3, 'modify': 5}\n",
      "\n",
      "Number of completed PRIMMDebug stages: 3892\n",
      "- Number of these containing written responses from students: \n",
      "\n",
      "Number of participating students: 139\n",
      "- Gender split (self-reported):\n",
      "{'Female': 0, 'Male': 0, 'Non-binary': 0, 'Other': 0, 'Prefer not to say': 0}\n",
      "- Year group split (self-reported):\n",
      "{'Year 7': 0, 'Year 8': 0, 'Year 9': 0, 'Year 10': 0, 'Year 11': 0}\n",
      "- Number of students per school:\n",
      "{'School A': 0, 'School B': 0, 'School C': 0, 'School D': 0, 'School E': 0}\n",
      "\n",
      "Attempted challenges per student:\n",
      "dict_values([12, 8, 9, 12, 2, 6, 12, 16, 8, 5, 21, 10, 3, 5, 21, 2, 12, 11, 9, 7, 3, 5, 13, 10, 6, 8, 8, 5, 11, 5, 10, 5, 15, 11, 5, 8, 8, 7, 10, 8, 5, 1, 8, 4, 5, 7, 3, 3, 4, 3, 5, 4, 6, 1, 4, 1, 1, 1, 1, 1, 1, 1, 2, 1, 1])\n"
     ]
    }
   ],
   "source": [
    "print(f\"Number of attempted PRIMMDebug challenges: {len(exercise_logs)}\")\n",
    "\n",
    "number_successful_exercises: int = 0\n",
    "print(f\"- Number of PRIMMDebug challenges where students reported successfully resolving the error they contained: {number_successful_exercises}\")\n",
    "\n",
    "number_unsuccessful_exercises: int = 0\n",
    "print(f\"- Number of PRIMMDebug challenges where students did not report successfully resolving the error they contained: {number_unsuccessful_exercises}\")\n",
    "\n",
    "number_completed_exercises: int = len([ExerciseLogProcessor.get_last_stage(exercise_log).stage_name for exercise_log in exercise_logs if ExerciseLogProcessor.get_last_stage(exercise_log) is not None and ExerciseLogProcessor.get_last_stage(exercise_log).stage_name == \"modify\"])\n",
    "print(f\"- Number of entirely completed PRIMMDebug challenges (where students reached the Make stage of PRIMMDebug): {number_completed_exercises}\\n\")\n",
    "\n",
    "from collections import Counter\n",
    "print(f\"Final stage of challenge attempts:\\n{dict(Counter([ExerciseLogProcessor.get_last_stage(exercise_log).stage_name for exercise_log in exercise_logs if ExerciseLogProcessor.get_last_stage(exercise_log) is not None]))}\\n\")\n",
    "\n",
    "print(f\"Number of completed PRIMMDebug stages: {len(stage_logs)}\")\n",
    "print(f\"- Number of these containing written responses from students: \\n\")\n",
    "\n",
    "print(f\"Number of participating students: {len(student_ids)}\")\n",
    "\n",
    "from constants import *\n",
    "\n",
    "print(f\"- Gender split (self-reported):\\n{get_gender_split()}\")\n",
    "print(f\"- Year group split (self-reported):\\n{get_year_group_split()}\")\n",
    "print(f\"- Number of students per school:\\n{get_school_split()}\\n\")\n",
    "\n",
    "exercises_per_student: dict[str, int] = {}\n",
    "for exercise in exercise_logs:\n",
    "    student_id: str = exercise.student_id\n",
    "    exercises_per_student[student_id] = exercises_per_student.get(student_id) + 1 if student_id in exercises_per_student else 1\n",
    "print(f\"Attempted challenges per student:\\n{exercises_per_student.values()}\") #To be tabulated or visualised\n"
   ]
  },
  {
   "cell_type": "markdown",
   "metadata": {},
   "source": [
    "## Establishing Variables\n",
    "Now we move onto introducing the variables that underpin our log data analysis. These include:\n",
    "- Time taken\n",
    "  - Per challenge attempt\n",
    "  - Per stage\n",
    "- Correctness of exercise\n",
    "  - Per challenge\n",
    "  - Per student\n",
    "- Number of stages taken for a PRIMMDebug challenge\n",
    "  - Per exercise\n",
    "  - Per student"
   ]
  },
  {
   "cell_type": "code",
   "execution_count": null,
   "metadata": {},
   "outputs": [],
   "source": [
    "print(\"Time taken\")\n",
    "print(f\"- Per PRIMMDebug challenge\")\n",
    "print(f\"- Per PRIMMDebug stage\")\n",
    "      \n",
    "print(\" Correctness of PRIMMDebug challenges:\")\n",
    "print(f\"- Per PRIMMDebug challenge\")\n",
    "print(f\"- Per student\")\n",
    "\n",
    "print(\" Number of stages taken on a PRIMMDebug challenge:\")\n",
    "print(f\"- Per PRIMMDebug challenge\")\n",
    "print(f\"- Per student\")"
   ]
  },
  {
   "cell_type": "markdown",
   "metadata": {},
   "source": [
    "Other ideas:\n",
    "\n",
    "\n",
    "\n",
    "\"\"\"\n",
    "Some basic exercise log data to get:\n",
    "- Number of exercise logs\n",
    "- Number of null exercise logs\n",
    "- Number of non-null exercise logs\n",
    "- Number of exercise logs for a certain PRIMMDebug challenge\n",
    "\n",
    "Slightly more advanced:\n",
    "- List/count of exercises that do/don't end in erroneous state\n",
    "- Order of PRIMMDebug stages for a given log\n",
    "- Exercises containing a modify stage\n",
    "- Exercises containing a make stage\n",
    "\n",
    "Others from lucidchart:\n",
    "- Exercises where end state of program is erroneous\n",
    "- Exercises where end state of program is not erroneous\n",
    "- Exercises/stages where user entered correct answer\n",
    "- Exercises/stages where user entered incorrect answer\n",
    "- Exercises/stages where user didn't enter response\n",
    "- Stages where user's response was less than x characters\n",
    "- Exercises containing a modify stage\n",
    "- Exercises containing a make stage\n",
    "- Exercises/stages where user focused out\n",
    "- Exercises/stages where user viewed test cases\n",
    "- Exercises/stages where user viewed hints\n",
    "- Total time on log data\n",
    "\n",
    "\"\"\"\n",
    "\n",
    "\n",
    "\"\"\"\n",
    "Some basic stage log data to get:\n",
    "- Number of stage logs\n",
    "- Number of stage logs for a certain PRIMMDebug stage\n",
    "\n",
    "Some slightly more advanced:\n",
    "- Number of correct responses to find the error stage.\n",
    "- Inputs entered into run stages (for certain exercise)\n",
    "- Number of Inspect the Code and/or Test stage logs where test case pane is viewed\n",
    "- Number of Inspect the Code stages where response isn't empty\n",
    "- Average time spent on PRIMMDebug stage (for every stage and particular stages)\n",
    "- Stages where user's response was less than x characters\n",
    "\n",
    "And more advanced:\n",
    "- Overall % of time spent focused on PRIMMDebug window\n",
    "\"\"\"\n",
    "\n",
    "\"\"\"\n",
    "Some student id data to get:\n",
    "- Number of participating students\n",
    "- Number of students from certain school\n",
    "- Number of students who've logged in\n",
    "- Number of studnets who haven't logged in\"\"\""
   ]
  }
 ],
 "metadata": {
  "kernelspec": {
   "display_name": "Python 3",
   "language": "python",
   "name": "python3"
  },
  "language_info": {
   "codemirror_mode": {
    "name": "ipython",
    "version": 3
   },
   "file_extension": ".py",
   "mimetype": "text/x-python",
   "name": "python",
   "nbconvert_exporter": "python",
   "pygments_lexer": "ipython3",
   "version": "3.13.0"
  }
 },
 "nbformat": 4,
 "nbformat_minor": 2
}
