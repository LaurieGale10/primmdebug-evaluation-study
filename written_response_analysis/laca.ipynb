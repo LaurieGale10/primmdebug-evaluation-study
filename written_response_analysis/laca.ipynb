{
 "cells": [
  {
   "cell_type": "markdown",
   "id": "5be2574b",
   "metadata": {},
   "source": [
    "# LACA for the Written Responses\n",
    "This notebook documents the LLM-Assisted Content Analysis (LACA) procedure that took place for the analysis of written responses for the PRIMMDebug data.\n",
    "\n",
    "The research question for part of initial study focused on students' engagement with the reflective aspect of debugging. We had a lot of written responses from students' interactions with the tool, and we wanted to analyse these to answer the research question \"*What patterns/behaviours emerge from forced articulation during students' debugging process?*\"\n",
    "\n",
    "LLM-Assisted Content Analysis (LACA) was applied using .... ."
   ]
  },
  {
   "cell_type": "markdown",
   "id": "5322a2ef",
   "metadata": {},
   "source": [
    "From a data perspective:\n",
    "1. Filter empty responses (report number of these)\n",
    "2. Filter out responses containing no valid words\n",
    "    - Problems with this: May be typos for answers that are almost correct.\n",
    "    - Doesn't remove responses containing words that contain complete rubbish."
   ]
  },
  {
   "cell_type": "markdown",
   "id": "db2a8d99",
   "metadata": {},
   "source": [
    "Criteria for categories:\n",
    "- Cannot be exercise-specific\n",
    "- Definitely something for null responses (although I have a feeling this can be further categorised)\n",
    "\n",
    "Things to bear in mind:\n",
    "- Remember that some data will include incomplete responses due to accidently pressing enter."
   ]
  },
  {
   "cell_type": "markdown",
   "id": "833c3baf",
   "metadata": {},
   "source": [
    "## Loading and importing\n",
    "Before we start any content analysis, we first import necessary packages and summarise the scale of the data."
   ]
  },
  {
   "cell_type": "code",
   "execution_count": null,
   "id": "1de4d679",
   "metadata": {},
   "outputs": [],
   "source": [
    "import { parse } from \"csv-parse/sync\";\n",
    "import fs from \"node:fs\";\n",
    "import path from \"node:path\";\n",
    "import aitomics from \"npm:aitomics\";\n",
    "\n",
    "import { WrittenResponse } from \"../written_response_analysis/written-response.ts\";\n",
    "import { DebuggingStage } from \"../written_response_analysis/debugging-stage.ts\";\n",
    "\n",
    "//Load data\n",
    "//Load any custom types\n",
    "//Load LACA\n",
    "//Load codebook (previously generated in Atlas.ti)\n",
    "// Read the CSV file\n",
    "\n",
    "var responses: WrittenResponse[] = [];\n",
    "\n",
    "const csvData = fs.readFileSync(\"../data/written_responses.csv\", \"utf8\");\n",
    "const records = parse(csvData, { delimiter: \",\", from_line: 1 });\n",
    "for (let i: number = 1; i < records.length; i++) {\n",
    "    const record = records[i];\n",
    "    responses.push(new WrittenResponse(record[1], record[2], record[3]));\n",
    "}\n"
   ]
  },
  {
   "cell_type": "markdown",
   "id": "02be487c",
   "metadata": {},
   "source": [
    "## Breaking Down and Sampling\n",
    "The written responses can be categorised by stage. Although the content of each relates to reflective debugging, each stage asks a particular question. As a result, I should look over a certain proportion of each stage's reflection when conducting the codebook. This represents *stratified sampling*, where responses to each PRIMMDebug stage represent a different strata. Random sampling is then performed on each strata.\n",
    "\n",
    "This cells divides up the responses by PRIMMDebug stage to work out how many responses to code for each strata."
   ]
  },
  {
   "cell_type": "code",
   "execution_count": null,
   "id": "c9607fc6",
   "metadata": {},
   "outputs": [],
   "source": [
    "console.log(`Total number of log data responses: ${responses.length}`);\n",
    "for (var stage: DebuggingStage of [DebuggingStage.predict, DebuggingStage.spot_the_defect, DebuggingStage.inspect_the_code, DebuggingStage.fix_the_error]) {\n",
    "    const stageResponses: number = responses.filter((response) => response.getDebuggingStage() === stage);\n",
    "    const emptyResponses: number = stageResponses.filter((response) => response.getResponse() === \"\");\n",
    "    if (emptyResponses.length > 0) {\n",
    "        console.log(`- Number of empty responses for ${stage}: ${stageResponses.length} (${emptyResponses.length} empty)`);\n",
    "    }\n",
    "    else {\n",
    "        console.log(`- Number of responses for ${stage}: ${stageResponses.length}`);\n",
    "    }\n",
    "}\n",
    "\n",
    "const nonEmptyResponses: WrittenResponse[] = responses.filter(response => response.getResponse() !== \"\");"
   ]
  }
 ],
 "metadata": {
  "kernelspec": {
   "display_name": "Deno",
   "language": "typescript",
   "name": "deno"
  },
  "language_info": {
   "codemirror_mode": "typescript",
   "file_extension": ".ts",
   "mimetype": "text/x.typescript",
   "name": "typescript",
   "nbconvert_exporter": "script",
   "pygments_lexer": "typescript",
   "version": "5.8.3"
  }
 },
 "nbformat": 4,
 "nbformat_minor": 5
}
