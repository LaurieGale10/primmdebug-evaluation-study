{
 "cells": [
  {
   "cell_type": "markdown",
   "metadata": {},
   "source": [
    "# PRIMMDebug Log Data Analysis Notebook\n",
    "This notebook displays all of the analysis of the log data that took place in the PRIMMDebug initial research paper.\n",
    "\n",
    "The log data was collected from five schools between December 2024-February 2025. It is divided into the following sections:\n",
    "1. **Summary statistics:** An overview of the scale of the data and a breakdown of the participants.\n",
    "2. **Correctness:**\n",
    "3. \n",
    "\n",
    "All you need to do is run the notebooks in order and the statistics that appear in the paper will be displayed. If there are any issues, please report them in the Issues section of the GitHub repository.\n",
    "\n",
    "Before we run anything else, let's first import all of the necessary libraries and data."
   ]
  },
  {
   "cell_type": "code",
   "execution_count": 1,
   "metadata": {},
   "outputs": [
    {
     "name": "stdout",
     "output_type": "stream",
     "text": [
      "Loading logs\n",
      "Adding test harness data\n",
      "Docker image built\n",
      "Docker container created\n",
      "Adding session data\n"
     ]
    }
   ],
   "source": [
    "from analysis.log_data_analysis.classes.stage_log import StageLog\n",
    "from analysis.log_data_analysis.classes.exercise_log import ExerciseLog\n",
    "from analysis.log_data_analysis.classes.student_id import StudentId\n",
    "from analysis.log_data_analysis.classes.exercise_classes.exercise import Exercise\n",
    "from analysis.log_data_analysis.classes.processors.exercise_log_processor import ExerciseLogProcessor\n",
    "from analysis.log_data_analysis.classes.processors.stage_log_processor import StageLogProcessor\n",
    "\n",
    "from analysis.log_data_analysis.loading_services.fetch_logs_from_file import fetch_data_from_json\n",
    "from analysis.log_data_analysis.loading_services.parse_logs import *\n",
    "\n",
    "from analysis.log_data_analysis.testing_service.docker_interface import DockerInterface\n",
    "from analysis.log_data_analysis.testing_service.test_report import TestReport\n",
    "\n",
    "from analysis.log_data_analysis.constants import *\n",
    "from analysis.log_data_analysis.notebook_utils import *\n",
    "\n",
    "import plotly.express as px\n",
    "import plotly.graph_objects as go\n",
    "from collections import Counter\n",
    "from statistics import median\n",
    "from math import isnan\n",
    "import datetime\n",
    "from collections import defaultdict\n",
    "from pandas import DataFrame, Index, read_csv, cut\n",
    "import numpy as np\n",
    "import scipy.stats as stats\n",
    "\n",
    "\n",
    "print(\"Loading logs\")\n",
    "EXERCISES: list[Exercise] = parse_exercises(fetch_data_from_json(\"data/exercises\"))\n",
    "STAGE_LOGS: list[StageLog] = parse_stage_logs(fetch_data_from_json(\"data/stage_logs\"))\n",
    "EXERCISE_LOGS: list[ExerciseLog] = parse_exercise_logs(STAGE_LOGS, fetch_data_from_json(\"data/exercise_logs\"))\n",
    "STUDENT_IDS: list[StudentId] = parse_student_ids(fetch_data_from_json(\"data/student_ids\"), EXERCISE_LOGS)\n",
    "\n",
    "#Initiate Docker container\n",
    "run_tests: bool = True\n",
    "if run_tests:\n",
    "    print(\"Adding test harness data\")\n",
    "    docker_interface: DockerInterface = DockerInterface.get_instance()\n",
    "    docker_interface.create_docker_container()\n",
    "    test_reports: list[TestReport] = []\n",
    "\n",
    "    for exercise_log in EXERCISE_LOGS:\n",
    "        exercise_test_report: TestReport = ExerciseLogProcessor.test_final_program(exercise_log, docker_interface)\n",
    "        if exercise_test_report is not None:\n",
    "            test_reports.append(exercise_test_report)\n",
    "            exercise_log._test_report = exercise_test_report\n",
    "\n",
    "    docker_interface.close_docker_container()\n",
    "\n",
    "print(\"Adding session data\")\n",
    "EXERCISE_LOGS_PER_SESSION: dict[int, list[ExerciseLog]] = {}\n",
    "for exercise_log in EXERCISE_LOGS:\n",
    "    exercise_log = ExerciseLogProcessor.add_correctness_to_test_stages(exercise_log)\n",
    "    session_number: int = exercise_log.session\n",
    "    EXERCISE_LOGS_PER_SESSION[session_number] = EXERCISE_LOGS_PER_SESSION.get(session_number, []) + [exercise_log]"
   ]
  },
  {
   "cell_type": "markdown",
   "metadata": {},
   "source": [
    "## 1. Summary Statistics\n",
    "\n",
    "### Log Data Summary\n",
    "This data displays the following summary statistics to give information into the scale of the data we collected. We report below on:\n",
    "- Number of exercises\n",
    "  - Per student\n",
    "  - Per session\n",
    "- Number of PRIMMDebug stages\n",
    "  - Per challenge attempt"
   ]
  },
  {
   "cell_type": "code",
   "execution_count": 2,
   "metadata": {},
   "outputs": [
    {
     "name": "stdout",
     "output_type": "stream",
     "text": [
      "Number of attempted PRIMMDebug challenges: 377\n",
      "Number of completed PRIMMDebug stages: 4273\n",
      "Total time on PRIMMDebug challenges: 2 days, 1:48:42.253000\n",
      "\n",
      "Number of students who consented to taking part in the study: 94\n",
      "Total number of students who attempted at least one PRIMMDebug challenge: 69\n",
      "\n"
     ]
    },
    {
     "data": {
      "application/vnd.plotly.v1+json": {
       "config": {
        "plotlyServerURL": "https://plot.ly"
       },
       "data": [
        {
         "hovertemplate": "Challenge Name=%{x}<br>Frequency=%{y}<extra></extra>",
         "legendgroup": "",
         "marker": {
          "color": "#636efa",
          "pattern": {
           "shape": ""
          }
         },
         "name": "",
         "orientation": "v",
         "showlegend": false,
         "textposition": "auto",
         "type": "bar",
         "x": [
          "funny_sentence",
          "is_it_friday",
          "nursery_rhyme",
          "capital_of_hungary",
          "number_timeline",
          "times_table",
          "rock_paper_scissors_simulation_hard",
          "school_trip",
          "adding_to_list",
          "guess_secret_number_or_colour",
          "hockey_team_display",
          "lower_to_upper_case_character_conversion"
         ],
         "xaxis": "x",
         "y": {
          "bdata": "QT0zJBwcGxoYEAgH",
          "dtype": "i1"
         },
         "yaxis": "y"
        }
       ],
       "layout": {
        "barmode": "relative",
        "legend": {
         "tracegroupgap": 0
        },
        "template": {
         "data": {
          "bar": [
           {
            "error_x": {
             "color": "#2a3f5f"
            },
            "error_y": {
             "color": "#2a3f5f"
            },
            "marker": {
             "line": {
              "color": "#E5ECF6",
              "width": 0.5
             },
             "pattern": {
              "fillmode": "overlay",
              "size": 10,
              "solidity": 0.2
             }
            },
            "type": "bar"
           }
          ],
          "barpolar": [
           {
            "marker": {
             "line": {
              "color": "#E5ECF6",
              "width": 0.5
             },
             "pattern": {
              "fillmode": "overlay",
              "size": 10,
              "solidity": 0.2
             }
            },
            "type": "barpolar"
           }
          ],
          "carpet": [
           {
            "aaxis": {
             "endlinecolor": "#2a3f5f",
             "gridcolor": "white",
             "linecolor": "white",
             "minorgridcolor": "white",
             "startlinecolor": "#2a3f5f"
            },
            "baxis": {
             "endlinecolor": "#2a3f5f",
             "gridcolor": "white",
             "linecolor": "white",
             "minorgridcolor": "white",
             "startlinecolor": "#2a3f5f"
            },
            "type": "carpet"
           }
          ],
          "choropleth": [
           {
            "colorbar": {
             "outlinewidth": 0,
             "ticks": ""
            },
            "type": "choropleth"
           }
          ],
          "contour": [
           {
            "colorbar": {
             "outlinewidth": 0,
             "ticks": ""
            },
            "colorscale": [
             [
              0,
              "#0d0887"
             ],
             [
              0.1111111111111111,
              "#46039f"
             ],
             [
              0.2222222222222222,
              "#7201a8"
             ],
             [
              0.3333333333333333,
              "#9c179e"
             ],
             [
              0.4444444444444444,
              "#bd3786"
             ],
             [
              0.5555555555555556,
              "#d8576b"
             ],
             [
              0.6666666666666666,
              "#ed7953"
             ],
             [
              0.7777777777777778,
              "#fb9f3a"
             ],
             [
              0.8888888888888888,
              "#fdca26"
             ],
             [
              1,
              "#f0f921"
             ]
            ],
            "type": "contour"
           }
          ],
          "contourcarpet": [
           {
            "colorbar": {
             "outlinewidth": 0,
             "ticks": ""
            },
            "type": "contourcarpet"
           }
          ],
          "heatmap": [
           {
            "colorbar": {
             "outlinewidth": 0,
             "ticks": ""
            },
            "colorscale": [
             [
              0,
              "#0d0887"
             ],
             [
              0.1111111111111111,
              "#46039f"
             ],
             [
              0.2222222222222222,
              "#7201a8"
             ],
             [
              0.3333333333333333,
              "#9c179e"
             ],
             [
              0.4444444444444444,
              "#bd3786"
             ],
             [
              0.5555555555555556,
              "#d8576b"
             ],
             [
              0.6666666666666666,
              "#ed7953"
             ],
             [
              0.7777777777777778,
              "#fb9f3a"
             ],
             [
              0.8888888888888888,
              "#fdca26"
             ],
             [
              1,
              "#f0f921"
             ]
            ],
            "type": "heatmap"
           }
          ],
          "histogram": [
           {
            "marker": {
             "pattern": {
              "fillmode": "overlay",
              "size": 10,
              "solidity": 0.2
             }
            },
            "type": "histogram"
           }
          ],
          "histogram2d": [
           {
            "colorbar": {
             "outlinewidth": 0,
             "ticks": ""
            },
            "colorscale": [
             [
              0,
              "#0d0887"
             ],
             [
              0.1111111111111111,
              "#46039f"
             ],
             [
              0.2222222222222222,
              "#7201a8"
             ],
             [
              0.3333333333333333,
              "#9c179e"
             ],
             [
              0.4444444444444444,
              "#bd3786"
             ],
             [
              0.5555555555555556,
              "#d8576b"
             ],
             [
              0.6666666666666666,
              "#ed7953"
             ],
             [
              0.7777777777777778,
              "#fb9f3a"
             ],
             [
              0.8888888888888888,
              "#fdca26"
             ],
             [
              1,
              "#f0f921"
             ]
            ],
            "type": "histogram2d"
           }
          ],
          "histogram2dcontour": [
           {
            "colorbar": {
             "outlinewidth": 0,
             "ticks": ""
            },
            "colorscale": [
             [
              0,
              "#0d0887"
             ],
             [
              0.1111111111111111,
              "#46039f"
             ],
             [
              0.2222222222222222,
              "#7201a8"
             ],
             [
              0.3333333333333333,
              "#9c179e"
             ],
             [
              0.4444444444444444,
              "#bd3786"
             ],
             [
              0.5555555555555556,
              "#d8576b"
             ],
             [
              0.6666666666666666,
              "#ed7953"
             ],
             [
              0.7777777777777778,
              "#fb9f3a"
             ],
             [
              0.8888888888888888,
              "#fdca26"
             ],
             [
              1,
              "#f0f921"
             ]
            ],
            "type": "histogram2dcontour"
           }
          ],
          "mesh3d": [
           {
            "colorbar": {
             "outlinewidth": 0,
             "ticks": ""
            },
            "type": "mesh3d"
           }
          ],
          "parcoords": [
           {
            "line": {
             "colorbar": {
              "outlinewidth": 0,
              "ticks": ""
             }
            },
            "type": "parcoords"
           }
          ],
          "pie": [
           {
            "automargin": true,
            "type": "pie"
           }
          ],
          "scatter": [
           {
            "fillpattern": {
             "fillmode": "overlay",
             "size": 10,
             "solidity": 0.2
            },
            "type": "scatter"
           }
          ],
          "scatter3d": [
           {
            "line": {
             "colorbar": {
              "outlinewidth": 0,
              "ticks": ""
             }
            },
            "marker": {
             "colorbar": {
              "outlinewidth": 0,
              "ticks": ""
             }
            },
            "type": "scatter3d"
           }
          ],
          "scattercarpet": [
           {
            "marker": {
             "colorbar": {
              "outlinewidth": 0,
              "ticks": ""
             }
            },
            "type": "scattercarpet"
           }
          ],
          "scattergeo": [
           {
            "marker": {
             "colorbar": {
              "outlinewidth": 0,
              "ticks": ""
             }
            },
            "type": "scattergeo"
           }
          ],
          "scattergl": [
           {
            "marker": {
             "colorbar": {
              "outlinewidth": 0,
              "ticks": ""
             }
            },
            "type": "scattergl"
           }
          ],
          "scattermap": [
           {
            "marker": {
             "colorbar": {
              "outlinewidth": 0,
              "ticks": ""
             }
            },
            "type": "scattermap"
           }
          ],
          "scattermapbox": [
           {
            "marker": {
             "colorbar": {
              "outlinewidth": 0,
              "ticks": ""
             }
            },
            "type": "scattermapbox"
           }
          ],
          "scatterpolar": [
           {
            "marker": {
             "colorbar": {
              "outlinewidth": 0,
              "ticks": ""
             }
            },
            "type": "scatterpolar"
           }
          ],
          "scatterpolargl": [
           {
            "marker": {
             "colorbar": {
              "outlinewidth": 0,
              "ticks": ""
             }
            },
            "type": "scatterpolargl"
           }
          ],
          "scatterternary": [
           {
            "marker": {
             "colorbar": {
              "outlinewidth": 0,
              "ticks": ""
             }
            },
            "type": "scatterternary"
           }
          ],
          "surface": [
           {
            "colorbar": {
             "outlinewidth": 0,
             "ticks": ""
            },
            "colorscale": [
             [
              0,
              "#0d0887"
             ],
             [
              0.1111111111111111,
              "#46039f"
             ],
             [
              0.2222222222222222,
              "#7201a8"
             ],
             [
              0.3333333333333333,
              "#9c179e"
             ],
             [
              0.4444444444444444,
              "#bd3786"
             ],
             [
              0.5555555555555556,
              "#d8576b"
             ],
             [
              0.6666666666666666,
              "#ed7953"
             ],
             [
              0.7777777777777778,
              "#fb9f3a"
             ],
             [
              0.8888888888888888,
              "#fdca26"
             ],
             [
              1,
              "#f0f921"
             ]
            ],
            "type": "surface"
           }
          ],
          "table": [
           {
            "cells": {
             "fill": {
              "color": "#EBF0F8"
             },
             "line": {
              "color": "white"
             }
            },
            "header": {
             "fill": {
              "color": "#C8D4E3"
             },
             "line": {
              "color": "white"
             }
            },
            "type": "table"
           }
          ]
         },
         "layout": {
          "annotationdefaults": {
           "arrowcolor": "#2a3f5f",
           "arrowhead": 0,
           "arrowwidth": 1
          },
          "autotypenumbers": "strict",
          "coloraxis": {
           "colorbar": {
            "outlinewidth": 0,
            "ticks": ""
           }
          },
          "colorscale": {
           "diverging": [
            [
             0,
             "#8e0152"
            ],
            [
             0.1,
             "#c51b7d"
            ],
            [
             0.2,
             "#de77ae"
            ],
            [
             0.3,
             "#f1b6da"
            ],
            [
             0.4,
             "#fde0ef"
            ],
            [
             0.5,
             "#f7f7f7"
            ],
            [
             0.6,
             "#e6f5d0"
            ],
            [
             0.7,
             "#b8e186"
            ],
            [
             0.8,
             "#7fbc41"
            ],
            [
             0.9,
             "#4d9221"
            ],
            [
             1,
             "#276419"
            ]
           ],
           "sequential": [
            [
             0,
             "#0d0887"
            ],
            [
             0.1111111111111111,
             "#46039f"
            ],
            [
             0.2222222222222222,
             "#7201a8"
            ],
            [
             0.3333333333333333,
             "#9c179e"
            ],
            [
             0.4444444444444444,
             "#bd3786"
            ],
            [
             0.5555555555555556,
             "#d8576b"
            ],
            [
             0.6666666666666666,
             "#ed7953"
            ],
            [
             0.7777777777777778,
             "#fb9f3a"
            ],
            [
             0.8888888888888888,
             "#fdca26"
            ],
            [
             1,
             "#f0f921"
            ]
           ],
           "sequentialminus": [
            [
             0,
             "#0d0887"
            ],
            [
             0.1111111111111111,
             "#46039f"
            ],
            [
             0.2222222222222222,
             "#7201a8"
            ],
            [
             0.3333333333333333,
             "#9c179e"
            ],
            [
             0.4444444444444444,
             "#bd3786"
            ],
            [
             0.5555555555555556,
             "#d8576b"
            ],
            [
             0.6666666666666666,
             "#ed7953"
            ],
            [
             0.7777777777777778,
             "#fb9f3a"
            ],
            [
             0.8888888888888888,
             "#fdca26"
            ],
            [
             1,
             "#f0f921"
            ]
           ]
          },
          "colorway": [
           "#636efa",
           "#EF553B",
           "#00cc96",
           "#ab63fa",
           "#FFA15A",
           "#19d3f3",
           "#FF6692",
           "#B6E880",
           "#FF97FF",
           "#FECB52"
          ],
          "font": {
           "color": "#2a3f5f"
          },
          "geo": {
           "bgcolor": "white",
           "lakecolor": "white",
           "landcolor": "#E5ECF6",
           "showlakes": true,
           "showland": true,
           "subunitcolor": "white"
          },
          "hoverlabel": {
           "align": "left"
          },
          "hovermode": "closest",
          "mapbox": {
           "style": "light"
          },
          "paper_bgcolor": "white",
          "plot_bgcolor": "#E5ECF6",
          "polar": {
           "angularaxis": {
            "gridcolor": "white",
            "linecolor": "white",
            "ticks": ""
           },
           "bgcolor": "#E5ECF6",
           "radialaxis": {
            "gridcolor": "white",
            "linecolor": "white",
            "ticks": ""
           }
          },
          "scene": {
           "xaxis": {
            "backgroundcolor": "#E5ECF6",
            "gridcolor": "white",
            "gridwidth": 2,
            "linecolor": "white",
            "showbackground": true,
            "ticks": "",
            "zerolinecolor": "white"
           },
           "yaxis": {
            "backgroundcolor": "#E5ECF6",
            "gridcolor": "white",
            "gridwidth": 2,
            "linecolor": "white",
            "showbackground": true,
            "ticks": "",
            "zerolinecolor": "white"
           },
           "zaxis": {
            "backgroundcolor": "#E5ECF6",
            "gridcolor": "white",
            "gridwidth": 2,
            "linecolor": "white",
            "showbackground": true,
            "ticks": "",
            "zerolinecolor": "white"
           }
          },
          "shapedefaults": {
           "line": {
            "color": "#2a3f5f"
           }
          },
          "ternary": {
           "aaxis": {
            "gridcolor": "white",
            "linecolor": "white",
            "ticks": ""
           },
           "baxis": {
            "gridcolor": "white",
            "linecolor": "white",
            "ticks": ""
           },
           "bgcolor": "#E5ECF6",
           "caxis": {
            "gridcolor": "white",
            "linecolor": "white",
            "ticks": ""
           }
          },
          "title": {
           "x": 0.05
          },
          "xaxis": {
           "automargin": true,
           "gridcolor": "white",
           "linecolor": "white",
           "ticks": "",
           "title": {
            "standoff": 15
           },
           "zerolinecolor": "white",
           "zerolinewidth": 2
          },
          "yaxis": {
           "automargin": true,
           "gridcolor": "white",
           "linecolor": "white",
           "ticks": "",
           "title": {
            "standoff": 15
           },
           "zerolinecolor": "white",
           "zerolinewidth": 2
          }
         }
        },
        "title": {
         "text": "Number of attempts for each PRIMMDebug challenge (n=377)"
        },
        "xaxis": {
         "anchor": "y",
         "domain": [
          0,
          1
         ],
         "title": {
          "text": "Challenge Name"
         }
        },
        "yaxis": {
         "anchor": "x",
         "domain": [
          0,
          1
         ],
         "title": {
          "text": "Frequency"
         }
        }
       }
      }
     },
     "metadata": {},
     "output_type": "display_data"
    },
    {
     "data": {
      "application/vnd.plotly.v1+json": {
       "config": {
        "plotlyServerURL": "https://plot.ly"
       },
       "data": [
        {
         "bingroup": "x",
         "hovertemplate": "variable=0<br>Number of challenges=%{x}<br>count=%{y}<extra></extra>",
         "legendgroup": "0",
         "marker": {
          "color": "#636efa",
          "pattern": {
           "shape": ""
          }
         },
         "name": "0",
         "orientation": "v",
         "showlegend": true,
         "type": "histogram",
         "x": {
          "bdata": "BwsNCAwCBwwNBwQMAwgTAwgJAQgHAwYHBwgHBQkEBAECCwQHBQgIBAEICgYEAwIGBAQDBQECBgIGAgICAgEBAgIBAgIB",
          "dtype": "i1"
         },
         "xaxis": "x",
         "yaxis": "y"
        },
        {
         "hovertemplate": "variable=0<br>Number of challenges=%{x}<extra></extra>",
         "legendgroup": "0",
         "marker": {
          "color": "#636efa"
         },
         "name": "0",
         "notched": true,
         "showlegend": false,
         "type": "box",
         "x": {
          "bdata": "BwsNCAwCBwwNBwQMAwgTAwgJAQgHAwYHBwgHBQkEBAECCwQHBQgIBAEICgYEAwIGBAQDBQECBgIGAgICAgEBAgIBAgIB",
          "dtype": "i1"
         },
         "xaxis": "x2",
         "yaxis": "y2"
        }
       ],
       "layout": {
        "barmode": "relative",
        "legend": {
         "title": {
          "text": "variable"
         },
         "tracegroupgap": 0
        },
        "template": {
         "data": {
          "bar": [
           {
            "error_x": {
             "color": "#2a3f5f"
            },
            "error_y": {
             "color": "#2a3f5f"
            },
            "marker": {
             "line": {
              "color": "#E5ECF6",
              "width": 0.5
             },
             "pattern": {
              "fillmode": "overlay",
              "size": 10,
              "solidity": 0.2
             }
            },
            "type": "bar"
           }
          ],
          "barpolar": [
           {
            "marker": {
             "line": {
              "color": "#E5ECF6",
              "width": 0.5
             },
             "pattern": {
              "fillmode": "overlay",
              "size": 10,
              "solidity": 0.2
             }
            },
            "type": "barpolar"
           }
          ],
          "carpet": [
           {
            "aaxis": {
             "endlinecolor": "#2a3f5f",
             "gridcolor": "white",
             "linecolor": "white",
             "minorgridcolor": "white",
             "startlinecolor": "#2a3f5f"
            },
            "baxis": {
             "endlinecolor": "#2a3f5f",
             "gridcolor": "white",
             "linecolor": "white",
             "minorgridcolor": "white",
             "startlinecolor": "#2a3f5f"
            },
            "type": "carpet"
           }
          ],
          "choropleth": [
           {
            "colorbar": {
             "outlinewidth": 0,
             "ticks": ""
            },
            "type": "choropleth"
           }
          ],
          "contour": [
           {
            "colorbar": {
             "outlinewidth": 0,
             "ticks": ""
            },
            "colorscale": [
             [
              0,
              "#0d0887"
             ],
             [
              0.1111111111111111,
              "#46039f"
             ],
             [
              0.2222222222222222,
              "#7201a8"
             ],
             [
              0.3333333333333333,
              "#9c179e"
             ],
             [
              0.4444444444444444,
              "#bd3786"
             ],
             [
              0.5555555555555556,
              "#d8576b"
             ],
             [
              0.6666666666666666,
              "#ed7953"
             ],
             [
              0.7777777777777778,
              "#fb9f3a"
             ],
             [
              0.8888888888888888,
              "#fdca26"
             ],
             [
              1,
              "#f0f921"
             ]
            ],
            "type": "contour"
           }
          ],
          "contourcarpet": [
           {
            "colorbar": {
             "outlinewidth": 0,
             "ticks": ""
            },
            "type": "contourcarpet"
           }
          ],
          "heatmap": [
           {
            "colorbar": {
             "outlinewidth": 0,
             "ticks": ""
            },
            "colorscale": [
             [
              0,
              "#0d0887"
             ],
             [
              0.1111111111111111,
              "#46039f"
             ],
             [
              0.2222222222222222,
              "#7201a8"
             ],
             [
              0.3333333333333333,
              "#9c179e"
             ],
             [
              0.4444444444444444,
              "#bd3786"
             ],
             [
              0.5555555555555556,
              "#d8576b"
             ],
             [
              0.6666666666666666,
              "#ed7953"
             ],
             [
              0.7777777777777778,
              "#fb9f3a"
             ],
             [
              0.8888888888888888,
              "#fdca26"
             ],
             [
              1,
              "#f0f921"
             ]
            ],
            "type": "heatmap"
           }
          ],
          "histogram": [
           {
            "marker": {
             "pattern": {
              "fillmode": "overlay",
              "size": 10,
              "solidity": 0.2
             }
            },
            "type": "histogram"
           }
          ],
          "histogram2d": [
           {
            "colorbar": {
             "outlinewidth": 0,
             "ticks": ""
            },
            "colorscale": [
             [
              0,
              "#0d0887"
             ],
             [
              0.1111111111111111,
              "#46039f"
             ],
             [
              0.2222222222222222,
              "#7201a8"
             ],
             [
              0.3333333333333333,
              "#9c179e"
             ],
             [
              0.4444444444444444,
              "#bd3786"
             ],
             [
              0.5555555555555556,
              "#d8576b"
             ],
             [
              0.6666666666666666,
              "#ed7953"
             ],
             [
              0.7777777777777778,
              "#fb9f3a"
             ],
             [
              0.8888888888888888,
              "#fdca26"
             ],
             [
              1,
              "#f0f921"
             ]
            ],
            "type": "histogram2d"
           }
          ],
          "histogram2dcontour": [
           {
            "colorbar": {
             "outlinewidth": 0,
             "ticks": ""
            },
            "colorscale": [
             [
              0,
              "#0d0887"
             ],
             [
              0.1111111111111111,
              "#46039f"
             ],
             [
              0.2222222222222222,
              "#7201a8"
             ],
             [
              0.3333333333333333,
              "#9c179e"
             ],
             [
              0.4444444444444444,
              "#bd3786"
             ],
             [
              0.5555555555555556,
              "#d8576b"
             ],
             [
              0.6666666666666666,
              "#ed7953"
             ],
             [
              0.7777777777777778,
              "#fb9f3a"
             ],
             [
              0.8888888888888888,
              "#fdca26"
             ],
             [
              1,
              "#f0f921"
             ]
            ],
            "type": "histogram2dcontour"
           }
          ],
          "mesh3d": [
           {
            "colorbar": {
             "outlinewidth": 0,
             "ticks": ""
            },
            "type": "mesh3d"
           }
          ],
          "parcoords": [
           {
            "line": {
             "colorbar": {
              "outlinewidth": 0,
              "ticks": ""
             }
            },
            "type": "parcoords"
           }
          ],
          "pie": [
           {
            "automargin": true,
            "type": "pie"
           }
          ],
          "scatter": [
           {
            "fillpattern": {
             "fillmode": "overlay",
             "size": 10,
             "solidity": 0.2
            },
            "type": "scatter"
           }
          ],
          "scatter3d": [
           {
            "line": {
             "colorbar": {
              "outlinewidth": 0,
              "ticks": ""
             }
            },
            "marker": {
             "colorbar": {
              "outlinewidth": 0,
              "ticks": ""
             }
            },
            "type": "scatter3d"
           }
          ],
          "scattercarpet": [
           {
            "marker": {
             "colorbar": {
              "outlinewidth": 0,
              "ticks": ""
             }
            },
            "type": "scattercarpet"
           }
          ],
          "scattergeo": [
           {
            "marker": {
             "colorbar": {
              "outlinewidth": 0,
              "ticks": ""
             }
            },
            "type": "scattergeo"
           }
          ],
          "scattergl": [
           {
            "marker": {
             "colorbar": {
              "outlinewidth": 0,
              "ticks": ""
             }
            },
            "type": "scattergl"
           }
          ],
          "scattermap": [
           {
            "marker": {
             "colorbar": {
              "outlinewidth": 0,
              "ticks": ""
             }
            },
            "type": "scattermap"
           }
          ],
          "scattermapbox": [
           {
            "marker": {
             "colorbar": {
              "outlinewidth": 0,
              "ticks": ""
             }
            },
            "type": "scattermapbox"
           }
          ],
          "scatterpolar": [
           {
            "marker": {
             "colorbar": {
              "outlinewidth": 0,
              "ticks": ""
             }
            },
            "type": "scatterpolar"
           }
          ],
          "scatterpolargl": [
           {
            "marker": {
             "colorbar": {
              "outlinewidth": 0,
              "ticks": ""
             }
            },
            "type": "scatterpolargl"
           }
          ],
          "scatterternary": [
           {
            "marker": {
             "colorbar": {
              "outlinewidth": 0,
              "ticks": ""
             }
            },
            "type": "scatterternary"
           }
          ],
          "surface": [
           {
            "colorbar": {
             "outlinewidth": 0,
             "ticks": ""
            },
            "colorscale": [
             [
              0,
              "#0d0887"
             ],
             [
              0.1111111111111111,
              "#46039f"
             ],
             [
              0.2222222222222222,
              "#7201a8"
             ],
             [
              0.3333333333333333,
              "#9c179e"
             ],
             [
              0.4444444444444444,
              "#bd3786"
             ],
             [
              0.5555555555555556,
              "#d8576b"
             ],
             [
              0.6666666666666666,
              "#ed7953"
             ],
             [
              0.7777777777777778,
              "#fb9f3a"
             ],
             [
              0.8888888888888888,
              "#fdca26"
             ],
             [
              1,
              "#f0f921"
             ]
            ],
            "type": "surface"
           }
          ],
          "table": [
           {
            "cells": {
             "fill": {
              "color": "#EBF0F8"
             },
             "line": {
              "color": "white"
             }
            },
            "header": {
             "fill": {
              "color": "#C8D4E3"
             },
             "line": {
              "color": "white"
             }
            },
            "type": "table"
           }
          ]
         },
         "layout": {
          "annotationdefaults": {
           "arrowcolor": "#2a3f5f",
           "arrowhead": 0,
           "arrowwidth": 1
          },
          "autotypenumbers": "strict",
          "coloraxis": {
           "colorbar": {
            "outlinewidth": 0,
            "ticks": ""
           }
          },
          "colorscale": {
           "diverging": [
            [
             0,
             "#8e0152"
            ],
            [
             0.1,
             "#c51b7d"
            ],
            [
             0.2,
             "#de77ae"
            ],
            [
             0.3,
             "#f1b6da"
            ],
            [
             0.4,
             "#fde0ef"
            ],
            [
             0.5,
             "#f7f7f7"
            ],
            [
             0.6,
             "#e6f5d0"
            ],
            [
             0.7,
             "#b8e186"
            ],
            [
             0.8,
             "#7fbc41"
            ],
            [
             0.9,
             "#4d9221"
            ],
            [
             1,
             "#276419"
            ]
           ],
           "sequential": [
            [
             0,
             "#0d0887"
            ],
            [
             0.1111111111111111,
             "#46039f"
            ],
            [
             0.2222222222222222,
             "#7201a8"
            ],
            [
             0.3333333333333333,
             "#9c179e"
            ],
            [
             0.4444444444444444,
             "#bd3786"
            ],
            [
             0.5555555555555556,
             "#d8576b"
            ],
            [
             0.6666666666666666,
             "#ed7953"
            ],
            [
             0.7777777777777778,
             "#fb9f3a"
            ],
            [
             0.8888888888888888,
             "#fdca26"
            ],
            [
             1,
             "#f0f921"
            ]
           ],
           "sequentialminus": [
            [
             0,
             "#0d0887"
            ],
            [
             0.1111111111111111,
             "#46039f"
            ],
            [
             0.2222222222222222,
             "#7201a8"
            ],
            [
             0.3333333333333333,
             "#9c179e"
            ],
            [
             0.4444444444444444,
             "#bd3786"
            ],
            [
             0.5555555555555556,
             "#d8576b"
            ],
            [
             0.6666666666666666,
             "#ed7953"
            ],
            [
             0.7777777777777778,
             "#fb9f3a"
            ],
            [
             0.8888888888888888,
             "#fdca26"
            ],
            [
             1,
             "#f0f921"
            ]
           ]
          },
          "colorway": [
           "#636efa",
           "#EF553B",
           "#00cc96",
           "#ab63fa",
           "#FFA15A",
           "#19d3f3",
           "#FF6692",
           "#B6E880",
           "#FF97FF",
           "#FECB52"
          ],
          "font": {
           "color": "#2a3f5f"
          },
          "geo": {
           "bgcolor": "white",
           "lakecolor": "white",
           "landcolor": "#E5ECF6",
           "showlakes": true,
           "showland": true,
           "subunitcolor": "white"
          },
          "hoverlabel": {
           "align": "left"
          },
          "hovermode": "closest",
          "mapbox": {
           "style": "light"
          },
          "paper_bgcolor": "white",
          "plot_bgcolor": "#E5ECF6",
          "polar": {
           "angularaxis": {
            "gridcolor": "white",
            "linecolor": "white",
            "ticks": ""
           },
           "bgcolor": "#E5ECF6",
           "radialaxis": {
            "gridcolor": "white",
            "linecolor": "white",
            "ticks": ""
           }
          },
          "scene": {
           "xaxis": {
            "backgroundcolor": "#E5ECF6",
            "gridcolor": "white",
            "gridwidth": 2,
            "linecolor": "white",
            "showbackground": true,
            "ticks": "",
            "zerolinecolor": "white"
           },
           "yaxis": {
            "backgroundcolor": "#E5ECF6",
            "gridcolor": "white",
            "gridwidth": 2,
            "linecolor": "white",
            "showbackground": true,
            "ticks": "",
            "zerolinecolor": "white"
           },
           "zaxis": {
            "backgroundcolor": "#E5ECF6",
            "gridcolor": "white",
            "gridwidth": 2,
            "linecolor": "white",
            "showbackground": true,
            "ticks": "",
            "zerolinecolor": "white"
           }
          },
          "shapedefaults": {
           "line": {
            "color": "#2a3f5f"
           }
          },
          "ternary": {
           "aaxis": {
            "gridcolor": "white",
            "linecolor": "white",
            "ticks": ""
           },
           "baxis": {
            "gridcolor": "white",
            "linecolor": "white",
            "ticks": ""
           },
           "bgcolor": "#E5ECF6",
           "caxis": {
            "gridcolor": "white",
            "linecolor": "white",
            "ticks": ""
           }
          },
          "title": {
           "x": 0.05
          },
          "xaxis": {
           "automargin": true,
           "gridcolor": "white",
           "linecolor": "white",
           "ticks": "",
           "title": {
            "standoff": 15
           },
           "zerolinecolor": "white",
           "zerolinewidth": 2
          },
          "yaxis": {
           "automargin": true,
           "gridcolor": "white",
           "linecolor": "white",
           "ticks": "",
           "title": {
            "standoff": 15
           },
           "zerolinecolor": "white",
           "zerolinewidth": 2
          }
         }
        },
        "title": {
         "text": "Number of attempted PRIMMDebug challenges, broken down by student (n=69)"
        },
        "xaxis": {
         "anchor": "y",
         "domain": [
          0,
          1
         ],
         "title": {
          "text": "Number of challenges"
         }
        },
        "xaxis2": {
         "anchor": "y2",
         "domain": [
          0,
          1
         ],
         "matches": "x",
         "showgrid": true,
         "showticklabels": false
        },
        "yaxis": {
         "anchor": "x",
         "domain": [
          0,
          0.7326
         ],
         "title": {
          "text": "count"
         }
        },
        "yaxis2": {
         "anchor": "x2",
         "domain": [
          0.7426,
          1
         ],
         "matches": "y2",
         "showgrid": false,
         "showline": false,
         "showticklabels": false,
         "ticks": ""
        }
       }
      }
     },
     "metadata": {},
     "output_type": "display_data"
    },
    {
     "data": {
      "application/vnd.plotly.v1+json": {
       "config": {
        "plotlyServerURL": "https://plot.ly"
       },
       "data": [
        {
         "bingroup": "x",
         "hovertemplate": "variable=0<br>Number of stages=%{x}<br>count=%{y}<extra></extra>",
         "legendgroup": "0",
         "marker": {
          "color": "#636efa",
          "pattern": {
           "shape": ""
          }
         },
         "name": "0",
         "orientation": "v",
         "showlegend": true,
         "type": "histogram",
         "x": {
          "bdata": "DQkCGwgKCRAOBQoOCgMWCA8DBRoKDQ0DCwkLCgwGBQkCCAoMIAkKCgohAgsWDAwIDAkIDQkCBQsOCwkOCg0KCgkMCBAVExMECwwJCgwNDAoKCAgNFgQECgoNHQsXCgwMEgoJDA0FCQMJCA0JEAwMCg4CCwoNCAsJAwsKCgkMEwgICwILAgoRCgoKAgoLAwsKCgoQDwolCQYKBxYHChEHDQgKCQcJCQkMCwsHDAsLCg4ZCAoECwIKBwQPCAoJDwISCAwRCgwNCwsPCwcOCgIFCA8LDQ4SCwoKCQkICAoKDg8KDBIOEQsJCgcKFgoLEwoKDAoNCA4OCgkOCwcKBwsNBQcLCgsMDAYHCwwDEAoQCAMCCggKEgkMDgoQCAoFEAoOCggDCwwKEAoOAgkOEwoKCw0GCggMCgYVBgoHDgsOCgwNAgoHDRAPDAoQCBYKAg8ICAkNDAoFCBMLCgoLCgkKChADCQoHCwwFCAsOBgoMHAULAgoOCQgUCgo=",
          "dtype": "i1"
         },
         "xaxis": "x",
         "yaxis": "y"
        },
        {
         "hovertemplate": "variable=0<br>Number of stages=%{x}<extra></extra>",
         "legendgroup": "0",
         "marker": {
          "color": "#636efa"
         },
         "name": "0",
         "notched": true,
         "showlegend": false,
         "type": "box",
         "x": {
          "bdata": "DQkCGwgKCRAOBQoOCgMWCA8DBRoKDQ0DCwkLCgwGBQkCCAoMIAkKCgohAgsWDAwIDAkIDQkCBQsOCwkOCg0KCgkMCBAVExMECwwJCgwNDAoKCAgNFgQECgoNHQsXCgwMEgoJDA0FCQMJCA0JEAwMCg4CCwoNCAsJAwsKCgkMEwgICwILAgoRCgoKAgoLAwsKCgoQDwolCQYKBxYHChEHDQgKCQcJCQkMCwsHDAsLCg4ZCAoECwIKBwQPCAoJDwISCAwRCgwNCwsPCwcOCgIFCA8LDQ4SCwoKCQkICAoKDg8KDBIOEQsJCgcKFgoLEwoKDAoNCA4OCgkOCwcKBwsNBQcLCgsMDAYHCwwDEAoQCAMCCggKEgkMDgoQCAoFEAoOCggDCwwKEAoOAgkOEwoKCw0GCggMCgYVBgoHDgsOCgwNAgoHDRAPDAoQCBYKAg8ICAkNDAoFCBMLCgoLCgkKChADCQoHCwwFCAsOBgoMHAULAgoOCQgUCgo=",
          "dtype": "i1"
         },
         "xaxis": "x2",
         "yaxis": "y2"
        }
       ],
       "layout": {
        "barmode": "relative",
        "legend": {
         "title": {
          "text": "variable"
         },
         "tracegroupgap": 0
        },
        "template": {
         "data": {
          "bar": [
           {
            "error_x": {
             "color": "#2a3f5f"
            },
            "error_y": {
             "color": "#2a3f5f"
            },
            "marker": {
             "line": {
              "color": "#E5ECF6",
              "width": 0.5
             },
             "pattern": {
              "fillmode": "overlay",
              "size": 10,
              "solidity": 0.2
             }
            },
            "type": "bar"
           }
          ],
          "barpolar": [
           {
            "marker": {
             "line": {
              "color": "#E5ECF6",
              "width": 0.5
             },
             "pattern": {
              "fillmode": "overlay",
              "size": 10,
              "solidity": 0.2
             }
            },
            "type": "barpolar"
           }
          ],
          "carpet": [
           {
            "aaxis": {
             "endlinecolor": "#2a3f5f",
             "gridcolor": "white",
             "linecolor": "white",
             "minorgridcolor": "white",
             "startlinecolor": "#2a3f5f"
            },
            "baxis": {
             "endlinecolor": "#2a3f5f",
             "gridcolor": "white",
             "linecolor": "white",
             "minorgridcolor": "white",
             "startlinecolor": "#2a3f5f"
            },
            "type": "carpet"
           }
          ],
          "choropleth": [
           {
            "colorbar": {
             "outlinewidth": 0,
             "ticks": ""
            },
            "type": "choropleth"
           }
          ],
          "contour": [
           {
            "colorbar": {
             "outlinewidth": 0,
             "ticks": ""
            },
            "colorscale": [
             [
              0,
              "#0d0887"
             ],
             [
              0.1111111111111111,
              "#46039f"
             ],
             [
              0.2222222222222222,
              "#7201a8"
             ],
             [
              0.3333333333333333,
              "#9c179e"
             ],
             [
              0.4444444444444444,
              "#bd3786"
             ],
             [
              0.5555555555555556,
              "#d8576b"
             ],
             [
              0.6666666666666666,
              "#ed7953"
             ],
             [
              0.7777777777777778,
              "#fb9f3a"
             ],
             [
              0.8888888888888888,
              "#fdca26"
             ],
             [
              1,
              "#f0f921"
             ]
            ],
            "type": "contour"
           }
          ],
          "contourcarpet": [
           {
            "colorbar": {
             "outlinewidth": 0,
             "ticks": ""
            },
            "type": "contourcarpet"
           }
          ],
          "heatmap": [
           {
            "colorbar": {
             "outlinewidth": 0,
             "ticks": ""
            },
            "colorscale": [
             [
              0,
              "#0d0887"
             ],
             [
              0.1111111111111111,
              "#46039f"
             ],
             [
              0.2222222222222222,
              "#7201a8"
             ],
             [
              0.3333333333333333,
              "#9c179e"
             ],
             [
              0.4444444444444444,
              "#bd3786"
             ],
             [
              0.5555555555555556,
              "#d8576b"
             ],
             [
              0.6666666666666666,
              "#ed7953"
             ],
             [
              0.7777777777777778,
              "#fb9f3a"
             ],
             [
              0.8888888888888888,
              "#fdca26"
             ],
             [
              1,
              "#f0f921"
             ]
            ],
            "type": "heatmap"
           }
          ],
          "histogram": [
           {
            "marker": {
             "pattern": {
              "fillmode": "overlay",
              "size": 10,
              "solidity": 0.2
             }
            },
            "type": "histogram"
           }
          ],
          "histogram2d": [
           {
            "colorbar": {
             "outlinewidth": 0,
             "ticks": ""
            },
            "colorscale": [
             [
              0,
              "#0d0887"
             ],
             [
              0.1111111111111111,
              "#46039f"
             ],
             [
              0.2222222222222222,
              "#7201a8"
             ],
             [
              0.3333333333333333,
              "#9c179e"
             ],
             [
              0.4444444444444444,
              "#bd3786"
             ],
             [
              0.5555555555555556,
              "#d8576b"
             ],
             [
              0.6666666666666666,
              "#ed7953"
             ],
             [
              0.7777777777777778,
              "#fb9f3a"
             ],
             [
              0.8888888888888888,
              "#fdca26"
             ],
             [
              1,
              "#f0f921"
             ]
            ],
            "type": "histogram2d"
           }
          ],
          "histogram2dcontour": [
           {
            "colorbar": {
             "outlinewidth": 0,
             "ticks": ""
            },
            "colorscale": [
             [
              0,
              "#0d0887"
             ],
             [
              0.1111111111111111,
              "#46039f"
             ],
             [
              0.2222222222222222,
              "#7201a8"
             ],
             [
              0.3333333333333333,
              "#9c179e"
             ],
             [
              0.4444444444444444,
              "#bd3786"
             ],
             [
              0.5555555555555556,
              "#d8576b"
             ],
             [
              0.6666666666666666,
              "#ed7953"
             ],
             [
              0.7777777777777778,
              "#fb9f3a"
             ],
             [
              0.8888888888888888,
              "#fdca26"
             ],
             [
              1,
              "#f0f921"
             ]
            ],
            "type": "histogram2dcontour"
           }
          ],
          "mesh3d": [
           {
            "colorbar": {
             "outlinewidth": 0,
             "ticks": ""
            },
            "type": "mesh3d"
           }
          ],
          "parcoords": [
           {
            "line": {
             "colorbar": {
              "outlinewidth": 0,
              "ticks": ""
             }
            },
            "type": "parcoords"
           }
          ],
          "pie": [
           {
            "automargin": true,
            "type": "pie"
           }
          ],
          "scatter": [
           {
            "fillpattern": {
             "fillmode": "overlay",
             "size": 10,
             "solidity": 0.2
            },
            "type": "scatter"
           }
          ],
          "scatter3d": [
           {
            "line": {
             "colorbar": {
              "outlinewidth": 0,
              "ticks": ""
             }
            },
            "marker": {
             "colorbar": {
              "outlinewidth": 0,
              "ticks": ""
             }
            },
            "type": "scatter3d"
           }
          ],
          "scattercarpet": [
           {
            "marker": {
             "colorbar": {
              "outlinewidth": 0,
              "ticks": ""
             }
            },
            "type": "scattercarpet"
           }
          ],
          "scattergeo": [
           {
            "marker": {
             "colorbar": {
              "outlinewidth": 0,
              "ticks": ""
             }
            },
            "type": "scattergeo"
           }
          ],
          "scattergl": [
           {
            "marker": {
             "colorbar": {
              "outlinewidth": 0,
              "ticks": ""
             }
            },
            "type": "scattergl"
           }
          ],
          "scattermap": [
           {
            "marker": {
             "colorbar": {
              "outlinewidth": 0,
              "ticks": ""
             }
            },
            "type": "scattermap"
           }
          ],
          "scattermapbox": [
           {
            "marker": {
             "colorbar": {
              "outlinewidth": 0,
              "ticks": ""
             }
            },
            "type": "scattermapbox"
           }
          ],
          "scatterpolar": [
           {
            "marker": {
             "colorbar": {
              "outlinewidth": 0,
              "ticks": ""
             }
            },
            "type": "scatterpolar"
           }
          ],
          "scatterpolargl": [
           {
            "marker": {
             "colorbar": {
              "outlinewidth": 0,
              "ticks": ""
             }
            },
            "type": "scatterpolargl"
           }
          ],
          "scatterternary": [
           {
            "marker": {
             "colorbar": {
              "outlinewidth": 0,
              "ticks": ""
             }
            },
            "type": "scatterternary"
           }
          ],
          "surface": [
           {
            "colorbar": {
             "outlinewidth": 0,
             "ticks": ""
            },
            "colorscale": [
             [
              0,
              "#0d0887"
             ],
             [
              0.1111111111111111,
              "#46039f"
             ],
             [
              0.2222222222222222,
              "#7201a8"
             ],
             [
              0.3333333333333333,
              "#9c179e"
             ],
             [
              0.4444444444444444,
              "#bd3786"
             ],
             [
              0.5555555555555556,
              "#d8576b"
             ],
             [
              0.6666666666666666,
              "#ed7953"
             ],
             [
              0.7777777777777778,
              "#fb9f3a"
             ],
             [
              0.8888888888888888,
              "#fdca26"
             ],
             [
              1,
              "#f0f921"
             ]
            ],
            "type": "surface"
           }
          ],
          "table": [
           {
            "cells": {
             "fill": {
              "color": "#EBF0F8"
             },
             "line": {
              "color": "white"
             }
            },
            "header": {
             "fill": {
              "color": "#C8D4E3"
             },
             "line": {
              "color": "white"
             }
            },
            "type": "table"
           }
          ]
         },
         "layout": {
          "annotationdefaults": {
           "arrowcolor": "#2a3f5f",
           "arrowhead": 0,
           "arrowwidth": 1
          },
          "autotypenumbers": "strict",
          "coloraxis": {
           "colorbar": {
            "outlinewidth": 0,
            "ticks": ""
           }
          },
          "colorscale": {
           "diverging": [
            [
             0,
             "#8e0152"
            ],
            [
             0.1,
             "#c51b7d"
            ],
            [
             0.2,
             "#de77ae"
            ],
            [
             0.3,
             "#f1b6da"
            ],
            [
             0.4,
             "#fde0ef"
            ],
            [
             0.5,
             "#f7f7f7"
            ],
            [
             0.6,
             "#e6f5d0"
            ],
            [
             0.7,
             "#b8e186"
            ],
            [
             0.8,
             "#7fbc41"
            ],
            [
             0.9,
             "#4d9221"
            ],
            [
             1,
             "#276419"
            ]
           ],
           "sequential": [
            [
             0,
             "#0d0887"
            ],
            [
             0.1111111111111111,
             "#46039f"
            ],
            [
             0.2222222222222222,
             "#7201a8"
            ],
            [
             0.3333333333333333,
             "#9c179e"
            ],
            [
             0.4444444444444444,
             "#bd3786"
            ],
            [
             0.5555555555555556,
             "#d8576b"
            ],
            [
             0.6666666666666666,
             "#ed7953"
            ],
            [
             0.7777777777777778,
             "#fb9f3a"
            ],
            [
             0.8888888888888888,
             "#fdca26"
            ],
            [
             1,
             "#f0f921"
            ]
           ],
           "sequentialminus": [
            [
             0,
             "#0d0887"
            ],
            [
             0.1111111111111111,
             "#46039f"
            ],
            [
             0.2222222222222222,
             "#7201a8"
            ],
            [
             0.3333333333333333,
             "#9c179e"
            ],
            [
             0.4444444444444444,
             "#bd3786"
            ],
            [
             0.5555555555555556,
             "#d8576b"
            ],
            [
             0.6666666666666666,
             "#ed7953"
            ],
            [
             0.7777777777777778,
             "#fb9f3a"
            ],
            [
             0.8888888888888888,
             "#fdca26"
            ],
            [
             1,
             "#f0f921"
            ]
           ]
          },
          "colorway": [
           "#636efa",
           "#EF553B",
           "#00cc96",
           "#ab63fa",
           "#FFA15A",
           "#19d3f3",
           "#FF6692",
           "#B6E880",
           "#FF97FF",
           "#FECB52"
          ],
          "font": {
           "color": "#2a3f5f"
          },
          "geo": {
           "bgcolor": "white",
           "lakecolor": "white",
           "landcolor": "#E5ECF6",
           "showlakes": true,
           "showland": true,
           "subunitcolor": "white"
          },
          "hoverlabel": {
           "align": "left"
          },
          "hovermode": "closest",
          "mapbox": {
           "style": "light"
          },
          "paper_bgcolor": "white",
          "plot_bgcolor": "#E5ECF6",
          "polar": {
           "angularaxis": {
            "gridcolor": "white",
            "linecolor": "white",
            "ticks": ""
           },
           "bgcolor": "#E5ECF6",
           "radialaxis": {
            "gridcolor": "white",
            "linecolor": "white",
            "ticks": ""
           }
          },
          "scene": {
           "xaxis": {
            "backgroundcolor": "#E5ECF6",
            "gridcolor": "white",
            "gridwidth": 2,
            "linecolor": "white",
            "showbackground": true,
            "ticks": "",
            "zerolinecolor": "white"
           },
           "yaxis": {
            "backgroundcolor": "#E5ECF6",
            "gridcolor": "white",
            "gridwidth": 2,
            "linecolor": "white",
            "showbackground": true,
            "ticks": "",
            "zerolinecolor": "white"
           },
           "zaxis": {
            "backgroundcolor": "#E5ECF6",
            "gridcolor": "white",
            "gridwidth": 2,
            "linecolor": "white",
            "showbackground": true,
            "ticks": "",
            "zerolinecolor": "white"
           }
          },
          "shapedefaults": {
           "line": {
            "color": "#2a3f5f"
           }
          },
          "ternary": {
           "aaxis": {
            "gridcolor": "white",
            "linecolor": "white",
            "ticks": ""
           },
           "baxis": {
            "gridcolor": "white",
            "linecolor": "white",
            "ticks": ""
           },
           "bgcolor": "#E5ECF6",
           "caxis": {
            "gridcolor": "white",
            "linecolor": "white",
            "ticks": ""
           }
          },
          "title": {
           "x": 0.05
          },
          "xaxis": {
           "automargin": true,
           "gridcolor": "white",
           "linecolor": "white",
           "ticks": "",
           "title": {
            "standoff": 15
           },
           "zerolinecolor": "white",
           "zerolinewidth": 2
          },
          "yaxis": {
           "automargin": true,
           "gridcolor": "white",
           "linecolor": "white",
           "ticks": "",
           "title": {
            "standoff": 15
           },
           "zerolinecolor": "white",
           "zerolinewidth": 2
          }
         }
        },
        "title": {
         "text": "Number of stages per PRIMMDebug challenge attempt (n=377)"
        },
        "xaxis": {
         "anchor": "y",
         "domain": [
          0,
          1
         ],
         "title": {
          "text": "Number of stages"
         }
        },
        "xaxis2": {
         "anchor": "y2",
         "domain": [
          0,
          1
         ],
         "matches": "x",
         "showgrid": true,
         "showticklabels": false
        },
        "yaxis": {
         "anchor": "x",
         "domain": [
          0,
          0.7326
         ],
         "title": {
          "text": "count"
         }
        },
        "yaxis2": {
         "anchor": "x2",
         "domain": [
          0.7426,
          1
         ],
         "matches": "y2",
         "showgrid": false,
         "showline": false,
         "showticklabels": false,
         "ticks": ""
        }
       }
      }
     },
     "metadata": {},
     "output_type": "display_data"
    },
    {
     "data": {
      "application/vnd.plotly.v1+json": {
       "config": {
        "plotlyServerURL": "https://plot.ly"
       },
       "data": [
        {
         "hovertemplate": "Session=%{x}<br>Frequency=%{y}<extra></extra>",
         "legendgroup": "",
         "marker": {
          "color": "#636efa",
          "pattern": {
           "shape": ""
          }
         },
         "name": "",
         "orientation": "v",
         "showlegend": false,
         "textposition": "auto",
         "type": "bar",
         "x": {
          "bdata": "AQIFBAMG",
          "dtype": "i1"
         },
         "xaxis": "x",
         "y": {
          "bdata": "ugBPAB8AHQArAAkA",
          "dtype": "i2"
         },
         "yaxis": "y"
        }
       ],
       "layout": {
        "barmode": "relative",
        "legend": {
         "tracegroupgap": 0
        },
        "template": {
         "data": {
          "bar": [
           {
            "error_x": {
             "color": "#2a3f5f"
            },
            "error_y": {
             "color": "#2a3f5f"
            },
            "marker": {
             "line": {
              "color": "#E5ECF6",
              "width": 0.5
             },
             "pattern": {
              "fillmode": "overlay",
              "size": 10,
              "solidity": 0.2
             }
            },
            "type": "bar"
           }
          ],
          "barpolar": [
           {
            "marker": {
             "line": {
              "color": "#E5ECF6",
              "width": 0.5
             },
             "pattern": {
              "fillmode": "overlay",
              "size": 10,
              "solidity": 0.2
             }
            },
            "type": "barpolar"
           }
          ],
          "carpet": [
           {
            "aaxis": {
             "endlinecolor": "#2a3f5f",
             "gridcolor": "white",
             "linecolor": "white",
             "minorgridcolor": "white",
             "startlinecolor": "#2a3f5f"
            },
            "baxis": {
             "endlinecolor": "#2a3f5f",
             "gridcolor": "white",
             "linecolor": "white",
             "minorgridcolor": "white",
             "startlinecolor": "#2a3f5f"
            },
            "type": "carpet"
           }
          ],
          "choropleth": [
           {
            "colorbar": {
             "outlinewidth": 0,
             "ticks": ""
            },
            "type": "choropleth"
           }
          ],
          "contour": [
           {
            "colorbar": {
             "outlinewidth": 0,
             "ticks": ""
            },
            "colorscale": [
             [
              0,
              "#0d0887"
             ],
             [
              0.1111111111111111,
              "#46039f"
             ],
             [
              0.2222222222222222,
              "#7201a8"
             ],
             [
              0.3333333333333333,
              "#9c179e"
             ],
             [
              0.4444444444444444,
              "#bd3786"
             ],
             [
              0.5555555555555556,
              "#d8576b"
             ],
             [
              0.6666666666666666,
              "#ed7953"
             ],
             [
              0.7777777777777778,
              "#fb9f3a"
             ],
             [
              0.8888888888888888,
              "#fdca26"
             ],
             [
              1,
              "#f0f921"
             ]
            ],
            "type": "contour"
           }
          ],
          "contourcarpet": [
           {
            "colorbar": {
             "outlinewidth": 0,
             "ticks": ""
            },
            "type": "contourcarpet"
           }
          ],
          "heatmap": [
           {
            "colorbar": {
             "outlinewidth": 0,
             "ticks": ""
            },
            "colorscale": [
             [
              0,
              "#0d0887"
             ],
             [
              0.1111111111111111,
              "#46039f"
             ],
             [
              0.2222222222222222,
              "#7201a8"
             ],
             [
              0.3333333333333333,
              "#9c179e"
             ],
             [
              0.4444444444444444,
              "#bd3786"
             ],
             [
              0.5555555555555556,
              "#d8576b"
             ],
             [
              0.6666666666666666,
              "#ed7953"
             ],
             [
              0.7777777777777778,
              "#fb9f3a"
             ],
             [
              0.8888888888888888,
              "#fdca26"
             ],
             [
              1,
              "#f0f921"
             ]
            ],
            "type": "heatmap"
           }
          ],
          "histogram": [
           {
            "marker": {
             "pattern": {
              "fillmode": "overlay",
              "size": 10,
              "solidity": 0.2
             }
            },
            "type": "histogram"
           }
          ],
          "histogram2d": [
           {
            "colorbar": {
             "outlinewidth": 0,
             "ticks": ""
            },
            "colorscale": [
             [
              0,
              "#0d0887"
             ],
             [
              0.1111111111111111,
              "#46039f"
             ],
             [
              0.2222222222222222,
              "#7201a8"
             ],
             [
              0.3333333333333333,
              "#9c179e"
             ],
             [
              0.4444444444444444,
              "#bd3786"
             ],
             [
              0.5555555555555556,
              "#d8576b"
             ],
             [
              0.6666666666666666,
              "#ed7953"
             ],
             [
              0.7777777777777778,
              "#fb9f3a"
             ],
             [
              0.8888888888888888,
              "#fdca26"
             ],
             [
              1,
              "#f0f921"
             ]
            ],
            "type": "histogram2d"
           }
          ],
          "histogram2dcontour": [
           {
            "colorbar": {
             "outlinewidth": 0,
             "ticks": ""
            },
            "colorscale": [
             [
              0,
              "#0d0887"
             ],
             [
              0.1111111111111111,
              "#46039f"
             ],
             [
              0.2222222222222222,
              "#7201a8"
             ],
             [
              0.3333333333333333,
              "#9c179e"
             ],
             [
              0.4444444444444444,
              "#bd3786"
             ],
             [
              0.5555555555555556,
              "#d8576b"
             ],
             [
              0.6666666666666666,
              "#ed7953"
             ],
             [
              0.7777777777777778,
              "#fb9f3a"
             ],
             [
              0.8888888888888888,
              "#fdca26"
             ],
             [
              1,
              "#f0f921"
             ]
            ],
            "type": "histogram2dcontour"
           }
          ],
          "mesh3d": [
           {
            "colorbar": {
             "outlinewidth": 0,
             "ticks": ""
            },
            "type": "mesh3d"
           }
          ],
          "parcoords": [
           {
            "line": {
             "colorbar": {
              "outlinewidth": 0,
              "ticks": ""
             }
            },
            "type": "parcoords"
           }
          ],
          "pie": [
           {
            "automargin": true,
            "type": "pie"
           }
          ],
          "scatter": [
           {
            "fillpattern": {
             "fillmode": "overlay",
             "size": 10,
             "solidity": 0.2
            },
            "type": "scatter"
           }
          ],
          "scatter3d": [
           {
            "line": {
             "colorbar": {
              "outlinewidth": 0,
              "ticks": ""
             }
            },
            "marker": {
             "colorbar": {
              "outlinewidth": 0,
              "ticks": ""
             }
            },
            "type": "scatter3d"
           }
          ],
          "scattercarpet": [
           {
            "marker": {
             "colorbar": {
              "outlinewidth": 0,
              "ticks": ""
             }
            },
            "type": "scattercarpet"
           }
          ],
          "scattergeo": [
           {
            "marker": {
             "colorbar": {
              "outlinewidth": 0,
              "ticks": ""
             }
            },
            "type": "scattergeo"
           }
          ],
          "scattergl": [
           {
            "marker": {
             "colorbar": {
              "outlinewidth": 0,
              "ticks": ""
             }
            },
            "type": "scattergl"
           }
          ],
          "scattermap": [
           {
            "marker": {
             "colorbar": {
              "outlinewidth": 0,
              "ticks": ""
             }
            },
            "type": "scattermap"
           }
          ],
          "scattermapbox": [
           {
            "marker": {
             "colorbar": {
              "outlinewidth": 0,
              "ticks": ""
             }
            },
            "type": "scattermapbox"
           }
          ],
          "scatterpolar": [
           {
            "marker": {
             "colorbar": {
              "outlinewidth": 0,
              "ticks": ""
             }
            },
            "type": "scatterpolar"
           }
          ],
          "scatterpolargl": [
           {
            "marker": {
             "colorbar": {
              "outlinewidth": 0,
              "ticks": ""
             }
            },
            "type": "scatterpolargl"
           }
          ],
          "scatterternary": [
           {
            "marker": {
             "colorbar": {
              "outlinewidth": 0,
              "ticks": ""
             }
            },
            "type": "scatterternary"
           }
          ],
          "surface": [
           {
            "colorbar": {
             "outlinewidth": 0,
             "ticks": ""
            },
            "colorscale": [
             [
              0,
              "#0d0887"
             ],
             [
              0.1111111111111111,
              "#46039f"
             ],
             [
              0.2222222222222222,
              "#7201a8"
             ],
             [
              0.3333333333333333,
              "#9c179e"
             ],
             [
              0.4444444444444444,
              "#bd3786"
             ],
             [
              0.5555555555555556,
              "#d8576b"
             ],
             [
              0.6666666666666666,
              "#ed7953"
             ],
             [
              0.7777777777777778,
              "#fb9f3a"
             ],
             [
              0.8888888888888888,
              "#fdca26"
             ],
             [
              1,
              "#f0f921"
             ]
            ],
            "type": "surface"
           }
          ],
          "table": [
           {
            "cells": {
             "fill": {
              "color": "#EBF0F8"
             },
             "line": {
              "color": "white"
             }
            },
            "header": {
             "fill": {
              "color": "#C8D4E3"
             },
             "line": {
              "color": "white"
             }
            },
            "type": "table"
           }
          ]
         },
         "layout": {
          "annotationdefaults": {
           "arrowcolor": "#2a3f5f",
           "arrowhead": 0,
           "arrowwidth": 1
          },
          "autotypenumbers": "strict",
          "coloraxis": {
           "colorbar": {
            "outlinewidth": 0,
            "ticks": ""
           }
          },
          "colorscale": {
           "diverging": [
            [
             0,
             "#8e0152"
            ],
            [
             0.1,
             "#c51b7d"
            ],
            [
             0.2,
             "#de77ae"
            ],
            [
             0.3,
             "#f1b6da"
            ],
            [
             0.4,
             "#fde0ef"
            ],
            [
             0.5,
             "#f7f7f7"
            ],
            [
             0.6,
             "#e6f5d0"
            ],
            [
             0.7,
             "#b8e186"
            ],
            [
             0.8,
             "#7fbc41"
            ],
            [
             0.9,
             "#4d9221"
            ],
            [
             1,
             "#276419"
            ]
           ],
           "sequential": [
            [
             0,
             "#0d0887"
            ],
            [
             0.1111111111111111,
             "#46039f"
            ],
            [
             0.2222222222222222,
             "#7201a8"
            ],
            [
             0.3333333333333333,
             "#9c179e"
            ],
            [
             0.4444444444444444,
             "#bd3786"
            ],
            [
             0.5555555555555556,
             "#d8576b"
            ],
            [
             0.6666666666666666,
             "#ed7953"
            ],
            [
             0.7777777777777778,
             "#fb9f3a"
            ],
            [
             0.8888888888888888,
             "#fdca26"
            ],
            [
             1,
             "#f0f921"
            ]
           ],
           "sequentialminus": [
            [
             0,
             "#0d0887"
            ],
            [
             0.1111111111111111,
             "#46039f"
            ],
            [
             0.2222222222222222,
             "#7201a8"
            ],
            [
             0.3333333333333333,
             "#9c179e"
            ],
            [
             0.4444444444444444,
             "#bd3786"
            ],
            [
             0.5555555555555556,
             "#d8576b"
            ],
            [
             0.6666666666666666,
             "#ed7953"
            ],
            [
             0.7777777777777778,
             "#fb9f3a"
            ],
            [
             0.8888888888888888,
             "#fdca26"
            ],
            [
             1,
             "#f0f921"
            ]
           ]
          },
          "colorway": [
           "#636efa",
           "#EF553B",
           "#00cc96",
           "#ab63fa",
           "#FFA15A",
           "#19d3f3",
           "#FF6692",
           "#B6E880",
           "#FF97FF",
           "#FECB52"
          ],
          "font": {
           "color": "#2a3f5f"
          },
          "geo": {
           "bgcolor": "white",
           "lakecolor": "white",
           "landcolor": "#E5ECF6",
           "showlakes": true,
           "showland": true,
           "subunitcolor": "white"
          },
          "hoverlabel": {
           "align": "left"
          },
          "hovermode": "closest",
          "mapbox": {
           "style": "light"
          },
          "paper_bgcolor": "white",
          "plot_bgcolor": "#E5ECF6",
          "polar": {
           "angularaxis": {
            "gridcolor": "white",
            "linecolor": "white",
            "ticks": ""
           },
           "bgcolor": "#E5ECF6",
           "radialaxis": {
            "gridcolor": "white",
            "linecolor": "white",
            "ticks": ""
           }
          },
          "scene": {
           "xaxis": {
            "backgroundcolor": "#E5ECF6",
            "gridcolor": "white",
            "gridwidth": 2,
            "linecolor": "white",
            "showbackground": true,
            "ticks": "",
            "zerolinecolor": "white"
           },
           "yaxis": {
            "backgroundcolor": "#E5ECF6",
            "gridcolor": "white",
            "gridwidth": 2,
            "linecolor": "white",
            "showbackground": true,
            "ticks": "",
            "zerolinecolor": "white"
           },
           "zaxis": {
            "backgroundcolor": "#E5ECF6",
            "gridcolor": "white",
            "gridwidth": 2,
            "linecolor": "white",
            "showbackground": true,
            "ticks": "",
            "zerolinecolor": "white"
           }
          },
          "shapedefaults": {
           "line": {
            "color": "#2a3f5f"
           }
          },
          "ternary": {
           "aaxis": {
            "gridcolor": "white",
            "linecolor": "white",
            "ticks": ""
           },
           "baxis": {
            "gridcolor": "white",
            "linecolor": "white",
            "ticks": ""
           },
           "bgcolor": "#E5ECF6",
           "caxis": {
            "gridcolor": "white",
            "linecolor": "white",
            "ticks": ""
           }
          },
          "title": {
           "x": 0.05
          },
          "xaxis": {
           "automargin": true,
           "gridcolor": "white",
           "linecolor": "white",
           "ticks": "",
           "title": {
            "standoff": 15
           },
           "zerolinecolor": "white",
           "zerolinewidth": 2
          },
          "yaxis": {
           "automargin": true,
           "gridcolor": "white",
           "linecolor": "white",
           "ticks": "",
           "title": {
            "standoff": 15
           },
           "zerolinecolor": "white",
           "zerolinewidth": 2
          }
         }
        },
        "title": {
         "text": "Number of PRIMMDebug challenges in each session (n=377)"
        },
        "xaxis": {
         "anchor": "y",
         "domain": [
          0,
          1
         ],
         "title": {
          "text": "Session"
         }
        },
        "yaxis": {
         "anchor": "x",
         "domain": [
          0,
          1
         ],
         "title": {
          "text": "Frequency"
         }
        }
       }
      }
     },
     "metadata": {},
     "output_type": "display_data"
    },
    {
     "data": {
      "application/vnd.plotly.v1+json": {
       "config": {
        "plotlyServerURL": "https://plot.ly"
       },
       "data": [
        {
         "hovertemplate": "PRIMMDebug stage=%{x}<br>Frequency=%{y}<extra></extra>",
         "legendgroup": "",
         "marker": {
          "color": "#636efa",
          "pattern": {
           "shape": ""
          }
         },
         "name": "",
         "orientation": "v",
         "showlegend": false,
         "textposition": "auto",
         "type": "bar",
         "x": [
          "predict",
          "run",
          "spot_defect",
          "inspect_code",
          "find_error",
          "fix_error",
          "test",
          "modify",
          "make"
         ],
         "xaxis": "x",
         "y": {
          "bdata": "BQAcAA8ABAANAA4A9QA1AAAA",
          "dtype": "i2"
         },
         "yaxis": "y"
        }
       ],
       "layout": {
        "barmode": "relative",
        "legend": {
         "tracegroupgap": 0
        },
        "template": {
         "data": {
          "bar": [
           {
            "error_x": {
             "color": "#2a3f5f"
            },
            "error_y": {
             "color": "#2a3f5f"
            },
            "marker": {
             "line": {
              "color": "#E5ECF6",
              "width": 0.5
             },
             "pattern": {
              "fillmode": "overlay",
              "size": 10,
              "solidity": 0.2
             }
            },
            "type": "bar"
           }
          ],
          "barpolar": [
           {
            "marker": {
             "line": {
              "color": "#E5ECF6",
              "width": 0.5
             },
             "pattern": {
              "fillmode": "overlay",
              "size": 10,
              "solidity": 0.2
             }
            },
            "type": "barpolar"
           }
          ],
          "carpet": [
           {
            "aaxis": {
             "endlinecolor": "#2a3f5f",
             "gridcolor": "white",
             "linecolor": "white",
             "minorgridcolor": "white",
             "startlinecolor": "#2a3f5f"
            },
            "baxis": {
             "endlinecolor": "#2a3f5f",
             "gridcolor": "white",
             "linecolor": "white",
             "minorgridcolor": "white",
             "startlinecolor": "#2a3f5f"
            },
            "type": "carpet"
           }
          ],
          "choropleth": [
           {
            "colorbar": {
             "outlinewidth": 0,
             "ticks": ""
            },
            "type": "choropleth"
           }
          ],
          "contour": [
           {
            "colorbar": {
             "outlinewidth": 0,
             "ticks": ""
            },
            "colorscale": [
             [
              0,
              "#0d0887"
             ],
             [
              0.1111111111111111,
              "#46039f"
             ],
             [
              0.2222222222222222,
              "#7201a8"
             ],
             [
              0.3333333333333333,
              "#9c179e"
             ],
             [
              0.4444444444444444,
              "#bd3786"
             ],
             [
              0.5555555555555556,
              "#d8576b"
             ],
             [
              0.6666666666666666,
              "#ed7953"
             ],
             [
              0.7777777777777778,
              "#fb9f3a"
             ],
             [
              0.8888888888888888,
              "#fdca26"
             ],
             [
              1,
              "#f0f921"
             ]
            ],
            "type": "contour"
           }
          ],
          "contourcarpet": [
           {
            "colorbar": {
             "outlinewidth": 0,
             "ticks": ""
            },
            "type": "contourcarpet"
           }
          ],
          "heatmap": [
           {
            "colorbar": {
             "outlinewidth": 0,
             "ticks": ""
            },
            "colorscale": [
             [
              0,
              "#0d0887"
             ],
             [
              0.1111111111111111,
              "#46039f"
             ],
             [
              0.2222222222222222,
              "#7201a8"
             ],
             [
              0.3333333333333333,
              "#9c179e"
             ],
             [
              0.4444444444444444,
              "#bd3786"
             ],
             [
              0.5555555555555556,
              "#d8576b"
             ],
             [
              0.6666666666666666,
              "#ed7953"
             ],
             [
              0.7777777777777778,
              "#fb9f3a"
             ],
             [
              0.8888888888888888,
              "#fdca26"
             ],
             [
              1,
              "#f0f921"
             ]
            ],
            "type": "heatmap"
           }
          ],
          "histogram": [
           {
            "marker": {
             "pattern": {
              "fillmode": "overlay",
              "size": 10,
              "solidity": 0.2
             }
            },
            "type": "histogram"
           }
          ],
          "histogram2d": [
           {
            "colorbar": {
             "outlinewidth": 0,
             "ticks": ""
            },
            "colorscale": [
             [
              0,
              "#0d0887"
             ],
             [
              0.1111111111111111,
              "#46039f"
             ],
             [
              0.2222222222222222,
              "#7201a8"
             ],
             [
              0.3333333333333333,
              "#9c179e"
             ],
             [
              0.4444444444444444,
              "#bd3786"
             ],
             [
              0.5555555555555556,
              "#d8576b"
             ],
             [
              0.6666666666666666,
              "#ed7953"
             ],
             [
              0.7777777777777778,
              "#fb9f3a"
             ],
             [
              0.8888888888888888,
              "#fdca26"
             ],
             [
              1,
              "#f0f921"
             ]
            ],
            "type": "histogram2d"
           }
          ],
          "histogram2dcontour": [
           {
            "colorbar": {
             "outlinewidth": 0,
             "ticks": ""
            },
            "colorscale": [
             [
              0,
              "#0d0887"
             ],
             [
              0.1111111111111111,
              "#46039f"
             ],
             [
              0.2222222222222222,
              "#7201a8"
             ],
             [
              0.3333333333333333,
              "#9c179e"
             ],
             [
              0.4444444444444444,
              "#bd3786"
             ],
             [
              0.5555555555555556,
              "#d8576b"
             ],
             [
              0.6666666666666666,
              "#ed7953"
             ],
             [
              0.7777777777777778,
              "#fb9f3a"
             ],
             [
              0.8888888888888888,
              "#fdca26"
             ],
             [
              1,
              "#f0f921"
             ]
            ],
            "type": "histogram2dcontour"
           }
          ],
          "mesh3d": [
           {
            "colorbar": {
             "outlinewidth": 0,
             "ticks": ""
            },
            "type": "mesh3d"
           }
          ],
          "parcoords": [
           {
            "line": {
             "colorbar": {
              "outlinewidth": 0,
              "ticks": ""
             }
            },
            "type": "parcoords"
           }
          ],
          "pie": [
           {
            "automargin": true,
            "type": "pie"
           }
          ],
          "scatter": [
           {
            "fillpattern": {
             "fillmode": "overlay",
             "size": 10,
             "solidity": 0.2
            },
            "type": "scatter"
           }
          ],
          "scatter3d": [
           {
            "line": {
             "colorbar": {
              "outlinewidth": 0,
              "ticks": ""
             }
            },
            "marker": {
             "colorbar": {
              "outlinewidth": 0,
              "ticks": ""
             }
            },
            "type": "scatter3d"
           }
          ],
          "scattercarpet": [
           {
            "marker": {
             "colorbar": {
              "outlinewidth": 0,
              "ticks": ""
             }
            },
            "type": "scattercarpet"
           }
          ],
          "scattergeo": [
           {
            "marker": {
             "colorbar": {
              "outlinewidth": 0,
              "ticks": ""
             }
            },
            "type": "scattergeo"
           }
          ],
          "scattergl": [
           {
            "marker": {
             "colorbar": {
              "outlinewidth": 0,
              "ticks": ""
             }
            },
            "type": "scattergl"
           }
          ],
          "scattermap": [
           {
            "marker": {
             "colorbar": {
              "outlinewidth": 0,
              "ticks": ""
             }
            },
            "type": "scattermap"
           }
          ],
          "scattermapbox": [
           {
            "marker": {
             "colorbar": {
              "outlinewidth": 0,
              "ticks": ""
             }
            },
            "type": "scattermapbox"
           }
          ],
          "scatterpolar": [
           {
            "marker": {
             "colorbar": {
              "outlinewidth": 0,
              "ticks": ""
             }
            },
            "type": "scatterpolar"
           }
          ],
          "scatterpolargl": [
           {
            "marker": {
             "colorbar": {
              "outlinewidth": 0,
              "ticks": ""
             }
            },
            "type": "scatterpolargl"
           }
          ],
          "scatterternary": [
           {
            "marker": {
             "colorbar": {
              "outlinewidth": 0,
              "ticks": ""
             }
            },
            "type": "scatterternary"
           }
          ],
          "surface": [
           {
            "colorbar": {
             "outlinewidth": 0,
             "ticks": ""
            },
            "colorscale": [
             [
              0,
              "#0d0887"
             ],
             [
              0.1111111111111111,
              "#46039f"
             ],
             [
              0.2222222222222222,
              "#7201a8"
             ],
             [
              0.3333333333333333,
              "#9c179e"
             ],
             [
              0.4444444444444444,
              "#bd3786"
             ],
             [
              0.5555555555555556,
              "#d8576b"
             ],
             [
              0.6666666666666666,
              "#ed7953"
             ],
             [
              0.7777777777777778,
              "#fb9f3a"
             ],
             [
              0.8888888888888888,
              "#fdca26"
             ],
             [
              1,
              "#f0f921"
             ]
            ],
            "type": "surface"
           }
          ],
          "table": [
           {
            "cells": {
             "fill": {
              "color": "#EBF0F8"
             },
             "line": {
              "color": "white"
             }
            },
            "header": {
             "fill": {
              "color": "#C8D4E3"
             },
             "line": {
              "color": "white"
             }
            },
            "type": "table"
           }
          ]
         },
         "layout": {
          "annotationdefaults": {
           "arrowcolor": "#2a3f5f",
           "arrowhead": 0,
           "arrowwidth": 1
          },
          "autotypenumbers": "strict",
          "coloraxis": {
           "colorbar": {
            "outlinewidth": 0,
            "ticks": ""
           }
          },
          "colorscale": {
           "diverging": [
            [
             0,
             "#8e0152"
            ],
            [
             0.1,
             "#c51b7d"
            ],
            [
             0.2,
             "#de77ae"
            ],
            [
             0.3,
             "#f1b6da"
            ],
            [
             0.4,
             "#fde0ef"
            ],
            [
             0.5,
             "#f7f7f7"
            ],
            [
             0.6,
             "#e6f5d0"
            ],
            [
             0.7,
             "#b8e186"
            ],
            [
             0.8,
             "#7fbc41"
            ],
            [
             0.9,
             "#4d9221"
            ],
            [
             1,
             "#276419"
            ]
           ],
           "sequential": [
            [
             0,
             "#0d0887"
            ],
            [
             0.1111111111111111,
             "#46039f"
            ],
            [
             0.2222222222222222,
             "#7201a8"
            ],
            [
             0.3333333333333333,
             "#9c179e"
            ],
            [
             0.4444444444444444,
             "#bd3786"
            ],
            [
             0.5555555555555556,
             "#d8576b"
            ],
            [
             0.6666666666666666,
             "#ed7953"
            ],
            [
             0.7777777777777778,
             "#fb9f3a"
            ],
            [
             0.8888888888888888,
             "#fdca26"
            ],
            [
             1,
             "#f0f921"
            ]
           ],
           "sequentialminus": [
            [
             0,
             "#0d0887"
            ],
            [
             0.1111111111111111,
             "#46039f"
            ],
            [
             0.2222222222222222,
             "#7201a8"
            ],
            [
             0.3333333333333333,
             "#9c179e"
            ],
            [
             0.4444444444444444,
             "#bd3786"
            ],
            [
             0.5555555555555556,
             "#d8576b"
            ],
            [
             0.6666666666666666,
             "#ed7953"
            ],
            [
             0.7777777777777778,
             "#fb9f3a"
            ],
            [
             0.8888888888888888,
             "#fdca26"
            ],
            [
             1,
             "#f0f921"
            ]
           ]
          },
          "colorway": [
           "#636efa",
           "#EF553B",
           "#00cc96",
           "#ab63fa",
           "#FFA15A",
           "#19d3f3",
           "#FF6692",
           "#B6E880",
           "#FF97FF",
           "#FECB52"
          ],
          "font": {
           "color": "#2a3f5f"
          },
          "geo": {
           "bgcolor": "white",
           "lakecolor": "white",
           "landcolor": "#E5ECF6",
           "showlakes": true,
           "showland": true,
           "subunitcolor": "white"
          },
          "hoverlabel": {
           "align": "left"
          },
          "hovermode": "closest",
          "mapbox": {
           "style": "light"
          },
          "paper_bgcolor": "white",
          "plot_bgcolor": "#E5ECF6",
          "polar": {
           "angularaxis": {
            "gridcolor": "white",
            "linecolor": "white",
            "ticks": ""
           },
           "bgcolor": "#E5ECF6",
           "radialaxis": {
            "gridcolor": "white",
            "linecolor": "white",
            "ticks": ""
           }
          },
          "scene": {
           "xaxis": {
            "backgroundcolor": "#E5ECF6",
            "gridcolor": "white",
            "gridwidth": 2,
            "linecolor": "white",
            "showbackground": true,
            "ticks": "",
            "zerolinecolor": "white"
           },
           "yaxis": {
            "backgroundcolor": "#E5ECF6",
            "gridcolor": "white",
            "gridwidth": 2,
            "linecolor": "white",
            "showbackground": true,
            "ticks": "",
            "zerolinecolor": "white"
           },
           "zaxis": {
            "backgroundcolor": "#E5ECF6",
            "gridcolor": "white",
            "gridwidth": 2,
            "linecolor": "white",
            "showbackground": true,
            "ticks": "",
            "zerolinecolor": "white"
           }
          },
          "shapedefaults": {
           "line": {
            "color": "#2a3f5f"
           }
          },
          "ternary": {
           "aaxis": {
            "gridcolor": "white",
            "linecolor": "white",
            "ticks": ""
           },
           "baxis": {
            "gridcolor": "white",
            "linecolor": "white",
            "ticks": ""
           },
           "bgcolor": "#E5ECF6",
           "caxis": {
            "gridcolor": "white",
            "linecolor": "white",
            "ticks": ""
           }
          },
          "title": {
           "x": 0.05
          },
          "xaxis": {
           "automargin": true,
           "gridcolor": "white",
           "linecolor": "white",
           "ticks": "",
           "title": {
            "standoff": 15
           },
           "zerolinecolor": "white",
           "zerolinewidth": 2
          },
          "yaxis": {
           "automargin": true,
           "gridcolor": "white",
           "linecolor": "white",
           "ticks": "",
           "title": {
            "standoff": 15
           },
           "zerolinecolor": "white",
           "zerolinewidth": 2
          }
         }
        },
        "title": {
         "text": "Final stage of PRIMMDebug challenge attempts (n=377)"
        },
        "xaxis": {
         "anchor": "y",
         "domain": [
          0,
          1
         ],
         "title": {
          "text": "PRIMMDebug stage"
         }
        },
        "yaxis": {
         "anchor": "x",
         "domain": [
          0,
          1
         ],
         "title": {
          "text": "Frequency"
         }
        }
       }
      }
     },
     "metadata": {},
     "output_type": "display_data"
    }
   ],
   "source": [
    "print(f\"Number of attempted PRIMMDebug challenges: {len(EXERCISE_LOGS)}\")\n",
    "print(f\"Number of completed PRIMMDebug stages: {len(STAGE_LOGS)}\")\n",
    "total_time: float = sum([ExerciseLogProcessor.get_time_on_exercise(exercise_log) for exercise_log in EXERCISE_LOGS])\n",
    "print(f\"Total time on PRIMMDebug challenges: {datetime.timedelta(seconds=total_time)}\\n\")\n",
    "\n",
    "print(f\"Number of students who consented to taking part in the study: {11+16+25+26+16}\")\n",
    "print(f\"Total number of students who attempted at least one PRIMMDebug challenge: {len(STUDENT_IDS)}\\n\") #TODO: Clean number of student IDs to those who only attempted one exercise\n",
    "\n",
    "#Number of attempts at each PRIMMDebug challenge\n",
    "challenge_attempts: dict[str, int] = {}\n",
    "for exercise_log in EXERCISE_LOGS:\n",
    "    challenge_attempts[exercise_log.exercise_name] = challenge_attempts.get(exercise_log.exercise_name, 0) + 1\n",
    "challenge_attempts = dict(sorted(challenge_attempts.items(), key=lambda item: item[1], reverse=True)) #Sort by frequency\n",
    "px.bar(\n",
    "    x = challenge_attempts.keys(),\n",
    "    y = challenge_attempts.values(),\n",
    "    labels = {\"x\": \"Challenge Name\", \"y\": \"Frequency\"},\n",
    "    title=f\"Number of attempts for each PRIMMDebug challenge (n={len(EXERCISE_LOGS)})\"\n",
    ").show()\n",
    "\n",
    "#Number of challenges attempted by each student\n",
    "challenges_per_student: dict[str, int] = {}\n",
    "for exercise in EXERCISE_LOGS:\n",
    "    student_id: str = exercise.student_id\n",
    "    challenges_per_student[student_id] = challenges_per_student.get(student_id, 0) + 1\n",
    "px.histogram(\n",
    "    challenges_per_student.values(),\n",
    "    marginal=\"box\",\n",
    "    labels={\"value\": \"Number of challenges\", \"count\": \"Frequency\"},\n",
    "    title=f\"Number of attempted PRIMMDebug challenges, broken down by student (n={len(challenges_per_student)})\"\n",
    ").show()\n",
    "\n",
    "# Number of stages per PRIMMDebug challenge attempt\n",
    "stages_per_challenge_attempt: list[int] = [len(exercise.stage_logs) for exercise in EXERCISE_LOGS]\n",
    "px.histogram(\n",
    "    stages_per_challenge_attempt,\n",
    "    marginal=\"box\",\n",
    "    labels={\"value\": \"Number of stages\", \"count\": \"Frequency\"},\n",
    "    title=f\"Number of stages per PRIMMDebug challenge attempt (n={len(stages_per_challenge_attempt)})\"\n",
    ").show()\n",
    "\n",
    "# Number of challenge attempts per session\n",
    "attempts_per_session: dict[int, int] = {}\n",
    "for session, logs in EXERCISE_LOGS_PER_SESSION.items():\n",
    "    attempts_per_session[session] = len(logs)\n",
    "px.bar(\n",
    "    x=attempts_per_session.keys(),\n",
    "    y=attempts_per_session.values(),\n",
    "    labels={\"x\": \"Session\", \"y\": \"Frequency\"},\n",
    "    title=f\"Number of PRIMMDebug challenges in each session (n={sum(attempts_per_session.values())})\"\n",
    ").show()\n",
    "\n",
    "# Final stage of PRIMMDebug challenge attempts\n",
    "challenge_end_stages: dict[str, int] = dict(Counter([ExerciseLogProcessor.get_last_stage(exercise_log).stage_name.name for exercise_log in EXERCISE_LOGS]))\n",
    "challenge_end_stages = {stage.name: challenge_end_stages.get(stage.name, 0) for stage in DebuggingStage if stage.name not in [\"completed_test\", \"exit\"]}\n",
    "px.bar(\n",
    "    x=list(challenge_end_stages.keys()),\n",
    "    y=list(challenge_end_stages.values()),\n",
    "    labels={\"x\": \"PRIMMDebug stage\", \"y\": \"Frequency\"},\n",
    "    title=f\"Final stage of PRIMMDebug challenge attempts (n={len(EXERCISE_LOGS)})\"\n",
    ").show()"
   ]
  },
  {
   "cell_type": "markdown",
   "metadata": {},
   "source": [
    "### Student Demographics\n",
    "\n",
    "Number of students:\n",
    "- By gender\n",
    "- By year group\n",
    "- By school\n"
   ]
  },
  {
   "cell_type": "code",
   "execution_count": 3,
   "metadata": {},
   "outputs": [
    {
     "name": "stdout",
     "output_type": "stream",
     "text": [
      "Number of participating students: 69\n"
     ]
    },
    {
     "data": {
      "application/vnd.plotly.v1+json": {
       "config": {
        "plotlyServerURL": "https://plot.ly"
       },
       "data": [
        {
         "hovertemplate": "School=%{x}<br>Frequency=%{y}<extra></extra>",
         "legendgroup": "",
         "marker": {
          "color": "#636efa",
          "pattern": {
           "shape": ""
          }
         },
         "name": "",
         "orientation": "v",
         "showlegend": false,
         "textposition": "auto",
         "type": "bar",
         "x": [
          "School A",
          "School B",
          "School C",
          "School D",
          "School E"
         ],
         "xaxis": "x",
         "y": {
          "bdata": "AAAAAAA=",
          "dtype": "i1"
         },
         "yaxis": "y"
        }
       ],
       "layout": {
        "barmode": "relative",
        "legend": {
         "tracegroupgap": 0
        },
        "margin": {
         "t": 60
        },
        "template": {
         "data": {
          "bar": [
           {
            "error_x": {
             "color": "#2a3f5f"
            },
            "error_y": {
             "color": "#2a3f5f"
            },
            "marker": {
             "line": {
              "color": "#E5ECF6",
              "width": 0.5
             },
             "pattern": {
              "fillmode": "overlay",
              "size": 10,
              "solidity": 0.2
             }
            },
            "type": "bar"
           }
          ],
          "barpolar": [
           {
            "marker": {
             "line": {
              "color": "#E5ECF6",
              "width": 0.5
             },
             "pattern": {
              "fillmode": "overlay",
              "size": 10,
              "solidity": 0.2
             }
            },
            "type": "barpolar"
           }
          ],
          "carpet": [
           {
            "aaxis": {
             "endlinecolor": "#2a3f5f",
             "gridcolor": "white",
             "linecolor": "white",
             "minorgridcolor": "white",
             "startlinecolor": "#2a3f5f"
            },
            "baxis": {
             "endlinecolor": "#2a3f5f",
             "gridcolor": "white",
             "linecolor": "white",
             "minorgridcolor": "white",
             "startlinecolor": "#2a3f5f"
            },
            "type": "carpet"
           }
          ],
          "choropleth": [
           {
            "colorbar": {
             "outlinewidth": 0,
             "ticks": ""
            },
            "type": "choropleth"
           }
          ],
          "contour": [
           {
            "colorbar": {
             "outlinewidth": 0,
             "ticks": ""
            },
            "colorscale": [
             [
              0,
              "#0d0887"
             ],
             [
              0.1111111111111111,
              "#46039f"
             ],
             [
              0.2222222222222222,
              "#7201a8"
             ],
             [
              0.3333333333333333,
              "#9c179e"
             ],
             [
              0.4444444444444444,
              "#bd3786"
             ],
             [
              0.5555555555555556,
              "#d8576b"
             ],
             [
              0.6666666666666666,
              "#ed7953"
             ],
             [
              0.7777777777777778,
              "#fb9f3a"
             ],
             [
              0.8888888888888888,
              "#fdca26"
             ],
             [
              1,
              "#f0f921"
             ]
            ],
            "type": "contour"
           }
          ],
          "contourcarpet": [
           {
            "colorbar": {
             "outlinewidth": 0,
             "ticks": ""
            },
            "type": "contourcarpet"
           }
          ],
          "heatmap": [
           {
            "colorbar": {
             "outlinewidth": 0,
             "ticks": ""
            },
            "colorscale": [
             [
              0,
              "#0d0887"
             ],
             [
              0.1111111111111111,
              "#46039f"
             ],
             [
              0.2222222222222222,
              "#7201a8"
             ],
             [
              0.3333333333333333,
              "#9c179e"
             ],
             [
              0.4444444444444444,
              "#bd3786"
             ],
             [
              0.5555555555555556,
              "#d8576b"
             ],
             [
              0.6666666666666666,
              "#ed7953"
             ],
             [
              0.7777777777777778,
              "#fb9f3a"
             ],
             [
              0.8888888888888888,
              "#fdca26"
             ],
             [
              1,
              "#f0f921"
             ]
            ],
            "type": "heatmap"
           }
          ],
          "histogram": [
           {
            "marker": {
             "pattern": {
              "fillmode": "overlay",
              "size": 10,
              "solidity": 0.2
             }
            },
            "type": "histogram"
           }
          ],
          "histogram2d": [
           {
            "colorbar": {
             "outlinewidth": 0,
             "ticks": ""
            },
            "colorscale": [
             [
              0,
              "#0d0887"
             ],
             [
              0.1111111111111111,
              "#46039f"
             ],
             [
              0.2222222222222222,
              "#7201a8"
             ],
             [
              0.3333333333333333,
              "#9c179e"
             ],
             [
              0.4444444444444444,
              "#bd3786"
             ],
             [
              0.5555555555555556,
              "#d8576b"
             ],
             [
              0.6666666666666666,
              "#ed7953"
             ],
             [
              0.7777777777777778,
              "#fb9f3a"
             ],
             [
              0.8888888888888888,
              "#fdca26"
             ],
             [
              1,
              "#f0f921"
             ]
            ],
            "type": "histogram2d"
           }
          ],
          "histogram2dcontour": [
           {
            "colorbar": {
             "outlinewidth": 0,
             "ticks": ""
            },
            "colorscale": [
             [
              0,
              "#0d0887"
             ],
             [
              0.1111111111111111,
              "#46039f"
             ],
             [
              0.2222222222222222,
              "#7201a8"
             ],
             [
              0.3333333333333333,
              "#9c179e"
             ],
             [
              0.4444444444444444,
              "#bd3786"
             ],
             [
              0.5555555555555556,
              "#d8576b"
             ],
             [
              0.6666666666666666,
              "#ed7953"
             ],
             [
              0.7777777777777778,
              "#fb9f3a"
             ],
             [
              0.8888888888888888,
              "#fdca26"
             ],
             [
              1,
              "#f0f921"
             ]
            ],
            "type": "histogram2dcontour"
           }
          ],
          "mesh3d": [
           {
            "colorbar": {
             "outlinewidth": 0,
             "ticks": ""
            },
            "type": "mesh3d"
           }
          ],
          "parcoords": [
           {
            "line": {
             "colorbar": {
              "outlinewidth": 0,
              "ticks": ""
             }
            },
            "type": "parcoords"
           }
          ],
          "pie": [
           {
            "automargin": true,
            "type": "pie"
           }
          ],
          "scatter": [
           {
            "fillpattern": {
             "fillmode": "overlay",
             "size": 10,
             "solidity": 0.2
            },
            "type": "scatter"
           }
          ],
          "scatter3d": [
           {
            "line": {
             "colorbar": {
              "outlinewidth": 0,
              "ticks": ""
             }
            },
            "marker": {
             "colorbar": {
              "outlinewidth": 0,
              "ticks": ""
             }
            },
            "type": "scatter3d"
           }
          ],
          "scattercarpet": [
           {
            "marker": {
             "colorbar": {
              "outlinewidth": 0,
              "ticks": ""
             }
            },
            "type": "scattercarpet"
           }
          ],
          "scattergeo": [
           {
            "marker": {
             "colorbar": {
              "outlinewidth": 0,
              "ticks": ""
             }
            },
            "type": "scattergeo"
           }
          ],
          "scattergl": [
           {
            "marker": {
             "colorbar": {
              "outlinewidth": 0,
              "ticks": ""
             }
            },
            "type": "scattergl"
           }
          ],
          "scattermap": [
           {
            "marker": {
             "colorbar": {
              "outlinewidth": 0,
              "ticks": ""
             }
            },
            "type": "scattermap"
           }
          ],
          "scattermapbox": [
           {
            "marker": {
             "colorbar": {
              "outlinewidth": 0,
              "ticks": ""
             }
            },
            "type": "scattermapbox"
           }
          ],
          "scatterpolar": [
           {
            "marker": {
             "colorbar": {
              "outlinewidth": 0,
              "ticks": ""
             }
            },
            "type": "scatterpolar"
           }
          ],
          "scatterpolargl": [
           {
            "marker": {
             "colorbar": {
              "outlinewidth": 0,
              "ticks": ""
             }
            },
            "type": "scatterpolargl"
           }
          ],
          "scatterternary": [
           {
            "marker": {
             "colorbar": {
              "outlinewidth": 0,
              "ticks": ""
             }
            },
            "type": "scatterternary"
           }
          ],
          "surface": [
           {
            "colorbar": {
             "outlinewidth": 0,
             "ticks": ""
            },
            "colorscale": [
             [
              0,
              "#0d0887"
             ],
             [
              0.1111111111111111,
              "#46039f"
             ],
             [
              0.2222222222222222,
              "#7201a8"
             ],
             [
              0.3333333333333333,
              "#9c179e"
             ],
             [
              0.4444444444444444,
              "#bd3786"
             ],
             [
              0.5555555555555556,
              "#d8576b"
             ],
             [
              0.6666666666666666,
              "#ed7953"
             ],
             [
              0.7777777777777778,
              "#fb9f3a"
             ],
             [
              0.8888888888888888,
              "#fdca26"
             ],
             [
              1,
              "#f0f921"
             ]
            ],
            "type": "surface"
           }
          ],
          "table": [
           {
            "cells": {
             "fill": {
              "color": "#EBF0F8"
             },
             "line": {
              "color": "white"
             }
            },
            "header": {
             "fill": {
              "color": "#C8D4E3"
             },
             "line": {
              "color": "white"
             }
            },
            "type": "table"
           }
          ]
         },
         "layout": {
          "annotationdefaults": {
           "arrowcolor": "#2a3f5f",
           "arrowhead": 0,
           "arrowwidth": 1
          },
          "autotypenumbers": "strict",
          "coloraxis": {
           "colorbar": {
            "outlinewidth": 0,
            "ticks": ""
           }
          },
          "colorscale": {
           "diverging": [
            [
             0,
             "#8e0152"
            ],
            [
             0.1,
             "#c51b7d"
            ],
            [
             0.2,
             "#de77ae"
            ],
            [
             0.3,
             "#f1b6da"
            ],
            [
             0.4,
             "#fde0ef"
            ],
            [
             0.5,
             "#f7f7f7"
            ],
            [
             0.6,
             "#e6f5d0"
            ],
            [
             0.7,
             "#b8e186"
            ],
            [
             0.8,
             "#7fbc41"
            ],
            [
             0.9,
             "#4d9221"
            ],
            [
             1,
             "#276419"
            ]
           ],
           "sequential": [
            [
             0,
             "#0d0887"
            ],
            [
             0.1111111111111111,
             "#46039f"
            ],
            [
             0.2222222222222222,
             "#7201a8"
            ],
            [
             0.3333333333333333,
             "#9c179e"
            ],
            [
             0.4444444444444444,
             "#bd3786"
            ],
            [
             0.5555555555555556,
             "#d8576b"
            ],
            [
             0.6666666666666666,
             "#ed7953"
            ],
            [
             0.7777777777777778,
             "#fb9f3a"
            ],
            [
             0.8888888888888888,
             "#fdca26"
            ],
            [
             1,
             "#f0f921"
            ]
           ],
           "sequentialminus": [
            [
             0,
             "#0d0887"
            ],
            [
             0.1111111111111111,
             "#46039f"
            ],
            [
             0.2222222222222222,
             "#7201a8"
            ],
            [
             0.3333333333333333,
             "#9c179e"
            ],
            [
             0.4444444444444444,
             "#bd3786"
            ],
            [
             0.5555555555555556,
             "#d8576b"
            ],
            [
             0.6666666666666666,
             "#ed7953"
            ],
            [
             0.7777777777777778,
             "#fb9f3a"
            ],
            [
             0.8888888888888888,
             "#fdca26"
            ],
            [
             1,
             "#f0f921"
            ]
           ]
          },
          "colorway": [
           "#636efa",
           "#EF553B",
           "#00cc96",
           "#ab63fa",
           "#FFA15A",
           "#19d3f3",
           "#FF6692",
           "#B6E880",
           "#FF97FF",
           "#FECB52"
          ],
          "font": {
           "color": "#2a3f5f"
          },
          "geo": {
           "bgcolor": "white",
           "lakecolor": "white",
           "landcolor": "#E5ECF6",
           "showlakes": true,
           "showland": true,
           "subunitcolor": "white"
          },
          "hoverlabel": {
           "align": "left"
          },
          "hovermode": "closest",
          "mapbox": {
           "style": "light"
          },
          "paper_bgcolor": "white",
          "plot_bgcolor": "#E5ECF6",
          "polar": {
           "angularaxis": {
            "gridcolor": "white",
            "linecolor": "white",
            "ticks": ""
           },
           "bgcolor": "#E5ECF6",
           "radialaxis": {
            "gridcolor": "white",
            "linecolor": "white",
            "ticks": ""
           }
          },
          "scene": {
           "xaxis": {
            "backgroundcolor": "#E5ECF6",
            "gridcolor": "white",
            "gridwidth": 2,
            "linecolor": "white",
            "showbackground": true,
            "ticks": "",
            "zerolinecolor": "white"
           },
           "yaxis": {
            "backgroundcolor": "#E5ECF6",
            "gridcolor": "white",
            "gridwidth": 2,
            "linecolor": "white",
            "showbackground": true,
            "ticks": "",
            "zerolinecolor": "white"
           },
           "zaxis": {
            "backgroundcolor": "#E5ECF6",
            "gridcolor": "white",
            "gridwidth": 2,
            "linecolor": "white",
            "showbackground": true,
            "ticks": "",
            "zerolinecolor": "white"
           }
          },
          "shapedefaults": {
           "line": {
            "color": "#2a3f5f"
           }
          },
          "ternary": {
           "aaxis": {
            "gridcolor": "white",
            "linecolor": "white",
            "ticks": ""
           },
           "baxis": {
            "gridcolor": "white",
            "linecolor": "white",
            "ticks": ""
           },
           "bgcolor": "#E5ECF6",
           "caxis": {
            "gridcolor": "white",
            "linecolor": "white",
            "ticks": ""
           }
          },
          "title": {
           "x": 0.05
          },
          "xaxis": {
           "automargin": true,
           "gridcolor": "white",
           "linecolor": "white",
           "ticks": "",
           "title": {
            "standoff": 15
           },
           "zerolinecolor": "white",
           "zerolinewidth": 2
          },
          "yaxis": {
           "automargin": true,
           "gridcolor": "white",
           "linecolor": "white",
           "ticks": "",
           "title": {
            "standoff": 15
           },
           "zerolinecolor": "white",
           "zerolinewidth": 2
          }
         }
        },
        "xaxis": {
         "anchor": "y",
         "domain": [
          0,
          1
         ],
         "title": {
          "text": "School"
         }
        },
        "yaxis": {
         "anchor": "x",
         "domain": [
          0,
          1
         ],
         "title": {
          "text": "Frequency"
         }
        }
       }
      }
     },
     "metadata": {},
     "output_type": "display_data"
    }
   ],
   "source": [
    "print(f\"Number of participating students: {len(STUDENT_IDS)}\") #TODO: Implement as csv file to save\n",
    "school_split_fig = px.bar(x = get_school_split().keys(), y = get_school_split().values(), labels={\"x\": \"School\", \"y\": \"Frequency\"})\n",
    "school_split_fig.show()"
   ]
  },
  {
   "cell_type": "markdown",
   "metadata": {},
   "source": [
    "### 2. Time Taken\n",
    "\n",
    "We now present the distribution of times taken for each PRIMMDebug challenge and stage."
   ]
  },
  {
   "cell_type": "code",
   "execution_count": 4,
   "metadata": {},
   "outputs": [
    {
     "data": {
      "application/vnd.plotly.v1+json": {
       "config": {
        "plotlyServerURL": "https://plot.ly"
       },
       "data": [
        {
         "bingroup": "x",
         "hovertemplate": "variable=0<br>Time taken (seconds)=%{x}<br>count=%{y}<extra></extra>",
         "legendgroup": "0",
         "marker": {
          "color": "#636efa",
          "pattern": {
           "shape": ""
          }
         },
         "name": "0",
         "orientation": "v",
         "showlegend": true,
         "type": "histogram",
         "x": {
          "bdata": "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",
          "dtype": "f8"
         },
         "xaxis": "x",
         "yaxis": "y"
        },
        {
         "hovertemplate": "variable=0<br>Time taken (seconds)=%{x}<extra></extra>",
         "legendgroup": "0",
         "marker": {
          "color": "#636efa"
         },
         "name": "0",
         "notched": true,
         "showlegend": false,
         "type": "box",
         "x": {
          "bdata": "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",
          "dtype": "f8"
         },
         "xaxis": "x2",
         "yaxis": "y2"
        }
       ],
       "layout": {
        "barmode": "relative",
        "legend": {
         "title": {
          "text": "variable"
         },
         "tracegroupgap": 0
        },
        "template": {
         "data": {
          "bar": [
           {
            "error_x": {
             "color": "#2a3f5f"
            },
            "error_y": {
             "color": "#2a3f5f"
            },
            "marker": {
             "line": {
              "color": "#E5ECF6",
              "width": 0.5
             },
             "pattern": {
              "fillmode": "overlay",
              "size": 10,
              "solidity": 0.2
             }
            },
            "type": "bar"
           }
          ],
          "barpolar": [
           {
            "marker": {
             "line": {
              "color": "#E5ECF6",
              "width": 0.5
             },
             "pattern": {
              "fillmode": "overlay",
              "size": 10,
              "solidity": 0.2
             }
            },
            "type": "barpolar"
           }
          ],
          "carpet": [
           {
            "aaxis": {
             "endlinecolor": "#2a3f5f",
             "gridcolor": "white",
             "linecolor": "white",
             "minorgridcolor": "white",
             "startlinecolor": "#2a3f5f"
            },
            "baxis": {
             "endlinecolor": "#2a3f5f",
             "gridcolor": "white",
             "linecolor": "white",
             "minorgridcolor": "white",
             "startlinecolor": "#2a3f5f"
            },
            "type": "carpet"
           }
          ],
          "choropleth": [
           {
            "colorbar": {
             "outlinewidth": 0,
             "ticks": ""
            },
            "type": "choropleth"
           }
          ],
          "contour": [
           {
            "colorbar": {
             "outlinewidth": 0,
             "ticks": ""
            },
            "colorscale": [
             [
              0,
              "#0d0887"
             ],
             [
              0.1111111111111111,
              "#46039f"
             ],
             [
              0.2222222222222222,
              "#7201a8"
             ],
             [
              0.3333333333333333,
              "#9c179e"
             ],
             [
              0.4444444444444444,
              "#bd3786"
             ],
             [
              0.5555555555555556,
              "#d8576b"
             ],
             [
              0.6666666666666666,
              "#ed7953"
             ],
             [
              0.7777777777777778,
              "#fb9f3a"
             ],
             [
              0.8888888888888888,
              "#fdca26"
             ],
             [
              1,
              "#f0f921"
             ]
            ],
            "type": "contour"
           }
          ],
          "contourcarpet": [
           {
            "colorbar": {
             "outlinewidth": 0,
             "ticks": ""
            },
            "type": "contourcarpet"
           }
          ],
          "heatmap": [
           {
            "colorbar": {
             "outlinewidth": 0,
             "ticks": ""
            },
            "colorscale": [
             [
              0,
              "#0d0887"
             ],
             [
              0.1111111111111111,
              "#46039f"
             ],
             [
              0.2222222222222222,
              "#7201a8"
             ],
             [
              0.3333333333333333,
              "#9c179e"
             ],
             [
              0.4444444444444444,
              "#bd3786"
             ],
             [
              0.5555555555555556,
              "#d8576b"
             ],
             [
              0.6666666666666666,
              "#ed7953"
             ],
             [
              0.7777777777777778,
              "#fb9f3a"
             ],
             [
              0.8888888888888888,
              "#fdca26"
             ],
             [
              1,
              "#f0f921"
             ]
            ],
            "type": "heatmap"
           }
          ],
          "histogram": [
           {
            "marker": {
             "pattern": {
              "fillmode": "overlay",
              "size": 10,
              "solidity": 0.2
             }
            },
            "type": "histogram"
           }
          ],
          "histogram2d": [
           {
            "colorbar": {
             "outlinewidth": 0,
             "ticks": ""
            },
            "colorscale": [
             [
              0,
              "#0d0887"
             ],
             [
              0.1111111111111111,
              "#46039f"
             ],
             [
              0.2222222222222222,
              "#7201a8"
             ],
             [
              0.3333333333333333,
              "#9c179e"
             ],
             [
              0.4444444444444444,
              "#bd3786"
             ],
             [
              0.5555555555555556,
              "#d8576b"
             ],
             [
              0.6666666666666666,
              "#ed7953"
             ],
             [
              0.7777777777777778,
              "#fb9f3a"
             ],
             [
              0.8888888888888888,
              "#fdca26"
             ],
             [
              1,
              "#f0f921"
             ]
            ],
            "type": "histogram2d"
           }
          ],
          "histogram2dcontour": [
           {
            "colorbar": {
             "outlinewidth": 0,
             "ticks": ""
            },
            "colorscale": [
             [
              0,
              "#0d0887"
             ],
             [
              0.1111111111111111,
              "#46039f"
             ],
             [
              0.2222222222222222,
              "#7201a8"
             ],
             [
              0.3333333333333333,
              "#9c179e"
             ],
             [
              0.4444444444444444,
              "#bd3786"
             ],
             [
              0.5555555555555556,
              "#d8576b"
             ],
             [
              0.6666666666666666,
              "#ed7953"
             ],
             [
              0.7777777777777778,
              "#fb9f3a"
             ],
             [
              0.8888888888888888,
              "#fdca26"
             ],
             [
              1,
              "#f0f921"
             ]
            ],
            "type": "histogram2dcontour"
           }
          ],
          "mesh3d": [
           {
            "colorbar": {
             "outlinewidth": 0,
             "ticks": ""
            },
            "type": "mesh3d"
           }
          ],
          "parcoords": [
           {
            "line": {
             "colorbar": {
              "outlinewidth": 0,
              "ticks": ""
             }
            },
            "type": "parcoords"
           }
          ],
          "pie": [
           {
            "automargin": true,
            "type": "pie"
           }
          ],
          "scatter": [
           {
            "fillpattern": {
             "fillmode": "overlay",
             "size": 10,
             "solidity": 0.2
            },
            "type": "scatter"
           }
          ],
          "scatter3d": [
           {
            "line": {
             "colorbar": {
              "outlinewidth": 0,
              "ticks": ""
             }
            },
            "marker": {
             "colorbar": {
              "outlinewidth": 0,
              "ticks": ""
             }
            },
            "type": "scatter3d"
           }
          ],
          "scattercarpet": [
           {
            "marker": {
             "colorbar": {
              "outlinewidth": 0,
              "ticks": ""
             }
            },
            "type": "scattercarpet"
           }
          ],
          "scattergeo": [
           {
            "marker": {
             "colorbar": {
              "outlinewidth": 0,
              "ticks": ""
             }
            },
            "type": "scattergeo"
           }
          ],
          "scattergl": [
           {
            "marker": {
             "colorbar": {
              "outlinewidth": 0,
              "ticks": ""
             }
            },
            "type": "scattergl"
           }
          ],
          "scattermap": [
           {
            "marker": {
             "colorbar": {
              "outlinewidth": 0,
              "ticks": ""
             }
            },
            "type": "scattermap"
           }
          ],
          "scattermapbox": [
           {
            "marker": {
             "colorbar": {
              "outlinewidth": 0,
              "ticks": ""
             }
            },
            "type": "scattermapbox"
           }
          ],
          "scatterpolar": [
           {
            "marker": {
             "colorbar": {
              "outlinewidth": 0,
              "ticks": ""
             }
            },
            "type": "scatterpolar"
           }
          ],
          "scatterpolargl": [
           {
            "marker": {
             "colorbar": {
              "outlinewidth": 0,
              "ticks": ""
             }
            },
            "type": "scatterpolargl"
           }
          ],
          "scatterternary": [
           {
            "marker": {
             "colorbar": {
              "outlinewidth": 0,
              "ticks": ""
             }
            },
            "type": "scatterternary"
           }
          ],
          "surface": [
           {
            "colorbar": {
             "outlinewidth": 0,
             "ticks": ""
            },
            "colorscale": [
             [
              0,
              "#0d0887"
             ],
             [
              0.1111111111111111,
              "#46039f"
             ],
             [
              0.2222222222222222,
              "#7201a8"
             ],
             [
              0.3333333333333333,
              "#9c179e"
             ],
             [
              0.4444444444444444,
              "#bd3786"
             ],
             [
              0.5555555555555556,
              "#d8576b"
             ],
             [
              0.6666666666666666,
              "#ed7953"
             ],
             [
              0.7777777777777778,
              "#fb9f3a"
             ],
             [
              0.8888888888888888,
              "#fdca26"
             ],
             [
              1,
              "#f0f921"
             ]
            ],
            "type": "surface"
           }
          ],
          "table": [
           {
            "cells": {
             "fill": {
              "color": "#EBF0F8"
             },
             "line": {
              "color": "white"
             }
            },
            "header": {
             "fill": {
              "color": "#C8D4E3"
             },
             "line": {
              "color": "white"
             }
            },
            "type": "table"
           }
          ]
         },
         "layout": {
          "annotationdefaults": {
           "arrowcolor": "#2a3f5f",
           "arrowhead": 0,
           "arrowwidth": 1
          },
          "autotypenumbers": "strict",
          "coloraxis": {
           "colorbar": {
            "outlinewidth": 0,
            "ticks": ""
           }
          },
          "colorscale": {
           "diverging": [
            [
             0,
             "#8e0152"
            ],
            [
             0.1,
             "#c51b7d"
            ],
            [
             0.2,
             "#de77ae"
            ],
            [
             0.3,
             "#f1b6da"
            ],
            [
             0.4,
             "#fde0ef"
            ],
            [
             0.5,
             "#f7f7f7"
            ],
            [
             0.6,
             "#e6f5d0"
            ],
            [
             0.7,
             "#b8e186"
            ],
            [
             0.8,
             "#7fbc41"
            ],
            [
             0.9,
             "#4d9221"
            ],
            [
             1,
             "#276419"
            ]
           ],
           "sequential": [
            [
             0,
             "#0d0887"
            ],
            [
             0.1111111111111111,
             "#46039f"
            ],
            [
             0.2222222222222222,
             "#7201a8"
            ],
            [
             0.3333333333333333,
             "#9c179e"
            ],
            [
             0.4444444444444444,
             "#bd3786"
            ],
            [
             0.5555555555555556,
             "#d8576b"
            ],
            [
             0.6666666666666666,
             "#ed7953"
            ],
            [
             0.7777777777777778,
             "#fb9f3a"
            ],
            [
             0.8888888888888888,
             "#fdca26"
            ],
            [
             1,
             "#f0f921"
            ]
           ],
           "sequentialminus": [
            [
             0,
             "#0d0887"
            ],
            [
             0.1111111111111111,
             "#46039f"
            ],
            [
             0.2222222222222222,
             "#7201a8"
            ],
            [
             0.3333333333333333,
             "#9c179e"
            ],
            [
             0.4444444444444444,
             "#bd3786"
            ],
            [
             0.5555555555555556,
             "#d8576b"
            ],
            [
             0.6666666666666666,
             "#ed7953"
            ],
            [
             0.7777777777777778,
             "#fb9f3a"
            ],
            [
             0.8888888888888888,
             "#fdca26"
            ],
            [
             1,
             "#f0f921"
            ]
           ]
          },
          "colorway": [
           "#636efa",
           "#EF553B",
           "#00cc96",
           "#ab63fa",
           "#FFA15A",
           "#19d3f3",
           "#FF6692",
           "#B6E880",
           "#FF97FF",
           "#FECB52"
          ],
          "font": {
           "color": "#2a3f5f"
          },
          "geo": {
           "bgcolor": "white",
           "lakecolor": "white",
           "landcolor": "#E5ECF6",
           "showlakes": true,
           "showland": true,
           "subunitcolor": "white"
          },
          "hoverlabel": {
           "align": "left"
          },
          "hovermode": "closest",
          "mapbox": {
           "style": "light"
          },
          "paper_bgcolor": "white",
          "plot_bgcolor": "#E5ECF6",
          "polar": {
           "angularaxis": {
            "gridcolor": "white",
            "linecolor": "white",
            "ticks": ""
           },
           "bgcolor": "#E5ECF6",
           "radialaxis": {
            "gridcolor": "white",
            "linecolor": "white",
            "ticks": ""
           }
          },
          "scene": {
           "xaxis": {
            "backgroundcolor": "#E5ECF6",
            "gridcolor": "white",
            "gridwidth": 2,
            "linecolor": "white",
            "showbackground": true,
            "ticks": "",
            "zerolinecolor": "white"
           },
           "yaxis": {
            "backgroundcolor": "#E5ECF6",
            "gridcolor": "white",
            "gridwidth": 2,
            "linecolor": "white",
            "showbackground": true,
            "ticks": "",
            "zerolinecolor": "white"
           },
           "zaxis": {
            "backgroundcolor": "#E5ECF6",
            "gridcolor": "white",
            "gridwidth": 2,
            "linecolor": "white",
            "showbackground": true,
            "ticks": "",
            "zerolinecolor": "white"
           }
          },
          "shapedefaults": {
           "line": {
            "color": "#2a3f5f"
           }
          },
          "ternary": {
           "aaxis": {
            "gridcolor": "white",
            "linecolor": "white",
            "ticks": ""
           },
           "baxis": {
            "gridcolor": "white",
            "linecolor": "white",
            "ticks": ""
           },
           "bgcolor": "#E5ECF6",
           "caxis": {
            "gridcolor": "white",
            "linecolor": "white",
            "ticks": ""
           }
          },
          "title": {
           "x": 0.05
          },
          "xaxis": {
           "automargin": true,
           "gridcolor": "white",
           "linecolor": "white",
           "ticks": "",
           "title": {
            "standoff": 15
           },
           "zerolinecolor": "white",
           "zerolinewidth": 2
          },
          "yaxis": {
           "automargin": true,
           "gridcolor": "white",
           "linecolor": "white",
           "ticks": "",
           "title": {
            "standoff": 15
           },
           "zerolinecolor": "white",
           "zerolinewidth": 2
          }
         }
        },
        "title": {
         "text": "Time taken per PRIMMDebug challenge (skewness=2.06, kurtosis=5.84, std=436.78)"
        },
        "xaxis": {
         "anchor": "y",
         "domain": [
          0,
          1
         ],
         "title": {
          "text": "Time taken (seconds)"
         }
        },
        "xaxis2": {
         "anchor": "y2",
         "domain": [
          0,
          1
         ],
         "matches": "x",
         "showgrid": true,
         "showticklabels": false
        },
        "yaxis": {
         "anchor": "x",
         "domain": [
          0,
          0.7326
         ],
         "title": {
          "text": "count"
         }
        },
        "yaxis2": {
         "anchor": "x2",
         "domain": [
          0.7426,
          1
         ],
         "matches": "y2",
         "showgrid": false,
         "showline": false,
         "showticklabels": false,
         "ticks": ""
        }
       }
      }
     },
     "metadata": {},
     "output_type": "display_data"
    },
    {
     "data": {
      "application/vnd.plotly.v1+json": {
       "config": {
        "plotlyServerURL": "https://plot.ly"
       },
       "data": [
        {
         "hovertemplate": "Session=%{x}<br>Median time (seconds)=%{y}<extra></extra>",
         "legendgroup": "",
         "line": {
          "color": "#636efa",
          "dash": "solid"
         },
         "marker": {
          "symbol": "circle"
         },
         "mode": "lines",
         "name": "",
         "orientation": "v",
         "showlegend": false,
         "type": "scatter",
         "x": {
          "bdata": "AQIDBAUG",
          "dtype": "i1"
         },
         "xaxis": "x",
         "y": {
          "bdata": "5KWbxCBPd0DhehSuR9lsQBKDwMqhE3VA/Knx0k3CbkDFILByaI9yQIcW2c732XNA",
          "dtype": "f8"
         },
         "yaxis": "y"
        }
       ],
       "layout": {
        "legend": {
         "tracegroupgap": 0
        },
        "template": {
         "data": {
          "bar": [
           {
            "error_x": {
             "color": "#2a3f5f"
            },
            "error_y": {
             "color": "#2a3f5f"
            },
            "marker": {
             "line": {
              "color": "#E5ECF6",
              "width": 0.5
             },
             "pattern": {
              "fillmode": "overlay",
              "size": 10,
              "solidity": 0.2
             }
            },
            "type": "bar"
           }
          ],
          "barpolar": [
           {
            "marker": {
             "line": {
              "color": "#E5ECF6",
              "width": 0.5
             },
             "pattern": {
              "fillmode": "overlay",
              "size": 10,
              "solidity": 0.2
             }
            },
            "type": "barpolar"
           }
          ],
          "carpet": [
           {
            "aaxis": {
             "endlinecolor": "#2a3f5f",
             "gridcolor": "white",
             "linecolor": "white",
             "minorgridcolor": "white",
             "startlinecolor": "#2a3f5f"
            },
            "baxis": {
             "endlinecolor": "#2a3f5f",
             "gridcolor": "white",
             "linecolor": "white",
             "minorgridcolor": "white",
             "startlinecolor": "#2a3f5f"
            },
            "type": "carpet"
           }
          ],
          "choropleth": [
           {
            "colorbar": {
             "outlinewidth": 0,
             "ticks": ""
            },
            "type": "choropleth"
           }
          ],
          "contour": [
           {
            "colorbar": {
             "outlinewidth": 0,
             "ticks": ""
            },
            "colorscale": [
             [
              0,
              "#0d0887"
             ],
             [
              0.1111111111111111,
              "#46039f"
             ],
             [
              0.2222222222222222,
              "#7201a8"
             ],
             [
              0.3333333333333333,
              "#9c179e"
             ],
             [
              0.4444444444444444,
              "#bd3786"
             ],
             [
              0.5555555555555556,
              "#d8576b"
             ],
             [
              0.6666666666666666,
              "#ed7953"
             ],
             [
              0.7777777777777778,
              "#fb9f3a"
             ],
             [
              0.8888888888888888,
              "#fdca26"
             ],
             [
              1,
              "#f0f921"
             ]
            ],
            "type": "contour"
           }
          ],
          "contourcarpet": [
           {
            "colorbar": {
             "outlinewidth": 0,
             "ticks": ""
            },
            "type": "contourcarpet"
           }
          ],
          "heatmap": [
           {
            "colorbar": {
             "outlinewidth": 0,
             "ticks": ""
            },
            "colorscale": [
             [
              0,
              "#0d0887"
             ],
             [
              0.1111111111111111,
              "#46039f"
             ],
             [
              0.2222222222222222,
              "#7201a8"
             ],
             [
              0.3333333333333333,
              "#9c179e"
             ],
             [
              0.4444444444444444,
              "#bd3786"
             ],
             [
              0.5555555555555556,
              "#d8576b"
             ],
             [
              0.6666666666666666,
              "#ed7953"
             ],
             [
              0.7777777777777778,
              "#fb9f3a"
             ],
             [
              0.8888888888888888,
              "#fdca26"
             ],
             [
              1,
              "#f0f921"
             ]
            ],
            "type": "heatmap"
           }
          ],
          "histogram": [
           {
            "marker": {
             "pattern": {
              "fillmode": "overlay",
              "size": 10,
              "solidity": 0.2
             }
            },
            "type": "histogram"
           }
          ],
          "histogram2d": [
           {
            "colorbar": {
             "outlinewidth": 0,
             "ticks": ""
            },
            "colorscale": [
             [
              0,
              "#0d0887"
             ],
             [
              0.1111111111111111,
              "#46039f"
             ],
             [
              0.2222222222222222,
              "#7201a8"
             ],
             [
              0.3333333333333333,
              "#9c179e"
             ],
             [
              0.4444444444444444,
              "#bd3786"
             ],
             [
              0.5555555555555556,
              "#d8576b"
             ],
             [
              0.6666666666666666,
              "#ed7953"
             ],
             [
              0.7777777777777778,
              "#fb9f3a"
             ],
             [
              0.8888888888888888,
              "#fdca26"
             ],
             [
              1,
              "#f0f921"
             ]
            ],
            "type": "histogram2d"
           }
          ],
          "histogram2dcontour": [
           {
            "colorbar": {
             "outlinewidth": 0,
             "ticks": ""
            },
            "colorscale": [
             [
              0,
              "#0d0887"
             ],
             [
              0.1111111111111111,
              "#46039f"
             ],
             [
              0.2222222222222222,
              "#7201a8"
             ],
             [
              0.3333333333333333,
              "#9c179e"
             ],
             [
              0.4444444444444444,
              "#bd3786"
             ],
             [
              0.5555555555555556,
              "#d8576b"
             ],
             [
              0.6666666666666666,
              "#ed7953"
             ],
             [
              0.7777777777777778,
              "#fb9f3a"
             ],
             [
              0.8888888888888888,
              "#fdca26"
             ],
             [
              1,
              "#f0f921"
             ]
            ],
            "type": "histogram2dcontour"
           }
          ],
          "mesh3d": [
           {
            "colorbar": {
             "outlinewidth": 0,
             "ticks": ""
            },
            "type": "mesh3d"
           }
          ],
          "parcoords": [
           {
            "line": {
             "colorbar": {
              "outlinewidth": 0,
              "ticks": ""
             }
            },
            "type": "parcoords"
           }
          ],
          "pie": [
           {
            "automargin": true,
            "type": "pie"
           }
          ],
          "scatter": [
           {
            "fillpattern": {
             "fillmode": "overlay",
             "size": 10,
             "solidity": 0.2
            },
            "type": "scatter"
           }
          ],
          "scatter3d": [
           {
            "line": {
             "colorbar": {
              "outlinewidth": 0,
              "ticks": ""
             }
            },
            "marker": {
             "colorbar": {
              "outlinewidth": 0,
              "ticks": ""
             }
            },
            "type": "scatter3d"
           }
          ],
          "scattercarpet": [
           {
            "marker": {
             "colorbar": {
              "outlinewidth": 0,
              "ticks": ""
             }
            },
            "type": "scattercarpet"
           }
          ],
          "scattergeo": [
           {
            "marker": {
             "colorbar": {
              "outlinewidth": 0,
              "ticks": ""
             }
            },
            "type": "scattergeo"
           }
          ],
          "scattergl": [
           {
            "marker": {
             "colorbar": {
              "outlinewidth": 0,
              "ticks": ""
             }
            },
            "type": "scattergl"
           }
          ],
          "scattermap": [
           {
            "marker": {
             "colorbar": {
              "outlinewidth": 0,
              "ticks": ""
             }
            },
            "type": "scattermap"
           }
          ],
          "scattermapbox": [
           {
            "marker": {
             "colorbar": {
              "outlinewidth": 0,
              "ticks": ""
             }
            },
            "type": "scattermapbox"
           }
          ],
          "scatterpolar": [
           {
            "marker": {
             "colorbar": {
              "outlinewidth": 0,
              "ticks": ""
             }
            },
            "type": "scatterpolar"
           }
          ],
          "scatterpolargl": [
           {
            "marker": {
             "colorbar": {
              "outlinewidth": 0,
              "ticks": ""
             }
            },
            "type": "scatterpolargl"
           }
          ],
          "scatterternary": [
           {
            "marker": {
             "colorbar": {
              "outlinewidth": 0,
              "ticks": ""
             }
            },
            "type": "scatterternary"
           }
          ],
          "surface": [
           {
            "colorbar": {
             "outlinewidth": 0,
             "ticks": ""
            },
            "colorscale": [
             [
              0,
              "#0d0887"
             ],
             [
              0.1111111111111111,
              "#46039f"
             ],
             [
              0.2222222222222222,
              "#7201a8"
             ],
             [
              0.3333333333333333,
              "#9c179e"
             ],
             [
              0.4444444444444444,
              "#bd3786"
             ],
             [
              0.5555555555555556,
              "#d8576b"
             ],
             [
              0.6666666666666666,
              "#ed7953"
             ],
             [
              0.7777777777777778,
              "#fb9f3a"
             ],
             [
              0.8888888888888888,
              "#fdca26"
             ],
             [
              1,
              "#f0f921"
             ]
            ],
            "type": "surface"
           }
          ],
          "table": [
           {
            "cells": {
             "fill": {
              "color": "#EBF0F8"
             },
             "line": {
              "color": "white"
             }
            },
            "header": {
             "fill": {
              "color": "#C8D4E3"
             },
             "line": {
              "color": "white"
             }
            },
            "type": "table"
           }
          ]
         },
         "layout": {
          "annotationdefaults": {
           "arrowcolor": "#2a3f5f",
           "arrowhead": 0,
           "arrowwidth": 1
          },
          "autotypenumbers": "strict",
          "coloraxis": {
           "colorbar": {
            "outlinewidth": 0,
            "ticks": ""
           }
          },
          "colorscale": {
           "diverging": [
            [
             0,
             "#8e0152"
            ],
            [
             0.1,
             "#c51b7d"
            ],
            [
             0.2,
             "#de77ae"
            ],
            [
             0.3,
             "#f1b6da"
            ],
            [
             0.4,
             "#fde0ef"
            ],
            [
             0.5,
             "#f7f7f7"
            ],
            [
             0.6,
             "#e6f5d0"
            ],
            [
             0.7,
             "#b8e186"
            ],
            [
             0.8,
             "#7fbc41"
            ],
            [
             0.9,
             "#4d9221"
            ],
            [
             1,
             "#276419"
            ]
           ],
           "sequential": [
            [
             0,
             "#0d0887"
            ],
            [
             0.1111111111111111,
             "#46039f"
            ],
            [
             0.2222222222222222,
             "#7201a8"
            ],
            [
             0.3333333333333333,
             "#9c179e"
            ],
            [
             0.4444444444444444,
             "#bd3786"
            ],
            [
             0.5555555555555556,
             "#d8576b"
            ],
            [
             0.6666666666666666,
             "#ed7953"
            ],
            [
             0.7777777777777778,
             "#fb9f3a"
            ],
            [
             0.8888888888888888,
             "#fdca26"
            ],
            [
             1,
             "#f0f921"
            ]
           ],
           "sequentialminus": [
            [
             0,
             "#0d0887"
            ],
            [
             0.1111111111111111,
             "#46039f"
            ],
            [
             0.2222222222222222,
             "#7201a8"
            ],
            [
             0.3333333333333333,
             "#9c179e"
            ],
            [
             0.4444444444444444,
             "#bd3786"
            ],
            [
             0.5555555555555556,
             "#d8576b"
            ],
            [
             0.6666666666666666,
             "#ed7953"
            ],
            [
             0.7777777777777778,
             "#fb9f3a"
            ],
            [
             0.8888888888888888,
             "#fdca26"
            ],
            [
             1,
             "#f0f921"
            ]
           ]
          },
          "colorway": [
           "#636efa",
           "#EF553B",
           "#00cc96",
           "#ab63fa",
           "#FFA15A",
           "#19d3f3",
           "#FF6692",
           "#B6E880",
           "#FF97FF",
           "#FECB52"
          ],
          "font": {
           "color": "#2a3f5f"
          },
          "geo": {
           "bgcolor": "white",
           "lakecolor": "white",
           "landcolor": "#E5ECF6",
           "showlakes": true,
           "showland": true,
           "subunitcolor": "white"
          },
          "hoverlabel": {
           "align": "left"
          },
          "hovermode": "closest",
          "mapbox": {
           "style": "light"
          },
          "paper_bgcolor": "white",
          "plot_bgcolor": "#E5ECF6",
          "polar": {
           "angularaxis": {
            "gridcolor": "white",
            "linecolor": "white",
            "ticks": ""
           },
           "bgcolor": "#E5ECF6",
           "radialaxis": {
            "gridcolor": "white",
            "linecolor": "white",
            "ticks": ""
           }
          },
          "scene": {
           "xaxis": {
            "backgroundcolor": "#E5ECF6",
            "gridcolor": "white",
            "gridwidth": 2,
            "linecolor": "white",
            "showbackground": true,
            "ticks": "",
            "zerolinecolor": "white"
           },
           "yaxis": {
            "backgroundcolor": "#E5ECF6",
            "gridcolor": "white",
            "gridwidth": 2,
            "linecolor": "white",
            "showbackground": true,
            "ticks": "",
            "zerolinecolor": "white"
           },
           "zaxis": {
            "backgroundcolor": "#E5ECF6",
            "gridcolor": "white",
            "gridwidth": 2,
            "linecolor": "white",
            "showbackground": true,
            "ticks": "",
            "zerolinecolor": "white"
           }
          },
          "shapedefaults": {
           "line": {
            "color": "#2a3f5f"
           }
          },
          "ternary": {
           "aaxis": {
            "gridcolor": "white",
            "linecolor": "white",
            "ticks": ""
           },
           "baxis": {
            "gridcolor": "white",
            "linecolor": "white",
            "ticks": ""
           },
           "bgcolor": "#E5ECF6",
           "caxis": {
            "gridcolor": "white",
            "linecolor": "white",
            "ticks": ""
           }
          },
          "title": {
           "x": 0.05
          },
          "xaxis": {
           "automargin": true,
           "gridcolor": "white",
           "linecolor": "white",
           "ticks": "",
           "title": {
            "standoff": 15
           },
           "zerolinecolor": "white",
           "zerolinewidth": 2
          },
          "yaxis": {
           "automargin": true,
           "gridcolor": "white",
           "linecolor": "white",
           "ticks": "",
           "title": {
            "standoff": 15
           },
           "zerolinecolor": "white",
           "zerolinewidth": 2
          }
         }
        },
        "title": {
         "text": "Median time spent on each PRIMMDebug challenge per session"
        },
        "xaxis": {
         "anchor": "y",
         "domain": [
          0,
          1
         ],
         "title": {
          "text": "Session"
         }
        },
        "yaxis": {
         "anchor": "x",
         "domain": [
          0,
          1
         ],
         "title": {
          "text": "Median time (seconds)"
         }
        }
       }
      }
     },
     "metadata": {},
     "output_type": "display_data"
    },
    {
     "data": {
      "application/vnd.plotly.v1+json": {
       "config": {
        "plotlyServerURL": "https://plot.ly"
       },
       "data": [
        {
         "bingroup": "x",
         "hovertemplate": "variable=0<br>Time taken (seconds)=%{x}<br>count=%{y}<extra></extra>",
         "legendgroup": "0",
         "marker": {
          "color": "#636efa",
          "pattern": {
           "shape": ""
          }
         },
         "name": "0",
         "orientation": "v",
         "showlegend": true,
         "type": "histogram",
         "x": {
          "bdata": "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",
          "dtype": "f8"
         },
         "xaxis": "x",
         "yaxis": "y"
        },
        {
         "hovertemplate": "variable=0<br>Time taken (seconds)=%{x}<extra></extra>",
         "legendgroup": "0",
         "marker": {
          "color": "#636efa"
         },
         "name": "0",
         "notched": true,
         "showlegend": false,
         "type": "box",
         "x": {
          "bdata": "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",
          "dtype": "f8"
         },
         "xaxis": "x2",
         "yaxis": "y2"
        }
       ],
       "layout": {
        "barmode": "relative",
        "legend": {
         "title": {
          "text": "variable"
         },
         "tracegroupgap": 0
        },
        "template": {
         "data": {
          "bar": [
           {
            "error_x": {
             "color": "#2a3f5f"
            },
            "error_y": {
             "color": "#2a3f5f"
            },
            "marker": {
             "line": {
              "color": "#E5ECF6",
              "width": 0.5
             },
             "pattern": {
              "fillmode": "overlay",
              "size": 10,
              "solidity": 0.2
             }
            },
            "type": "bar"
           }
          ],
          "barpolar": [
           {
            "marker": {
             "line": {
              "color": "#E5ECF6",
              "width": 0.5
             },
             "pattern": {
              "fillmode": "overlay",
              "size": 10,
              "solidity": 0.2
             }
            },
            "type": "barpolar"
           }
          ],
          "carpet": [
           {
            "aaxis": {
             "endlinecolor": "#2a3f5f",
             "gridcolor": "white",
             "linecolor": "white",
             "minorgridcolor": "white",
             "startlinecolor": "#2a3f5f"
            },
            "baxis": {
             "endlinecolor": "#2a3f5f",
             "gridcolor": "white",
             "linecolor": "white",
             "minorgridcolor": "white",
             "startlinecolor": "#2a3f5f"
            },
            "type": "carpet"
           }
          ],
          "choropleth": [
           {
            "colorbar": {
             "outlinewidth": 0,
             "ticks": ""
            },
            "type": "choropleth"
           }
          ],
          "contour": [
           {
            "colorbar": {
             "outlinewidth": 0,
             "ticks": ""
            },
            "colorscale": [
             [
              0,
              "#0d0887"
             ],
             [
              0.1111111111111111,
              "#46039f"
             ],
             [
              0.2222222222222222,
              "#7201a8"
             ],
             [
              0.3333333333333333,
              "#9c179e"
             ],
             [
              0.4444444444444444,
              "#bd3786"
             ],
             [
              0.5555555555555556,
              "#d8576b"
             ],
             [
              0.6666666666666666,
              "#ed7953"
             ],
             [
              0.7777777777777778,
              "#fb9f3a"
             ],
             [
              0.8888888888888888,
              "#fdca26"
             ],
             [
              1,
              "#f0f921"
             ]
            ],
            "type": "contour"
           }
          ],
          "contourcarpet": [
           {
            "colorbar": {
             "outlinewidth": 0,
             "ticks": ""
            },
            "type": "contourcarpet"
           }
          ],
          "heatmap": [
           {
            "colorbar": {
             "outlinewidth": 0,
             "ticks": ""
            },
            "colorscale": [
             [
              0,
              "#0d0887"
             ],
             [
              0.1111111111111111,
              "#46039f"
             ],
             [
              0.2222222222222222,
              "#7201a8"
             ],
             [
              0.3333333333333333,
              "#9c179e"
             ],
             [
              0.4444444444444444,
              "#bd3786"
             ],
             [
              0.5555555555555556,
              "#d8576b"
             ],
             [
              0.6666666666666666,
              "#ed7953"
             ],
             [
              0.7777777777777778,
              "#fb9f3a"
             ],
             [
              0.8888888888888888,
              "#fdca26"
             ],
             [
              1,
              "#f0f921"
             ]
            ],
            "type": "heatmap"
           }
          ],
          "histogram": [
           {
            "marker": {
             "pattern": {
              "fillmode": "overlay",
              "size": 10,
              "solidity": 0.2
             }
            },
            "type": "histogram"
           }
          ],
          "histogram2d": [
           {
            "colorbar": {
             "outlinewidth": 0,
             "ticks": ""
            },
            "colorscale": [
             [
              0,
              "#0d0887"
             ],
             [
              0.1111111111111111,
              "#46039f"
             ],
             [
              0.2222222222222222,
              "#7201a8"
             ],
             [
              0.3333333333333333,
              "#9c179e"
             ],
             [
              0.4444444444444444,
              "#bd3786"
             ],
             [
              0.5555555555555556,
              "#d8576b"
             ],
             [
              0.6666666666666666,
              "#ed7953"
             ],
             [
              0.7777777777777778,
              "#fb9f3a"
             ],
             [
              0.8888888888888888,
              "#fdca26"
             ],
             [
              1,
              "#f0f921"
             ]
            ],
            "type": "histogram2d"
           }
          ],
          "histogram2dcontour": [
           {
            "colorbar": {
             "outlinewidth": 0,
             "ticks": ""
            },
            "colorscale": [
             [
              0,
              "#0d0887"
             ],
             [
              0.1111111111111111,
              "#46039f"
             ],
             [
              0.2222222222222222,
              "#7201a8"
             ],
             [
              0.3333333333333333,
              "#9c179e"
             ],
             [
              0.4444444444444444,
              "#bd3786"
             ],
             [
              0.5555555555555556,
              "#d8576b"
             ],
             [
              0.6666666666666666,
              "#ed7953"
             ],
             [
              0.7777777777777778,
              "#fb9f3a"
             ],
             [
              0.8888888888888888,
              "#fdca26"
             ],
             [
              1,
              "#f0f921"
             ]
            ],
            "type": "histogram2dcontour"
           }
          ],
          "mesh3d": [
           {
            "colorbar": {
             "outlinewidth": 0,
             "ticks": ""
            },
            "type": "mesh3d"
           }
          ],
          "parcoords": [
           {
            "line": {
             "colorbar": {
              "outlinewidth": 0,
              "ticks": ""
             }
            },
            "type": "parcoords"
           }
          ],
          "pie": [
           {
            "automargin": true,
            "type": "pie"
           }
          ],
          "scatter": [
           {
            "fillpattern": {
             "fillmode": "overlay",
             "size": 10,
             "solidity": 0.2
            },
            "type": "scatter"
           }
          ],
          "scatter3d": [
           {
            "line": {
             "colorbar": {
              "outlinewidth": 0,
              "ticks": ""
             }
            },
            "marker": {
             "colorbar": {
              "outlinewidth": 0,
              "ticks": ""
             }
            },
            "type": "scatter3d"
           }
          ],
          "scattercarpet": [
           {
            "marker": {
             "colorbar": {
              "outlinewidth": 0,
              "ticks": ""
             }
            },
            "type": "scattercarpet"
           }
          ],
          "scattergeo": [
           {
            "marker": {
             "colorbar": {
              "outlinewidth": 0,
              "ticks": ""
             }
            },
            "type": "scattergeo"
           }
          ],
          "scattergl": [
           {
            "marker": {
             "colorbar": {
              "outlinewidth": 0,
              "ticks": ""
             }
            },
            "type": "scattergl"
           }
          ],
          "scattermap": [
           {
            "marker": {
             "colorbar": {
              "outlinewidth": 0,
              "ticks": ""
             }
            },
            "type": "scattermap"
           }
          ],
          "scattermapbox": [
           {
            "marker": {
             "colorbar": {
              "outlinewidth": 0,
              "ticks": ""
             }
            },
            "type": "scattermapbox"
           }
          ],
          "scatterpolar": [
           {
            "marker": {
             "colorbar": {
              "outlinewidth": 0,
              "ticks": ""
             }
            },
            "type": "scatterpolar"
           }
          ],
          "scatterpolargl": [
           {
            "marker": {
             "colorbar": {
              "outlinewidth": 0,
              "ticks": ""
             }
            },
            "type": "scatterpolargl"
           }
          ],
          "scatterternary": [
           {
            "marker": {
             "colorbar": {
              "outlinewidth": 0,
              "ticks": ""
             }
            },
            "type": "scatterternary"
           }
          ],
          "surface": [
           {
            "colorbar": {
             "outlinewidth": 0,
             "ticks": ""
            },
            "colorscale": [
             [
              0,
              "#0d0887"
             ],
             [
              0.1111111111111111,
              "#46039f"
             ],
             [
              0.2222222222222222,
              "#7201a8"
             ],
             [
              0.3333333333333333,
              "#9c179e"
             ],
             [
              0.4444444444444444,
              "#bd3786"
             ],
             [
              0.5555555555555556,
              "#d8576b"
             ],
             [
              0.6666666666666666,
              "#ed7953"
             ],
             [
              0.7777777777777778,
              "#fb9f3a"
             ],
             [
              0.8888888888888888,
              "#fdca26"
             ],
             [
              1,
              "#f0f921"
             ]
            ],
            "type": "surface"
           }
          ],
          "table": [
           {
            "cells": {
             "fill": {
              "color": "#EBF0F8"
             },
             "line": {
              "color": "white"
             }
            },
            "header": {
             "fill": {
              "color": "#C8D4E3"
             },
             "line": {
              "color": "white"
             }
            },
            "type": "table"
           }
          ]
         },
         "layout": {
          "annotationdefaults": {
           "arrowcolor": "#2a3f5f",
           "arrowhead": 0,
           "arrowwidth": 1
          },
          "autotypenumbers": "strict",
          "coloraxis": {
           "colorbar": {
            "outlinewidth": 0,
            "ticks": ""
           }
          },
          "colorscale": {
           "diverging": [
            [
             0,
             "#8e0152"
            ],
            [
             0.1,
             "#c51b7d"
            ],
            [
             0.2,
             "#de77ae"
            ],
            [
             0.3,
             "#f1b6da"
            ],
            [
             0.4,
             "#fde0ef"
            ],
            [
             0.5,
             "#f7f7f7"
            ],
            [
             0.6,
             "#e6f5d0"
            ],
            [
             0.7,
             "#b8e186"
            ],
            [
             0.8,
             "#7fbc41"
            ],
            [
             0.9,
             "#4d9221"
            ],
            [
             1,
             "#276419"
            ]
           ],
           "sequential": [
            [
             0,
             "#0d0887"
            ],
            [
             0.1111111111111111,
             "#46039f"
            ],
            [
             0.2222222222222222,
             "#7201a8"
            ],
            [
             0.3333333333333333,
             "#9c179e"
            ],
            [
             0.4444444444444444,
             "#bd3786"
            ],
            [
             0.5555555555555556,
             "#d8576b"
            ],
            [
             0.6666666666666666,
             "#ed7953"
            ],
            [
             0.7777777777777778,
             "#fb9f3a"
            ],
            [
             0.8888888888888888,
             "#fdca26"
            ],
            [
             1,
             "#f0f921"
            ]
           ],
           "sequentialminus": [
            [
             0,
             "#0d0887"
            ],
            [
             0.1111111111111111,
             "#46039f"
            ],
            [
             0.2222222222222222,
             "#7201a8"
            ],
            [
             0.3333333333333333,
             "#9c179e"
            ],
            [
             0.4444444444444444,
             "#bd3786"
            ],
            [
             0.5555555555555556,
             "#d8576b"
            ],
            [
             0.6666666666666666,
             "#ed7953"
            ],
            [
             0.7777777777777778,
             "#fb9f3a"
            ],
            [
             0.8888888888888888,
             "#fdca26"
            ],
            [
             1,
             "#f0f921"
            ]
           ]
          },
          "colorway": [
           "#636efa",
           "#EF553B",
           "#00cc96",
           "#ab63fa",
           "#FFA15A",
           "#19d3f3",
           "#FF6692",
           "#B6E880",
           "#FF97FF",
           "#FECB52"
          ],
          "font": {
           "color": "#2a3f5f"
          },
          "geo": {
           "bgcolor": "white",
           "lakecolor": "white",
           "landcolor": "#E5ECF6",
           "showlakes": true,
           "showland": true,
           "subunitcolor": "white"
          },
          "hoverlabel": {
           "align": "left"
          },
          "hovermode": "closest",
          "mapbox": {
           "style": "light"
          },
          "paper_bgcolor": "white",
          "plot_bgcolor": "#E5ECF6",
          "polar": {
           "angularaxis": {
            "gridcolor": "white",
            "linecolor": "white",
            "ticks": ""
           },
           "bgcolor": "#E5ECF6",
           "radialaxis": {
            "gridcolor": "white",
            "linecolor": "white",
            "ticks": ""
           }
          },
          "scene": {
           "xaxis": {
            "backgroundcolor": "#E5ECF6",
            "gridcolor": "white",
            "gridwidth": 2,
            "linecolor": "white",
            "showbackground": true,
            "ticks": "",
            "zerolinecolor": "white"
           },
           "yaxis": {
            "backgroundcolor": "#E5ECF6",
            "gridcolor": "white",
            "gridwidth": 2,
            "linecolor": "white",
            "showbackground": true,
            "ticks": "",
            "zerolinecolor": "white"
           },
           "zaxis": {
            "backgroundcolor": "#E5ECF6",
            "gridcolor": "white",
            "gridwidth": 2,
            "linecolor": "white",
            "showbackground": true,
            "ticks": "",
            "zerolinecolor": "white"
           }
          },
          "shapedefaults": {
           "line": {
            "color": "#2a3f5f"
           }
          },
          "ternary": {
           "aaxis": {
            "gridcolor": "white",
            "linecolor": "white",
            "ticks": ""
           },
           "baxis": {
            "gridcolor": "white",
            "linecolor": "white",
            "ticks": ""
           },
           "bgcolor": "#E5ECF6",
           "caxis": {
            "gridcolor": "white",
            "linecolor": "white",
            "ticks": ""
           }
          },
          "title": {
           "x": 0.05
          },
          "xaxis": {
           "automargin": true,
           "gridcolor": "white",
           "linecolor": "white",
           "ticks": "",
           "title": {
            "standoff": 15
           },
           "zerolinecolor": "white",
           "zerolinewidth": 2
          },
          "yaxis": {
           "automargin": true,
           "gridcolor": "white",
           "linecolor": "white",
           "ticks": "",
           "title": {
            "standoff": 15
           },
           "zerolinecolor": "white",
           "zerolinewidth": 2
          }
         }
        },
        "title": {
         "text": "Time taken per PRIMMDebug stage (skewness=9.75, kurtosis=147.64, std=109.01)"
        },
        "xaxis": {
         "anchor": "y",
         "domain": [
          0,
          1
         ],
         "title": {
          "text": "Time taken (seconds)"
         }
        },
        "xaxis2": {
         "anchor": "y2",
         "domain": [
          0,
          1
         ],
         "matches": "x",
         "showgrid": true,
         "showticklabels": false
        },
        "yaxis": {
         "anchor": "x",
         "domain": [
          0,
          0.7326
         ],
         "title": {
          "text": "count"
         }
        },
        "yaxis2": {
         "anchor": "x2",
         "domain": [
          0.7426,
          1
         ],
         "matches": "y2",
         "showgrid": false,
         "showline": false,
         "showticklabels": false,
         "ticks": ""
        }
       }
      }
     },
     "metadata": {},
     "output_type": "display_data"
    }
   ],
   "source": [
    "#Time taken per PRIMMDebug challenge attempt\n",
    "time_per_challenge_attempt: list[float] = [ExerciseLogProcessor.get_time_on_exercise(exercise) for exercise in EXERCISE_LOGS if hasattr(exercise,\"end_time\")]\n",
    "\n",
    "skewness = stats.skew(time_per_challenge_attempt, nan_policy='omit')\n",
    "kurtosis = stats.kurtosis(time_per_challenge_attempt, nan_policy='omit')\n",
    "sd = np.nanstd(time_per_challenge_attempt)\n",
    "\n",
    "px.histogram(\n",
    "    time_per_challenge_attempt, marginal=\"box\",\n",
    "    labels={\"value\": \"Time taken (seconds)\", \"count\": \"Count\"},\n",
    "    title=f\"Time taken per PRIMMDebug challenge (skewness={skewness:.2f}, kurtosis={kurtosis:.2f}, std={sd:.2f})\"\n",
    ").show()\n",
    "\n",
    "#Time series for time per PRIMMDebug challenge attempt\n",
    "median_time_per_challenge_per_session: dict[int, float] = {}\n",
    "for session_id, logs in EXERCISE_LOGS_PER_SESSION.items():\n",
    "    median_time_per_challenge = median([ExerciseLogProcessor.get_time_on_exercise(log) for log in logs if hasattr(log, \"end_time\")])\n",
    "    median_time_per_challenge_per_session[session_id] = median_time_per_challenge\n",
    "\n",
    "median_time_per_challenge_per_session = dict(sorted(median_time_per_challenge_per_session.items()))\n",
    "px.line(\n",
    "    x=median_time_per_challenge_per_session.keys(),\n",
    "    y=median_time_per_challenge_per_session.values(),\n",
    "    labels={\"x\": \"Session\", \"y\": \"Median time (seconds)\"},\n",
    "    title=\"Median time spent on each PRIMMDebug challenge per session\"\n",
    ").show()\n",
    "\n",
    "#Time taken per stage log\n",
    "time_per_stage: list[float] = [StageLogProcessor.get_time_on_stage(stage) for stage in STAGE_LOGS if StageLogProcessor.get_time_on_stage(stage) is not None]\n",
    "skewness_stage = stats.skew(time_per_stage, nan_policy='omit')\n",
    "kurtosis_stage = stats.kurtosis(time_per_stage, nan_policy='omit')\n",
    "std_stage = np.nanstd(time_per_stage)\n",
    "\n",
    "px.histogram(\n",
    "    time_per_stage,\n",
    "    marginal=\"box\",\n",
    "    labels={\"value\": \"Time taken (seconds)\", \"count\": \"Count\"},\n",
    "    title=f\"Time taken per PRIMMDebug stage (skewness={skewness_stage:.2f}, kurtosis={kurtosis_stage:.2f}, std={std_stage:.2f})\"\n",
    ").show()"
   ]
  },
  {
   "cell_type": "markdown",
   "metadata": {},
   "source": [
    "#### Time taken per PRIMMDebug stage\n",
    "This contains more of the interesting data relating to each stage of the PRIMMDebug process, including:\n",
    "- Time taken per PRIMMDebug stage\n",
    "  - As a histogram\n",
    "  - As a bar chart\n",
    "- How this varies over number of sessions"
   ]
  },
  {
   "cell_type": "code",
   "execution_count": 5,
   "metadata": {},
   "outputs": [
    {
     "data": {
      "application/vnd.plotly.v1+json": {
       "config": {
        "plotlyServerURL": "https://plot.ly"
       },
       "data": [
        {
         "bingroup": "x",
         "hovertemplate": "stage=predict<br>time=%{x}<br>count=%{y}<extra></extra>",
         "legendgroup": "predict",
         "marker": {
          "color": "#636efa",
          "pattern": {
           "shape": ""
          }
         },
         "name": "predict",
         "nbinsx": 50,
         "orientation": "v",
         "showlegend": true,
         "type": "histogram",
         "x": {
          "bdata": "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",
          "dtype": "f8"
         },
         "xaxis": "x",
         "yaxis": "y"
        },
        {
         "hovertemplate": "stage=predict<br>time=%{x}<extra></extra>",
         "legendgroup": "predict",
         "marker": {
          "color": "#636efa"
         },
         "name": "predict",
         "notched": true,
         "showlegend": false,
         "type": "box",
         "x": {
          "bdata": "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",
          "dtype": "f8"
         },
         "xaxis": "x2",
         "yaxis": "y2"
        },
        {
         "bingroup": "x",
         "hovertemplate": "stage=run<br>time=%{x}<br>count=%{y}<extra></extra>",
         "legendgroup": "run",
         "marker": {
          "color": "#EF553B",
          "pattern": {
           "shape": ""
          }
         },
         "name": "run",
         "nbinsx": 50,
         "orientation": "v",
         "showlegend": true,
         "type": "histogram",
         "x": {
          "bdata": "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",
          "dtype": "f8"
         },
         "xaxis": "x",
         "yaxis": "y"
        },
        {
         "hovertemplate": "stage=run<br>time=%{x}<extra></extra>",
         "legendgroup": "run",
         "marker": {
          "color": "#EF553B"
         },
         "name": "run",
         "notched": true,
         "showlegend": false,
         "type": "box",
         "x": {
          "bdata": "ObTIdr6fIkBU46WbxOAnQCUGgZVDazdAoBov3SSGHEBqvHSTGAQXQN9PjZduEghAGy/dJAaBEkAAAAAAAAAFQPhT46WbxAhAWDm0yHa+FEBcj8L1KNwZQC2yne+npjlAXI/C9Sg8NkAbL90kBsEkQPp+arx08zpAppvEILByFUDByqFFtvMwQPCnxks3ifs/VOOlm8QgAUBEi2zn+ykqQKwcWmQ7XzVA4XoUrkfJU0C28/3UeCkmQOf7qfHS/UVAUrgeheshQ0AzMzMzMzMWQH9qvHSTGBlA6SYxCKycG0Dn+6nx0k36P/yp8dJNYvw/PzVeukkMC0AxCKwcWqQiQOf7qfHSTSxAvHSTGASWLUC6SQwCKwcTQPYoXI/C9QFA/tR46SZxKED+1HjpJnEqQFYOLbKd7xBAUrgehetRE0DFILByaJERQHnpJjEIrAxAhxbZzvfTI0ASg8DKoUUqQArXo3A9CiFAi2zn+6nxBkBoke18PzUKQMl2vp8aLwNAO99PjZfuH0CBlUOLbGcQQNnO91PjJSRArBxaZDvfBkBYObTIdr4BQLpJDAIrJzBAUrgehesRM0DXo3A9CpckQCcxCKwc2hVAEoPAyqEFIUCgGi/dJAYjQCGwcmiR7SBA8tJNYhBYE0Cmm8QgsDIxQO58PzVeuhFAAiuHFtkOIUBoke18PzX2P0oMAiuHFvc/30+Nl24S8T9oke18P/UjQFpkO99PTTVA6SYxCKycLUCamZmZmRkfQIlBYOXQohhAUrgehetRH0Dwp8ZLN0kpQClcj8L1KCpAiUFg5dAi9T+WQ4ts5/sKQH9qvHSTGBpARrbz/dRYMUAOLbKd76cSQEjhehSuRxBA4XoUrkfhDUCWQ4ts5/sHQPhT46WbxA9A/tR46SaxG0Cmm8QgsPIUQOkmMQisnCJA3SQGgZUDIUCamZmZmRkYQO58PzVeuh5AwcqhRbazKEBU46WbxOAlQI/C9ShcjwlAppvEILByHUBYObTIdr4SQEJg5dAiWydAN4lBYOWQIEBiEFg5tMgAQDEIrBxa5CFA7FG4HoVrJ0BI4XoUrscTQMl2vp8aryRAi2zn+6nxJECDwMqhRXYnQPp+arx0UyFA6SYxCKycH0CJQWDl0CL/P30/NV66SQhAhxbZzvcTIUAEVg4tsp0mQEw3iUFgJSRAJzEIrBwaMEBiEFg5tIg6QEa28/3U2DBAvHSTGAQWLkCsHFpkOx8oQCPb+X5qPBBADAIrhxZZFkBg5dAi2/kuQBsv3SQGoT1AhxbZzveTNUBI4XoUrocwQArXo3A9ChlAmG4Sg8DKFkDb+X5qvHQBQNv5fmq8dA9AGy/dJAZBIED2KFyPwvUVQARWDi2ynQhA5dAi2/l+LEC8dJMYBNYbQNv5fmq89BBAmG4Sg8DKCkACK4cW2U4SQPT91Hjp5iFAhetRuB6FFkCHFtnO91MOQNEi2/l+aiJA+n5qvHSTCkDRItv5fuoQQJhuEoPASiNA5/up8dJN8j/dJAaBlUMfQEw3iUFg5fY/ke18PzVeG0CLbOf7qXEVQMUgsHJokQ5AbxKDwMpRS0A/NV66SVxDQM/3U+OlWz5AEFg5tMj2J0AGgZVDi2wcQIlBYOXQwjBAAAAAAACgNUCsHFpkO18RQJZDi2zn+wdAF9nO91PjAUDLoUW28/0XQJzEILBy6BRAXrpJDAJrJ0D0/dR46SYOQPT91HjpphNAXI/C9ShcFkC8dJMYBFYaQNejcD0K1w5A4XoUrkfh8D9mZmZmZuYYQHWTGARWDhFAc2iR7Xy/LkB3vp8aL10iQFpkO99PZVFAGQRWDi1SPEB3vp8aL701QG8Sg8DKoT5ASgwCK4eWIkCBlUOLbGcgQNNNYhBYuRpAObTIdr6fGkBQjZduEoMQQIGVQ4ts5xFAsp3vp8arNkBYObTIdh4yQKRwPQrXowlAPQrXo3C9GEAZBFYOLTISQOxRuB6FqyVAeekmMQgsLkB/arx0kxgaQCuHFtnO9wpAKVyPwvUoH0C8dJMYBNYvQBsv3SQGQSJA5/up8dJNGUDXo3A9CtcKQOkmMQisHARAsHJoke08KkCR7Xw/NV4VQOkmMQisHBVAZmZmZmYab0DXo3A9Cr93QEw3iUFg5fI//Knx0k0CQECHFtnO91MJQMHKoUW28whA5dAi2/l+BUASg8DKoUUBQGDl0CLbWURAj8L1KFyPAkAhsHJokS0jQI/C9ShcjwRAYOXQItv5+D+wcmiR7XwbQO58PzVeOhdAnu+nxks3H0DLoUW2890zQHnpJjEIrBZADAIrhxbZG0DTTWIQWDkJQJhuEoPAygZA0SLb+X5qCUAbL90kBoEXQK5H4XoULiNA9ihcj8K1I0AK16NwPQoDQMuhRbbz/fQ/1XjpJjGIHEDP91PjpdsiQLgehetReCRA7FG4HoWrIkAzMzMzM3MhQI2XbhKDYDFAwcqhRbZTMEBQjZduEkMvQOf7qfHSzSVAppvEILByIEBcj8L1KFwGQKwcWmQ73/c/arx0kxiEE0DhehSuR+ENQMuhRbbz/RxAO99PjZduFECcxCCwcugZQJMYBFYOrRNACtejcD2KIUBI4XoUrqdVQCuHFtnOdzVAWmQ730+N8z8zMzMzMzP5P76fGi/dpCpASgwCK4dWKECuR+F6FO4iQNejcD0KVxpADi2yne+nE0AxCKwcWmQhQNv5fmq89BpA8tJNYhAYJUAIrBxaZDv9PzeJQWDl0B5AcT0K16NwREDl0CLb+X4QQESLbOf76SpAi2zn+6mxKEAQWDm0yHb6P+kmMQisHCRAqvHSTWKQKEAlBoGVQ4sNQGDl0CLb+QdAaJHtfD81B0AGgZVDi2waQFYOLbKd7xhAaJHtfD+1GEDLoUW28z0kQDeJQWDl0DJARrbz/dQYQUACK4cW2c4HQJHtfD81Hj5AZmZmZmamT0AnMQisHNohQNV46SYxiCpAGy/dJAaBB0DhehSuR5FAQG8Sg8DK4SFACtejcD0KG0DRItv5fuoVQB1aZDvfTw1AzczMzMxMFEBMN4lBYOX0P9nO91Pjpfc/FK5H4XoU8j/hehSuR4E5QGq8dJMYRCZARrbz/dT4EEDy0k1iEFglQE5iEFg5tAtAqMZLN4nBEkDZzvdT46X3P3sUrkfhejlA8tJNYhCYLEBWDi2yne/xP1CNl24Sg/g/NV66SQwCDUCWQ4ts5/sPQEJg5dAiGy1AZmZmZmbmHkBvEoPAymEhQDm0yHa+nxhAkxgEVg4tJkC+nxov3SQrQMUgsHJoESlAO99PjZeuIkDD9Shcj8L5PwrXo3A9ii5AdZMYBFZuM0BvEoPAyqH5Pxsv3SQGgRlAGy/dJAaB4T8hsHJoke0LQK5H4XoULiNAw/UoXI9CLUD+1HjpJjH4P30/NV66SQBAWDm0yHb+IECmm8QgsHIgQFpkO99PjRpADAIrhxYZJEC6SQwCK4cKQM3MzMzMzA5AHVpkO98PIUD4U+OlmwQkQEa28/3UeAZAvp8aL90kBEApXI/C9SgFQGDl0CLb+QtAsHJoke18BEBzaJHtfD8CQKrx0k1iEPg/g8DKoUW26z/dJAaBlcMaQHe+nxovXSNA5dAi2/l+G0BeukkMAisLQJHtfD81XgFAcT0K16PAU0AnMQisHMpKQGiR7Xw/tRlAuB6F61E4HkC28/3UeOnyP30/NV66SQ1AK4cW2c53FUDJdr6fGi8sQFCNl24SQyxAUrgehevRGkBKDAIrhxYJQD81XrpJDAdA5dAi2/l+/D8X2c73U+P7P76fGi/dJPw/nu+nxks39z+DwMqhRbYbQHsUrkfh+hdAw/UoXI9CE0B9PzVeuskbQJqZmZmZmQJArkfhehSuFUCBlUOLbGcaQO58PzVeuhBAGQRWDi0yF0DJdr6fGg8wQB+F61G43i1Ai2zn+6lxEkDByqFFtvMdQB1aZDvfT/c/cT0K16NwDUBQjZduEoMSQAIrhxbZzgdAjZduEoOgOkCwcmiR7fwpQKrx0k1iEABAXrpJDAIrBUBGtvP91PgQQFpkO99PTV5A+n5qvHQTE0D0/dR46SYFQNEi2/l+ahFAukkMAisHLkBCYOXQIhsjQPp+arx0EzhADAIrhxYZKkB9PzVeukn0P90kBoGVQwBADi2yne+n9j9g5dAi23kSQJhuEoPAyglAH4XrUbieE0BOYhBYOfQhQDMzMzMz8yZAg8DKoUW2JUAj2/l+ajwVQF66SQwCKw5AxSCwcmgRKkCkcD0K12MqQFpkO99PDSZAj8L1KFyP9D9mZmZmZmYDQClcj8L1KAJAexSuR+H6KECgGi/dJIYhQEoMAiuHFvU/gZVDi2znKEDFILByaFE1QJZDi2znezZAhetRuB5FLEAGgZVDi+wuQIXrUbgeBTNAzczMzMzsRUBg5dAi27k9QAaBlUOLLCFAAAAAAACAE0BEi2zn+6kDQNV46SYxCARAH4XrUbge+z+Nl24Sg8D2P9ejcD0K1/c/5/up8dJNAUDHSzeJQWACQPCnxks3CSVAL90kBoGVIEDP91PjpXtHQGq8dJMY9ENAK4cW2c73D0ASg8DKoUX2P8UgsHJo0TdAj8L1KFzPK0AK16NwPQotQJhuEoPAyhNAWDm0yHa+C0ASg8DKoUX6PxBYObTIdgtAg8DKoUW2CEAX2c73U+MCQFCNl24SgyVAukkMAiunS0DRItv5fmoWQBsv3SQGgf0/EoPAyqFF/j9I4XoUrkcaQMUgsHJoERdArBxaZDvfFEA/NV66SXRQQBKDwMqhfVFAvp8aL92kH0DLoUW2870iQFyPwvUofDBALbKd76fGLkAtsp3vp8YxQFCNl24Sg/Q/sHJoke188T/+1HjpJjEWQHe+nxovXRJAYOXQItv5D0BQjZduEsMoQAaBlUOL7CRA0SLb+X4qIkDy0k1iEFgXQH0/NV66SSVARrbz/dR4MEAlBoGVQwsmQPhT46WbhDdAWDm0yHa+EkB7FK5H4TohQOF6FK5HoS1AL90kBoEVLUC28/3UeMk7QBkEVg4tMjdAEFg5tMh2JEBSuB6F61ELQBsv3SQGgQlA46WbxCDwJ0ASg8DKoYUoQMl2vp8aLw9AYhBYObTIGECgGi/dJAYlQL6fGi/dJB1ABoGVQ4tsD0D2KFyPwvUUQLByaJHtfAhAWDm0yHa+8T8CK4cW2c79P23n+6nx0vU/x0s3iUFg8T+R7Xw/NeZQQK5H4XoUrjtAppvEILByKkDdJAaBlcMcQAwCK4cW2R1AL90kBoE1N0AK16NwPQohQIGVQ4ts5xZAoBov3SQGFEBkO99PjZcLQGZmZmZmZghAZDvfT42XC0BkO99PjdchQD0K16NwPR1AzczMzMzMIUBU46WbxKAQQFK4HoXrUQtArkfhehQuEkBt5/up8dIbQFYOLbKd7ydAukkMAiuHIUDD9Shcj4pSQI/C9ShcLzpAQmDl0CLbB0CcxCCwcugmQMuhRbbz/RNA8tJNYhBYIECcxCCwcmgPQFTjpZvEoCBA9ihcj8J1HUD8qfHSTeIYQBkEVg4tMjFA1XjpJjGIPECBlUOLbOf1P/p+arx0k/Q/tMh2vp/6SUBkO99PjfczQNNNYhBYOfY/CKwcWmQ7AkCWQ4ts53sdQM/3U+Olm+g/FK5H4XoU7j8v3SQGgZX3P3e+nxovXRFACKwcWmQ7AUBOYhBYObQgQMuhRbbz/SRAqvHSTWIQD0AlBoGVQwsTQAwCK4cW2QtA+n5qvHSTDUA5tMh2vl8sQOf7qfHSLTdA/Knx0k3iHkD0/dR46eYyQLpJDAIrhwZAK4cW2c73BUB9PzVeukkOQKJFtvP91PI/XI/C9SjcF0Dy0k1iEJghQOkmMQisnB5AK4cW2c63IUDb+X5qvDQnQOXQItv5vi5Ay6FFtvP9GkCq8dJNYvA8QBkEVg4tUjdAtvP91HjpGkDufD81XvooQC2yne+nRiJAqvHSTWIQHUAfhetRuF4qQAIrhxbZzidAoBov3SSGMkApXI/C9Sj4Pw4tsp3vpwBAAAAAAAAAGUC8dJMYBBYiQMuhRbbzvSJAEFg5tMj2HUBGtvP91HggQKwcWmQ73wpAJQaBlUOLHkBI4XoUrkf3PyuHFtnO9/M/KVyPwvUoNkBOYhBYOQREQEJg5dAiuzlA7nw/NV66B0D4U+Olm8QTQAwCK4cWWSFAy6FFtvN9KEC8dJMYBFYUQH9qvHSTmBdAEoPAyqHFHkB1kxgEVg4BQO58PzVeeitAZDvfT40XLUDXo3A9CtcIQAwCK4cW2RRAwcqhRbazJUDHSzeJQeAoQEa28/3USnBAexSuR+H4dEAK16NwPQr3P4/C9Shcj/o/2/l+arx0JkAX2c73U8MyQFpkO99PjQZAke18PzVeI0BeukkMAislQD0K16NwvTFA8KfGSzeJK0CamZmZmRkaQBSuR+F6lBVA8KfGSzcJHEAtsp3vpwYkQDeJQWDl0ApALbKd76fG8z+BlUOLbOcJQOOlm8QgsPo/Gy/dJAaBAkAK16NwPQoRQNejcD0K1xJAsHJoke18GkACK4cW2U4QQLKd76fGSwhAVOOlm8SgEUCJQWDl0CIWQEjhehSuxxBA5dAi2/l+D0BQjZduEoMFQNv5fmq89B5AYOXQItv5GUDsUbgehSsiQFg5tMh23jlAhetRuB4lMEBYObTIdr4PQKjGSzeJASpAi2zn+6lxIkCgGi/dJAYCQCPb+X5qvAVA+FPjpZtEHEDHSzeJQaAlQOxRuB6FaxVABFYOLbKdAECyne+nxgsjQLKd76fGyyNAZmZmZmZmFUDpJjEIrJweQJhuEoPAyuk/oBov3SQGLUC+nxov3eQ6QDEIrBxa5CBAUI2XbhIDGUC4HoXrUbghQEw3iUFgZRpA5/up8dKdckAOLbKd76cXQDMzMzMz0YRAI9v5fmrQdkAEVg4tsp3vP0oMAiuHFhdA16NwPQrXCED+1HjpJlE8QMdLN4lBYCpARIts5/upGkDy0k1iENgnQFK4HoXr0SpAPzVeukmMEEAQWDm0yHYJQMuhRbbzvSBAaJHtfD81IUBSuB6F61ECQO58PzVeuhxAeekmMQgsKkBGtvP91Hj9PzvfT42XbgFAi2zn+6mxIkApXI/C9egzQAAAAAAAAApAz/dT46WbCkBzaJHtfH8hQOOlm8QgsAtAYOXQItv5H0Dy0k1iEFgOQO58PzVeOh9AL90kBoGVKUD2KFyPwvUVQHsUrkfheh1AppvEILByB0BkO99PjZcHQI/C9ShcjwJAXrpJDALrLkBU46WbxKAsQKJFtvP91AVADAIrhxbZBkBmZmZmZmYPQPCnxks3iQJAnu+nxks3+z9iEFg5tEgmQMUgsHJokSBABoGVQ4tsDUB56SYxCKwQQNv5fmq89B9AyXa+nxovD0D6fmq8dNMkQFYOLbKdbx5Abef7qfHS+T+JQWDl0CIXQDvfT42XbhlARrbz/dT4FEBt5/up8VIQQBkEVg4t8i5AeekmMQhMOUDufD81XroBQPCnxks3ifc/WmQ7308NKECLbOf7qfEEQCcxCKwcmiRAi2zn+6kRPkBYObTIdr4SQB1aZDvfTx9Ac2iR7Xz/IkCPwvUoXI/yPwAAAAAAAAVAppvEILDyHkCPwvUoXI8kQM/3U+OlOzFA9P3UeOkmMEB/arx0k/gxQH9qvHSTWCtAhxbZzvdT/T+PwvUoXA8eQB+F61G43ipAvp8aL90k/j9t5/up8dIDQB+F61G4XiRArkfhehSuHEA=",
          "dtype": "f8"
         },
         "xaxis": "x2",
         "yaxis": "y2"
        },
        {
         "bingroup": "x",
         "hovertemplate": "stage=spot_the_defect<br>time=%{x}<br>count=%{y}<extra></extra>",
         "legendgroup": "spot_the_defect",
         "marker": {
          "color": "#00cc96",
          "pattern": {
           "shape": ""
          }
         },
         "name": "spot_the_defect",
         "nbinsx": 50,
         "orientation": "v",
         "showlegend": true,
         "type": "histogram",
         "x": {
          "bdata": "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",
          "dtype": "f8"
         },
         "xaxis": "x",
         "yaxis": "y"
        },
        {
         "hovertemplate": "stage=spot_the_defect<br>time=%{x}<extra></extra>",
         "legendgroup": "spot_the_defect",
         "marker": {
          "color": "#00cc96"
         },
         "name": "spot_the_defect",
         "notched": true,
         "showlegend": false,
         "type": "box",
         "x": {
          "bdata": "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",
          "dtype": "f8"
         },
         "xaxis": "x2",
         "yaxis": "y2"
        },
        {
         "bingroup": "x",
         "hovertemplate": "stage=inspect_the_code<br>time=%{x}<br>count=%{y}<extra></extra>",
         "legendgroup": "inspect_the_code",
         "marker": {
          "color": "#ab63fa",
          "pattern": {
           "shape": ""
          }
         },
         "name": "inspect_the_code",
         "nbinsx": 50,
         "orientation": "v",
         "showlegend": true,
         "type": "histogram",
         "x": {
          "bdata": "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",
          "dtype": "f8"
         },
         "xaxis": "x",
         "yaxis": "y"
        },
        {
         "hovertemplate": "stage=inspect_the_code<br>time=%{x}<extra></extra>",
         "legendgroup": "inspect_the_code",
         "marker": {
          "color": "#ab63fa"
         },
         "name": "inspect_the_code",
         "notched": true,
         "showlegend": false,
         "type": "box",
         "x": {
          "bdata": "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",
          "dtype": "f8"
         },
         "xaxis": "x2",
         "yaxis": "y2"
        },
        {
         "bingroup": "x",
         "hovertemplate": "stage=find_the_error<br>time=%{x}<br>count=%{y}<extra></extra>",
         "legendgroup": "find_the_error",
         "marker": {
          "color": "#FFA15A",
          "pattern": {
           "shape": ""
          }
         },
         "name": "find_the_error",
         "nbinsx": 50,
         "orientation": "v",
         "showlegend": true,
         "type": "histogram",
         "x": {
          "bdata": "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",
          "dtype": "f8"
         },
         "xaxis": "x",
         "yaxis": "y"
        },
        {
         "hovertemplate": "stage=find_the_error<br>time=%{x}<extra></extra>",
         "legendgroup": "find_the_error",
         "marker": {
          "color": "#FFA15A"
         },
         "name": "find_the_error",
         "notched": true,
         "showlegend": false,
         "type": "box",
         "x": {
          "bdata": "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",
          "dtype": "f8"
         },
         "xaxis": "x2",
         "yaxis": "y2"
        },
        {
         "bingroup": "x",
         "hovertemplate": "stage=fix_the_error<br>time=%{x}<br>count=%{y}<extra></extra>",
         "legendgroup": "fix_the_error",
         "marker": {
          "color": "#19d3f3",
          "pattern": {
           "shape": ""
          }
         },
         "name": "fix_the_error",
         "nbinsx": 50,
         "orientation": "v",
         "showlegend": true,
         "type": "histogram",
         "x": {
          "bdata": "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",
          "dtype": "f8"
         },
         "xaxis": "x",
         "yaxis": "y"
        },
        {
         "hovertemplate": "stage=fix_the_error<br>time=%{x}<extra></extra>",
         "legendgroup": "fix_the_error",
         "marker": {
          "color": "#19d3f3"
         },
         "name": "fix_the_error",
         "notched": true,
         "showlegend": false,
         "type": "box",
         "x": {
          "bdata": "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",
          "dtype": "f8"
         },
         "xaxis": "x2",
         "yaxis": "y2"
        },
        {
         "bingroup": "x",
         "hovertemplate": "stage=test<br>time=%{x}<br>count=%{y}<extra></extra>",
         "legendgroup": "test",
         "marker": {
          "color": "#FF6692",
          "pattern": {
           "shape": ""
          }
         },
         "name": "test",
         "nbinsx": 50,
         "orientation": "v",
         "showlegend": true,
         "type": "histogram",
         "x": {
          "bdata": "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",
          "dtype": "f8"
         },
         "xaxis": "x",
         "yaxis": "y"
        },
        {
         "hovertemplate": "stage=test<br>time=%{x}<extra></extra>",
         "legendgroup": "test",
         "marker": {
          "color": "#FF6692"
         },
         "name": "test",
         "notched": true,
         "showlegend": false,
         "type": "box",
         "x": {
          "bdata": "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",
          "dtype": "f8"
         },
         "xaxis": "x2",
         "yaxis": "y2"
        },
        {
         "bingroup": "x",
         "hovertemplate": "stage=modify<br>time=%{x}<br>count=%{y}<extra></extra>",
         "legendgroup": "modify",
         "marker": {
          "color": "#B6E880",
          "pattern": {
           "shape": ""
          }
         },
         "name": "modify",
         "nbinsx": 50,
         "orientation": "v",
         "showlegend": true,
         "type": "histogram",
         "x": {
          "bdata": "GQRWDi0yH0BCYOXQItstQB+F61G4KmlA3SQGgZVDBkC+nxov3SQ7QIcW2c73EzBA3SQGgZUjZUBI4XoUrkctQClcj8L1KBBAsp3vp8b/YkAfhetRuM5YQHe+nxovPT9AZmZmZmZmFkAQWDm0yHYgQNnO91Pj5UdAXI/C9ShcE0C0yHa+n45hQGq8dJMYhBRAqvHSTWKQQUDdJAaBle9lQL6fGi/dpEpAsHJoke0cMUCPwvUoXI8SQPT91HjpJgFAAiuHFtnOS0CsHFpkO98FQI/C9ShcD1RAnMQgsHLoR0AEVg4tsp0jQCcxCKwcGi1AF9nO91PjEUBcj8L1KFwbQNv5fmq8mYRAWmQ730+lUECJQWDl0CIOQNV46SYxYFFAiUFg5dAiK0CsHFpkO98RQBkEVg4tsitAPQrXo3B9J0DTTWIQWLkeQKjGSzeJQQBAJQaBlUPLWEBGtvP91LhqQI2XbhKDkEZATDeJQWCFY0BiEFg5tAgmQNnO91PjpRpAxSCwcmiRRkAX2c73U5NHQOXQItv5dnNAd76fGi/dDEA9CtejcD0eQA==",
          "dtype": "f8"
         },
         "xaxis": "x",
         "yaxis": "y"
        },
        {
         "hovertemplate": "stage=modify<br>time=%{x}<extra></extra>",
         "legendgroup": "modify",
         "marker": {
          "color": "#B6E880"
         },
         "name": "modify",
         "notched": true,
         "showlegend": false,
         "type": "box",
         "x": {
          "bdata": "GQRWDi0yH0BCYOXQItstQB+F61G4KmlA3SQGgZVDBkC+nxov3SQ7QIcW2c73EzBA3SQGgZUjZUBI4XoUrkctQClcj8L1KBBAsp3vp8b/YkAfhetRuM5YQHe+nxovPT9AZmZmZmZmFkAQWDm0yHYgQNnO91Pj5UdAXI/C9ShcE0C0yHa+n45hQGq8dJMYhBRAqvHSTWKQQUDdJAaBle9lQL6fGi/dpEpAsHJoke0cMUCPwvUoXI8SQPT91HjpJgFAAiuHFtnOS0CsHFpkO98FQI/C9ShcD1RAnMQgsHLoR0AEVg4tsp0jQCcxCKwcGi1AF9nO91PjEUBcj8L1KFwbQNv5fmq8mYRAWmQ730+lUECJQWDl0CIOQNV46SYxYFFAiUFg5dAiK0CsHFpkO98RQBkEVg4tsitAPQrXo3B9J0DTTWIQWLkeQKjGSzeJQQBAJQaBlUPLWEBGtvP91LhqQI2XbhKDkEZATDeJQWCFY0BiEFg5tAgmQNnO91PjpRpAxSCwcmiRRkAX2c73U5NHQOXQItv5dnNAd76fGi/dDEA9CtejcD0eQA==",
          "dtype": "f8"
         },
         "xaxis": "x2",
         "yaxis": "y2"
        }
       ],
       "layout": {
        "barmode": "relative",
        "legend": {
         "title": {
          "text": "stage"
         },
         "tracegroupgap": 0
        },
        "template": {
         "data": {
          "bar": [
           {
            "error_x": {
             "color": "#2a3f5f"
            },
            "error_y": {
             "color": "#2a3f5f"
            },
            "marker": {
             "line": {
              "color": "#E5ECF6",
              "width": 0.5
             },
             "pattern": {
              "fillmode": "overlay",
              "size": 10,
              "solidity": 0.2
             }
            },
            "type": "bar"
           }
          ],
          "barpolar": [
           {
            "marker": {
             "line": {
              "color": "#E5ECF6",
              "width": 0.5
             },
             "pattern": {
              "fillmode": "overlay",
              "size": 10,
              "solidity": 0.2
             }
            },
            "type": "barpolar"
           }
          ],
          "carpet": [
           {
            "aaxis": {
             "endlinecolor": "#2a3f5f",
             "gridcolor": "white",
             "linecolor": "white",
             "minorgridcolor": "white",
             "startlinecolor": "#2a3f5f"
            },
            "baxis": {
             "endlinecolor": "#2a3f5f",
             "gridcolor": "white",
             "linecolor": "white",
             "minorgridcolor": "white",
             "startlinecolor": "#2a3f5f"
            },
            "type": "carpet"
           }
          ],
          "choropleth": [
           {
            "colorbar": {
             "outlinewidth": 0,
             "ticks": ""
            },
            "type": "choropleth"
           }
          ],
          "contour": [
           {
            "colorbar": {
             "outlinewidth": 0,
             "ticks": ""
            },
            "colorscale": [
             [
              0,
              "#0d0887"
             ],
             [
              0.1111111111111111,
              "#46039f"
             ],
             [
              0.2222222222222222,
              "#7201a8"
             ],
             [
              0.3333333333333333,
              "#9c179e"
             ],
             [
              0.4444444444444444,
              "#bd3786"
             ],
             [
              0.5555555555555556,
              "#d8576b"
             ],
             [
              0.6666666666666666,
              "#ed7953"
             ],
             [
              0.7777777777777778,
              "#fb9f3a"
             ],
             [
              0.8888888888888888,
              "#fdca26"
             ],
             [
              1,
              "#f0f921"
             ]
            ],
            "type": "contour"
           }
          ],
          "contourcarpet": [
           {
            "colorbar": {
             "outlinewidth": 0,
             "ticks": ""
            },
            "type": "contourcarpet"
           }
          ],
          "heatmap": [
           {
            "colorbar": {
             "outlinewidth": 0,
             "ticks": ""
            },
            "colorscale": [
             [
              0,
              "#0d0887"
             ],
             [
              0.1111111111111111,
              "#46039f"
             ],
             [
              0.2222222222222222,
              "#7201a8"
             ],
             [
              0.3333333333333333,
              "#9c179e"
             ],
             [
              0.4444444444444444,
              "#bd3786"
             ],
             [
              0.5555555555555556,
              "#d8576b"
             ],
             [
              0.6666666666666666,
              "#ed7953"
             ],
             [
              0.7777777777777778,
              "#fb9f3a"
             ],
             [
              0.8888888888888888,
              "#fdca26"
             ],
             [
              1,
              "#f0f921"
             ]
            ],
            "type": "heatmap"
           }
          ],
          "histogram": [
           {
            "marker": {
             "pattern": {
              "fillmode": "overlay",
              "size": 10,
              "solidity": 0.2
             }
            },
            "type": "histogram"
           }
          ],
          "histogram2d": [
           {
            "colorbar": {
             "outlinewidth": 0,
             "ticks": ""
            },
            "colorscale": [
             [
              0,
              "#0d0887"
             ],
             [
              0.1111111111111111,
              "#46039f"
             ],
             [
              0.2222222222222222,
              "#7201a8"
             ],
             [
              0.3333333333333333,
              "#9c179e"
             ],
             [
              0.4444444444444444,
              "#bd3786"
             ],
             [
              0.5555555555555556,
              "#d8576b"
             ],
             [
              0.6666666666666666,
              "#ed7953"
             ],
             [
              0.7777777777777778,
              "#fb9f3a"
             ],
             [
              0.8888888888888888,
              "#fdca26"
             ],
             [
              1,
              "#f0f921"
             ]
            ],
            "type": "histogram2d"
           }
          ],
          "histogram2dcontour": [
           {
            "colorbar": {
             "outlinewidth": 0,
             "ticks": ""
            },
            "colorscale": [
             [
              0,
              "#0d0887"
             ],
             [
              0.1111111111111111,
              "#46039f"
             ],
             [
              0.2222222222222222,
              "#7201a8"
             ],
             [
              0.3333333333333333,
              "#9c179e"
             ],
             [
              0.4444444444444444,
              "#bd3786"
             ],
             [
              0.5555555555555556,
              "#d8576b"
             ],
             [
              0.6666666666666666,
              "#ed7953"
             ],
             [
              0.7777777777777778,
              "#fb9f3a"
             ],
             [
              0.8888888888888888,
              "#fdca26"
             ],
             [
              1,
              "#f0f921"
             ]
            ],
            "type": "histogram2dcontour"
           }
          ],
          "mesh3d": [
           {
            "colorbar": {
             "outlinewidth": 0,
             "ticks": ""
            },
            "type": "mesh3d"
           }
          ],
          "parcoords": [
           {
            "line": {
             "colorbar": {
              "outlinewidth": 0,
              "ticks": ""
             }
            },
            "type": "parcoords"
           }
          ],
          "pie": [
           {
            "automargin": true,
            "type": "pie"
           }
          ],
          "scatter": [
           {
            "fillpattern": {
             "fillmode": "overlay",
             "size": 10,
             "solidity": 0.2
            },
            "type": "scatter"
           }
          ],
          "scatter3d": [
           {
            "line": {
             "colorbar": {
              "outlinewidth": 0,
              "ticks": ""
             }
            },
            "marker": {
             "colorbar": {
              "outlinewidth": 0,
              "ticks": ""
             }
            },
            "type": "scatter3d"
           }
          ],
          "scattercarpet": [
           {
            "marker": {
             "colorbar": {
              "outlinewidth": 0,
              "ticks": ""
             }
            },
            "type": "scattercarpet"
           }
          ],
          "scattergeo": [
           {
            "marker": {
             "colorbar": {
              "outlinewidth": 0,
              "ticks": ""
             }
            },
            "type": "scattergeo"
           }
          ],
          "scattergl": [
           {
            "marker": {
             "colorbar": {
              "outlinewidth": 0,
              "ticks": ""
             }
            },
            "type": "scattergl"
           }
          ],
          "scattermap": [
           {
            "marker": {
             "colorbar": {
              "outlinewidth": 0,
              "ticks": ""
             }
            },
            "type": "scattermap"
           }
          ],
          "scattermapbox": [
           {
            "marker": {
             "colorbar": {
              "outlinewidth": 0,
              "ticks": ""
             }
            },
            "type": "scattermapbox"
           }
          ],
          "scatterpolar": [
           {
            "marker": {
             "colorbar": {
              "outlinewidth": 0,
              "ticks": ""
             }
            },
            "type": "scatterpolar"
           }
          ],
          "scatterpolargl": [
           {
            "marker": {
             "colorbar": {
              "outlinewidth": 0,
              "ticks": ""
             }
            },
            "type": "scatterpolargl"
           }
          ],
          "scatterternary": [
           {
            "marker": {
             "colorbar": {
              "outlinewidth": 0,
              "ticks": ""
             }
            },
            "type": "scatterternary"
           }
          ],
          "surface": [
           {
            "colorbar": {
             "outlinewidth": 0,
             "ticks": ""
            },
            "colorscale": [
             [
              0,
              "#0d0887"
             ],
             [
              0.1111111111111111,
              "#46039f"
             ],
             [
              0.2222222222222222,
              "#7201a8"
             ],
             [
              0.3333333333333333,
              "#9c179e"
             ],
             [
              0.4444444444444444,
              "#bd3786"
             ],
             [
              0.5555555555555556,
              "#d8576b"
             ],
             [
              0.6666666666666666,
              "#ed7953"
             ],
             [
              0.7777777777777778,
              "#fb9f3a"
             ],
             [
              0.8888888888888888,
              "#fdca26"
             ],
             [
              1,
              "#f0f921"
             ]
            ],
            "type": "surface"
           }
          ],
          "table": [
           {
            "cells": {
             "fill": {
              "color": "#EBF0F8"
             },
             "line": {
              "color": "white"
             }
            },
            "header": {
             "fill": {
              "color": "#C8D4E3"
             },
             "line": {
              "color": "white"
             }
            },
            "type": "table"
           }
          ]
         },
         "layout": {
          "annotationdefaults": {
           "arrowcolor": "#2a3f5f",
           "arrowhead": 0,
           "arrowwidth": 1
          },
          "autotypenumbers": "strict",
          "coloraxis": {
           "colorbar": {
            "outlinewidth": 0,
            "ticks": ""
           }
          },
          "colorscale": {
           "diverging": [
            [
             0,
             "#8e0152"
            ],
            [
             0.1,
             "#c51b7d"
            ],
            [
             0.2,
             "#de77ae"
            ],
            [
             0.3,
             "#f1b6da"
            ],
            [
             0.4,
             "#fde0ef"
            ],
            [
             0.5,
             "#f7f7f7"
            ],
            [
             0.6,
             "#e6f5d0"
            ],
            [
             0.7,
             "#b8e186"
            ],
            [
             0.8,
             "#7fbc41"
            ],
            [
             0.9,
             "#4d9221"
            ],
            [
             1,
             "#276419"
            ]
           ],
           "sequential": [
            [
             0,
             "#0d0887"
            ],
            [
             0.1111111111111111,
             "#46039f"
            ],
            [
             0.2222222222222222,
             "#7201a8"
            ],
            [
             0.3333333333333333,
             "#9c179e"
            ],
            [
             0.4444444444444444,
             "#bd3786"
            ],
            [
             0.5555555555555556,
             "#d8576b"
            ],
            [
             0.6666666666666666,
             "#ed7953"
            ],
            [
             0.7777777777777778,
             "#fb9f3a"
            ],
            [
             0.8888888888888888,
             "#fdca26"
            ],
            [
             1,
             "#f0f921"
            ]
           ],
           "sequentialminus": [
            [
             0,
             "#0d0887"
            ],
            [
             0.1111111111111111,
             "#46039f"
            ],
            [
             0.2222222222222222,
             "#7201a8"
            ],
            [
             0.3333333333333333,
             "#9c179e"
            ],
            [
             0.4444444444444444,
             "#bd3786"
            ],
            [
             0.5555555555555556,
             "#d8576b"
            ],
            [
             0.6666666666666666,
             "#ed7953"
            ],
            [
             0.7777777777777778,
             "#fb9f3a"
            ],
            [
             0.8888888888888888,
             "#fdca26"
            ],
            [
             1,
             "#f0f921"
            ]
           ]
          },
          "colorway": [
           "#636efa",
           "#EF553B",
           "#00cc96",
           "#ab63fa",
           "#FFA15A",
           "#19d3f3",
           "#FF6692",
           "#B6E880",
           "#FF97FF",
           "#FECB52"
          ],
          "font": {
           "color": "#2a3f5f"
          },
          "geo": {
           "bgcolor": "white",
           "lakecolor": "white",
           "landcolor": "#E5ECF6",
           "showlakes": true,
           "showland": true,
           "subunitcolor": "white"
          },
          "hoverlabel": {
           "align": "left"
          },
          "hovermode": "closest",
          "mapbox": {
           "style": "light"
          },
          "paper_bgcolor": "white",
          "plot_bgcolor": "#E5ECF6",
          "polar": {
           "angularaxis": {
            "gridcolor": "white",
            "linecolor": "white",
            "ticks": ""
           },
           "bgcolor": "#E5ECF6",
           "radialaxis": {
            "gridcolor": "white",
            "linecolor": "white",
            "ticks": ""
           }
          },
          "scene": {
           "xaxis": {
            "backgroundcolor": "#E5ECF6",
            "gridcolor": "white",
            "gridwidth": 2,
            "linecolor": "white",
            "showbackground": true,
            "ticks": "",
            "zerolinecolor": "white"
           },
           "yaxis": {
            "backgroundcolor": "#E5ECF6",
            "gridcolor": "white",
            "gridwidth": 2,
            "linecolor": "white",
            "showbackground": true,
            "ticks": "",
            "zerolinecolor": "white"
           },
           "zaxis": {
            "backgroundcolor": "#E5ECF6",
            "gridcolor": "white",
            "gridwidth": 2,
            "linecolor": "white",
            "showbackground": true,
            "ticks": "",
            "zerolinecolor": "white"
           }
          },
          "shapedefaults": {
           "line": {
            "color": "#2a3f5f"
           }
          },
          "ternary": {
           "aaxis": {
            "gridcolor": "white",
            "linecolor": "white",
            "ticks": ""
           },
           "baxis": {
            "gridcolor": "white",
            "linecolor": "white",
            "ticks": ""
           },
           "bgcolor": "#E5ECF6",
           "caxis": {
            "gridcolor": "white",
            "linecolor": "white",
            "ticks": ""
           }
          },
          "title": {
           "x": 0.05
          },
          "xaxis": {
           "automargin": true,
           "gridcolor": "white",
           "linecolor": "white",
           "ticks": "",
           "title": {
            "standoff": 15
           },
           "zerolinecolor": "white",
           "zerolinewidth": 2
          },
          "yaxis": {
           "automargin": true,
           "gridcolor": "white",
           "linecolor": "white",
           "ticks": "",
           "title": {
            "standoff": 15
           },
           "zerolinecolor": "white",
           "zerolinewidth": 2
          }
         }
        },
        "title": {
         "text": "Time taken per PRIMMDebug stage"
        },
        "xaxis": {
         "anchor": "y",
         "domain": [
          0,
          1
         ],
         "title": {
          "text": "time"
         }
        },
        "xaxis2": {
         "anchor": "y2",
         "domain": [
          0,
          1
         ],
         "matches": "x",
         "showgrid": true,
         "showticklabels": false
        },
        "yaxis": {
         "anchor": "x",
         "domain": [
          0,
          0.7326
         ],
         "title": {
          "text": "count"
         }
        },
        "yaxis2": {
         "anchor": "x2",
         "domain": [
          0.7426,
          1
         ],
         "matches": "y2",
         "showgrid": false,
         "showline": false,
         "showticklabels": false,
         "ticks": ""
        }
       }
      }
     },
     "metadata": {},
     "output_type": "display_data"
    },
    {
     "name": "stdout",
     "output_type": "stream",
     "text": [
      "Skewness of times spent on the predict stage: 5.64\n",
      "Skewness of times spent on the run stage: 10.89\n",
      "Skewness of times spent on the spot_the_defect stage: 3.76\n",
      "Skewness of times spent on the inspect_the_code stage: 4.21\n",
      "Skewness of times spent on the find_the_error stage: 12.50\n",
      "Skewness of times spent on the fix_the_error stage: 8.05\n",
      "Skewness of times spent on the test stage: 15.95\n",
      "Skewness of times spent on the modify stage: 3.68\n"
     ]
    },
    {
     "data": {
      "application/vnd.plotly.v1+json": {
       "config": {
        "plotlyServerURL": "https://plot.ly"
       },
       "data": [
        {
         "hovertemplate": "PRIMMDebug stage=%{x}<br>Median time on stage (seconds)=%{y}<extra></extra>",
         "legendgroup": "",
         "marker": {
          "color": "#636efa",
          "pattern": {
           "shape": ""
          }
         },
         "name": "",
         "orientation": "v",
         "showlegend": false,
         "textposition": "auto",
         "type": "bar",
         "x": [
          "predict",
          "run",
          "spot_the_defect",
          "inspect_the_code",
          "find_the_error",
          "fix_the_error",
          "test",
          "modify"
         ],
         "xaxis": "x",
         "y": {
          "bdata": "x0s3iUGwSUDIdr6fGu8aQNrO91PjdTxAj8L1KFzPMkASg8DKoQUTQKRwPQrXUz5AcmiR7XzfJ0BCYOXQItstQA==",
          "dtype": "f8"
         },
         "yaxis": "y"
        }
       ],
       "layout": {
        "barmode": "relative",
        "font": {
         "size": 14
        },
        "height": 550,
        "legend": {
         "tracegroupgap": 0
        },
        "margin": {
         "t": 60
        },
        "template": {
         "data": {
          "bar": [
           {
            "error_x": {
             "color": "#2a3f5f"
            },
            "error_y": {
             "color": "#2a3f5f"
            },
            "marker": {
             "line": {
              "color": "#E5ECF6",
              "width": 0.5
             },
             "pattern": {
              "fillmode": "overlay",
              "size": 10,
              "solidity": 0.2
             }
            },
            "type": "bar"
           }
          ],
          "barpolar": [
           {
            "marker": {
             "line": {
              "color": "#E5ECF6",
              "width": 0.5
             },
             "pattern": {
              "fillmode": "overlay",
              "size": 10,
              "solidity": 0.2
             }
            },
            "type": "barpolar"
           }
          ],
          "carpet": [
           {
            "aaxis": {
             "endlinecolor": "#2a3f5f",
             "gridcolor": "white",
             "linecolor": "white",
             "minorgridcolor": "white",
             "startlinecolor": "#2a3f5f"
            },
            "baxis": {
             "endlinecolor": "#2a3f5f",
             "gridcolor": "white",
             "linecolor": "white",
             "minorgridcolor": "white",
             "startlinecolor": "#2a3f5f"
            },
            "type": "carpet"
           }
          ],
          "choropleth": [
           {
            "colorbar": {
             "outlinewidth": 0,
             "ticks": ""
            },
            "type": "choropleth"
           }
          ],
          "contour": [
           {
            "colorbar": {
             "outlinewidth": 0,
             "ticks": ""
            },
            "colorscale": [
             [
              0,
              "#0d0887"
             ],
             [
              0.1111111111111111,
              "#46039f"
             ],
             [
              0.2222222222222222,
              "#7201a8"
             ],
             [
              0.3333333333333333,
              "#9c179e"
             ],
             [
              0.4444444444444444,
              "#bd3786"
             ],
             [
              0.5555555555555556,
              "#d8576b"
             ],
             [
              0.6666666666666666,
              "#ed7953"
             ],
             [
              0.7777777777777778,
              "#fb9f3a"
             ],
             [
              0.8888888888888888,
              "#fdca26"
             ],
             [
              1,
              "#f0f921"
             ]
            ],
            "type": "contour"
           }
          ],
          "contourcarpet": [
           {
            "colorbar": {
             "outlinewidth": 0,
             "ticks": ""
            },
            "type": "contourcarpet"
           }
          ],
          "heatmap": [
           {
            "colorbar": {
             "outlinewidth": 0,
             "ticks": ""
            },
            "colorscale": [
             [
              0,
              "#0d0887"
             ],
             [
              0.1111111111111111,
              "#46039f"
             ],
             [
              0.2222222222222222,
              "#7201a8"
             ],
             [
              0.3333333333333333,
              "#9c179e"
             ],
             [
              0.4444444444444444,
              "#bd3786"
             ],
             [
              0.5555555555555556,
              "#d8576b"
             ],
             [
              0.6666666666666666,
              "#ed7953"
             ],
             [
              0.7777777777777778,
              "#fb9f3a"
             ],
             [
              0.8888888888888888,
              "#fdca26"
             ],
             [
              1,
              "#f0f921"
             ]
            ],
            "type": "heatmap"
           }
          ],
          "histogram": [
           {
            "marker": {
             "pattern": {
              "fillmode": "overlay",
              "size": 10,
              "solidity": 0.2
             }
            },
            "type": "histogram"
           }
          ],
          "histogram2d": [
           {
            "colorbar": {
             "outlinewidth": 0,
             "ticks": ""
            },
            "colorscale": [
             [
              0,
              "#0d0887"
             ],
             [
              0.1111111111111111,
              "#46039f"
             ],
             [
              0.2222222222222222,
              "#7201a8"
             ],
             [
              0.3333333333333333,
              "#9c179e"
             ],
             [
              0.4444444444444444,
              "#bd3786"
             ],
             [
              0.5555555555555556,
              "#d8576b"
             ],
             [
              0.6666666666666666,
              "#ed7953"
             ],
             [
              0.7777777777777778,
              "#fb9f3a"
             ],
             [
              0.8888888888888888,
              "#fdca26"
             ],
             [
              1,
              "#f0f921"
             ]
            ],
            "type": "histogram2d"
           }
          ],
          "histogram2dcontour": [
           {
            "colorbar": {
             "outlinewidth": 0,
             "ticks": ""
            },
            "colorscale": [
             [
              0,
              "#0d0887"
             ],
             [
              0.1111111111111111,
              "#46039f"
             ],
             [
              0.2222222222222222,
              "#7201a8"
             ],
             [
              0.3333333333333333,
              "#9c179e"
             ],
             [
              0.4444444444444444,
              "#bd3786"
             ],
             [
              0.5555555555555556,
              "#d8576b"
             ],
             [
              0.6666666666666666,
              "#ed7953"
             ],
             [
              0.7777777777777778,
              "#fb9f3a"
             ],
             [
              0.8888888888888888,
              "#fdca26"
             ],
             [
              1,
              "#f0f921"
             ]
            ],
            "type": "histogram2dcontour"
           }
          ],
          "mesh3d": [
           {
            "colorbar": {
             "outlinewidth": 0,
             "ticks": ""
            },
            "type": "mesh3d"
           }
          ],
          "parcoords": [
           {
            "line": {
             "colorbar": {
              "outlinewidth": 0,
              "ticks": ""
             }
            },
            "type": "parcoords"
           }
          ],
          "pie": [
           {
            "automargin": true,
            "type": "pie"
           }
          ],
          "scatter": [
           {
            "fillpattern": {
             "fillmode": "overlay",
             "size": 10,
             "solidity": 0.2
            },
            "type": "scatter"
           }
          ],
          "scatter3d": [
           {
            "line": {
             "colorbar": {
              "outlinewidth": 0,
              "ticks": ""
             }
            },
            "marker": {
             "colorbar": {
              "outlinewidth": 0,
              "ticks": ""
             }
            },
            "type": "scatter3d"
           }
          ],
          "scattercarpet": [
           {
            "marker": {
             "colorbar": {
              "outlinewidth": 0,
              "ticks": ""
             }
            },
            "type": "scattercarpet"
           }
          ],
          "scattergeo": [
           {
            "marker": {
             "colorbar": {
              "outlinewidth": 0,
              "ticks": ""
             }
            },
            "type": "scattergeo"
           }
          ],
          "scattergl": [
           {
            "marker": {
             "colorbar": {
              "outlinewidth": 0,
              "ticks": ""
             }
            },
            "type": "scattergl"
           }
          ],
          "scattermap": [
           {
            "marker": {
             "colorbar": {
              "outlinewidth": 0,
              "ticks": ""
             }
            },
            "type": "scattermap"
           }
          ],
          "scattermapbox": [
           {
            "marker": {
             "colorbar": {
              "outlinewidth": 0,
              "ticks": ""
             }
            },
            "type": "scattermapbox"
           }
          ],
          "scatterpolar": [
           {
            "marker": {
             "colorbar": {
              "outlinewidth": 0,
              "ticks": ""
             }
            },
            "type": "scatterpolar"
           }
          ],
          "scatterpolargl": [
           {
            "marker": {
             "colorbar": {
              "outlinewidth": 0,
              "ticks": ""
             }
            },
            "type": "scatterpolargl"
           }
          ],
          "scatterternary": [
           {
            "marker": {
             "colorbar": {
              "outlinewidth": 0,
              "ticks": ""
             }
            },
            "type": "scatterternary"
           }
          ],
          "surface": [
           {
            "colorbar": {
             "outlinewidth": 0,
             "ticks": ""
            },
            "colorscale": [
             [
              0,
              "#0d0887"
             ],
             [
              0.1111111111111111,
              "#46039f"
             ],
             [
              0.2222222222222222,
              "#7201a8"
             ],
             [
              0.3333333333333333,
              "#9c179e"
             ],
             [
              0.4444444444444444,
              "#bd3786"
             ],
             [
              0.5555555555555556,
              "#d8576b"
             ],
             [
              0.6666666666666666,
              "#ed7953"
             ],
             [
              0.7777777777777778,
              "#fb9f3a"
             ],
             [
              0.8888888888888888,
              "#fdca26"
             ],
             [
              1,
              "#f0f921"
             ]
            ],
            "type": "surface"
           }
          ],
          "table": [
           {
            "cells": {
             "fill": {
              "color": "#EBF0F8"
             },
             "line": {
              "color": "white"
             }
            },
            "header": {
             "fill": {
              "color": "#C8D4E3"
             },
             "line": {
              "color": "white"
             }
            },
            "type": "table"
           }
          ]
         },
         "layout": {
          "annotationdefaults": {
           "arrowcolor": "#2a3f5f",
           "arrowhead": 0,
           "arrowwidth": 1
          },
          "autotypenumbers": "strict",
          "coloraxis": {
           "colorbar": {
            "outlinewidth": 0,
            "ticks": ""
           }
          },
          "colorscale": {
           "diverging": [
            [
             0,
             "#8e0152"
            ],
            [
             0.1,
             "#c51b7d"
            ],
            [
             0.2,
             "#de77ae"
            ],
            [
             0.3,
             "#f1b6da"
            ],
            [
             0.4,
             "#fde0ef"
            ],
            [
             0.5,
             "#f7f7f7"
            ],
            [
             0.6,
             "#e6f5d0"
            ],
            [
             0.7,
             "#b8e186"
            ],
            [
             0.8,
             "#7fbc41"
            ],
            [
             0.9,
             "#4d9221"
            ],
            [
             1,
             "#276419"
            ]
           ],
           "sequential": [
            [
             0,
             "#0d0887"
            ],
            [
             0.1111111111111111,
             "#46039f"
            ],
            [
             0.2222222222222222,
             "#7201a8"
            ],
            [
             0.3333333333333333,
             "#9c179e"
            ],
            [
             0.4444444444444444,
             "#bd3786"
            ],
            [
             0.5555555555555556,
             "#d8576b"
            ],
            [
             0.6666666666666666,
             "#ed7953"
            ],
            [
             0.7777777777777778,
             "#fb9f3a"
            ],
            [
             0.8888888888888888,
             "#fdca26"
            ],
            [
             1,
             "#f0f921"
            ]
           ],
           "sequentialminus": [
            [
             0,
             "#0d0887"
            ],
            [
             0.1111111111111111,
             "#46039f"
            ],
            [
             0.2222222222222222,
             "#7201a8"
            ],
            [
             0.3333333333333333,
             "#9c179e"
            ],
            [
             0.4444444444444444,
             "#bd3786"
            ],
            [
             0.5555555555555556,
             "#d8576b"
            ],
            [
             0.6666666666666666,
             "#ed7953"
            ],
            [
             0.7777777777777778,
             "#fb9f3a"
            ],
            [
             0.8888888888888888,
             "#fdca26"
            ],
            [
             1,
             "#f0f921"
            ]
           ]
          },
          "colorway": [
           "#636efa",
           "#EF553B",
           "#00cc96",
           "#ab63fa",
           "#FFA15A",
           "#19d3f3",
           "#FF6692",
           "#B6E880",
           "#FF97FF",
           "#FECB52"
          ],
          "font": {
           "color": "#2a3f5f"
          },
          "geo": {
           "bgcolor": "white",
           "lakecolor": "white",
           "landcolor": "#E5ECF6",
           "showlakes": true,
           "showland": true,
           "subunitcolor": "white"
          },
          "hoverlabel": {
           "align": "left"
          },
          "hovermode": "closest",
          "mapbox": {
           "style": "light"
          },
          "paper_bgcolor": "white",
          "plot_bgcolor": "#E5ECF6",
          "polar": {
           "angularaxis": {
            "gridcolor": "white",
            "linecolor": "white",
            "ticks": ""
           },
           "bgcolor": "#E5ECF6",
           "radialaxis": {
            "gridcolor": "white",
            "linecolor": "white",
            "ticks": ""
           }
          },
          "scene": {
           "xaxis": {
            "backgroundcolor": "#E5ECF6",
            "gridcolor": "white",
            "gridwidth": 2,
            "linecolor": "white",
            "showbackground": true,
            "ticks": "",
            "zerolinecolor": "white"
           },
           "yaxis": {
            "backgroundcolor": "#E5ECF6",
            "gridcolor": "white",
            "gridwidth": 2,
            "linecolor": "white",
            "showbackground": true,
            "ticks": "",
            "zerolinecolor": "white"
           },
           "zaxis": {
            "backgroundcolor": "#E5ECF6",
            "gridcolor": "white",
            "gridwidth": 2,
            "linecolor": "white",
            "showbackground": true,
            "ticks": "",
            "zerolinecolor": "white"
           }
          },
          "shapedefaults": {
           "line": {
            "color": "#2a3f5f"
           }
          },
          "ternary": {
           "aaxis": {
            "gridcolor": "white",
            "linecolor": "white",
            "ticks": ""
           },
           "baxis": {
            "gridcolor": "white",
            "linecolor": "white",
            "ticks": ""
           },
           "bgcolor": "#E5ECF6",
           "caxis": {
            "gridcolor": "white",
            "linecolor": "white",
            "ticks": ""
           }
          },
          "title": {
           "x": 0.05
          },
          "xaxis": {
           "automargin": true,
           "gridcolor": "white",
           "linecolor": "white",
           "ticks": "",
           "title": {
            "standoff": 15
           },
           "zerolinecolor": "white",
           "zerolinewidth": 2
          },
          "yaxis": {
           "automargin": true,
           "gridcolor": "white",
           "linecolor": "white",
           "ticks": "",
           "title": {
            "standoff": 15
           },
           "zerolinecolor": "white",
           "zerolinewidth": 2
          }
         }
        },
        "width": 700,
        "xaxis": {
         "anchor": "y",
         "domain": [
          0,
          1
         ],
         "title": {
          "text": "PRIMMDebug stage"
         }
        },
        "yaxis": {
         "anchor": "x",
         "domain": [
          0,
          1
         ],
         "title": {
          "text": "Median time on stage (seconds)"
         }
        }
       }
      }
     },
     "metadata": {},
     "output_type": "display_data"
    },
    {
     "data": {
      "application/vnd.plotly.v1+json": {
       "config": {
        "plotlyServerURL": "https://plot.ly"
       },
       "data": [
        {
         "hovertemplate": "PRIMMDebug stage=predict<br>Session=%{x}<br>Median time (seconds)=%{y}<extra></extra>",
         "legendgroup": "predict",
         "line": {
          "color": "#636efa",
          "dash": "solid"
         },
         "marker": {
          "symbol": "circle"
         },
         "mode": "lines",
         "name": "predict",
         "orientation": "v",
         "showlegend": true,
         "type": "scatter",
         "x": {
          "bdata": "AQIDBAUG",
          "dtype": "i1"
         },
         "xaxis": "x",
         "y": {
          "bdata": "0SLb+X76S0BGtvP91KhLQClcj8L16E1A3iQGgZWbQ0Aj2/l+arw+QLByaJHtvD5A",
          "dtype": "f8"
         },
         "yaxis": "y"
        },
        {
         "hovertemplate": "PRIMMDebug stage=run<br>Session=%{x}<br>Median time (seconds)=%{y}<extra></extra>",
         "legendgroup": "run",
         "line": {
          "color": "#EF553B",
          "dash": "solid"
         },
         "marker": {
          "symbol": "circle"
         },
         "mode": "lines",
         "name": "run",
         "orientation": "v",
         "showlegend": true,
         "type": "scatter",
         "x": {
          "bdata": "AQIDBAUG",
          "dtype": "i1"
         },
         "xaxis": "x",
         "y": {
          "bdata": "8tJNYhCYIUAmMQisHFoTQCPb+X5qPBVAlBgEVg6tFEAAAAAAAAAZQK5H4XoULiNA",
          "dtype": "f8"
         },
         "yaxis": "y"
        },
        {
         "hovertemplate": "PRIMMDebug stage=spot_the_defect<br>Session=%{x}<br>Median time (seconds)=%{y}<extra></extra>",
         "legendgroup": "spot_the_defect",
         "line": {
          "color": "#00cc96",
          "dash": "solid"
         },
         "marker": {
          "symbol": "circle"
         },
         "mode": "lines",
         "name": "spot_the_defect",
         "orientation": "v",
         "showlegend": true,
         "type": "scatter",
         "x": {
          "bdata": "AQIDBAUG",
          "dtype": "i1"
         },
         "xaxis": "x",
         "y": {
          "bdata": "qMZLN4kRQ0DkpZvEIKA5QOj7qfHSvT5AaJHtfD8lNUDVeOkmMSgvQMuhRbbz3UBA",
          "dtype": "f8"
         },
         "yaxis": "y"
        },
        {
         "hovertemplate": "PRIMMDebug stage=inspect_the_code<br>Session=%{x}<br>Median time (seconds)=%{y}<extra></extra>",
         "legendgroup": "inspect_the_code",
         "line": {
          "color": "#ab63fa",
          "dash": "solid"
         },
         "marker": {
          "symbol": "circle"
         },
         "mode": "lines",
         "name": "inspect_the_code",
         "orientation": "v",
         "showlegend": true,
         "type": "scatter",
         "x": {
          "bdata": "AQIDBAUG",
          "dtype": "i1"
         },
         "xaxis": "x",
         "y": {
          "bdata": "CKwcWmQrM0C0yHa+nxoxQFyPwvUoXDtAsp3vp8ZLK0A/NV66SQwvQH0/NV66ySNA",
          "dtype": "f8"
         },
         "yaxis": "y"
        },
        {
         "hovertemplate": "PRIMMDebug stage=find_the_error<br>Session=%{x}<br>Median time (seconds)=%{y}<extra></extra>",
         "legendgroup": "find_the_error",
         "line": {
          "color": "#FFA15A",
          "dash": "solid"
         },
         "marker": {
          "symbol": "circle"
         },
         "mode": "lines",
         "name": "find_the_error",
         "orientation": "v",
         "showlegend": true,
         "type": "scatter",
         "x": {
          "bdata": "AQIDBAUG",
          "dtype": "i1"
         },
         "xaxis": "x",
         "y": {
          "bdata": "EoPAyqFFFEDNzMzMzEwTQDiJQWDl0BRAoBov3SQGDUAfhetRuJ4PQDvfT42X7hNA",
          "dtype": "f8"
         },
         "yaxis": "y"
        },
        {
         "hovertemplate": "PRIMMDebug stage=fix_the_error<br>Session=%{x}<br>Median time (seconds)=%{y}<extra></extra>",
         "legendgroup": "fix_the_error",
         "line": {
          "color": "#19d3f3",
          "dash": "solid"
         },
         "marker": {
          "symbol": "circle"
         },
         "mode": "lines",
         "name": "fix_the_error",
         "orientation": "v",
         "showlegend": true,
         "type": "scatter",
         "x": {
          "bdata": "AQIDBAUG",
          "dtype": "i1"
         },
         "xaxis": "x",
         "y": {
          "bdata": "Rrbz/dT4P0A730+Nly48QNV46SYxCDdAmG4Sg8BKP0DgT42XbnJAQLByaJHtbEBA",
          "dtype": "f8"
         },
         "yaxis": "y"
        },
        {
         "hovertemplate": "PRIMMDebug stage=test<br>Session=%{x}<br>Median time (seconds)=%{y}<extra></extra>",
         "legendgroup": "test",
         "line": {
          "color": "#FF6692",
          "dash": "solid"
         },
         "marker": {
          "symbol": "circle"
         },
         "mode": "lines",
         "name": "test",
         "orientation": "v",
         "showlegend": true,
         "type": "scatter",
         "x": {
          "bdata": "AQIDBAUG",
          "dtype": "i1"
         },
         "xaxis": "x",
         "y": {
          "bdata": "rBxaZDvfLUBYObTIdr4hQPp+arx0kyRALrKd76cmIkBMN4lBYEUlQPT91HjpRi5A",
          "dtype": "f8"
         },
         "yaxis": "y"
        },
        {
         "hovertemplate": "PRIMMDebug stage=modify<br>Session=%{x}<br>Median time (seconds)=%{y}<extra></extra>",
         "legendgroup": "modify",
         "line": {
          "color": "#B6E880",
          "dash": "solid"
         },
         "marker": {
          "symbol": "circle"
         },
         "mode": "lines",
         "name": "modify",
         "orientation": "v",
         "showlegend": true,
         "type": "scatter",
         "x": {
          "bdata": "AQIDBAU=",
          "dtype": "i1"
         },
         "xaxis": "x",
         "y": {
          "bdata": "JzEIrBwaLUC+nxov3SQ7QIcW2c73EzBAYhBYObQIJkBqvHSTGIQUQA==",
          "dtype": "f8"
         },
         "yaxis": "y"
        }
       ],
       "layout": {
        "legend": {
         "title": {
          "text": "PRIMMDebug stage"
         },
         "tracegroupgap": 0
        },
        "template": {
         "data": {
          "bar": [
           {
            "error_x": {
             "color": "#2a3f5f"
            },
            "error_y": {
             "color": "#2a3f5f"
            },
            "marker": {
             "line": {
              "color": "#E5ECF6",
              "width": 0.5
             },
             "pattern": {
              "fillmode": "overlay",
              "size": 10,
              "solidity": 0.2
             }
            },
            "type": "bar"
           }
          ],
          "barpolar": [
           {
            "marker": {
             "line": {
              "color": "#E5ECF6",
              "width": 0.5
             },
             "pattern": {
              "fillmode": "overlay",
              "size": 10,
              "solidity": 0.2
             }
            },
            "type": "barpolar"
           }
          ],
          "carpet": [
           {
            "aaxis": {
             "endlinecolor": "#2a3f5f",
             "gridcolor": "white",
             "linecolor": "white",
             "minorgridcolor": "white",
             "startlinecolor": "#2a3f5f"
            },
            "baxis": {
             "endlinecolor": "#2a3f5f",
             "gridcolor": "white",
             "linecolor": "white",
             "minorgridcolor": "white",
             "startlinecolor": "#2a3f5f"
            },
            "type": "carpet"
           }
          ],
          "choropleth": [
           {
            "colorbar": {
             "outlinewidth": 0,
             "ticks": ""
            },
            "type": "choropleth"
           }
          ],
          "contour": [
           {
            "colorbar": {
             "outlinewidth": 0,
             "ticks": ""
            },
            "colorscale": [
             [
              0,
              "#0d0887"
             ],
             [
              0.1111111111111111,
              "#46039f"
             ],
             [
              0.2222222222222222,
              "#7201a8"
             ],
             [
              0.3333333333333333,
              "#9c179e"
             ],
             [
              0.4444444444444444,
              "#bd3786"
             ],
             [
              0.5555555555555556,
              "#d8576b"
             ],
             [
              0.6666666666666666,
              "#ed7953"
             ],
             [
              0.7777777777777778,
              "#fb9f3a"
             ],
             [
              0.8888888888888888,
              "#fdca26"
             ],
             [
              1,
              "#f0f921"
             ]
            ],
            "type": "contour"
           }
          ],
          "contourcarpet": [
           {
            "colorbar": {
             "outlinewidth": 0,
             "ticks": ""
            },
            "type": "contourcarpet"
           }
          ],
          "heatmap": [
           {
            "colorbar": {
             "outlinewidth": 0,
             "ticks": ""
            },
            "colorscale": [
             [
              0,
              "#0d0887"
             ],
             [
              0.1111111111111111,
              "#46039f"
             ],
             [
              0.2222222222222222,
              "#7201a8"
             ],
             [
              0.3333333333333333,
              "#9c179e"
             ],
             [
              0.4444444444444444,
              "#bd3786"
             ],
             [
              0.5555555555555556,
              "#d8576b"
             ],
             [
              0.6666666666666666,
              "#ed7953"
             ],
             [
              0.7777777777777778,
              "#fb9f3a"
             ],
             [
              0.8888888888888888,
              "#fdca26"
             ],
             [
              1,
              "#f0f921"
             ]
            ],
            "type": "heatmap"
           }
          ],
          "histogram": [
           {
            "marker": {
             "pattern": {
              "fillmode": "overlay",
              "size": 10,
              "solidity": 0.2
             }
            },
            "type": "histogram"
           }
          ],
          "histogram2d": [
           {
            "colorbar": {
             "outlinewidth": 0,
             "ticks": ""
            },
            "colorscale": [
             [
              0,
              "#0d0887"
             ],
             [
              0.1111111111111111,
              "#46039f"
             ],
             [
              0.2222222222222222,
              "#7201a8"
             ],
             [
              0.3333333333333333,
              "#9c179e"
             ],
             [
              0.4444444444444444,
              "#bd3786"
             ],
             [
              0.5555555555555556,
              "#d8576b"
             ],
             [
              0.6666666666666666,
              "#ed7953"
             ],
             [
              0.7777777777777778,
              "#fb9f3a"
             ],
             [
              0.8888888888888888,
              "#fdca26"
             ],
             [
              1,
              "#f0f921"
             ]
            ],
            "type": "histogram2d"
           }
          ],
          "histogram2dcontour": [
           {
            "colorbar": {
             "outlinewidth": 0,
             "ticks": ""
            },
            "colorscale": [
             [
              0,
              "#0d0887"
             ],
             [
              0.1111111111111111,
              "#46039f"
             ],
             [
              0.2222222222222222,
              "#7201a8"
             ],
             [
              0.3333333333333333,
              "#9c179e"
             ],
             [
              0.4444444444444444,
              "#bd3786"
             ],
             [
              0.5555555555555556,
              "#d8576b"
             ],
             [
              0.6666666666666666,
              "#ed7953"
             ],
             [
              0.7777777777777778,
              "#fb9f3a"
             ],
             [
              0.8888888888888888,
              "#fdca26"
             ],
             [
              1,
              "#f0f921"
             ]
            ],
            "type": "histogram2dcontour"
           }
          ],
          "mesh3d": [
           {
            "colorbar": {
             "outlinewidth": 0,
             "ticks": ""
            },
            "type": "mesh3d"
           }
          ],
          "parcoords": [
           {
            "line": {
             "colorbar": {
              "outlinewidth": 0,
              "ticks": ""
             }
            },
            "type": "parcoords"
           }
          ],
          "pie": [
           {
            "automargin": true,
            "type": "pie"
           }
          ],
          "scatter": [
           {
            "fillpattern": {
             "fillmode": "overlay",
             "size": 10,
             "solidity": 0.2
            },
            "type": "scatter"
           }
          ],
          "scatter3d": [
           {
            "line": {
             "colorbar": {
              "outlinewidth": 0,
              "ticks": ""
             }
            },
            "marker": {
             "colorbar": {
              "outlinewidth": 0,
              "ticks": ""
             }
            },
            "type": "scatter3d"
           }
          ],
          "scattercarpet": [
           {
            "marker": {
             "colorbar": {
              "outlinewidth": 0,
              "ticks": ""
             }
            },
            "type": "scattercarpet"
           }
          ],
          "scattergeo": [
           {
            "marker": {
             "colorbar": {
              "outlinewidth": 0,
              "ticks": ""
             }
            },
            "type": "scattergeo"
           }
          ],
          "scattergl": [
           {
            "marker": {
             "colorbar": {
              "outlinewidth": 0,
              "ticks": ""
             }
            },
            "type": "scattergl"
           }
          ],
          "scattermap": [
           {
            "marker": {
             "colorbar": {
              "outlinewidth": 0,
              "ticks": ""
             }
            },
            "type": "scattermap"
           }
          ],
          "scattermapbox": [
           {
            "marker": {
             "colorbar": {
              "outlinewidth": 0,
              "ticks": ""
             }
            },
            "type": "scattermapbox"
           }
          ],
          "scatterpolar": [
           {
            "marker": {
             "colorbar": {
              "outlinewidth": 0,
              "ticks": ""
             }
            },
            "type": "scatterpolar"
           }
          ],
          "scatterpolargl": [
           {
            "marker": {
             "colorbar": {
              "outlinewidth": 0,
              "ticks": ""
             }
            },
            "type": "scatterpolargl"
           }
          ],
          "scatterternary": [
           {
            "marker": {
             "colorbar": {
              "outlinewidth": 0,
              "ticks": ""
             }
            },
            "type": "scatterternary"
           }
          ],
          "surface": [
           {
            "colorbar": {
             "outlinewidth": 0,
             "ticks": ""
            },
            "colorscale": [
             [
              0,
              "#0d0887"
             ],
             [
              0.1111111111111111,
              "#46039f"
             ],
             [
              0.2222222222222222,
              "#7201a8"
             ],
             [
              0.3333333333333333,
              "#9c179e"
             ],
             [
              0.4444444444444444,
              "#bd3786"
             ],
             [
              0.5555555555555556,
              "#d8576b"
             ],
             [
              0.6666666666666666,
              "#ed7953"
             ],
             [
              0.7777777777777778,
              "#fb9f3a"
             ],
             [
              0.8888888888888888,
              "#fdca26"
             ],
             [
              1,
              "#f0f921"
             ]
            ],
            "type": "surface"
           }
          ],
          "table": [
           {
            "cells": {
             "fill": {
              "color": "#EBF0F8"
             },
             "line": {
              "color": "white"
             }
            },
            "header": {
             "fill": {
              "color": "#C8D4E3"
             },
             "line": {
              "color": "white"
             }
            },
            "type": "table"
           }
          ]
         },
         "layout": {
          "annotationdefaults": {
           "arrowcolor": "#2a3f5f",
           "arrowhead": 0,
           "arrowwidth": 1
          },
          "autotypenumbers": "strict",
          "coloraxis": {
           "colorbar": {
            "outlinewidth": 0,
            "ticks": ""
           }
          },
          "colorscale": {
           "diverging": [
            [
             0,
             "#8e0152"
            ],
            [
             0.1,
             "#c51b7d"
            ],
            [
             0.2,
             "#de77ae"
            ],
            [
             0.3,
             "#f1b6da"
            ],
            [
             0.4,
             "#fde0ef"
            ],
            [
             0.5,
             "#f7f7f7"
            ],
            [
             0.6,
             "#e6f5d0"
            ],
            [
             0.7,
             "#b8e186"
            ],
            [
             0.8,
             "#7fbc41"
            ],
            [
             0.9,
             "#4d9221"
            ],
            [
             1,
             "#276419"
            ]
           ],
           "sequential": [
            [
             0,
             "#0d0887"
            ],
            [
             0.1111111111111111,
             "#46039f"
            ],
            [
             0.2222222222222222,
             "#7201a8"
            ],
            [
             0.3333333333333333,
             "#9c179e"
            ],
            [
             0.4444444444444444,
             "#bd3786"
            ],
            [
             0.5555555555555556,
             "#d8576b"
            ],
            [
             0.6666666666666666,
             "#ed7953"
            ],
            [
             0.7777777777777778,
             "#fb9f3a"
            ],
            [
             0.8888888888888888,
             "#fdca26"
            ],
            [
             1,
             "#f0f921"
            ]
           ],
           "sequentialminus": [
            [
             0,
             "#0d0887"
            ],
            [
             0.1111111111111111,
             "#46039f"
            ],
            [
             0.2222222222222222,
             "#7201a8"
            ],
            [
             0.3333333333333333,
             "#9c179e"
            ],
            [
             0.4444444444444444,
             "#bd3786"
            ],
            [
             0.5555555555555556,
             "#d8576b"
            ],
            [
             0.6666666666666666,
             "#ed7953"
            ],
            [
             0.7777777777777778,
             "#fb9f3a"
            ],
            [
             0.8888888888888888,
             "#fdca26"
            ],
            [
             1,
             "#f0f921"
            ]
           ]
          },
          "colorway": [
           "#636efa",
           "#EF553B",
           "#00cc96",
           "#ab63fa",
           "#FFA15A",
           "#19d3f3",
           "#FF6692",
           "#B6E880",
           "#FF97FF",
           "#FECB52"
          ],
          "font": {
           "color": "#2a3f5f"
          },
          "geo": {
           "bgcolor": "white",
           "lakecolor": "white",
           "landcolor": "#E5ECF6",
           "showlakes": true,
           "showland": true,
           "subunitcolor": "white"
          },
          "hoverlabel": {
           "align": "left"
          },
          "hovermode": "closest",
          "mapbox": {
           "style": "light"
          },
          "paper_bgcolor": "white",
          "plot_bgcolor": "#E5ECF6",
          "polar": {
           "angularaxis": {
            "gridcolor": "white",
            "linecolor": "white",
            "ticks": ""
           },
           "bgcolor": "#E5ECF6",
           "radialaxis": {
            "gridcolor": "white",
            "linecolor": "white",
            "ticks": ""
           }
          },
          "scene": {
           "xaxis": {
            "backgroundcolor": "#E5ECF6",
            "gridcolor": "white",
            "gridwidth": 2,
            "linecolor": "white",
            "showbackground": true,
            "ticks": "",
            "zerolinecolor": "white"
           },
           "yaxis": {
            "backgroundcolor": "#E5ECF6",
            "gridcolor": "white",
            "gridwidth": 2,
            "linecolor": "white",
            "showbackground": true,
            "ticks": "",
            "zerolinecolor": "white"
           },
           "zaxis": {
            "backgroundcolor": "#E5ECF6",
            "gridcolor": "white",
            "gridwidth": 2,
            "linecolor": "white",
            "showbackground": true,
            "ticks": "",
            "zerolinecolor": "white"
           }
          },
          "shapedefaults": {
           "line": {
            "color": "#2a3f5f"
           }
          },
          "ternary": {
           "aaxis": {
            "gridcolor": "white",
            "linecolor": "white",
            "ticks": ""
           },
           "baxis": {
            "gridcolor": "white",
            "linecolor": "white",
            "ticks": ""
           },
           "bgcolor": "#E5ECF6",
           "caxis": {
            "gridcolor": "white",
            "linecolor": "white",
            "ticks": ""
           }
          },
          "title": {
           "x": 0.05
          },
          "xaxis": {
           "automargin": true,
           "gridcolor": "white",
           "linecolor": "white",
           "ticks": "",
           "title": {
            "standoff": 15
           },
           "zerolinecolor": "white",
           "zerolinewidth": 2
          },
          "yaxis": {
           "automargin": true,
           "gridcolor": "white",
           "linecolor": "white",
           "ticks": "",
           "title": {
            "standoff": 15
           },
           "zerolinecolor": "white",
           "zerolinewidth": 2
          }
         }
        },
        "title": {
         "text": "Median time spent on each PRIMMDebug stage per session"
        },
        "xaxis": {
         "anchor": "y",
         "domain": [
          0,
          1
         ],
         "title": {
          "text": "Session"
         }
        },
        "yaxis": {
         "anchor": "x",
         "domain": [
          0,
          1
         ],
         "title": {
          "text": "Median time (seconds)"
         }
        }
       }
      }
     },
     "metadata": {},
     "output_type": "display_data"
    }
   ],
   "source": [
    "#Time taken for each stage of PRIMMDebug (TODO: Add confidence intervals)\n",
    "time_by_primmdebug_stage = {\"stage\": [], \"time\": []}\n",
    "\n",
    "for stage in STAGE_LOGS:\n",
    "    if stage.stage_name != DebuggingStage.exit:\n",
    "        time_by_primmdebug_stage[\"stage\"].append(stage.stage_name.value)\n",
    "        time_by_primmdebug_stage[\"time\"].append(StageLogProcessor.get_time_on_stage(stage))\n",
    "px.histogram(time_by_primmdebug_stage, x=\"time\", color=\"stage\", nbins=50, marginal=\"box\", labels={\"value\": \"Time taken (seconds)\", \"count\": \"Count\"}, title=\"Time taken per PRIMMDebug stage\").show()\n",
    "\n",
    "# Group times by stage\n",
    "stage_times = defaultdict(list)\n",
    "for stage, time in zip(time_by_primmdebug_stage[\"stage\"], time_by_primmdebug_stage[\"time\"]):\n",
    "    if time is not None:\n",
    "        stage_times[stage].append(time)\n",
    "\n",
    "median_time_by_primmdebug_stage = {\"stage\": [], \"time\": []}\n",
    "for stage in DebuggingStage:\n",
    "    stage_name = stage.value\n",
    "    if stage_name in stage_times and stage_times[stage_name]:\n",
    "        median_time_by_primmdebug_stage[\"stage\"].append(stage_name)\n",
    "        median_time_by_primmdebug_stage[\"time\"].append(median(stage_times[stage_name]))\n",
    "\n",
    "# Print skewness for each stage in median_time_by_primmdebug_stage\n",
    "for stage, median_time in zip(median_time_by_primmdebug_stage[\"stage\"], median_time_by_primmdebug_stage[\"time\"]):\n",
    "    stage_times_list = stage_times[stage]\n",
    "    stage_skewness = stats.skew(stage_times_list, nan_policy='omit')\n",
    "    print(f\"Skewness of times spent on the {stage} stage: {stage_skewness:.2f}\")\n",
    "\n",
    "px.bar(\n",
    "    median_time_by_primmdebug_stage,\n",
    "    x=\"stage\",\n",
    "    y=\"time\",\n",
    "    labels={\"stage\": \"PRIMMDebug stage\", \"time\": \"Median time on stage (seconds)\"},\n",
    "    height=550,\n",
    "    width=700\n",
    ").update_layout(font=dict(size=14)).show()\n",
    "\n",
    "#Time series for time per PRIMMDebug stage\n",
    "median_time_per_stage_per_session = {\"session\": [], \"stage\": [], \"median_time\": []}\n",
    "# Iterate through each session and calculate median time for each stage\n",
    "for session_id, logs in EXERCISE_LOGS_PER_SESSION.items():\n",
    "    stage_times = {stage: [] for stage in DebuggingStage if stage != DebuggingStage.exit}\n",
    "    for log in logs:\n",
    "        for stage_log in log.stage_logs:\n",
    "            if stage_log.stage_name != DebuggingStage.exit:\n",
    "                time_on_stage = StageLogProcessor.get_time_on_stage(stage_log)\n",
    "                if time_on_stage is not None:\n",
    "                    stage_times[stage_log.stage_name].append(time_on_stage)\n",
    "    for stage, times in stage_times.items():\n",
    "        if times:\n",
    "            median_time_per_stage_per_session[\"session\"].append(session_id)\n",
    "            median_time_per_stage_per_session[\"stage\"].append(stage.value)\n",
    "            median_time_per_stage_per_session[\"median_time\"].append(median(times))\n",
    "\n",
    "median_time_per_stage_per_session_df = DataFrame(median_time_per_stage_per_session).sort_values(by=\"session\")\n",
    "px.line(\n",
    "    median_time_per_stage_per_session_df,\n",
    "    x=\"session\",\n",
    "    y=\"median_time\",\n",
    "    color=\"stage\",\n",
    "    labels={\"session\": \"Session\", \"median_time\": \"Median time (seconds)\", \"stage\": \"PRIMMDebug stage\"},\n",
    "    title=\"Median time spent on each PRIMMDebug stage per session\"\n",
    ").show()"
   ]
  },
  {
   "cell_type": "markdown",
   "metadata": {},
   "source": [
    "## 3. Correctness and Outcomes of Exercise Attempts\n",
    "These findings relate to any metrics of success that can be measured, which are described below:\n",
    "- **Successful** challenge attempts: Where the final snapshot of a students' challenge attempt passes all the test harnesses.\n",
    "- Challenge attempts where the final snapshot of a challenge attempt successfully executes (runs without raising error messages). This is different to whether programs passed the test or not; a snapshot could run without raising errors but still be logically correct\n",
    "- **\"Entirely completed\"** challenge attempts: Where the student has reached the final *Make* stage of PRIMM. This required them to self-report their success at the *Test* stage.\n",
    "- Number of *Find the Error* stages where students correctly responded (this was required for all but one of the PRIMMDebug challenges)."
   ]
  },
  {
   "cell_type": "code",
   "execution_count": 6,
   "metadata": {},
   "outputs": [
    {
     "name": "stdout",
     "output_type": "stream",
     "text": [
      "Number of attempts where final program passes test harnesses: 157/372 (42.20%)\n",
      "Proportion of PRIMMDebug challenges where last program run successfully executed: 274/377 (72.68%)\n",
      "Number of entirely completed PRIMMDebug challenges (where students reached the Make stage): 53/377 (14.06%)\n",
      "\n",
      "Number of find the error stages where the correct response was entered (for challenges where students had to pinpoint a line): 364/545 (66.79%)\n",
      "Number of first-time find the error stages where the correct response was entered (for challenges where students had to pinpoint a line): 255/308 (82.79%)\n"
     ]
    }
   ],
   "source": [
    "successful_attempts: int = len([test_report for test_report in test_reports if test_report.n_successful_tests == test_report.n_total_tests])\n",
    "print(f\"Number of attempts where final program passes test harnesses: {display_percentage_string(successful_attempts, len(test_reports))}\")\n",
    "\n",
    "final_program_states: list[bool] = [ExerciseLogProcessor.is_final_program_erroneous(exercise) for exercise in EXERCISE_LOGS]\n",
    "number_successful_final_program_states: list[bool] = len([final_program_state for final_program_state in final_program_states if final_program_state])\n",
    "print(f\"Proportion of PRIMMDebug challenges where last program run successfully executed: {display_percentage_string(number_successful_final_program_states, len(EXERCISE_LOGS))}\")\n",
    "\n",
    "number_completed_exercises: int = len([exercise_log for exercise_log in EXERCISE_LOGS if ExerciseLogProcessor.get_last_stage(exercise_log).stage_name == DebuggingStage.modify])\n",
    "print(f\"Number of entirely completed PRIMMDebug challenges (where students reached the Make stage): {display_percentage_string(number_completed_exercises, len(EXERCISE_LOGS))}\\n\")\n",
    "\n",
    "find_error_stages_with_correct_field: list[StageLog] = [stage_log for stage_log in STAGE_LOGS if stage_log.stage_name == DebuggingStage.find_error and stage_log.correct is not None]\n",
    "correct_find_error_stages: int = len([stage_log for stage_log in find_error_stages_with_correct_field if stage_log.correct])\n",
    "print(f\"Number of find the error stages where the correct response was entered (for challenges where students had to pinpoint a line): {display_percentage_string(correct_find_error_stages, len(find_error_stages_with_correct_field))}\")\n",
    "\n",
    "first_find_error_stages_with_correct_field: list[StageLog] = [ExerciseLogProcessor.get_first_find_the_error_stage(exercise_log) for exercise_log in EXERCISE_LOGS if ExerciseLogProcessor.get_first_find_the_error_stage(exercise_log) is not None and ExerciseLogProcessor.get_first_find_the_error_stage(exercise_log).correct is not None]\n",
    "correct_first_find_error_stages: int = len([stage_log for stage_log in first_find_error_stages_with_correct_field if stage_log.correct])\n",
    "print(f\"Number of first-time find the error stages where the correct response was entered (for challenges where students had to pinpoint a line): {display_percentage_string(correct_first_find_error_stages, len(first_find_error_stages_with_correct_field))}\")"
   ]
  },
  {
   "cell_type": "markdown",
   "metadata": {},
   "source": [
    "### Differences in correctness\n",
    "These figures give more context as to how some of these measures change over time."
   ]
  },
  {
   "cell_type": "code",
   "execution_count": 7,
   "metadata": {},
   "outputs": [
    {
     "data": {
      "application/vnd.plotly.v1+json": {
       "config": {
        "plotlyServerURL": "https://plot.ly"
       },
       "data": [
        {
         "fill": "tozeroy",
         "mode": "lines",
         "name": "Total",
         "type": "scatter",
         "x": {
          "bdata": "AQIDBAUG",
          "dtype": "i1"
         },
         "y": {
          "bdata": "tgBOACsAHQAfAAkA",
          "dtype": "i2"
         }
        },
        {
         "fill": "tozeroy",
         "mode": "lines",
         "name": "Correctness",
         "type": "scatter",
         "x": {
          "bdata": "AQIDBAUG",
          "dtype": "i1"
         },
         "y": {
          "bdata": "PSUaDg8E",
          "dtype": "i1"
         }
        }
       ],
       "layout": {
        "legend": {
         "title": {
          "text": "Metric"
         }
        },
        "template": {
         "data": {
          "bar": [
           {
            "error_x": {
             "color": "#2a3f5f"
            },
            "error_y": {
             "color": "#2a3f5f"
            },
            "marker": {
             "line": {
              "color": "#E5ECF6",
              "width": 0.5
             },
             "pattern": {
              "fillmode": "overlay",
              "size": 10,
              "solidity": 0.2
             }
            },
            "type": "bar"
           }
          ],
          "barpolar": [
           {
            "marker": {
             "line": {
              "color": "#E5ECF6",
              "width": 0.5
             },
             "pattern": {
              "fillmode": "overlay",
              "size": 10,
              "solidity": 0.2
             }
            },
            "type": "barpolar"
           }
          ],
          "carpet": [
           {
            "aaxis": {
             "endlinecolor": "#2a3f5f",
             "gridcolor": "white",
             "linecolor": "white",
             "minorgridcolor": "white",
             "startlinecolor": "#2a3f5f"
            },
            "baxis": {
             "endlinecolor": "#2a3f5f",
             "gridcolor": "white",
             "linecolor": "white",
             "minorgridcolor": "white",
             "startlinecolor": "#2a3f5f"
            },
            "type": "carpet"
           }
          ],
          "choropleth": [
           {
            "colorbar": {
             "outlinewidth": 0,
             "ticks": ""
            },
            "type": "choropleth"
           }
          ],
          "contour": [
           {
            "colorbar": {
             "outlinewidth": 0,
             "ticks": ""
            },
            "colorscale": [
             [
              0,
              "#0d0887"
             ],
             [
              0.1111111111111111,
              "#46039f"
             ],
             [
              0.2222222222222222,
              "#7201a8"
             ],
             [
              0.3333333333333333,
              "#9c179e"
             ],
             [
              0.4444444444444444,
              "#bd3786"
             ],
             [
              0.5555555555555556,
              "#d8576b"
             ],
             [
              0.6666666666666666,
              "#ed7953"
             ],
             [
              0.7777777777777778,
              "#fb9f3a"
             ],
             [
              0.8888888888888888,
              "#fdca26"
             ],
             [
              1,
              "#f0f921"
             ]
            ],
            "type": "contour"
           }
          ],
          "contourcarpet": [
           {
            "colorbar": {
             "outlinewidth": 0,
             "ticks": ""
            },
            "type": "contourcarpet"
           }
          ],
          "heatmap": [
           {
            "colorbar": {
             "outlinewidth": 0,
             "ticks": ""
            },
            "colorscale": [
             [
              0,
              "#0d0887"
             ],
             [
              0.1111111111111111,
              "#46039f"
             ],
             [
              0.2222222222222222,
              "#7201a8"
             ],
             [
              0.3333333333333333,
              "#9c179e"
             ],
             [
              0.4444444444444444,
              "#bd3786"
             ],
             [
              0.5555555555555556,
              "#d8576b"
             ],
             [
              0.6666666666666666,
              "#ed7953"
             ],
             [
              0.7777777777777778,
              "#fb9f3a"
             ],
             [
              0.8888888888888888,
              "#fdca26"
             ],
             [
              1,
              "#f0f921"
             ]
            ],
            "type": "heatmap"
           }
          ],
          "histogram": [
           {
            "marker": {
             "pattern": {
              "fillmode": "overlay",
              "size": 10,
              "solidity": 0.2
             }
            },
            "type": "histogram"
           }
          ],
          "histogram2d": [
           {
            "colorbar": {
             "outlinewidth": 0,
             "ticks": ""
            },
            "colorscale": [
             [
              0,
              "#0d0887"
             ],
             [
              0.1111111111111111,
              "#46039f"
             ],
             [
              0.2222222222222222,
              "#7201a8"
             ],
             [
              0.3333333333333333,
              "#9c179e"
             ],
             [
              0.4444444444444444,
              "#bd3786"
             ],
             [
              0.5555555555555556,
              "#d8576b"
             ],
             [
              0.6666666666666666,
              "#ed7953"
             ],
             [
              0.7777777777777778,
              "#fb9f3a"
             ],
             [
              0.8888888888888888,
              "#fdca26"
             ],
             [
              1,
              "#f0f921"
             ]
            ],
            "type": "histogram2d"
           }
          ],
          "histogram2dcontour": [
           {
            "colorbar": {
             "outlinewidth": 0,
             "ticks": ""
            },
            "colorscale": [
             [
              0,
              "#0d0887"
             ],
             [
              0.1111111111111111,
              "#46039f"
             ],
             [
              0.2222222222222222,
              "#7201a8"
             ],
             [
              0.3333333333333333,
              "#9c179e"
             ],
             [
              0.4444444444444444,
              "#bd3786"
             ],
             [
              0.5555555555555556,
              "#d8576b"
             ],
             [
              0.6666666666666666,
              "#ed7953"
             ],
             [
              0.7777777777777778,
              "#fb9f3a"
             ],
             [
              0.8888888888888888,
              "#fdca26"
             ],
             [
              1,
              "#f0f921"
             ]
            ],
            "type": "histogram2dcontour"
           }
          ],
          "mesh3d": [
           {
            "colorbar": {
             "outlinewidth": 0,
             "ticks": ""
            },
            "type": "mesh3d"
           }
          ],
          "parcoords": [
           {
            "line": {
             "colorbar": {
              "outlinewidth": 0,
              "ticks": ""
             }
            },
            "type": "parcoords"
           }
          ],
          "pie": [
           {
            "automargin": true,
            "type": "pie"
           }
          ],
          "scatter": [
           {
            "fillpattern": {
             "fillmode": "overlay",
             "size": 10,
             "solidity": 0.2
            },
            "type": "scatter"
           }
          ],
          "scatter3d": [
           {
            "line": {
             "colorbar": {
              "outlinewidth": 0,
              "ticks": ""
             }
            },
            "marker": {
             "colorbar": {
              "outlinewidth": 0,
              "ticks": ""
             }
            },
            "type": "scatter3d"
           }
          ],
          "scattercarpet": [
           {
            "marker": {
             "colorbar": {
              "outlinewidth": 0,
              "ticks": ""
             }
            },
            "type": "scattercarpet"
           }
          ],
          "scattergeo": [
           {
            "marker": {
             "colorbar": {
              "outlinewidth": 0,
              "ticks": ""
             }
            },
            "type": "scattergeo"
           }
          ],
          "scattergl": [
           {
            "marker": {
             "colorbar": {
              "outlinewidth": 0,
              "ticks": ""
             }
            },
            "type": "scattergl"
           }
          ],
          "scattermap": [
           {
            "marker": {
             "colorbar": {
              "outlinewidth": 0,
              "ticks": ""
             }
            },
            "type": "scattermap"
           }
          ],
          "scattermapbox": [
           {
            "marker": {
             "colorbar": {
              "outlinewidth": 0,
              "ticks": ""
             }
            },
            "type": "scattermapbox"
           }
          ],
          "scatterpolar": [
           {
            "marker": {
             "colorbar": {
              "outlinewidth": 0,
              "ticks": ""
             }
            },
            "type": "scatterpolar"
           }
          ],
          "scatterpolargl": [
           {
            "marker": {
             "colorbar": {
              "outlinewidth": 0,
              "ticks": ""
             }
            },
            "type": "scatterpolargl"
           }
          ],
          "scatterternary": [
           {
            "marker": {
             "colorbar": {
              "outlinewidth": 0,
              "ticks": ""
             }
            },
            "type": "scatterternary"
           }
          ],
          "surface": [
           {
            "colorbar": {
             "outlinewidth": 0,
             "ticks": ""
            },
            "colorscale": [
             [
              0,
              "#0d0887"
             ],
             [
              0.1111111111111111,
              "#46039f"
             ],
             [
              0.2222222222222222,
              "#7201a8"
             ],
             [
              0.3333333333333333,
              "#9c179e"
             ],
             [
              0.4444444444444444,
              "#bd3786"
             ],
             [
              0.5555555555555556,
              "#d8576b"
             ],
             [
              0.6666666666666666,
              "#ed7953"
             ],
             [
              0.7777777777777778,
              "#fb9f3a"
             ],
             [
              0.8888888888888888,
              "#fdca26"
             ],
             [
              1,
              "#f0f921"
             ]
            ],
            "type": "surface"
           }
          ],
          "table": [
           {
            "cells": {
             "fill": {
              "color": "#EBF0F8"
             },
             "line": {
              "color": "white"
             }
            },
            "header": {
             "fill": {
              "color": "#C8D4E3"
             },
             "line": {
              "color": "white"
             }
            },
            "type": "table"
           }
          ]
         },
         "layout": {
          "annotationdefaults": {
           "arrowcolor": "#2a3f5f",
           "arrowhead": 0,
           "arrowwidth": 1
          },
          "autotypenumbers": "strict",
          "coloraxis": {
           "colorbar": {
            "outlinewidth": 0,
            "ticks": ""
           }
          },
          "colorscale": {
           "diverging": [
            [
             0,
             "#8e0152"
            ],
            [
             0.1,
             "#c51b7d"
            ],
            [
             0.2,
             "#de77ae"
            ],
            [
             0.3,
             "#f1b6da"
            ],
            [
             0.4,
             "#fde0ef"
            ],
            [
             0.5,
             "#f7f7f7"
            ],
            [
             0.6,
             "#e6f5d0"
            ],
            [
             0.7,
             "#b8e186"
            ],
            [
             0.8,
             "#7fbc41"
            ],
            [
             0.9,
             "#4d9221"
            ],
            [
             1,
             "#276419"
            ]
           ],
           "sequential": [
            [
             0,
             "#0d0887"
            ],
            [
             0.1111111111111111,
             "#46039f"
            ],
            [
             0.2222222222222222,
             "#7201a8"
            ],
            [
             0.3333333333333333,
             "#9c179e"
            ],
            [
             0.4444444444444444,
             "#bd3786"
            ],
            [
             0.5555555555555556,
             "#d8576b"
            ],
            [
             0.6666666666666666,
             "#ed7953"
            ],
            [
             0.7777777777777778,
             "#fb9f3a"
            ],
            [
             0.8888888888888888,
             "#fdca26"
            ],
            [
             1,
             "#f0f921"
            ]
           ],
           "sequentialminus": [
            [
             0,
             "#0d0887"
            ],
            [
             0.1111111111111111,
             "#46039f"
            ],
            [
             0.2222222222222222,
             "#7201a8"
            ],
            [
             0.3333333333333333,
             "#9c179e"
            ],
            [
             0.4444444444444444,
             "#bd3786"
            ],
            [
             0.5555555555555556,
             "#d8576b"
            ],
            [
             0.6666666666666666,
             "#ed7953"
            ],
            [
             0.7777777777777778,
             "#fb9f3a"
            ],
            [
             0.8888888888888888,
             "#fdca26"
            ],
            [
             1,
             "#f0f921"
            ]
           ]
          },
          "colorway": [
           "#636efa",
           "#EF553B",
           "#00cc96",
           "#ab63fa",
           "#FFA15A",
           "#19d3f3",
           "#FF6692",
           "#B6E880",
           "#FF97FF",
           "#FECB52"
          ],
          "font": {
           "color": "#2a3f5f"
          },
          "geo": {
           "bgcolor": "white",
           "lakecolor": "white",
           "landcolor": "#E5ECF6",
           "showlakes": true,
           "showland": true,
           "subunitcolor": "white"
          },
          "hoverlabel": {
           "align": "left"
          },
          "hovermode": "closest",
          "mapbox": {
           "style": "light"
          },
          "paper_bgcolor": "white",
          "plot_bgcolor": "#E5ECF6",
          "polar": {
           "angularaxis": {
            "gridcolor": "white",
            "linecolor": "white",
            "ticks": ""
           },
           "bgcolor": "#E5ECF6",
           "radialaxis": {
            "gridcolor": "white",
            "linecolor": "white",
            "ticks": ""
           }
          },
          "scene": {
           "xaxis": {
            "backgroundcolor": "#E5ECF6",
            "gridcolor": "white",
            "gridwidth": 2,
            "linecolor": "white",
            "showbackground": true,
            "ticks": "",
            "zerolinecolor": "white"
           },
           "yaxis": {
            "backgroundcolor": "#E5ECF6",
            "gridcolor": "white",
            "gridwidth": 2,
            "linecolor": "white",
            "showbackground": true,
            "ticks": "",
            "zerolinecolor": "white"
           },
           "zaxis": {
            "backgroundcolor": "#E5ECF6",
            "gridcolor": "white",
            "gridwidth": 2,
            "linecolor": "white",
            "showbackground": true,
            "ticks": "",
            "zerolinecolor": "white"
           }
          },
          "shapedefaults": {
           "line": {
            "color": "#2a3f5f"
           }
          },
          "ternary": {
           "aaxis": {
            "gridcolor": "white",
            "linecolor": "white",
            "ticks": ""
           },
           "baxis": {
            "gridcolor": "white",
            "linecolor": "white",
            "ticks": ""
           },
           "bgcolor": "#E5ECF6",
           "caxis": {
            "gridcolor": "white",
            "linecolor": "white",
            "ticks": ""
           }
          },
          "title": {
           "x": 0.05
          },
          "xaxis": {
           "automargin": true,
           "gridcolor": "white",
           "linecolor": "white",
           "ticks": "",
           "title": {
            "standoff": 15
           },
           "zerolinecolor": "white",
           "zerolinewidth": 2
          },
          "yaxis": {
           "automargin": true,
           "gridcolor": "white",
           "linecolor": "white",
           "ticks": "",
           "title": {
            "standoff": 15
           },
           "zerolinecolor": "white",
           "zerolinewidth": 2
          }
         }
        },
        "title": {
         "text": "Change in Correctness and Total Attempts Over Sessions"
        },
        "xaxis": {
         "title": {
          "text": "Session"
         }
        },
        "yaxis": {
         "title": {
          "text": "Count"
         }
        }
       }
      }
     },
     "metadata": {},
     "output_type": "display_data"
    },
    {
     "data": {
      "application/vnd.plotly.v1+json": {
       "config": {
        "plotlyServerURL": "https://plot.ly"
       },
       "data": [
        {
         "hovertemplate": "Session=%{x}<br>Percent Correct=%{y}<extra></extra>",
         "legendgroup": "",
         "line": {
          "color": "#636efa",
          "dash": "solid"
         },
         "marker": {
          "symbol": "circle"
         },
         "mode": "lines",
         "name": "",
         "orientation": "v",
         "showlegend": false,
         "type": "scatter",
         "x": {
          "bdata": "AQIDBAUG",
          "dtype": "i1"
         },
         "xaxis": "x",
         "y": {
          "bdata": "IRzCIRzCQEB8y7d8y7dHQI64I+6IO05A9zTCck8jSEAyxhhjjDFIQI7jOI7jOEZA",
          "dtype": "f8"
         },
         "yaxis": "y"
        }
       ],
       "layout": {
        "legend": {
         "tracegroupgap": 0
        },
        "template": {
         "data": {
          "bar": [
           {
            "error_x": {
             "color": "#2a3f5f"
            },
            "error_y": {
             "color": "#2a3f5f"
            },
            "marker": {
             "line": {
              "color": "#E5ECF6",
              "width": 0.5
             },
             "pattern": {
              "fillmode": "overlay",
              "size": 10,
              "solidity": 0.2
             }
            },
            "type": "bar"
           }
          ],
          "barpolar": [
           {
            "marker": {
             "line": {
              "color": "#E5ECF6",
              "width": 0.5
             },
             "pattern": {
              "fillmode": "overlay",
              "size": 10,
              "solidity": 0.2
             }
            },
            "type": "barpolar"
           }
          ],
          "carpet": [
           {
            "aaxis": {
             "endlinecolor": "#2a3f5f",
             "gridcolor": "white",
             "linecolor": "white",
             "minorgridcolor": "white",
             "startlinecolor": "#2a3f5f"
            },
            "baxis": {
             "endlinecolor": "#2a3f5f",
             "gridcolor": "white",
             "linecolor": "white",
             "minorgridcolor": "white",
             "startlinecolor": "#2a3f5f"
            },
            "type": "carpet"
           }
          ],
          "choropleth": [
           {
            "colorbar": {
             "outlinewidth": 0,
             "ticks": ""
            },
            "type": "choropleth"
           }
          ],
          "contour": [
           {
            "colorbar": {
             "outlinewidth": 0,
             "ticks": ""
            },
            "colorscale": [
             [
              0,
              "#0d0887"
             ],
             [
              0.1111111111111111,
              "#46039f"
             ],
             [
              0.2222222222222222,
              "#7201a8"
             ],
             [
              0.3333333333333333,
              "#9c179e"
             ],
             [
              0.4444444444444444,
              "#bd3786"
             ],
             [
              0.5555555555555556,
              "#d8576b"
             ],
             [
              0.6666666666666666,
              "#ed7953"
             ],
             [
              0.7777777777777778,
              "#fb9f3a"
             ],
             [
              0.8888888888888888,
              "#fdca26"
             ],
             [
              1,
              "#f0f921"
             ]
            ],
            "type": "contour"
           }
          ],
          "contourcarpet": [
           {
            "colorbar": {
             "outlinewidth": 0,
             "ticks": ""
            },
            "type": "contourcarpet"
           }
          ],
          "heatmap": [
           {
            "colorbar": {
             "outlinewidth": 0,
             "ticks": ""
            },
            "colorscale": [
             [
              0,
              "#0d0887"
             ],
             [
              0.1111111111111111,
              "#46039f"
             ],
             [
              0.2222222222222222,
              "#7201a8"
             ],
             [
              0.3333333333333333,
              "#9c179e"
             ],
             [
              0.4444444444444444,
              "#bd3786"
             ],
             [
              0.5555555555555556,
              "#d8576b"
             ],
             [
              0.6666666666666666,
              "#ed7953"
             ],
             [
              0.7777777777777778,
              "#fb9f3a"
             ],
             [
              0.8888888888888888,
              "#fdca26"
             ],
             [
              1,
              "#f0f921"
             ]
            ],
            "type": "heatmap"
           }
          ],
          "histogram": [
           {
            "marker": {
             "pattern": {
              "fillmode": "overlay",
              "size": 10,
              "solidity": 0.2
             }
            },
            "type": "histogram"
           }
          ],
          "histogram2d": [
           {
            "colorbar": {
             "outlinewidth": 0,
             "ticks": ""
            },
            "colorscale": [
             [
              0,
              "#0d0887"
             ],
             [
              0.1111111111111111,
              "#46039f"
             ],
             [
              0.2222222222222222,
              "#7201a8"
             ],
             [
              0.3333333333333333,
              "#9c179e"
             ],
             [
              0.4444444444444444,
              "#bd3786"
             ],
             [
              0.5555555555555556,
              "#d8576b"
             ],
             [
              0.6666666666666666,
              "#ed7953"
             ],
             [
              0.7777777777777778,
              "#fb9f3a"
             ],
             [
              0.8888888888888888,
              "#fdca26"
             ],
             [
              1,
              "#f0f921"
             ]
            ],
            "type": "histogram2d"
           }
          ],
          "histogram2dcontour": [
           {
            "colorbar": {
             "outlinewidth": 0,
             "ticks": ""
            },
            "colorscale": [
             [
              0,
              "#0d0887"
             ],
             [
              0.1111111111111111,
              "#46039f"
             ],
             [
              0.2222222222222222,
              "#7201a8"
             ],
             [
              0.3333333333333333,
              "#9c179e"
             ],
             [
              0.4444444444444444,
              "#bd3786"
             ],
             [
              0.5555555555555556,
              "#d8576b"
             ],
             [
              0.6666666666666666,
              "#ed7953"
             ],
             [
              0.7777777777777778,
              "#fb9f3a"
             ],
             [
              0.8888888888888888,
              "#fdca26"
             ],
             [
              1,
              "#f0f921"
             ]
            ],
            "type": "histogram2dcontour"
           }
          ],
          "mesh3d": [
           {
            "colorbar": {
             "outlinewidth": 0,
             "ticks": ""
            },
            "type": "mesh3d"
           }
          ],
          "parcoords": [
           {
            "line": {
             "colorbar": {
              "outlinewidth": 0,
              "ticks": ""
             }
            },
            "type": "parcoords"
           }
          ],
          "pie": [
           {
            "automargin": true,
            "type": "pie"
           }
          ],
          "scatter": [
           {
            "fillpattern": {
             "fillmode": "overlay",
             "size": 10,
             "solidity": 0.2
            },
            "type": "scatter"
           }
          ],
          "scatter3d": [
           {
            "line": {
             "colorbar": {
              "outlinewidth": 0,
              "ticks": ""
             }
            },
            "marker": {
             "colorbar": {
              "outlinewidth": 0,
              "ticks": ""
             }
            },
            "type": "scatter3d"
           }
          ],
          "scattercarpet": [
           {
            "marker": {
             "colorbar": {
              "outlinewidth": 0,
              "ticks": ""
             }
            },
            "type": "scattercarpet"
           }
          ],
          "scattergeo": [
           {
            "marker": {
             "colorbar": {
              "outlinewidth": 0,
              "ticks": ""
             }
            },
            "type": "scattergeo"
           }
          ],
          "scattergl": [
           {
            "marker": {
             "colorbar": {
              "outlinewidth": 0,
              "ticks": ""
             }
            },
            "type": "scattergl"
           }
          ],
          "scattermap": [
           {
            "marker": {
             "colorbar": {
              "outlinewidth": 0,
              "ticks": ""
             }
            },
            "type": "scattermap"
           }
          ],
          "scattermapbox": [
           {
            "marker": {
             "colorbar": {
              "outlinewidth": 0,
              "ticks": ""
             }
            },
            "type": "scattermapbox"
           }
          ],
          "scatterpolar": [
           {
            "marker": {
             "colorbar": {
              "outlinewidth": 0,
              "ticks": ""
             }
            },
            "type": "scatterpolar"
           }
          ],
          "scatterpolargl": [
           {
            "marker": {
             "colorbar": {
              "outlinewidth": 0,
              "ticks": ""
             }
            },
            "type": "scatterpolargl"
           }
          ],
          "scatterternary": [
           {
            "marker": {
             "colorbar": {
              "outlinewidth": 0,
              "ticks": ""
             }
            },
            "type": "scatterternary"
           }
          ],
          "surface": [
           {
            "colorbar": {
             "outlinewidth": 0,
             "ticks": ""
            },
            "colorscale": [
             [
              0,
              "#0d0887"
             ],
             [
              0.1111111111111111,
              "#46039f"
             ],
             [
              0.2222222222222222,
              "#7201a8"
             ],
             [
              0.3333333333333333,
              "#9c179e"
             ],
             [
              0.4444444444444444,
              "#bd3786"
             ],
             [
              0.5555555555555556,
              "#d8576b"
             ],
             [
              0.6666666666666666,
              "#ed7953"
             ],
             [
              0.7777777777777778,
              "#fb9f3a"
             ],
             [
              0.8888888888888888,
              "#fdca26"
             ],
             [
              1,
              "#f0f921"
             ]
            ],
            "type": "surface"
           }
          ],
          "table": [
           {
            "cells": {
             "fill": {
              "color": "#EBF0F8"
             },
             "line": {
              "color": "white"
             }
            },
            "header": {
             "fill": {
              "color": "#C8D4E3"
             },
             "line": {
              "color": "white"
             }
            },
            "type": "table"
           }
          ]
         },
         "layout": {
          "annotationdefaults": {
           "arrowcolor": "#2a3f5f",
           "arrowhead": 0,
           "arrowwidth": 1
          },
          "autotypenumbers": "strict",
          "coloraxis": {
           "colorbar": {
            "outlinewidth": 0,
            "ticks": ""
           }
          },
          "colorscale": {
           "diverging": [
            [
             0,
             "#8e0152"
            ],
            [
             0.1,
             "#c51b7d"
            ],
            [
             0.2,
             "#de77ae"
            ],
            [
             0.3,
             "#f1b6da"
            ],
            [
             0.4,
             "#fde0ef"
            ],
            [
             0.5,
             "#f7f7f7"
            ],
            [
             0.6,
             "#e6f5d0"
            ],
            [
             0.7,
             "#b8e186"
            ],
            [
             0.8,
             "#7fbc41"
            ],
            [
             0.9,
             "#4d9221"
            ],
            [
             1,
             "#276419"
            ]
           ],
           "sequential": [
            [
             0,
             "#0d0887"
            ],
            [
             0.1111111111111111,
             "#46039f"
            ],
            [
             0.2222222222222222,
             "#7201a8"
            ],
            [
             0.3333333333333333,
             "#9c179e"
            ],
            [
             0.4444444444444444,
             "#bd3786"
            ],
            [
             0.5555555555555556,
             "#d8576b"
            ],
            [
             0.6666666666666666,
             "#ed7953"
            ],
            [
             0.7777777777777778,
             "#fb9f3a"
            ],
            [
             0.8888888888888888,
             "#fdca26"
            ],
            [
             1,
             "#f0f921"
            ]
           ],
           "sequentialminus": [
            [
             0,
             "#0d0887"
            ],
            [
             0.1111111111111111,
             "#46039f"
            ],
            [
             0.2222222222222222,
             "#7201a8"
            ],
            [
             0.3333333333333333,
             "#9c179e"
            ],
            [
             0.4444444444444444,
             "#bd3786"
            ],
            [
             0.5555555555555556,
             "#d8576b"
            ],
            [
             0.6666666666666666,
             "#ed7953"
            ],
            [
             0.7777777777777778,
             "#fb9f3a"
            ],
            [
             0.8888888888888888,
             "#fdca26"
            ],
            [
             1,
             "#f0f921"
            ]
           ]
          },
          "colorway": [
           "#636efa",
           "#EF553B",
           "#00cc96",
           "#ab63fa",
           "#FFA15A",
           "#19d3f3",
           "#FF6692",
           "#B6E880",
           "#FF97FF",
           "#FECB52"
          ],
          "font": {
           "color": "#2a3f5f"
          },
          "geo": {
           "bgcolor": "white",
           "lakecolor": "white",
           "landcolor": "#E5ECF6",
           "showlakes": true,
           "showland": true,
           "subunitcolor": "white"
          },
          "hoverlabel": {
           "align": "left"
          },
          "hovermode": "closest",
          "mapbox": {
           "style": "light"
          },
          "paper_bgcolor": "white",
          "plot_bgcolor": "#E5ECF6",
          "polar": {
           "angularaxis": {
            "gridcolor": "white",
            "linecolor": "white",
            "ticks": ""
           },
           "bgcolor": "#E5ECF6",
           "radialaxis": {
            "gridcolor": "white",
            "linecolor": "white",
            "ticks": ""
           }
          },
          "scene": {
           "xaxis": {
            "backgroundcolor": "#E5ECF6",
            "gridcolor": "white",
            "gridwidth": 2,
            "linecolor": "white",
            "showbackground": true,
            "ticks": "",
            "zerolinecolor": "white"
           },
           "yaxis": {
            "backgroundcolor": "#E5ECF6",
            "gridcolor": "white",
            "gridwidth": 2,
            "linecolor": "white",
            "showbackground": true,
            "ticks": "",
            "zerolinecolor": "white"
           },
           "zaxis": {
            "backgroundcolor": "#E5ECF6",
            "gridcolor": "white",
            "gridwidth": 2,
            "linecolor": "white",
            "showbackground": true,
            "ticks": "",
            "zerolinecolor": "white"
           }
          },
          "shapedefaults": {
           "line": {
            "color": "#2a3f5f"
           }
          },
          "ternary": {
           "aaxis": {
            "gridcolor": "white",
            "linecolor": "white",
            "ticks": ""
           },
           "baxis": {
            "gridcolor": "white",
            "linecolor": "white",
            "ticks": ""
           },
           "bgcolor": "#E5ECF6",
           "caxis": {
            "gridcolor": "white",
            "linecolor": "white",
            "ticks": ""
           }
          },
          "title": {
           "x": 0.05
          },
          "xaxis": {
           "automargin": true,
           "gridcolor": "white",
           "linecolor": "white",
           "ticks": "",
           "title": {
            "standoff": 15
           },
           "zerolinecolor": "white",
           "zerolinewidth": 2
          },
          "yaxis": {
           "automargin": true,
           "gridcolor": "white",
           "linecolor": "white",
           "ticks": "",
           "title": {
            "standoff": 15
           },
           "zerolinecolor": "white",
           "zerolinewidth": 2
          }
         }
        },
        "title": {
         "text": "Change in correctness over sessions"
        },
        "xaxis": {
         "anchor": "y",
         "domain": [
          0,
          1
         ],
         "title": {
          "text": "Session"
         }
        },
        "yaxis": {
         "anchor": "x",
         "domain": [
          0,
          1
         ],
         "title": {
          "text": "Percent Correct"
         }
        }
       }
      }
     },
     "metadata": {},
     "output_type": "display_data"
    },
    {
     "data": {
      "application/vnd.plotly.v1+json": {
       "config": {
        "plotlyServerURL": "https://plot.ly"
       },
       "data": [
        {
         "hovertemplate": "Session=%{x}<br>Percent Correct=%{y}<extra></extra>",
         "legendgroup": "",
         "line": {
          "color": "#636efa",
          "dash": "solid"
         },
         "marker": {
          "symbol": "circle"
         },
         "mode": "lines",
         "name": "",
         "orientation": "v",
         "showlegend": false,
         "type": "scatter",
         "x": {
          "bdata": "AQIDBAUG",
          "dtype": "i1"
         },
         "xaxis": "x",
         "y": {
          "bdata": "AAAAAAAAVEDFTuzETuxVQOdjcD4G51JAkiRJkiSJVEAkSZIkSZJMQI7jOI7jOEZA",
          "dtype": "f8"
         },
         "yaxis": "y"
        }
       ],
       "layout": {
        "legend": {
         "tracegroupgap": 0
        },
        "template": {
         "data": {
          "bar": [
           {
            "error_x": {
             "color": "#2a3f5f"
            },
            "error_y": {
             "color": "#2a3f5f"
            },
            "marker": {
             "line": {
              "color": "#E5ECF6",
              "width": 0.5
             },
             "pattern": {
              "fillmode": "overlay",
              "size": 10,
              "solidity": 0.2
             }
            },
            "type": "bar"
           }
          ],
          "barpolar": [
           {
            "marker": {
             "line": {
              "color": "#E5ECF6",
              "width": 0.5
             },
             "pattern": {
              "fillmode": "overlay",
              "size": 10,
              "solidity": 0.2
             }
            },
            "type": "barpolar"
           }
          ],
          "carpet": [
           {
            "aaxis": {
             "endlinecolor": "#2a3f5f",
             "gridcolor": "white",
             "linecolor": "white",
             "minorgridcolor": "white",
             "startlinecolor": "#2a3f5f"
            },
            "baxis": {
             "endlinecolor": "#2a3f5f",
             "gridcolor": "white",
             "linecolor": "white",
             "minorgridcolor": "white",
             "startlinecolor": "#2a3f5f"
            },
            "type": "carpet"
           }
          ],
          "choropleth": [
           {
            "colorbar": {
             "outlinewidth": 0,
             "ticks": ""
            },
            "type": "choropleth"
           }
          ],
          "contour": [
           {
            "colorbar": {
             "outlinewidth": 0,
             "ticks": ""
            },
            "colorscale": [
             [
              0,
              "#0d0887"
             ],
             [
              0.1111111111111111,
              "#46039f"
             ],
             [
              0.2222222222222222,
              "#7201a8"
             ],
             [
              0.3333333333333333,
              "#9c179e"
             ],
             [
              0.4444444444444444,
              "#bd3786"
             ],
             [
              0.5555555555555556,
              "#d8576b"
             ],
             [
              0.6666666666666666,
              "#ed7953"
             ],
             [
              0.7777777777777778,
              "#fb9f3a"
             ],
             [
              0.8888888888888888,
              "#fdca26"
             ],
             [
              1,
              "#f0f921"
             ]
            ],
            "type": "contour"
           }
          ],
          "contourcarpet": [
           {
            "colorbar": {
             "outlinewidth": 0,
             "ticks": ""
            },
            "type": "contourcarpet"
           }
          ],
          "heatmap": [
           {
            "colorbar": {
             "outlinewidth": 0,
             "ticks": ""
            },
            "colorscale": [
             [
              0,
              "#0d0887"
             ],
             [
              0.1111111111111111,
              "#46039f"
             ],
             [
              0.2222222222222222,
              "#7201a8"
             ],
             [
              0.3333333333333333,
              "#9c179e"
             ],
             [
              0.4444444444444444,
              "#bd3786"
             ],
             [
              0.5555555555555556,
              "#d8576b"
             ],
             [
              0.6666666666666666,
              "#ed7953"
             ],
             [
              0.7777777777777778,
              "#fb9f3a"
             ],
             [
              0.8888888888888888,
              "#fdca26"
             ],
             [
              1,
              "#f0f921"
             ]
            ],
            "type": "heatmap"
           }
          ],
          "histogram": [
           {
            "marker": {
             "pattern": {
              "fillmode": "overlay",
              "size": 10,
              "solidity": 0.2
             }
            },
            "type": "histogram"
           }
          ],
          "histogram2d": [
           {
            "colorbar": {
             "outlinewidth": 0,
             "ticks": ""
            },
            "colorscale": [
             [
              0,
              "#0d0887"
             ],
             [
              0.1111111111111111,
              "#46039f"
             ],
             [
              0.2222222222222222,
              "#7201a8"
             ],
             [
              0.3333333333333333,
              "#9c179e"
             ],
             [
              0.4444444444444444,
              "#bd3786"
             ],
             [
              0.5555555555555556,
              "#d8576b"
             ],
             [
              0.6666666666666666,
              "#ed7953"
             ],
             [
              0.7777777777777778,
              "#fb9f3a"
             ],
             [
              0.8888888888888888,
              "#fdca26"
             ],
             [
              1,
              "#f0f921"
             ]
            ],
            "type": "histogram2d"
           }
          ],
          "histogram2dcontour": [
           {
            "colorbar": {
             "outlinewidth": 0,
             "ticks": ""
            },
            "colorscale": [
             [
              0,
              "#0d0887"
             ],
             [
              0.1111111111111111,
              "#46039f"
             ],
             [
              0.2222222222222222,
              "#7201a8"
             ],
             [
              0.3333333333333333,
              "#9c179e"
             ],
             [
              0.4444444444444444,
              "#bd3786"
             ],
             [
              0.5555555555555556,
              "#d8576b"
             ],
             [
              0.6666666666666666,
              "#ed7953"
             ],
             [
              0.7777777777777778,
              "#fb9f3a"
             ],
             [
              0.8888888888888888,
              "#fdca26"
             ],
             [
              1,
              "#f0f921"
             ]
            ],
            "type": "histogram2dcontour"
           }
          ],
          "mesh3d": [
           {
            "colorbar": {
             "outlinewidth": 0,
             "ticks": ""
            },
            "type": "mesh3d"
           }
          ],
          "parcoords": [
           {
            "line": {
             "colorbar": {
              "outlinewidth": 0,
              "ticks": ""
             }
            },
            "type": "parcoords"
           }
          ],
          "pie": [
           {
            "automargin": true,
            "type": "pie"
           }
          ],
          "scatter": [
           {
            "fillpattern": {
             "fillmode": "overlay",
             "size": 10,
             "solidity": 0.2
            },
            "type": "scatter"
           }
          ],
          "scatter3d": [
           {
            "line": {
             "colorbar": {
              "outlinewidth": 0,
              "ticks": ""
             }
            },
            "marker": {
             "colorbar": {
              "outlinewidth": 0,
              "ticks": ""
             }
            },
            "type": "scatter3d"
           }
          ],
          "scattercarpet": [
           {
            "marker": {
             "colorbar": {
              "outlinewidth": 0,
              "ticks": ""
             }
            },
            "type": "scattercarpet"
           }
          ],
          "scattergeo": [
           {
            "marker": {
             "colorbar": {
              "outlinewidth": 0,
              "ticks": ""
             }
            },
            "type": "scattergeo"
           }
          ],
          "scattergl": [
           {
            "marker": {
             "colorbar": {
              "outlinewidth": 0,
              "ticks": ""
             }
            },
            "type": "scattergl"
           }
          ],
          "scattermap": [
           {
            "marker": {
             "colorbar": {
              "outlinewidth": 0,
              "ticks": ""
             }
            },
            "type": "scattermap"
           }
          ],
          "scattermapbox": [
           {
            "marker": {
             "colorbar": {
              "outlinewidth": 0,
              "ticks": ""
             }
            },
            "type": "scattermapbox"
           }
          ],
          "scatterpolar": [
           {
            "marker": {
             "colorbar": {
              "outlinewidth": 0,
              "ticks": ""
             }
            },
            "type": "scatterpolar"
           }
          ],
          "scatterpolargl": [
           {
            "marker": {
             "colorbar": {
              "outlinewidth": 0,
              "ticks": ""
             }
            },
            "type": "scatterpolargl"
           }
          ],
          "scatterternary": [
           {
            "marker": {
             "colorbar": {
              "outlinewidth": 0,
              "ticks": ""
             }
            },
            "type": "scatterternary"
           }
          ],
          "surface": [
           {
            "colorbar": {
             "outlinewidth": 0,
             "ticks": ""
            },
            "colorscale": [
             [
              0,
              "#0d0887"
             ],
             [
              0.1111111111111111,
              "#46039f"
             ],
             [
              0.2222222222222222,
              "#7201a8"
             ],
             [
              0.3333333333333333,
              "#9c179e"
             ],
             [
              0.4444444444444444,
              "#bd3786"
             ],
             [
              0.5555555555555556,
              "#d8576b"
             ],
             [
              0.6666666666666666,
              "#ed7953"
             ],
             [
              0.7777777777777778,
              "#fb9f3a"
             ],
             [
              0.8888888888888888,
              "#fdca26"
             ],
             [
              1,
              "#f0f921"
             ]
            ],
            "type": "surface"
           }
          ],
          "table": [
           {
            "cells": {
             "fill": {
              "color": "#EBF0F8"
             },
             "line": {
              "color": "white"
             }
            },
            "header": {
             "fill": {
              "color": "#C8D4E3"
             },
             "line": {
              "color": "white"
             }
            },
            "type": "table"
           }
          ]
         },
         "layout": {
          "annotationdefaults": {
           "arrowcolor": "#2a3f5f",
           "arrowhead": 0,
           "arrowwidth": 1
          },
          "autotypenumbers": "strict",
          "coloraxis": {
           "colorbar": {
            "outlinewidth": 0,
            "ticks": ""
           }
          },
          "colorscale": {
           "diverging": [
            [
             0,
             "#8e0152"
            ],
            [
             0.1,
             "#c51b7d"
            ],
            [
             0.2,
             "#de77ae"
            ],
            [
             0.3,
             "#f1b6da"
            ],
            [
             0.4,
             "#fde0ef"
            ],
            [
             0.5,
             "#f7f7f7"
            ],
            [
             0.6,
             "#e6f5d0"
            ],
            [
             0.7,
             "#b8e186"
            ],
            [
             0.8,
             "#7fbc41"
            ],
            [
             0.9,
             "#4d9221"
            ],
            [
             1,
             "#276419"
            ]
           ],
           "sequential": [
            [
             0,
             "#0d0887"
            ],
            [
             0.1111111111111111,
             "#46039f"
            ],
            [
             0.2222222222222222,
             "#7201a8"
            ],
            [
             0.3333333333333333,
             "#9c179e"
            ],
            [
             0.4444444444444444,
             "#bd3786"
            ],
            [
             0.5555555555555556,
             "#d8576b"
            ],
            [
             0.6666666666666666,
             "#ed7953"
            ],
            [
             0.7777777777777778,
             "#fb9f3a"
            ],
            [
             0.8888888888888888,
             "#fdca26"
            ],
            [
             1,
             "#f0f921"
            ]
           ],
           "sequentialminus": [
            [
             0,
             "#0d0887"
            ],
            [
             0.1111111111111111,
             "#46039f"
            ],
            [
             0.2222222222222222,
             "#7201a8"
            ],
            [
             0.3333333333333333,
             "#9c179e"
            ],
            [
             0.4444444444444444,
             "#bd3786"
            ],
            [
             0.5555555555555556,
             "#d8576b"
            ],
            [
             0.6666666666666666,
             "#ed7953"
            ],
            [
             0.7777777777777778,
             "#fb9f3a"
            ],
            [
             0.8888888888888888,
             "#fdca26"
            ],
            [
             1,
             "#f0f921"
            ]
           ]
          },
          "colorway": [
           "#636efa",
           "#EF553B",
           "#00cc96",
           "#ab63fa",
           "#FFA15A",
           "#19d3f3",
           "#FF6692",
           "#B6E880",
           "#FF97FF",
           "#FECB52"
          ],
          "font": {
           "color": "#2a3f5f"
          },
          "geo": {
           "bgcolor": "white",
           "lakecolor": "white",
           "landcolor": "#E5ECF6",
           "showlakes": true,
           "showland": true,
           "subunitcolor": "white"
          },
          "hoverlabel": {
           "align": "left"
          },
          "hovermode": "closest",
          "mapbox": {
           "style": "light"
          },
          "paper_bgcolor": "white",
          "plot_bgcolor": "#E5ECF6",
          "polar": {
           "angularaxis": {
            "gridcolor": "white",
            "linecolor": "white",
            "ticks": ""
           },
           "bgcolor": "#E5ECF6",
           "radialaxis": {
            "gridcolor": "white",
            "linecolor": "white",
            "ticks": ""
           }
          },
          "scene": {
           "xaxis": {
            "backgroundcolor": "#E5ECF6",
            "gridcolor": "white",
            "gridwidth": 2,
            "linecolor": "white",
            "showbackground": true,
            "ticks": "",
            "zerolinecolor": "white"
           },
           "yaxis": {
            "backgroundcolor": "#E5ECF6",
            "gridcolor": "white",
            "gridwidth": 2,
            "linecolor": "white",
            "showbackground": true,
            "ticks": "",
            "zerolinecolor": "white"
           },
           "zaxis": {
            "backgroundcolor": "#E5ECF6",
            "gridcolor": "white",
            "gridwidth": 2,
            "linecolor": "white",
            "showbackground": true,
            "ticks": "",
            "zerolinecolor": "white"
           }
          },
          "shapedefaults": {
           "line": {
            "color": "#2a3f5f"
           }
          },
          "ternary": {
           "aaxis": {
            "gridcolor": "white",
            "linecolor": "white",
            "ticks": ""
           },
           "baxis": {
            "gridcolor": "white",
            "linecolor": "white",
            "ticks": ""
           },
           "bgcolor": "#E5ECF6",
           "caxis": {
            "gridcolor": "white",
            "linecolor": "white",
            "ticks": ""
           }
          },
          "title": {
           "x": 0.05
          },
          "xaxis": {
           "automargin": true,
           "gridcolor": "white",
           "linecolor": "white",
           "ticks": "",
           "title": {
            "standoff": 15
           },
           "zerolinecolor": "white",
           "zerolinewidth": 2
          },
          "yaxis": {
           "automargin": true,
           "gridcolor": "white",
           "linecolor": "white",
           "ticks": "",
           "title": {
            "standoff": 15
           },
           "zerolinecolor": "white",
           "zerolinewidth": 2
          }
         }
        },
        "title": {
         "text": "Change in correctness of first Find the Error stage over sessions (correct response entered)"
        },
        "xaxis": {
         "anchor": "y",
         "domain": [
          0,
          1
         ],
         "title": {
          "text": "Session"
         }
        },
        "yaxis": {
         "anchor": "x",
         "domain": [
          0,
          1
         ],
         "title": {
          "text": "Percent Correct"
         }
        }
       }
      }
     },
     "metadata": {},
     "output_type": "display_data"
    }
   ],
   "source": [
    "#Change in correctness over time\n",
    "correctness_per_session = {\"session\": [], \"correctness\": [], \"total\": [], \"percent_correct\": []}\n",
    "\n",
    "for session_id, logs in EXERCISE_LOGS_PER_SESSION.items():\n",
    "    logs_with_test_report: list[ExerciseLog] = [log for log in logs if hasattr(log, \"test_report\") and log.test_report is not None]\n",
    "    correctness_per_session[\"session\"].append(session_id)\n",
    "    n_correct_exercises: int = len([log for log in logs_with_test_report if log.test_report.n_successful_tests == log.test_report.n_total_tests])\n",
    "    correctness_per_session[\"percent_correct\"].append((n_correct_exercises / len(logs_with_test_report) * 100) if logs_with_test_report else 0)\n",
    "    correctness_per_session[\"correctness\"].append(n_correct_exercises)\n",
    "    correctness_per_session[\"total\"].append(len(logs_with_test_report))\n",
    "\n",
    "# Order the dictionary by session_id\n",
    "correctness_per_session_df: DataFrame = DataFrame(correctness_per_session).sort_values(by=\"session\")\n",
    "import plotly.graph_objects as go\n",
    "\n",
    "fig = go.Figure()\n",
    "fig.add_trace(go.Scatter(\n",
    "    x=correctness_per_session_df[\"session\"],\n",
    "    y=correctness_per_session_df[\"total\"],\n",
    "    mode='lines',\n",
    "    name='Total',\n",
    "    fill='tozeroy'\n",
    "))\n",
    "fig.add_trace(go.Scatter(\n",
    "    x=correctness_per_session_df[\"session\"],\n",
    "    y=correctness_per_session_df[\"correctness\"],\n",
    "    mode='lines',\n",
    "    name='Correctness',\n",
    "    fill='tozeroy'\n",
    "))\n",
    "fig.update_layout(\n",
    "    title=\"Change in Correctness and Total Attempts Over Sessions\",\n",
    "    xaxis_title=\"Session\",\n",
    "    yaxis_title=\"Count\",\n",
    "    legend_title=\"Metric\"\n",
    ")\n",
    "fig.show()\n",
    "\n",
    "px.line(\n",
    "    correctness_per_session_df,\n",
    "    x=\"session\",\n",
    "    y=\"percent_correct\",\n",
    "    labels={\"session\": \"Session\", \"percent_correct\": \"Percent Correct\"},\n",
    "    title=\"Change in correctness over sessions\"\n",
    ").show()\n",
    "\n",
    "#Change in correct first time Find the Error stage by session?\n",
    "find_the_error_correctness_per_session = {\"session\": [], \"correctness\": [], \"total\": [], \"percent_correct\": []}\n",
    "\n",
    "for session_id, logs in EXERCISE_LOGS_PER_SESSION.items():\n",
    "    find_the_error_correctness_per_session[\"session\"].append(session_id)\n",
    "    n_correct: int = len([log for log in logs if ExerciseLogProcessor.does_find_the_error_stage_have_correct_response(log)])\n",
    "    find_the_error_correctness_per_session[\"correctness\"].append(n_correct)\n",
    "    n_exercises: int = len([log for log in logs if ExerciseLogProcessor.get_first_find_the_error_stage(log) is not None])\n",
    "    find_the_error_correctness_per_session[\"total\"].append(n_exercises)\n",
    "    find_the_error_correctness_per_session[\"percent_correct\"].append((n_correct / n_exercises * 100) if n_exercises > 0 else 0)\n",
    "\n",
    "\n",
    "find_the_error_correctness_per_session_df = DataFrame(find_the_error_correctness_per_session).sort_values(by=\"session\")\n",
    "px.line(\n",
    "    find_the_error_correctness_per_session_df,\n",
    "    x=\"session\",\n",
    "    y=\"percent_correct\",\n",
    "    labels={\"session\": \"Session\", \"percent_correct\": \"Percent Correct\"},\n",
    "    title=\"Change in correctness of first Find the Error stage over sessions (correct response entered)\"\n",
    ").show()\n"
   ]
  },
  {
   "cell_type": "markdown",
   "metadata": {},
   "source": [
    "## 4. Engagement with Certain PRIMMDebug Stages\n",
    "Some more measures providing some context into how much students engaged with certain restricted or unrestricted parts of the tool."
   ]
  },
  {
   "cell_type": "markdown",
   "metadata": {},
   "source": [
    "### Students' runtime behaviour in the *Inspect The Code* and *Test* stages"
   ]
  },
  {
   "cell_type": "code",
   "execution_count": 8,
   "metadata": {},
   "outputs": [
    {
     "name": "stdout",
     "output_type": "stream",
     "text": [
      "Number of inspect the code stages: 425\n",
      "Number of test stages: 464\n"
     ]
    },
    {
     "data": {
      "application/vnd.plotly.v1+json": {
       "config": {
        "plotlyServerURL": "https://plot.ly"
       },
       "data": [
        {
         "bingroup": "x",
         "hovertemplate": "Stage=Inspect the Code<br>Number of runs=%{x}<br>count=%{y}<extra></extra>",
         "legendgroup": "Inspect the Code",
         "marker": {
          "color": "#636efa",
          "opacity": 0.5,
          "pattern": {
           "shape": ""
          }
         },
         "name": "Inspect the Code",
         "orientation": "v",
         "showlegend": true,
         "type": "histogram",
         "x": {
          "bdata": "AQEBAQEKAQECAQEBAQICAQEBPQQBAQsFAQcBAQEGAwIBAQEDASABAQEBAwEBAQIBBQEGAQEBAgYBAQIEAQMBAQIBAQECAQEBAQEBAQEBAQMBAgUBAQEBAQIBAQMBAwMBAQEC",
          "dtype": "i1"
         },
         "xaxis": "x",
         "yaxis": "y"
        },
        {
         "hovertemplate": "Stage=Inspect the Code<br>Number of runs=%{x}<extra></extra>",
         "legendgroup": "Inspect the Code",
         "marker": {
          "color": "#636efa"
         },
         "name": "Inspect the Code",
         "notched": true,
         "showlegend": false,
         "type": "box",
         "x": {
          "bdata": "AQEBAQEKAQECAQEBAQICAQEBPQQBAQsFAQcBAQEGAwIBAQEDASABAQEBAwEBAQIBBQEGAQEBAgYBAQIEAQMBAQIBAQECAQEBAQEBAQEBAQMBAgUBAQEBAQIBAQMBAwMBAQEC",
          "dtype": "i1"
         },
         "xaxis": "x2",
         "yaxis": "y2"
        },
        {
         "bingroup": "x",
         "hovertemplate": "Stage=Test<br>Number of runs=%{x}<br>count=%{y}<extra></extra>",
         "legendgroup": "Test",
         "marker": {
          "color": "#EF553B",
          "opacity": 0.5,
          "pattern": {
           "shape": ""
          }
         },
         "name": "Test",
         "orientation": "v",
         "showlegend": true,
         "type": "histogram",
         "x": {
          "bdata": "AQECAQEBAQECAgEBAQEBAQEBAQECAQIBAQEBAgEBAQEBAwECAgEBAQEBAgECAQEEAgEBAgEBAQEBAgEBAQEBAgEBBAEBAQEBAQIBAQECAgEBAQEBAQEBAQEBAQEBAQEBAQEDAQEBBQEBAQICAQIEAQEBAQIBAQEBAwEBAQEBBQEBAQECAQEBAQIBAQEBAQEBAQEBAQECAQEBAQEBAQIBAQMBAQEBAwICAQEBAQECAQEBAQEBAQIBAQEDAQEBAQMCAQECAQIBAwEBAQECBAEFAQIBAgEBAQEBAgEBAQECAQECAQEBBAQBAgIBAQEBAQIBAQEBAgEBAQECAQEBAQEBAQIBAQECAQEBAQEDAgEBAgECAQIBAQEBAQEBAQEBAQEBAgECBAEBAQIBAQEBAQEBAQUBAQIBAQEBAgEBAQECAgEBAQECAgEBAQEBAQEBAQEBAQEBAQIB",
          "dtype": "i1"
         },
         "xaxis": "x",
         "yaxis": "y"
        },
        {
         "hovertemplate": "Stage=Test<br>Number of runs=%{x}<extra></extra>",
         "legendgroup": "Test",
         "marker": {
          "color": "#EF553B"
         },
         "name": "Test",
         "notched": true,
         "showlegend": false,
         "type": "box",
         "x": {
          "bdata": "AQECAQEBAQECAgEBAQEBAQEBAQECAQIBAQEBAgEBAQEBAwECAgEBAQEBAgECAQEEAgEBAgEBAQEBAgEBAQEBAgEBBAEBAQEBAQIBAQECAgEBAQEBAQEBAQEBAQEBAQEBAQEDAQEBBQEBAQICAQIEAQEBAQIBAQEBAwEBAQEBBQEBAQECAQEBAQIBAQEBAQEBAQEBAQECAQEBAQEBAQIBAQMBAQEBAwICAQEBAQECAQEBAQEBAQIBAQEDAQEBAQMCAQECAQIBAwEBAQECBAEFAQIBAgEBAQEBAgEBAQECAQECAQEBBAQBAgIBAQEBAQIBAQEBAgEBAQECAQEBAQEBAQIBAQECAQEBAQEDAgEBAgECAQIBAQEBAQEBAQEBAQEBAgECBAEBAQIBAQEBAQEBAQUBAQIBAQEBAgEBAQECAgEBAQECAgEBAQEBAQEBAQEBAQEBAQIB",
          "dtype": "i1"
         },
         "xaxis": "x2",
         "yaxis": "y2"
        }
       ],
       "layout": {
        "barmode": "overlay",
        "legend": {
         "title": {
          "text": "Stage"
         },
         "tracegroupgap": 0
        },
        "template": {
         "data": {
          "bar": [
           {
            "error_x": {
             "color": "#2a3f5f"
            },
            "error_y": {
             "color": "#2a3f5f"
            },
            "marker": {
             "line": {
              "color": "#E5ECF6",
              "width": 0.5
             },
             "pattern": {
              "fillmode": "overlay",
              "size": 10,
              "solidity": 0.2
             }
            },
            "type": "bar"
           }
          ],
          "barpolar": [
           {
            "marker": {
             "line": {
              "color": "#E5ECF6",
              "width": 0.5
             },
             "pattern": {
              "fillmode": "overlay",
              "size": 10,
              "solidity": 0.2
             }
            },
            "type": "barpolar"
           }
          ],
          "carpet": [
           {
            "aaxis": {
             "endlinecolor": "#2a3f5f",
             "gridcolor": "white",
             "linecolor": "white",
             "minorgridcolor": "white",
             "startlinecolor": "#2a3f5f"
            },
            "baxis": {
             "endlinecolor": "#2a3f5f",
             "gridcolor": "white",
             "linecolor": "white",
             "minorgridcolor": "white",
             "startlinecolor": "#2a3f5f"
            },
            "type": "carpet"
           }
          ],
          "choropleth": [
           {
            "colorbar": {
             "outlinewidth": 0,
             "ticks": ""
            },
            "type": "choropleth"
           }
          ],
          "contour": [
           {
            "colorbar": {
             "outlinewidth": 0,
             "ticks": ""
            },
            "colorscale": [
             [
              0,
              "#0d0887"
             ],
             [
              0.1111111111111111,
              "#46039f"
             ],
             [
              0.2222222222222222,
              "#7201a8"
             ],
             [
              0.3333333333333333,
              "#9c179e"
             ],
             [
              0.4444444444444444,
              "#bd3786"
             ],
             [
              0.5555555555555556,
              "#d8576b"
             ],
             [
              0.6666666666666666,
              "#ed7953"
             ],
             [
              0.7777777777777778,
              "#fb9f3a"
             ],
             [
              0.8888888888888888,
              "#fdca26"
             ],
             [
              1,
              "#f0f921"
             ]
            ],
            "type": "contour"
           }
          ],
          "contourcarpet": [
           {
            "colorbar": {
             "outlinewidth": 0,
             "ticks": ""
            },
            "type": "contourcarpet"
           }
          ],
          "heatmap": [
           {
            "colorbar": {
             "outlinewidth": 0,
             "ticks": ""
            },
            "colorscale": [
             [
              0,
              "#0d0887"
             ],
             [
              0.1111111111111111,
              "#46039f"
             ],
             [
              0.2222222222222222,
              "#7201a8"
             ],
             [
              0.3333333333333333,
              "#9c179e"
             ],
             [
              0.4444444444444444,
              "#bd3786"
             ],
             [
              0.5555555555555556,
              "#d8576b"
             ],
             [
              0.6666666666666666,
              "#ed7953"
             ],
             [
              0.7777777777777778,
              "#fb9f3a"
             ],
             [
              0.8888888888888888,
              "#fdca26"
             ],
             [
              1,
              "#f0f921"
             ]
            ],
            "type": "heatmap"
           }
          ],
          "histogram": [
           {
            "marker": {
             "pattern": {
              "fillmode": "overlay",
              "size": 10,
              "solidity": 0.2
             }
            },
            "type": "histogram"
           }
          ],
          "histogram2d": [
           {
            "colorbar": {
             "outlinewidth": 0,
             "ticks": ""
            },
            "colorscale": [
             [
              0,
              "#0d0887"
             ],
             [
              0.1111111111111111,
              "#46039f"
             ],
             [
              0.2222222222222222,
              "#7201a8"
             ],
             [
              0.3333333333333333,
              "#9c179e"
             ],
             [
              0.4444444444444444,
              "#bd3786"
             ],
             [
              0.5555555555555556,
              "#d8576b"
             ],
             [
              0.6666666666666666,
              "#ed7953"
             ],
             [
              0.7777777777777778,
              "#fb9f3a"
             ],
             [
              0.8888888888888888,
              "#fdca26"
             ],
             [
              1,
              "#f0f921"
             ]
            ],
            "type": "histogram2d"
           }
          ],
          "histogram2dcontour": [
           {
            "colorbar": {
             "outlinewidth": 0,
             "ticks": ""
            },
            "colorscale": [
             [
              0,
              "#0d0887"
             ],
             [
              0.1111111111111111,
              "#46039f"
             ],
             [
              0.2222222222222222,
              "#7201a8"
             ],
             [
              0.3333333333333333,
              "#9c179e"
             ],
             [
              0.4444444444444444,
              "#bd3786"
             ],
             [
              0.5555555555555556,
              "#d8576b"
             ],
             [
              0.6666666666666666,
              "#ed7953"
             ],
             [
              0.7777777777777778,
              "#fb9f3a"
             ],
             [
              0.8888888888888888,
              "#fdca26"
             ],
             [
              1,
              "#f0f921"
             ]
            ],
            "type": "histogram2dcontour"
           }
          ],
          "mesh3d": [
           {
            "colorbar": {
             "outlinewidth": 0,
             "ticks": ""
            },
            "type": "mesh3d"
           }
          ],
          "parcoords": [
           {
            "line": {
             "colorbar": {
              "outlinewidth": 0,
              "ticks": ""
             }
            },
            "type": "parcoords"
           }
          ],
          "pie": [
           {
            "automargin": true,
            "type": "pie"
           }
          ],
          "scatter": [
           {
            "fillpattern": {
             "fillmode": "overlay",
             "size": 10,
             "solidity": 0.2
            },
            "type": "scatter"
           }
          ],
          "scatter3d": [
           {
            "line": {
             "colorbar": {
              "outlinewidth": 0,
              "ticks": ""
             }
            },
            "marker": {
             "colorbar": {
              "outlinewidth": 0,
              "ticks": ""
             }
            },
            "type": "scatter3d"
           }
          ],
          "scattercarpet": [
           {
            "marker": {
             "colorbar": {
              "outlinewidth": 0,
              "ticks": ""
             }
            },
            "type": "scattercarpet"
           }
          ],
          "scattergeo": [
           {
            "marker": {
             "colorbar": {
              "outlinewidth": 0,
              "ticks": ""
             }
            },
            "type": "scattergeo"
           }
          ],
          "scattergl": [
           {
            "marker": {
             "colorbar": {
              "outlinewidth": 0,
              "ticks": ""
             }
            },
            "type": "scattergl"
           }
          ],
          "scattermap": [
           {
            "marker": {
             "colorbar": {
              "outlinewidth": 0,
              "ticks": ""
             }
            },
            "type": "scattermap"
           }
          ],
          "scattermapbox": [
           {
            "marker": {
             "colorbar": {
              "outlinewidth": 0,
              "ticks": ""
             }
            },
            "type": "scattermapbox"
           }
          ],
          "scatterpolar": [
           {
            "marker": {
             "colorbar": {
              "outlinewidth": 0,
              "ticks": ""
             }
            },
            "type": "scatterpolar"
           }
          ],
          "scatterpolargl": [
           {
            "marker": {
             "colorbar": {
              "outlinewidth": 0,
              "ticks": ""
             }
            },
            "type": "scatterpolargl"
           }
          ],
          "scatterternary": [
           {
            "marker": {
             "colorbar": {
              "outlinewidth": 0,
              "ticks": ""
             }
            },
            "type": "scatterternary"
           }
          ],
          "surface": [
           {
            "colorbar": {
             "outlinewidth": 0,
             "ticks": ""
            },
            "colorscale": [
             [
              0,
              "#0d0887"
             ],
             [
              0.1111111111111111,
              "#46039f"
             ],
             [
              0.2222222222222222,
              "#7201a8"
             ],
             [
              0.3333333333333333,
              "#9c179e"
             ],
             [
              0.4444444444444444,
              "#bd3786"
             ],
             [
              0.5555555555555556,
              "#d8576b"
             ],
             [
              0.6666666666666666,
              "#ed7953"
             ],
             [
              0.7777777777777778,
              "#fb9f3a"
             ],
             [
              0.8888888888888888,
              "#fdca26"
             ],
             [
              1,
              "#f0f921"
             ]
            ],
            "type": "surface"
           }
          ],
          "table": [
           {
            "cells": {
             "fill": {
              "color": "#EBF0F8"
             },
             "line": {
              "color": "white"
             }
            },
            "header": {
             "fill": {
              "color": "#C8D4E3"
             },
             "line": {
              "color": "white"
             }
            },
            "type": "table"
           }
          ]
         },
         "layout": {
          "annotationdefaults": {
           "arrowcolor": "#2a3f5f",
           "arrowhead": 0,
           "arrowwidth": 1
          },
          "autotypenumbers": "strict",
          "coloraxis": {
           "colorbar": {
            "outlinewidth": 0,
            "ticks": ""
           }
          },
          "colorscale": {
           "diverging": [
            [
             0,
             "#8e0152"
            ],
            [
             0.1,
             "#c51b7d"
            ],
            [
             0.2,
             "#de77ae"
            ],
            [
             0.3,
             "#f1b6da"
            ],
            [
             0.4,
             "#fde0ef"
            ],
            [
             0.5,
             "#f7f7f7"
            ],
            [
             0.6,
             "#e6f5d0"
            ],
            [
             0.7,
             "#b8e186"
            ],
            [
             0.8,
             "#7fbc41"
            ],
            [
             0.9,
             "#4d9221"
            ],
            [
             1,
             "#276419"
            ]
           ],
           "sequential": [
            [
             0,
             "#0d0887"
            ],
            [
             0.1111111111111111,
             "#46039f"
            ],
            [
             0.2222222222222222,
             "#7201a8"
            ],
            [
             0.3333333333333333,
             "#9c179e"
            ],
            [
             0.4444444444444444,
             "#bd3786"
            ],
            [
             0.5555555555555556,
             "#d8576b"
            ],
            [
             0.6666666666666666,
             "#ed7953"
            ],
            [
             0.7777777777777778,
             "#fb9f3a"
            ],
            [
             0.8888888888888888,
             "#fdca26"
            ],
            [
             1,
             "#f0f921"
            ]
           ],
           "sequentialminus": [
            [
             0,
             "#0d0887"
            ],
            [
             0.1111111111111111,
             "#46039f"
            ],
            [
             0.2222222222222222,
             "#7201a8"
            ],
            [
             0.3333333333333333,
             "#9c179e"
            ],
            [
             0.4444444444444444,
             "#bd3786"
            ],
            [
             0.5555555555555556,
             "#d8576b"
            ],
            [
             0.6666666666666666,
             "#ed7953"
            ],
            [
             0.7777777777777778,
             "#fb9f3a"
            ],
            [
             0.8888888888888888,
             "#fdca26"
            ],
            [
             1,
             "#f0f921"
            ]
           ]
          },
          "colorway": [
           "#636efa",
           "#EF553B",
           "#00cc96",
           "#ab63fa",
           "#FFA15A",
           "#19d3f3",
           "#FF6692",
           "#B6E880",
           "#FF97FF",
           "#FECB52"
          ],
          "font": {
           "color": "#2a3f5f"
          },
          "geo": {
           "bgcolor": "white",
           "lakecolor": "white",
           "landcolor": "#E5ECF6",
           "showlakes": true,
           "showland": true,
           "subunitcolor": "white"
          },
          "hoverlabel": {
           "align": "left"
          },
          "hovermode": "closest",
          "mapbox": {
           "style": "light"
          },
          "paper_bgcolor": "white",
          "plot_bgcolor": "#E5ECF6",
          "polar": {
           "angularaxis": {
            "gridcolor": "white",
            "linecolor": "white",
            "ticks": ""
           },
           "bgcolor": "#E5ECF6",
           "radialaxis": {
            "gridcolor": "white",
            "linecolor": "white",
            "ticks": ""
           }
          },
          "scene": {
           "xaxis": {
            "backgroundcolor": "#E5ECF6",
            "gridcolor": "white",
            "gridwidth": 2,
            "linecolor": "white",
            "showbackground": true,
            "ticks": "",
            "zerolinecolor": "white"
           },
           "yaxis": {
            "backgroundcolor": "#E5ECF6",
            "gridcolor": "white",
            "gridwidth": 2,
            "linecolor": "white",
            "showbackground": true,
            "ticks": "",
            "zerolinecolor": "white"
           },
           "zaxis": {
            "backgroundcolor": "#E5ECF6",
            "gridcolor": "white",
            "gridwidth": 2,
            "linecolor": "white",
            "showbackground": true,
            "ticks": "",
            "zerolinecolor": "white"
           }
          },
          "shapedefaults": {
           "line": {
            "color": "#2a3f5f"
           }
          },
          "ternary": {
           "aaxis": {
            "gridcolor": "white",
            "linecolor": "white",
            "ticks": ""
           },
           "baxis": {
            "gridcolor": "white",
            "linecolor": "white",
            "ticks": ""
           },
           "bgcolor": "#E5ECF6",
           "caxis": {
            "gridcolor": "white",
            "linecolor": "white",
            "ticks": ""
           }
          },
          "title": {
           "x": 0.05
          },
          "xaxis": {
           "automargin": true,
           "gridcolor": "white",
           "linecolor": "white",
           "ticks": "",
           "title": {
            "standoff": 15
           },
           "zerolinecolor": "white",
           "zerolinewidth": 2
          },
          "yaxis": {
           "automargin": true,
           "gridcolor": "white",
           "linecolor": "white",
           "ticks": "",
           "title": {
            "standoff": 15
           },
           "zerolinecolor": "white",
           "zerolinewidth": 2
          }
         }
        },
        "title": {
         "text": "Number of runs for Inspect the Code and Test stages"
        },
        "xaxis": {
         "anchor": "y",
         "domain": [
          0,
          1
         ],
         "title": {
          "text": "Number of runs"
         }
        },
        "xaxis2": {
         "anchor": "y2",
         "domain": [
          0,
          1
         ],
         "matches": "x",
         "showgrid": true,
         "showticklabels": false
        },
        "yaxis": {
         "anchor": "x",
         "domain": [
          0,
          0.7326
         ],
         "title": {
          "text": "count"
         }
        },
        "yaxis2": {
         "anchor": "x2",
         "domain": [
          0.7426,
          1
         ],
         "matches": "y2",
         "showgrid": false,
         "showline": false,
         "showticklabels": false,
         "ticks": ""
        }
       }
      }
     },
     "metadata": {},
     "output_type": "display_data"
    },
    {
     "data": {
      "application/vnd.plotly.v1+json": {
       "config": {
        "plotlyServerURL": "https://plot.ly"
       },
       "data": [
        {
         "alignmentgroup": "True",
         "hovertemplate": "Stage=Inspect the Code<br>Number of Runs (Grouped)=%{x}<br>Frequency=%{y}<extra></extra>",
         "legendgroup": "Inspect the Code",
         "marker": {
          "color": "#636efa",
          "pattern": {
           "shape": ""
          }
         },
         "name": "Inspect the Code",
         "offsetgroup": "Inspect the Code",
         "orientation": "v",
         "showlegend": true,
         "textposition": "auto",
         "type": "bar",
         "x": [
          "0",
          "1",
          "2",
          "3",
          "4",
          "5+"
         ],
         "xaxis": "x",
         "y": {
          "bdata": "RgFCAAwACAACAAsA",
          "dtype": "i2"
         },
         "yaxis": "y"
        },
        {
         "alignmentgroup": "True",
         "hovertemplate": "Stage=Test<br>Number of Runs (Grouped)=%{x}<br>Frequency=%{y}<extra></extra>",
         "legendgroup": "Test",
         "marker": {
          "color": "#EF553B",
          "pattern": {
           "shape": ""
          }
         },
         "name": "Test",
         "offsetgroup": "Test",
         "orientation": "v",
         "showlegend": true,
         "textposition": "auto",
         "type": "bar",
         "x": [
          "0",
          "1",
          "2",
          "3",
          "4",
          "5+"
         ],
         "xaxis": "x",
         "y": {
          "bdata": "egAHATsACQAHAAQA",
          "dtype": "i2"
         },
         "yaxis": "y"
        }
       ],
       "layout": {
        "barmode": "group",
        "legend": {
         "title": {
          "text": "Stage"
         },
         "tracegroupgap": 0
        },
        "template": {
         "data": {
          "bar": [
           {
            "error_x": {
             "color": "#2a3f5f"
            },
            "error_y": {
             "color": "#2a3f5f"
            },
            "marker": {
             "line": {
              "color": "#E5ECF6",
              "width": 0.5
             },
             "pattern": {
              "fillmode": "overlay",
              "size": 10,
              "solidity": 0.2
             }
            },
            "type": "bar"
           }
          ],
          "barpolar": [
           {
            "marker": {
             "line": {
              "color": "#E5ECF6",
              "width": 0.5
             },
             "pattern": {
              "fillmode": "overlay",
              "size": 10,
              "solidity": 0.2
             }
            },
            "type": "barpolar"
           }
          ],
          "carpet": [
           {
            "aaxis": {
             "endlinecolor": "#2a3f5f",
             "gridcolor": "white",
             "linecolor": "white",
             "minorgridcolor": "white",
             "startlinecolor": "#2a3f5f"
            },
            "baxis": {
             "endlinecolor": "#2a3f5f",
             "gridcolor": "white",
             "linecolor": "white",
             "minorgridcolor": "white",
             "startlinecolor": "#2a3f5f"
            },
            "type": "carpet"
           }
          ],
          "choropleth": [
           {
            "colorbar": {
             "outlinewidth": 0,
             "ticks": ""
            },
            "type": "choropleth"
           }
          ],
          "contour": [
           {
            "colorbar": {
             "outlinewidth": 0,
             "ticks": ""
            },
            "colorscale": [
             [
              0,
              "#0d0887"
             ],
             [
              0.1111111111111111,
              "#46039f"
             ],
             [
              0.2222222222222222,
              "#7201a8"
             ],
             [
              0.3333333333333333,
              "#9c179e"
             ],
             [
              0.4444444444444444,
              "#bd3786"
             ],
             [
              0.5555555555555556,
              "#d8576b"
             ],
             [
              0.6666666666666666,
              "#ed7953"
             ],
             [
              0.7777777777777778,
              "#fb9f3a"
             ],
             [
              0.8888888888888888,
              "#fdca26"
             ],
             [
              1,
              "#f0f921"
             ]
            ],
            "type": "contour"
           }
          ],
          "contourcarpet": [
           {
            "colorbar": {
             "outlinewidth": 0,
             "ticks": ""
            },
            "type": "contourcarpet"
           }
          ],
          "heatmap": [
           {
            "colorbar": {
             "outlinewidth": 0,
             "ticks": ""
            },
            "colorscale": [
             [
              0,
              "#0d0887"
             ],
             [
              0.1111111111111111,
              "#46039f"
             ],
             [
              0.2222222222222222,
              "#7201a8"
             ],
             [
              0.3333333333333333,
              "#9c179e"
             ],
             [
              0.4444444444444444,
              "#bd3786"
             ],
             [
              0.5555555555555556,
              "#d8576b"
             ],
             [
              0.6666666666666666,
              "#ed7953"
             ],
             [
              0.7777777777777778,
              "#fb9f3a"
             ],
             [
              0.8888888888888888,
              "#fdca26"
             ],
             [
              1,
              "#f0f921"
             ]
            ],
            "type": "heatmap"
           }
          ],
          "histogram": [
           {
            "marker": {
             "pattern": {
              "fillmode": "overlay",
              "size": 10,
              "solidity": 0.2
             }
            },
            "type": "histogram"
           }
          ],
          "histogram2d": [
           {
            "colorbar": {
             "outlinewidth": 0,
             "ticks": ""
            },
            "colorscale": [
             [
              0,
              "#0d0887"
             ],
             [
              0.1111111111111111,
              "#46039f"
             ],
             [
              0.2222222222222222,
              "#7201a8"
             ],
             [
              0.3333333333333333,
              "#9c179e"
             ],
             [
              0.4444444444444444,
              "#bd3786"
             ],
             [
              0.5555555555555556,
              "#d8576b"
             ],
             [
              0.6666666666666666,
              "#ed7953"
             ],
             [
              0.7777777777777778,
              "#fb9f3a"
             ],
             [
              0.8888888888888888,
              "#fdca26"
             ],
             [
              1,
              "#f0f921"
             ]
            ],
            "type": "histogram2d"
           }
          ],
          "histogram2dcontour": [
           {
            "colorbar": {
             "outlinewidth": 0,
             "ticks": ""
            },
            "colorscale": [
             [
              0,
              "#0d0887"
             ],
             [
              0.1111111111111111,
              "#46039f"
             ],
             [
              0.2222222222222222,
              "#7201a8"
             ],
             [
              0.3333333333333333,
              "#9c179e"
             ],
             [
              0.4444444444444444,
              "#bd3786"
             ],
             [
              0.5555555555555556,
              "#d8576b"
             ],
             [
              0.6666666666666666,
              "#ed7953"
             ],
             [
              0.7777777777777778,
              "#fb9f3a"
             ],
             [
              0.8888888888888888,
              "#fdca26"
             ],
             [
              1,
              "#f0f921"
             ]
            ],
            "type": "histogram2dcontour"
           }
          ],
          "mesh3d": [
           {
            "colorbar": {
             "outlinewidth": 0,
             "ticks": ""
            },
            "type": "mesh3d"
           }
          ],
          "parcoords": [
           {
            "line": {
             "colorbar": {
              "outlinewidth": 0,
              "ticks": ""
             }
            },
            "type": "parcoords"
           }
          ],
          "pie": [
           {
            "automargin": true,
            "type": "pie"
           }
          ],
          "scatter": [
           {
            "fillpattern": {
             "fillmode": "overlay",
             "size": 10,
             "solidity": 0.2
            },
            "type": "scatter"
           }
          ],
          "scatter3d": [
           {
            "line": {
             "colorbar": {
              "outlinewidth": 0,
              "ticks": ""
             }
            },
            "marker": {
             "colorbar": {
              "outlinewidth": 0,
              "ticks": ""
             }
            },
            "type": "scatter3d"
           }
          ],
          "scattercarpet": [
           {
            "marker": {
             "colorbar": {
              "outlinewidth": 0,
              "ticks": ""
             }
            },
            "type": "scattercarpet"
           }
          ],
          "scattergeo": [
           {
            "marker": {
             "colorbar": {
              "outlinewidth": 0,
              "ticks": ""
             }
            },
            "type": "scattergeo"
           }
          ],
          "scattergl": [
           {
            "marker": {
             "colorbar": {
              "outlinewidth": 0,
              "ticks": ""
             }
            },
            "type": "scattergl"
           }
          ],
          "scattermap": [
           {
            "marker": {
             "colorbar": {
              "outlinewidth": 0,
              "ticks": ""
             }
            },
            "type": "scattermap"
           }
          ],
          "scattermapbox": [
           {
            "marker": {
             "colorbar": {
              "outlinewidth": 0,
              "ticks": ""
             }
            },
            "type": "scattermapbox"
           }
          ],
          "scatterpolar": [
           {
            "marker": {
             "colorbar": {
              "outlinewidth": 0,
              "ticks": ""
             }
            },
            "type": "scatterpolar"
           }
          ],
          "scatterpolargl": [
           {
            "marker": {
             "colorbar": {
              "outlinewidth": 0,
              "ticks": ""
             }
            },
            "type": "scatterpolargl"
           }
          ],
          "scatterternary": [
           {
            "marker": {
             "colorbar": {
              "outlinewidth": 0,
              "ticks": ""
             }
            },
            "type": "scatterternary"
           }
          ],
          "surface": [
           {
            "colorbar": {
             "outlinewidth": 0,
             "ticks": ""
            },
            "colorscale": [
             [
              0,
              "#0d0887"
             ],
             [
              0.1111111111111111,
              "#46039f"
             ],
             [
              0.2222222222222222,
              "#7201a8"
             ],
             [
              0.3333333333333333,
              "#9c179e"
             ],
             [
              0.4444444444444444,
              "#bd3786"
             ],
             [
              0.5555555555555556,
              "#d8576b"
             ],
             [
              0.6666666666666666,
              "#ed7953"
             ],
             [
              0.7777777777777778,
              "#fb9f3a"
             ],
             [
              0.8888888888888888,
              "#fdca26"
             ],
             [
              1,
              "#f0f921"
             ]
            ],
            "type": "surface"
           }
          ],
          "table": [
           {
            "cells": {
             "fill": {
              "color": "#EBF0F8"
             },
             "line": {
              "color": "white"
             }
            },
            "header": {
             "fill": {
              "color": "#C8D4E3"
             },
             "line": {
              "color": "white"
             }
            },
            "type": "table"
           }
          ]
         },
         "layout": {
          "annotationdefaults": {
           "arrowcolor": "#2a3f5f",
           "arrowhead": 0,
           "arrowwidth": 1
          },
          "autotypenumbers": "strict",
          "coloraxis": {
           "colorbar": {
            "outlinewidth": 0,
            "ticks": ""
           }
          },
          "colorscale": {
           "diverging": [
            [
             0,
             "#8e0152"
            ],
            [
             0.1,
             "#c51b7d"
            ],
            [
             0.2,
             "#de77ae"
            ],
            [
             0.3,
             "#f1b6da"
            ],
            [
             0.4,
             "#fde0ef"
            ],
            [
             0.5,
             "#f7f7f7"
            ],
            [
             0.6,
             "#e6f5d0"
            ],
            [
             0.7,
             "#b8e186"
            ],
            [
             0.8,
             "#7fbc41"
            ],
            [
             0.9,
             "#4d9221"
            ],
            [
             1,
             "#276419"
            ]
           ],
           "sequential": [
            [
             0,
             "#0d0887"
            ],
            [
             0.1111111111111111,
             "#46039f"
            ],
            [
             0.2222222222222222,
             "#7201a8"
            ],
            [
             0.3333333333333333,
             "#9c179e"
            ],
            [
             0.4444444444444444,
             "#bd3786"
            ],
            [
             0.5555555555555556,
             "#d8576b"
            ],
            [
             0.6666666666666666,
             "#ed7953"
            ],
            [
             0.7777777777777778,
             "#fb9f3a"
            ],
            [
             0.8888888888888888,
             "#fdca26"
            ],
            [
             1,
             "#f0f921"
            ]
           ],
           "sequentialminus": [
            [
             0,
             "#0d0887"
            ],
            [
             0.1111111111111111,
             "#46039f"
            ],
            [
             0.2222222222222222,
             "#7201a8"
            ],
            [
             0.3333333333333333,
             "#9c179e"
            ],
            [
             0.4444444444444444,
             "#bd3786"
            ],
            [
             0.5555555555555556,
             "#d8576b"
            ],
            [
             0.6666666666666666,
             "#ed7953"
            ],
            [
             0.7777777777777778,
             "#fb9f3a"
            ],
            [
             0.8888888888888888,
             "#fdca26"
            ],
            [
             1,
             "#f0f921"
            ]
           ]
          },
          "colorway": [
           "#636efa",
           "#EF553B",
           "#00cc96",
           "#ab63fa",
           "#FFA15A",
           "#19d3f3",
           "#FF6692",
           "#B6E880",
           "#FF97FF",
           "#FECB52"
          ],
          "font": {
           "color": "#2a3f5f"
          },
          "geo": {
           "bgcolor": "white",
           "lakecolor": "white",
           "landcolor": "#E5ECF6",
           "showlakes": true,
           "showland": true,
           "subunitcolor": "white"
          },
          "hoverlabel": {
           "align": "left"
          },
          "hovermode": "closest",
          "mapbox": {
           "style": "light"
          },
          "paper_bgcolor": "white",
          "plot_bgcolor": "#E5ECF6",
          "polar": {
           "angularaxis": {
            "gridcolor": "white",
            "linecolor": "white",
            "ticks": ""
           },
           "bgcolor": "#E5ECF6",
           "radialaxis": {
            "gridcolor": "white",
            "linecolor": "white",
            "ticks": ""
           }
          },
          "scene": {
           "xaxis": {
            "backgroundcolor": "#E5ECF6",
            "gridcolor": "white",
            "gridwidth": 2,
            "linecolor": "white",
            "showbackground": true,
            "ticks": "",
            "zerolinecolor": "white"
           },
           "yaxis": {
            "backgroundcolor": "#E5ECF6",
            "gridcolor": "white",
            "gridwidth": 2,
            "linecolor": "white",
            "showbackground": true,
            "ticks": "",
            "zerolinecolor": "white"
           },
           "zaxis": {
            "backgroundcolor": "#E5ECF6",
            "gridcolor": "white",
            "gridwidth": 2,
            "linecolor": "white",
            "showbackground": true,
            "ticks": "",
            "zerolinecolor": "white"
           }
          },
          "shapedefaults": {
           "line": {
            "color": "#2a3f5f"
           }
          },
          "ternary": {
           "aaxis": {
            "gridcolor": "white",
            "linecolor": "white",
            "ticks": ""
           },
           "baxis": {
            "gridcolor": "white",
            "linecolor": "white",
            "ticks": ""
           },
           "bgcolor": "#E5ECF6",
           "caxis": {
            "gridcolor": "white",
            "linecolor": "white",
            "ticks": ""
           }
          },
          "title": {
           "x": 0.05
          },
          "xaxis": {
           "automargin": true,
           "gridcolor": "white",
           "linecolor": "white",
           "ticks": "",
           "title": {
            "standoff": 15
           },
           "zerolinecolor": "white",
           "zerolinewidth": 2
          },
          "yaxis": {
           "automargin": true,
           "gridcolor": "white",
           "linecolor": "white",
           "ticks": "",
           "title": {
            "standoff": 15
           },
           "zerolinecolor": "white",
           "zerolinewidth": 2
          }
         }
        },
        "title": {
         "text": "Number of runs for Inspect the Code and Test stages (Grouped)"
        },
        "xaxis": {
         "anchor": "y",
         "domain": [
          0,
          1
         ],
         "title": {
          "text": "Number of Runs (Grouped)"
         }
        },
        "yaxis": {
         "anchor": "x",
         "domain": [
          0,
          1
         ],
         "title": {
          "text": "Frequency"
         }
        }
       }
      }
     },
     "metadata": {},
     "output_type": "display_data"
    },
    {
     "data": {
      "application/vnd.plotly.v1+json": {
       "config": {
        "plotlyServerURL": "https://plot.ly"
       },
       "data": [
        {
         "bingroup": "x",
         "hovertemplate": "Stage=Inspect the Code (n=177)<br>Time between runs (seconds)=%{x}<br>count=%{y}<extra></extra>",
         "legendgroup": "Inspect the Code (n=177)",
         "marker": {
          "color": "#636efa",
          "opacity": 0.5,
          "pattern": {
           "shape": ""
          }
         },
         "name": "Inspect the Code (n=177)",
         "orientation": "v",
         "showlegend": true,
         "type": "histogram",
         "x": {
          "bdata": "rBxaZDvf5z9SuB6F61HIPwAAAAAAANA/PzVeukkM2j85tMh2vp/KPxBYObTIds4/BoGVQ4usKkD4U+Olm8TQP5qZmZmZmck/1XjpJjEI6D8UrkfhepQfQP7UeOkmMTJA+n5qvHTzN0BYObTIdl4xQGZmZmZmZu4/uB6F61G4zj+wcmiR7XzXPw4tsp3vp9Y/5/up8dJN0j8MAiuHFtnOPwwCK4cWGSpABFYOLbKd6z9vEoPAyqHFP2IQWDm0yMY/3SQGgZVD0z/RItv5fmq8P4PAyqFFtsM/ke18PzVeuj8ZBFYOLbLdP2Dl0CLb+b4/ke18PzVeuj+6SQwCK4e2P1K4HoXrUbg/O99PjZdusj9QjZduEoPAP2q8dJMYBLY/okW28/3UuD+iRbbz/dS4P4ts5/up8dI/ke18PzVeuj/hehSuR+G6PxKDwMqhRbY/+n5qvHSTuD+iRbbz/dS4P5HtfD81Xro/CtejcD0Ktz8pXI/C9Si8P6JFtvP91Lg/arx0kxgEtj9g5dAi2/m+P1YOLbKd78c/UrgehetRyD9aZDvfT43HP8P1KFyPwrU/8tJNYhBYuT956SYxCKy8P/p+arx0k7g/+n5qvHSTyD9SuB6F61G4P3sUrkfherQ/+n5qvHSTuD+q8dJNYhC4P4lBYOXQIrs/+n5qvHSTuD9qvHSTGAS2P4lBYOXQIrs/qvHSTWIQuD97FK5H4Xq0PwIrhxbZzrc/0SLb+X5qP0D6fmq8dJPgP6RwPQrXC2ZAAAAAAAAA9D/ZzvdT46XLP3npJjEIrMw/hetRuB6F7z/jpZvEILDiP/p+arx0k8g/hxbZzvdTwz8nMQisHFoUQDvfT42XbsI/exSuR+F6xD+PwvUoXI/CP0jhehSuR8E/z/dT46WbxD8X2c73U+PpP5qZmZmZmck/3SQGgZVDyz+e76fGSx9QQH9qvHSTeDhAIbByaJHt5D8EVg4tsp3XP7x0kxgEhk5A/Knx0k1i4D++nxov3STeP9NNYhBY2TxAkxgEVg4tIEDufD81XrodQDvfT42XbhJA/Knx0k1iFEB9PzVeukkUQBsv3SQGgRFAhetRuB6FF0Cq8dJNYtAkQMdLN4lBoCZAg8DKoUW25z9aZDvfT43HP/Cnxks3icE/ZmZmZmZmxj/P91PjpZvEPzvfT42XbsI/rkfhehSuxz/sUbgehevBP0SLbOf7qcE/hxbZzvdTwz8X2c73U+PFPx+F61G4HsU/Gy/dJAaBxT/wp8ZLN4keQC2yne+nxts//tR46SYxyD+amZmZmZnJP0a28/3UeNE//Knx0k1i0D+WQ4ts5/sLQN9PjZduEsM//Knx0k1iwD+4HoXrUbi+P0jhehSuR8E/okW28/3UuD8hsHJoke28P6AaL90kBtk/YOXQItv5vj/y0k1iEFjRP2ZmZmZmZsY/zczMzMzMzD/y0k1iEFj5P83MzMzMzMw/ke18PzWOTUDjpZvEILDiPz0K16NwPfA/SOF6FK5H0T/VeOkmMQjUP2ZmZmZmZuI/ObTIdr6fyj8bL90kBoHFP7pJDAIrh8Y/ukkMAiuHxj+YbhKDwMrpPxBYObTIpkBAjZduEoPA5j/8qfHSTWLQP3sUrkfhesQ/Gy/dJAaBxT8dWmQ7339EQC2yne+nxvE/bef7qfHSzT9aZDvfT43HP2Dl0CLb+RNAke18PzVeFkCTGARWDm0hQPT91Hjp5iNAIbByaJHtJkAIrBxaZDs7QFg5tMh2fi1AuB6F61G44j/n+6nx0k3CP9v5fmq8dMM/SOF6FK5HwT+PwvUoXI8DQLTIdr6fGjNAmpmZmZn5OUC8dJMYBBYtQLgehetRCENAYOXQItv5GkBvEoPAyiEcQMP1KFyPckFA",
          "dtype": "f8"
         },
         "xaxis": "x",
         "yaxis": "y"
        },
        {
         "hovertemplate": "Stage=Inspect the Code (n=177)<br>Time between runs (seconds)=%{x}<extra></extra>",
         "legendgroup": "Inspect the Code (n=177)",
         "marker": {
          "color": "#636efa"
         },
         "name": "Inspect the Code (n=177)",
         "notched": true,
         "showlegend": false,
         "type": "box",
         "x": {
          "bdata": "rBxaZDvf5z9SuB6F61HIPwAAAAAAANA/PzVeukkM2j85tMh2vp/KPxBYObTIds4/BoGVQ4usKkD4U+Olm8TQP5qZmZmZmck/1XjpJjEI6D8UrkfhepQfQP7UeOkmMTJA+n5qvHTzN0BYObTIdl4xQGZmZmZmZu4/uB6F61G4zj+wcmiR7XzXPw4tsp3vp9Y/5/up8dJN0j8MAiuHFtnOPwwCK4cWGSpABFYOLbKd6z9vEoPAyqHFP2IQWDm0yMY/3SQGgZVD0z/RItv5fmq8P4PAyqFFtsM/ke18PzVeuj8ZBFYOLbLdP2Dl0CLb+b4/ke18PzVeuj+6SQwCK4e2P1K4HoXrUbg/O99PjZdusj9QjZduEoPAP2q8dJMYBLY/okW28/3UuD+iRbbz/dS4P4ts5/up8dI/ke18PzVeuj/hehSuR+G6PxKDwMqhRbY/+n5qvHSTuD+iRbbz/dS4P5HtfD81Xro/CtejcD0Ktz8pXI/C9Si8P6JFtvP91Lg/arx0kxgEtj9g5dAi2/m+P1YOLbKd78c/UrgehetRyD9aZDvfT43HP8P1KFyPwrU/8tJNYhBYuT956SYxCKy8P/p+arx0k7g/+n5qvHSTyD9SuB6F61G4P3sUrkfherQ/+n5qvHSTuD+q8dJNYhC4P4lBYOXQIrs/+n5qvHSTuD9qvHSTGAS2P4lBYOXQIrs/qvHSTWIQuD97FK5H4Xq0PwIrhxbZzrc/0SLb+X5qP0D6fmq8dJPgP6RwPQrXC2ZAAAAAAAAA9D/ZzvdT46XLP3npJjEIrMw/hetRuB6F7z/jpZvEILDiP/p+arx0k8g/hxbZzvdTwz8nMQisHFoUQDvfT42XbsI/exSuR+F6xD+PwvUoXI/CP0jhehSuR8E/z/dT46WbxD8X2c73U+PpP5qZmZmZmck/3SQGgZVDyz+e76fGSx9QQH9qvHSTeDhAIbByaJHt5D8EVg4tsp3XP7x0kxgEhk5A/Knx0k1i4D++nxov3STeP9NNYhBY2TxAkxgEVg4tIEDufD81XrodQDvfT42XbhJA/Knx0k1iFEB9PzVeukkUQBsv3SQGgRFAhetRuB6FF0Cq8dJNYtAkQMdLN4lBoCZAg8DKoUW25z9aZDvfT43HP/Cnxks3icE/ZmZmZmZmxj/P91PjpZvEPzvfT42XbsI/rkfhehSuxz/sUbgehevBP0SLbOf7qcE/hxbZzvdTwz8X2c73U+PFPx+F61G4HsU/Gy/dJAaBxT/wp8ZLN4keQC2yne+nxts//tR46SYxyD+amZmZmZnJP0a28/3UeNE//Knx0k1i0D+WQ4ts5/sLQN9PjZduEsM//Knx0k1iwD+4HoXrUbi+P0jhehSuR8E/okW28/3UuD8hsHJoke28P6AaL90kBtk/YOXQItv5vj/y0k1iEFjRP2ZmZmZmZsY/zczMzMzMzD/y0k1iEFj5P83MzMzMzMw/ke18PzWOTUDjpZvEILDiPz0K16NwPfA/SOF6FK5H0T/VeOkmMQjUP2ZmZmZmZuI/ObTIdr6fyj8bL90kBoHFP7pJDAIrh8Y/ukkMAiuHxj+YbhKDwMrpPxBYObTIpkBAjZduEoPA5j/8qfHSTWLQP3sUrkfhesQ/Gy/dJAaBxT8dWmQ7339EQC2yne+nxvE/bef7qfHSzT9aZDvfT43HP2Dl0CLb+RNAke18PzVeFkCTGARWDm0hQPT91Hjp5iNAIbByaJHtJkAIrBxaZDs7QFg5tMh2fi1AuB6F61G44j/n+6nx0k3CP9v5fmq8dMM/SOF6FK5HwT+PwvUoXI8DQLTIdr6fGjNAmpmZmZn5OUC8dJMYBBYtQLgehetRCENAYOXQItv5GkBvEoPAyiEcQMP1KFyPckFA",
          "dtype": "f8"
         },
         "xaxis": "x2",
         "yaxis": "y2"
        },
        {
         "bingroup": "x",
         "hovertemplate": "Stage=Test (n=114)<br>Time between runs (seconds)=%{x}<br>count=%{y}<extra></extra>",
         "legendgroup": "Test (n=114)",
         "marker": {
          "color": "#EF553B",
          "opacity": 0.5,
          "pattern": {
           "shape": ""
          }
         },
         "name": "Test (n=114)",
         "orientation": "v",
         "showlegend": true,
         "type": "histogram",
         "x": {
          "bdata": "lkOLbOf7KUA5tMh2vp8dQJhuEoPAyvE/NV66SQwCJ0DJdr6fGq8jQAIrhxbZziFA5dAi2/neMECWQ4ts5/shQBsv3SQGgStAuB6F61F4IUCgGi/dJAYlQOF6FK5HISRA9ihcj8J1IkAj2/l+arzkP/yp8dJNYtA/QmDl0CLbJ0DP91PjpRsaQC/dJAaBVSNA8tJNYhAYIECamZmZmZn7PyUGgZVDi8w/2c73U+Olyz/4U+Olm8QcQG3n+6nx0iFA5/up8dJNCkBEi2zn+6krQBKDwMqhhS1A2/l+arx06z9qvHSTGATGPxsv3SQGgcU/Di2yne+nxj8dWmQ73y9CQDvfT42X7i9ArkfhehSuE0AQWDm0yHYHQLpJDAIrh8Y/gZVDi2znyz9t5/up8dIeQFK4HoXrUUNArBxaZDtfJUDufD81XrrhP6wcWmQ7398/ZDvfT403OkD6fmq8dGtTQGZmZmZmZtY/z/dT46WbP0CamZmZmdktQMdLN4lBwDNAJzEIrByaIkB3vp8aL90iQHWTGARWDgVAtvP91HjpAUASg8DKoUUSQN9PjZduEgNAXI/C9ShcFkBI4XoUrkcxQPYoXI/C9QBAdZMYBFYOBUBYObTIdr4lQMP1KFyPEkZAd76fGi/dHECamZmZmXkxQPhT46WbRB5AZmZmZmYWSEASg8DKoUUaQHe+nxov3ew/Di2yne+nMUCuR+F6FK4yQE5iEFg5dCdA30+Nl26SF0Atsp3vp8bLP8UgsHJokc0/eekmMQiszD+yne+nxqswQJMYBFYOLQ9ADAIrhxaZIUBGtvP91DgqQPp+arx0kzFAfT81XrpJD0BmZmZmZmYDQFpkO99PjRtAarx0kxiUSkDsUbgehWsQQD81XrpJDA9AH4XrUbgeK0ACK4cW2c63P7ByaJHt/BhAf2q8dJOYFUCwcmiR7XwTQOXQItv5fiRASOF6FK4HLEDJdr6fGu8vQP7UeOkmMThAzczMzMxMJkCWQ4ts5wNUQI/C9ShcjwVADAIrhxY5MkD8qfHSTWIoQNV46SYxCEZA16NwPQrXI0DufD81XroMQE5iEFg5tApAj8L1KFyP+D9YObTIdn4iQGiR7Xw/NSBAqMZLN4lBNUCe76fGSzc2QHNoke18PzFAke18PzWeM0C0yHa+n9onQGQ730+NlxlAkxgEVg4t8D8OLbKd72cxQMdLN4lBoChA",
          "dtype": "f8"
         },
         "xaxis": "x",
         "yaxis": "y"
        },
        {
         "hovertemplate": "Stage=Test (n=114)<br>Time between runs (seconds)=%{x}<extra></extra>",
         "legendgroup": "Test (n=114)",
         "marker": {
          "color": "#EF553B"
         },
         "name": "Test (n=114)",
         "notched": true,
         "showlegend": false,
         "type": "box",
         "x": {
          "bdata": "lkOLbOf7KUA5tMh2vp8dQJhuEoPAyvE/NV66SQwCJ0DJdr6fGq8jQAIrhxbZziFA5dAi2/neMECWQ4ts5/shQBsv3SQGgStAuB6F61F4IUCgGi/dJAYlQOF6FK5HISRA9ihcj8J1IkAj2/l+arzkP/yp8dJNYtA/QmDl0CLbJ0DP91PjpRsaQC/dJAaBVSNA8tJNYhAYIECamZmZmZn7PyUGgZVDi8w/2c73U+Olyz/4U+Olm8QcQG3n+6nx0iFA5/up8dJNCkBEi2zn+6krQBKDwMqhhS1A2/l+arx06z9qvHSTGATGPxsv3SQGgcU/Di2yne+nxj8dWmQ73y9CQDvfT42X7i9ArkfhehSuE0AQWDm0yHYHQLpJDAIrh8Y/gZVDi2znyz9t5/up8dIeQFK4HoXrUUNArBxaZDtfJUDufD81XrrhP6wcWmQ7398/ZDvfT403OkD6fmq8dGtTQGZmZmZmZtY/z/dT46WbP0CamZmZmdktQMdLN4lBwDNAJzEIrByaIkB3vp8aL90iQHWTGARWDgVAtvP91HjpAUASg8DKoUUSQN9PjZduEgNAXI/C9ShcFkBI4XoUrkcxQPYoXI/C9QBAdZMYBFYOBUBYObTIdr4lQMP1KFyPEkZAd76fGi/dHECamZmZmXkxQPhT46WbRB5AZmZmZmYWSEASg8DKoUUaQHe+nxov3ew/Di2yne+nMUCuR+F6FK4yQE5iEFg5dCdA30+Nl26SF0Atsp3vp8bLP8UgsHJokc0/eekmMQiszD+yne+nxqswQJMYBFYOLQ9ADAIrhxaZIUBGtvP91DgqQPp+arx0kzFAfT81XrpJD0BmZmZmZmYDQFpkO99PjRtAarx0kxiUSkDsUbgehWsQQD81XrpJDA9AH4XrUbgeK0ACK4cW2c63P7ByaJHt/BhAf2q8dJOYFUCwcmiR7XwTQOXQItv5fiRASOF6FK4HLEDJdr6fGu8vQP7UeOkmMThAzczMzMxMJkCWQ4ts5wNUQI/C9ShcjwVADAIrhxY5MkD8qfHSTWIoQNV46SYxCEZA16NwPQrXI0DufD81XroMQE5iEFg5tApAj8L1KFyP+D9YObTIdn4iQGiR7Xw/NSBAqMZLN4lBNUCe76fGSzc2QHNoke18PzFAke18PzWeM0C0yHa+n9onQGQ730+NlxlAkxgEVg4t8D8OLbKd72cxQMdLN4lBoChA",
          "dtype": "f8"
         },
         "xaxis": "x2",
         "yaxis": "y2"
        }
       ],
       "layout": {
        "barmode": "overlay",
        "legend": {
         "title": {
          "text": "Stage"
         },
         "tracegroupgap": 0
        },
        "template": {
         "data": {
          "bar": [
           {
            "error_x": {
             "color": "#2a3f5f"
            },
            "error_y": {
             "color": "#2a3f5f"
            },
            "marker": {
             "line": {
              "color": "#E5ECF6",
              "width": 0.5
             },
             "pattern": {
              "fillmode": "overlay",
              "size": 10,
              "solidity": 0.2
             }
            },
            "type": "bar"
           }
          ],
          "barpolar": [
           {
            "marker": {
             "line": {
              "color": "#E5ECF6",
              "width": 0.5
             },
             "pattern": {
              "fillmode": "overlay",
              "size": 10,
              "solidity": 0.2
             }
            },
            "type": "barpolar"
           }
          ],
          "carpet": [
           {
            "aaxis": {
             "endlinecolor": "#2a3f5f",
             "gridcolor": "white",
             "linecolor": "white",
             "minorgridcolor": "white",
             "startlinecolor": "#2a3f5f"
            },
            "baxis": {
             "endlinecolor": "#2a3f5f",
             "gridcolor": "white",
             "linecolor": "white",
             "minorgridcolor": "white",
             "startlinecolor": "#2a3f5f"
            },
            "type": "carpet"
           }
          ],
          "choropleth": [
           {
            "colorbar": {
             "outlinewidth": 0,
             "ticks": ""
            },
            "type": "choropleth"
           }
          ],
          "contour": [
           {
            "colorbar": {
             "outlinewidth": 0,
             "ticks": ""
            },
            "colorscale": [
             [
              0,
              "#0d0887"
             ],
             [
              0.1111111111111111,
              "#46039f"
             ],
             [
              0.2222222222222222,
              "#7201a8"
             ],
             [
              0.3333333333333333,
              "#9c179e"
             ],
             [
              0.4444444444444444,
              "#bd3786"
             ],
             [
              0.5555555555555556,
              "#d8576b"
             ],
             [
              0.6666666666666666,
              "#ed7953"
             ],
             [
              0.7777777777777778,
              "#fb9f3a"
             ],
             [
              0.8888888888888888,
              "#fdca26"
             ],
             [
              1,
              "#f0f921"
             ]
            ],
            "type": "contour"
           }
          ],
          "contourcarpet": [
           {
            "colorbar": {
             "outlinewidth": 0,
             "ticks": ""
            },
            "type": "contourcarpet"
           }
          ],
          "heatmap": [
           {
            "colorbar": {
             "outlinewidth": 0,
             "ticks": ""
            },
            "colorscale": [
             [
              0,
              "#0d0887"
             ],
             [
              0.1111111111111111,
              "#46039f"
             ],
             [
              0.2222222222222222,
              "#7201a8"
             ],
             [
              0.3333333333333333,
              "#9c179e"
             ],
             [
              0.4444444444444444,
              "#bd3786"
             ],
             [
              0.5555555555555556,
              "#d8576b"
             ],
             [
              0.6666666666666666,
              "#ed7953"
             ],
             [
              0.7777777777777778,
              "#fb9f3a"
             ],
             [
              0.8888888888888888,
              "#fdca26"
             ],
             [
              1,
              "#f0f921"
             ]
            ],
            "type": "heatmap"
           }
          ],
          "histogram": [
           {
            "marker": {
             "pattern": {
              "fillmode": "overlay",
              "size": 10,
              "solidity": 0.2
             }
            },
            "type": "histogram"
           }
          ],
          "histogram2d": [
           {
            "colorbar": {
             "outlinewidth": 0,
             "ticks": ""
            },
            "colorscale": [
             [
              0,
              "#0d0887"
             ],
             [
              0.1111111111111111,
              "#46039f"
             ],
             [
              0.2222222222222222,
              "#7201a8"
             ],
             [
              0.3333333333333333,
              "#9c179e"
             ],
             [
              0.4444444444444444,
              "#bd3786"
             ],
             [
              0.5555555555555556,
              "#d8576b"
             ],
             [
              0.6666666666666666,
              "#ed7953"
             ],
             [
              0.7777777777777778,
              "#fb9f3a"
             ],
             [
              0.8888888888888888,
              "#fdca26"
             ],
             [
              1,
              "#f0f921"
             ]
            ],
            "type": "histogram2d"
           }
          ],
          "histogram2dcontour": [
           {
            "colorbar": {
             "outlinewidth": 0,
             "ticks": ""
            },
            "colorscale": [
             [
              0,
              "#0d0887"
             ],
             [
              0.1111111111111111,
              "#46039f"
             ],
             [
              0.2222222222222222,
              "#7201a8"
             ],
             [
              0.3333333333333333,
              "#9c179e"
             ],
             [
              0.4444444444444444,
              "#bd3786"
             ],
             [
              0.5555555555555556,
              "#d8576b"
             ],
             [
              0.6666666666666666,
              "#ed7953"
             ],
             [
              0.7777777777777778,
              "#fb9f3a"
             ],
             [
              0.8888888888888888,
              "#fdca26"
             ],
             [
              1,
              "#f0f921"
             ]
            ],
            "type": "histogram2dcontour"
           }
          ],
          "mesh3d": [
           {
            "colorbar": {
             "outlinewidth": 0,
             "ticks": ""
            },
            "type": "mesh3d"
           }
          ],
          "parcoords": [
           {
            "line": {
             "colorbar": {
              "outlinewidth": 0,
              "ticks": ""
             }
            },
            "type": "parcoords"
           }
          ],
          "pie": [
           {
            "automargin": true,
            "type": "pie"
           }
          ],
          "scatter": [
           {
            "fillpattern": {
             "fillmode": "overlay",
             "size": 10,
             "solidity": 0.2
            },
            "type": "scatter"
           }
          ],
          "scatter3d": [
           {
            "line": {
             "colorbar": {
              "outlinewidth": 0,
              "ticks": ""
             }
            },
            "marker": {
             "colorbar": {
              "outlinewidth": 0,
              "ticks": ""
             }
            },
            "type": "scatter3d"
           }
          ],
          "scattercarpet": [
           {
            "marker": {
             "colorbar": {
              "outlinewidth": 0,
              "ticks": ""
             }
            },
            "type": "scattercarpet"
           }
          ],
          "scattergeo": [
           {
            "marker": {
             "colorbar": {
              "outlinewidth": 0,
              "ticks": ""
             }
            },
            "type": "scattergeo"
           }
          ],
          "scattergl": [
           {
            "marker": {
             "colorbar": {
              "outlinewidth": 0,
              "ticks": ""
             }
            },
            "type": "scattergl"
           }
          ],
          "scattermap": [
           {
            "marker": {
             "colorbar": {
              "outlinewidth": 0,
              "ticks": ""
             }
            },
            "type": "scattermap"
           }
          ],
          "scattermapbox": [
           {
            "marker": {
             "colorbar": {
              "outlinewidth": 0,
              "ticks": ""
             }
            },
            "type": "scattermapbox"
           }
          ],
          "scatterpolar": [
           {
            "marker": {
             "colorbar": {
              "outlinewidth": 0,
              "ticks": ""
             }
            },
            "type": "scatterpolar"
           }
          ],
          "scatterpolargl": [
           {
            "marker": {
             "colorbar": {
              "outlinewidth": 0,
              "ticks": ""
             }
            },
            "type": "scatterpolargl"
           }
          ],
          "scatterternary": [
           {
            "marker": {
             "colorbar": {
              "outlinewidth": 0,
              "ticks": ""
             }
            },
            "type": "scatterternary"
           }
          ],
          "surface": [
           {
            "colorbar": {
             "outlinewidth": 0,
             "ticks": ""
            },
            "colorscale": [
             [
              0,
              "#0d0887"
             ],
             [
              0.1111111111111111,
              "#46039f"
             ],
             [
              0.2222222222222222,
              "#7201a8"
             ],
             [
              0.3333333333333333,
              "#9c179e"
             ],
             [
              0.4444444444444444,
              "#bd3786"
             ],
             [
              0.5555555555555556,
              "#d8576b"
             ],
             [
              0.6666666666666666,
              "#ed7953"
             ],
             [
              0.7777777777777778,
              "#fb9f3a"
             ],
             [
              0.8888888888888888,
              "#fdca26"
             ],
             [
              1,
              "#f0f921"
             ]
            ],
            "type": "surface"
           }
          ],
          "table": [
           {
            "cells": {
             "fill": {
              "color": "#EBF0F8"
             },
             "line": {
              "color": "white"
             }
            },
            "header": {
             "fill": {
              "color": "#C8D4E3"
             },
             "line": {
              "color": "white"
             }
            },
            "type": "table"
           }
          ]
         },
         "layout": {
          "annotationdefaults": {
           "arrowcolor": "#2a3f5f",
           "arrowhead": 0,
           "arrowwidth": 1
          },
          "autotypenumbers": "strict",
          "coloraxis": {
           "colorbar": {
            "outlinewidth": 0,
            "ticks": ""
           }
          },
          "colorscale": {
           "diverging": [
            [
             0,
             "#8e0152"
            ],
            [
             0.1,
             "#c51b7d"
            ],
            [
             0.2,
             "#de77ae"
            ],
            [
             0.3,
             "#f1b6da"
            ],
            [
             0.4,
             "#fde0ef"
            ],
            [
             0.5,
             "#f7f7f7"
            ],
            [
             0.6,
             "#e6f5d0"
            ],
            [
             0.7,
             "#b8e186"
            ],
            [
             0.8,
             "#7fbc41"
            ],
            [
             0.9,
             "#4d9221"
            ],
            [
             1,
             "#276419"
            ]
           ],
           "sequential": [
            [
             0,
             "#0d0887"
            ],
            [
             0.1111111111111111,
             "#46039f"
            ],
            [
             0.2222222222222222,
             "#7201a8"
            ],
            [
             0.3333333333333333,
             "#9c179e"
            ],
            [
             0.4444444444444444,
             "#bd3786"
            ],
            [
             0.5555555555555556,
             "#d8576b"
            ],
            [
             0.6666666666666666,
             "#ed7953"
            ],
            [
             0.7777777777777778,
             "#fb9f3a"
            ],
            [
             0.8888888888888888,
             "#fdca26"
            ],
            [
             1,
             "#f0f921"
            ]
           ],
           "sequentialminus": [
            [
             0,
             "#0d0887"
            ],
            [
             0.1111111111111111,
             "#46039f"
            ],
            [
             0.2222222222222222,
             "#7201a8"
            ],
            [
             0.3333333333333333,
             "#9c179e"
            ],
            [
             0.4444444444444444,
             "#bd3786"
            ],
            [
             0.5555555555555556,
             "#d8576b"
            ],
            [
             0.6666666666666666,
             "#ed7953"
            ],
            [
             0.7777777777777778,
             "#fb9f3a"
            ],
            [
             0.8888888888888888,
             "#fdca26"
            ],
            [
             1,
             "#f0f921"
            ]
           ]
          },
          "colorway": [
           "#636efa",
           "#EF553B",
           "#00cc96",
           "#ab63fa",
           "#FFA15A",
           "#19d3f3",
           "#FF6692",
           "#B6E880",
           "#FF97FF",
           "#FECB52"
          ],
          "font": {
           "color": "#2a3f5f"
          },
          "geo": {
           "bgcolor": "white",
           "lakecolor": "white",
           "landcolor": "#E5ECF6",
           "showlakes": true,
           "showland": true,
           "subunitcolor": "white"
          },
          "hoverlabel": {
           "align": "left"
          },
          "hovermode": "closest",
          "mapbox": {
           "style": "light"
          },
          "paper_bgcolor": "white",
          "plot_bgcolor": "#E5ECF6",
          "polar": {
           "angularaxis": {
            "gridcolor": "white",
            "linecolor": "white",
            "ticks": ""
           },
           "bgcolor": "#E5ECF6",
           "radialaxis": {
            "gridcolor": "white",
            "linecolor": "white",
            "ticks": ""
           }
          },
          "scene": {
           "xaxis": {
            "backgroundcolor": "#E5ECF6",
            "gridcolor": "white",
            "gridwidth": 2,
            "linecolor": "white",
            "showbackground": true,
            "ticks": "",
            "zerolinecolor": "white"
           },
           "yaxis": {
            "backgroundcolor": "#E5ECF6",
            "gridcolor": "white",
            "gridwidth": 2,
            "linecolor": "white",
            "showbackground": true,
            "ticks": "",
            "zerolinecolor": "white"
           },
           "zaxis": {
            "backgroundcolor": "#E5ECF6",
            "gridcolor": "white",
            "gridwidth": 2,
            "linecolor": "white",
            "showbackground": true,
            "ticks": "",
            "zerolinecolor": "white"
           }
          },
          "shapedefaults": {
           "line": {
            "color": "#2a3f5f"
           }
          },
          "ternary": {
           "aaxis": {
            "gridcolor": "white",
            "linecolor": "white",
            "ticks": ""
           },
           "baxis": {
            "gridcolor": "white",
            "linecolor": "white",
            "ticks": ""
           },
           "bgcolor": "#E5ECF6",
           "caxis": {
            "gridcolor": "white",
            "linecolor": "white",
            "ticks": ""
           }
          },
          "title": {
           "x": 0.05
          },
          "xaxis": {
           "automargin": true,
           "gridcolor": "white",
           "linecolor": "white",
           "ticks": "",
           "title": {
            "standoff": 15
           },
           "zerolinecolor": "white",
           "zerolinewidth": 2
          },
          "yaxis": {
           "automargin": true,
           "gridcolor": "white",
           "linecolor": "white",
           "ticks": "",
           "title": {
            "standoff": 15
           },
           "zerolinecolor": "white",
           "zerolinewidth": 2
          }
         }
        },
        "title": {
         "text": "Time between runs for Inspect the Code and Test stages)"
        },
        "xaxis": {
         "anchor": "y",
         "domain": [
          0,
          1
         ],
         "title": {
          "text": "Time between runs (seconds)"
         }
        },
        "xaxis2": {
         "anchor": "y2",
         "domain": [
          0,
          1
         ],
         "matches": "x",
         "showgrid": true,
         "showticklabels": false
        },
        "yaxis": {
         "anchor": "x",
         "domain": [
          0,
          0.7326
         ],
         "title": {
          "text": "count"
         }
        },
        "yaxis2": {
         "anchor": "x2",
         "domain": [
          0.7426,
          1
         ],
         "matches": "y2",
         "showgrid": false,
         "showline": false,
         "showticklabels": false,
         "ticks": ""
        }
       }
      }
     },
     "metadata": {},
     "output_type": "display_data"
    }
   ],
   "source": [
    "n_runs_inspect_the_code: list[int] = [StageLogProcessor.get_number_of_runs(stage_log) for stage_log in STAGE_LOGS if stage_log.stage_name == DebuggingStage.inspect_code]\n",
    "print(\"Number of inspect the code stages:\", len(n_runs_inspect_the_code))\n",
    "n_runs_test: list[int] = [StageLogProcessor.get_number_of_runs(stage_log) for stage_log in STAGE_LOGS if stage_log.stage_name == DebuggingStage.test]\n",
    "print(\"Number of test stages:\", len(n_runs_test))\n",
    "\n",
    "n_non_zero_runs_inspect_the_code: list[int] = [StageLogProcessor.get_number_of_runs(stage_log) for stage_log in STAGE_LOGS if stage_log.stage_name == DebuggingStage.inspect_code and StageLogProcessor.get_number_of_runs(stage_log) > 0]\n",
    "n_non_zero_of_runs_test: list[int] = [StageLogProcessor.get_number_of_runs(stage_log) for stage_log in STAGE_LOGS if stage_log.stage_name == DebuggingStage.test and StageLogProcessor.get_number_of_runs(stage_log) > 0]\n",
    "\n",
    "df_runs = DataFrame({\n",
    "    \"Number of Runs\": n_runs_inspect_the_code + n_runs_test,\n",
    "    \"Stage\": ([\"Inspect the Code\"] * len(n_runs_inspect_the_code)) + ([\"Test\"] * len(n_runs_test))\n",
    "})\n",
    "df_non_zero_runs = DataFrame({\n",
    "    \"Number of Runs\": n_non_zero_runs_inspect_the_code + n_non_zero_of_runs_test,\n",
    "    \"Stage\": ([\"Inspect the Code\"] * len(n_non_zero_runs_inspect_the_code)) + ([\"Test\"] * len(n_non_zero_of_runs_test))\n",
    "})\n",
    "\n",
    "px.histogram(\n",
    "    df_non_zero_runs,\n",
    "    x=\"Number of Runs\",\n",
    "    color=\"Stage\",\n",
    "    marginal=\"box\",\n",
    "    barmode=\"overlay\",\n",
    "    labels={\"Number of Runs\": \"Number of runs\", \"count\": \"Frequency\"},\n",
    "    title=\"Number of runs for Inspect the Code and Test stages\"\n",
    ").show()\n",
    "\n",
    "labels = ['0', '1', '2', '3', '4', '5+']\n",
    "df_runs['Runs Grouped'] = cut(df_runs['Number of Runs'], bins=[-0.1, 0.9, 1.9, 2.9, 3.9, 4.9, float('inf')], labels=labels, right=True)\n",
    "px.bar(\n",
    "    df_runs.groupby(['Stage', 'Runs Grouped'], observed=True).size().reset_index(name='Count'),\n",
    "    x='Runs Grouped',\n",
    "    y='Count',\n",
    "    color='Stage',\n",
    "    barmode='group',\n",
    "    labels={\"Runs Grouped\": \"Number of Runs (Grouped)\", \"Count\": \"Frequency\"},\n",
    "    title=\"Number of runs for Inspect the Code and Test stages (Grouped)\"\n",
    ").show()\n",
    "\n",
    "time_between_runs_inspect_the_code: list[float] = [time for stage_log in STAGE_LOGS if stage_log.stage_name == DebuggingStage.inspect_code for time in StageLogProcessor.get_time_between_runs(stage_log) if StageLogProcessor.get_time_between_runs(stage_log)]\n",
    "time_between_runs_test: list[float] = [time for stage_log in STAGE_LOGS if stage_log.stage_name == DebuggingStage.test for time in StageLogProcessor.get_time_between_runs(stage_log) if StageLogProcessor.get_time_between_runs(stage_log)]\n",
    "df_time_between_runs = DataFrame({\n",
    "    \"Time Between Runs (seconds)\": time_between_runs_inspect_the_code + time_between_runs_test,\n",
    "    \"Stage\": ([f\"Inspect the Code (n={len(time_between_runs_inspect_the_code)})\"] * len(time_between_runs_inspect_the_code)) + ([f\"Test (n={len(time_between_runs_test)})\"] * len(time_between_runs_test))\n",
    "})\n",
    "\n",
    "px.histogram(\n",
    "    df_time_between_runs,\n",
    "    x=\"Time Between Runs (seconds)\",\n",
    "    color=\"Stage\",\n",
    "    marginal=\"box\",\n",
    "    barmode=\"overlay\",\n",
    "    labels={\"Time Between Runs (seconds)\": \"Time between runs (seconds)\", \"count\": \"Frequency\"},\n",
    "    title=\"Time between runs for Inspect the Code and Test stages)\"\n",
    ").show() #TODO: Check potential errors as graphs indicate discrepancy"
   ]
  },
  {
   "cell_type": "markdown",
   "metadata": {},
   "source": [
    "In places where students had the choice of which stage to go to, where did they go?"
   ]
  },
  {
   "cell_type": "code",
   "execution_count": 9,
   "metadata": {},
   "outputs": [
    {
     "data": {
      "application/vnd.plotly.v1+json": {
       "config": {
        "plotlyServerURL": "https://plot.ly"
       },
       "data": [
        {
         "alignmentgroup": "True",
         "hovertemplate": "Stage=find_error<br>Succeeding Stage=%{x}<br>Frequency=%{y}<extra></extra>",
         "legendgroup": "find_error",
         "marker": {
          "color": "#636efa",
          "pattern": {
           "shape": ""
          }
         },
         "name": "find_error",
         "offsetgroup": "find_error",
         "orientation": "v",
         "showlegend": true,
         "textposition": "auto",
         "type": "bar",
         "x": [
          "find_error",
          "fix_error",
          "fix_error",
          "fix_error",
          "find_error",
          "inspect_code",
          "find_error",
          "find_error",
          "find_error",
          "find_error",
          "find_error",
          "find_error",
          "find_error",
          "find_error",
          "find_error",
          "find_error",
          "find_error",
          "find_error",
          "find_error",
          "find_error",
          "find_error",
          "find_error",
          "find_error",
          "find_error",
          "find_error",
          "find_error",
          "find_error",
          "find_error",
          "find_error",
          "find_error",
          "find_error",
          "find_error",
          "find_error",
          "find_error",
          "find_error",
          "fix_error",
          "fix_error",
          "find_error",
          "inspect_code",
          "inspect_code",
          "find_error",
          "find_error",
          "find_error",
          "find_error",
          "find_error",
          "find_error",
          "find_error",
          "find_error",
          "find_error",
          "find_error",
          "find_error",
          "find_error",
          "find_error",
          "find_error",
          "inspect_code",
          "find_error",
          "find_error",
          "find_error",
          "fix_error",
          "find_error",
          "find_error",
          "find_error",
          "find_error",
          "find_error",
          "find_error",
          "fix_error",
          "fix_error",
          "find_error",
          "inspect_code",
          "exit",
          "inspect_code",
          "find_error",
          "find_error",
          "fix_error",
          "find_error",
          "find_error",
          "inspect_code",
          "inspect_code",
          "inspect_code",
          "fix_error",
          "fix_error",
          "fix_error",
          "fix_error",
          "find_error",
          "find_error",
          "find_error",
          "inspect_code",
          "find_error",
          "find_error",
          "find_error",
          "find_error",
          "fix_error",
          "fix_error",
          "fix_error",
          "fix_error",
          "fix_error",
          "find_error",
          "inspect_code",
          "find_error",
          "find_error",
          "find_error",
          "inspect_code",
          "find_error",
          "find_error",
          "inspect_code",
          "inspect_code",
          "fix_error",
          "find_error",
          "find_error",
          "find_error",
          "find_error",
          "find_error",
          "fix_error",
          "inspect_code",
          "inspect_code",
          "find_error",
          "find_error",
          "find_error",
          "find_error",
          "find_error",
          "find_error",
          "inspect_code",
          "find_error",
          "find_error",
          "find_error",
          "find_error",
          "find_error",
          "exit",
          "fix_error",
          "exit",
          "find_error",
          "fix_error",
          "fix_error",
          "inspect_code",
          "find_error",
          "find_error",
          "fix_error",
          "find_error",
          "find_error",
          "inspect_code",
          "find_error",
          "find_error",
          "find_error",
          "find_error",
          "find_error",
          "find_error",
          "find_error",
          "find_error",
          "find_error",
          "find_error",
          "find_error",
          "find_error",
          "find_error",
          "find_error",
          "find_error",
          "find_error",
          "find_error",
          "exit",
          "find_error",
          "fix_error",
          "find_error",
          "inspect_code",
          "find_error",
          "find_error",
          "find_error",
          "inspect_code",
          "find_error",
          "find_error",
          "find_error",
          "find_error",
          "find_error",
          "find_error",
          "find_error",
          "find_error",
          "find_error",
          "inspect_code",
          "find_error",
          "find_error",
          "find_error",
          "find_error",
          "exit",
          "find_error",
          "find_error",
          "find_error",
          "find_error",
          "find_error",
          "find_error",
          "find_error",
          "find_error",
          "find_error",
          "inspect_code",
          "find_error",
          "find_error",
          "find_error",
          "find_error",
          "find_error",
          "find_error",
          "find_error",
          "find_error",
          "find_error",
          "find_error",
          "find_error",
          "find_error",
          "find_error",
          "find_error",
          "find_error"
         ],
         "xaxis": "x",
         "y": {
          "bdata": "AQEBAQEBAQEBAQEBAQEBAQEBAQEBAQEBAQEBAQEBAQEBAQEBAQEBAQEBAQEBAQEBAQEBAQEBAQEBAQEBAQEBAQEBAQEBAQEBAQEBAQEBAQEBAQEBAQEBAQEBAQEBAQEBAQEBAQEBAQEBAQEBAQEBAQEBAQEBAQEBAQEBAQEBAQEBAQEBAQEBAQEBAQEBAQEBAQEBAQEBAQEBAQEBAQEBAQEBAQEBAQEBAQEBAQEBAQEBAQEBAQEBAQEBAQEBAQEBAQEBAQEBAQEBAQEBAQE=",
          "dtype": "i1"
         },
         "yaxis": "y"
        },
        {
         "alignmentgroup": "True",
         "hovertemplate": "Stage=test<br>Succeeding Stage=%{x}<br>Frequency=%{y}<extra></extra>",
         "legendgroup": "test",
         "marker": {
          "color": "#EF553B",
          "pattern": {
           "shape": ""
          }
         },
         "name": "test",
         "offsetgroup": "test",
         "orientation": "v",
         "showlegend": true,
         "textposition": "auto",
         "type": "bar",
         "x": [
          "inspect_code",
          "fix_error",
          "fix_error",
          "fix_error",
          "fix_error",
          "fix_error",
          "exit",
          "exit",
          "inspect_code",
          "fix_error",
          "exit",
          "inspect_code",
          "exit",
          "exit",
          "fix_error",
          "fix_error",
          "exit",
          "exit",
          "fix_error",
          "fix_error",
          "fix_error",
          "fix_error",
          "inspect_code",
          "exit",
          "exit",
          "inspect_code",
          "inspect_code",
          "inspect_code",
          "inspect_code",
          "exit",
          "exit",
          "exit",
          "exit",
          "exit",
          "exit",
          "exit",
          "exit",
          "exit",
          "exit",
          "inspect_code",
          "inspect_code",
          "inspect_code",
          "inspect_code",
          "inspect_code",
          "exit",
          "inspect_code",
          "inspect_code",
          "inspect_code",
          "exit",
          "fix_error",
          "exit",
          "fix_error",
          "exit",
          "exit",
          "fix_error",
          "exit",
          "exit",
          "inspect_code",
          "inspect_code",
          "exit",
          "exit",
          "fix_error",
          "fix_error",
          "exit",
          "exit",
          "exit",
          "exit",
          "fix_error",
          "fix_error",
          "exit",
          "fix_error",
          "fix_error",
          "fix_error",
          "fix_error",
          "fix_error",
          "fix_error",
          "exit",
          "exit",
          "exit",
          "exit",
          "exit",
          "exit",
          "exit",
          "inspect_code",
          "inspect_code",
          "inspect_code",
          "exit",
          "exit",
          "exit",
          "fix_error",
          "inspect_code",
          "inspect_code",
          "inspect_code",
          "inspect_code",
          "inspect_code",
          "inspect_code",
          "inspect_code",
          "inspect_code",
          "exit",
          "exit",
          "inspect_code",
          "fix_error",
          "inspect_code",
          "exit",
          "exit",
          "fix_error",
          "exit",
          "exit",
          "inspect_code",
          "exit",
          "exit",
          "exit",
          "inspect_code",
          "exit",
          "exit",
          "inspect_code",
          "exit",
          "exit",
          "exit",
          "exit",
          "fix_error",
          "fix_error",
          "exit",
          "exit",
          "fix_error",
          "exit",
          "exit",
          "exit",
          "exit",
          "inspect_code",
          "inspect_code",
          "exit",
          "fix_error",
          "exit",
          "fix_error",
          "exit",
          "fix_error",
          "fix_error",
          "fix_error",
          "fix_error",
          "fix_error",
          "fix_error",
          "fix_error",
          "fix_error",
          "fix_error",
          "fix_error",
          "fix_error",
          "fix_error",
          "inspect_code",
          "exit",
          "inspect_code",
          "inspect_code",
          "inspect_code",
          "exit",
          "exit",
          "exit",
          "inspect_code",
          "exit",
          "exit",
          "exit",
          "exit",
          "exit",
          "fix_error",
          "fix_error",
          "exit",
          "inspect_code",
          "inspect_code",
          "inspect_code",
          "inspect_code",
          "exit",
          "exit",
          "exit",
          "fix_error",
          "exit",
          "exit",
          "inspect_code",
          "exit",
          "inspect_code",
          "exit",
          "inspect_code",
          "fix_error",
          "exit",
          "exit",
          "inspect_code",
          "fix_error",
          "fix_error",
          "exit",
          "exit",
          "inspect_code",
          "exit",
          "inspect_code",
          "exit",
          "fix_error",
          "fix_error",
          "fix_error",
          "fix_error",
          "exit",
          "exit",
          "exit",
          "exit",
          "exit",
          "exit",
          "exit",
          "inspect_code",
          "exit",
          "inspect_code",
          "exit",
          "fix_error",
          "exit",
          "fix_error",
          "fix_error",
          "exit",
          "fix_error",
          "exit",
          "inspect_code",
          "exit",
          "exit",
          "exit",
          "exit",
          "inspect_code",
          "inspect_code",
          "exit",
          "exit",
          "fix_error",
          "exit",
          "exit",
          "inspect_code",
          "inspect_code",
          "exit",
          "exit",
          "fix_error",
          "exit",
          "exit",
          "exit",
          "exit",
          "exit",
          "inspect_code",
          "fix_error",
          "exit",
          "exit",
          "inspect_code",
          "fix_error",
          "exit",
          "exit",
          "exit",
          "exit",
          "exit",
          "inspect_code",
          "inspect_code",
          "exit",
          "inspect_code",
          "inspect_code",
          "exit",
          "exit",
          "exit",
          "exit",
          "fix_error",
          "exit",
          "exit",
          "exit",
          "exit",
          "fix_error",
          "exit",
          "inspect_code",
          "inspect_code",
          "exit",
          "fix_error",
          "fix_error",
          "fix_error",
          "exit",
          "exit",
          "exit",
          "inspect_code",
          "fix_error",
          "fix_error",
          "exit",
          "exit",
          "inspect_code",
          "fix_error",
          "fix_error",
          "fix_error",
          "inspect_code",
          "exit",
          "fix_error",
          "exit",
          "exit",
          "fix_error",
          "exit",
          "exit",
          "inspect_code",
          "fix_error",
          "fix_error",
          "fix_error",
          "exit",
          "fix_error",
          "fix_error",
          "fix_error",
          "exit",
          "exit",
          "fix_error",
          "exit",
          "exit",
          "fix_error",
          "inspect_code",
          "exit",
          "exit",
          "exit",
          "exit",
          "exit",
          "exit",
          "exit",
          "exit",
          "exit",
          "exit",
          "exit",
          "inspect_code",
          "exit",
          "exit",
          "exit",
          "fix_error",
          "fix_error",
          "fix_error",
          "fix_error",
          "fix_error",
          "fix_error",
          "fix_error",
          "fix_error",
          "exit",
          "inspect_code",
          "exit",
          "exit",
          "fix_error",
          "fix_error",
          "exit",
          "exit"
         ],
         "xaxis": "x",
         "y": {
          "bdata": "AQEBAQEBAQEBAQEBAQEBAQEBAQEBAQEBAQEBAQEBAQEBAQEBAQEBAQEBAQEBAQEBAQEBAQEBAQEBAQEBAQEBAQEBAQEBAQEBAQEBAQEBAQEBAQEBAQEBAQEBAQEBAQEBAQEBAQEBAQEBAQEBAQEBAQEBAQEBAQEBAQEBAQEBAQEBAQEBAQEBAQEBAQEBAQEBAQEBAQEBAQEBAQEBAQEBAQEBAQEBAQEBAQEBAQEBAQEBAQEBAQEBAQEBAQEBAQEBAQEBAQEBAQEBAQEBAQEBAQEBAQEBAQEBAQEBAQEBAQEBAQEBAQEBAQEBAQEBAQEBAQEBAQEBAQEBAQEBAQEBAQEBAQEBAQEBAQEBAQEBAQEBAQEBAQEBAQEBAQEBAQEBAQEBAQEBAQEBAQEBAQEBAQEBAQEBAQEBAQEBAQEBAQEBAQEBAQEBAQEBAQEBAQE=",
          "dtype": "i1"
         },
         "yaxis": "y"
        }
       ],
       "layout": {
        "barmode": "group",
        "legend": {
         "title": {
          "text": "Stage"
         },
         "tracegroupgap": 0
        },
        "template": {
         "data": {
          "bar": [
           {
            "error_x": {
             "color": "#2a3f5f"
            },
            "error_y": {
             "color": "#2a3f5f"
            },
            "marker": {
             "line": {
              "color": "#E5ECF6",
              "width": 0.5
             },
             "pattern": {
              "fillmode": "overlay",
              "size": 10,
              "solidity": 0.2
             }
            },
            "type": "bar"
           }
          ],
          "barpolar": [
           {
            "marker": {
             "line": {
              "color": "#E5ECF6",
              "width": 0.5
             },
             "pattern": {
              "fillmode": "overlay",
              "size": 10,
              "solidity": 0.2
             }
            },
            "type": "barpolar"
           }
          ],
          "carpet": [
           {
            "aaxis": {
             "endlinecolor": "#2a3f5f",
             "gridcolor": "white",
             "linecolor": "white",
             "minorgridcolor": "white",
             "startlinecolor": "#2a3f5f"
            },
            "baxis": {
             "endlinecolor": "#2a3f5f",
             "gridcolor": "white",
             "linecolor": "white",
             "minorgridcolor": "white",
             "startlinecolor": "#2a3f5f"
            },
            "type": "carpet"
           }
          ],
          "choropleth": [
           {
            "colorbar": {
             "outlinewidth": 0,
             "ticks": ""
            },
            "type": "choropleth"
           }
          ],
          "contour": [
           {
            "colorbar": {
             "outlinewidth": 0,
             "ticks": ""
            },
            "colorscale": [
             [
              0,
              "#0d0887"
             ],
             [
              0.1111111111111111,
              "#46039f"
             ],
             [
              0.2222222222222222,
              "#7201a8"
             ],
             [
              0.3333333333333333,
              "#9c179e"
             ],
             [
              0.4444444444444444,
              "#bd3786"
             ],
             [
              0.5555555555555556,
              "#d8576b"
             ],
             [
              0.6666666666666666,
              "#ed7953"
             ],
             [
              0.7777777777777778,
              "#fb9f3a"
             ],
             [
              0.8888888888888888,
              "#fdca26"
             ],
             [
              1,
              "#f0f921"
             ]
            ],
            "type": "contour"
           }
          ],
          "contourcarpet": [
           {
            "colorbar": {
             "outlinewidth": 0,
             "ticks": ""
            },
            "type": "contourcarpet"
           }
          ],
          "heatmap": [
           {
            "colorbar": {
             "outlinewidth": 0,
             "ticks": ""
            },
            "colorscale": [
             [
              0,
              "#0d0887"
             ],
             [
              0.1111111111111111,
              "#46039f"
             ],
             [
              0.2222222222222222,
              "#7201a8"
             ],
             [
              0.3333333333333333,
              "#9c179e"
             ],
             [
              0.4444444444444444,
              "#bd3786"
             ],
             [
              0.5555555555555556,
              "#d8576b"
             ],
             [
              0.6666666666666666,
              "#ed7953"
             ],
             [
              0.7777777777777778,
              "#fb9f3a"
             ],
             [
              0.8888888888888888,
              "#fdca26"
             ],
             [
              1,
              "#f0f921"
             ]
            ],
            "type": "heatmap"
           }
          ],
          "histogram": [
           {
            "marker": {
             "pattern": {
              "fillmode": "overlay",
              "size": 10,
              "solidity": 0.2
             }
            },
            "type": "histogram"
           }
          ],
          "histogram2d": [
           {
            "colorbar": {
             "outlinewidth": 0,
             "ticks": ""
            },
            "colorscale": [
             [
              0,
              "#0d0887"
             ],
             [
              0.1111111111111111,
              "#46039f"
             ],
             [
              0.2222222222222222,
              "#7201a8"
             ],
             [
              0.3333333333333333,
              "#9c179e"
             ],
             [
              0.4444444444444444,
              "#bd3786"
             ],
             [
              0.5555555555555556,
              "#d8576b"
             ],
             [
              0.6666666666666666,
              "#ed7953"
             ],
             [
              0.7777777777777778,
              "#fb9f3a"
             ],
             [
              0.8888888888888888,
              "#fdca26"
             ],
             [
              1,
              "#f0f921"
             ]
            ],
            "type": "histogram2d"
           }
          ],
          "histogram2dcontour": [
           {
            "colorbar": {
             "outlinewidth": 0,
             "ticks": ""
            },
            "colorscale": [
             [
              0,
              "#0d0887"
             ],
             [
              0.1111111111111111,
              "#46039f"
             ],
             [
              0.2222222222222222,
              "#7201a8"
             ],
             [
              0.3333333333333333,
              "#9c179e"
             ],
             [
              0.4444444444444444,
              "#bd3786"
             ],
             [
              0.5555555555555556,
              "#d8576b"
             ],
             [
              0.6666666666666666,
              "#ed7953"
             ],
             [
              0.7777777777777778,
              "#fb9f3a"
             ],
             [
              0.8888888888888888,
              "#fdca26"
             ],
             [
              1,
              "#f0f921"
             ]
            ],
            "type": "histogram2dcontour"
           }
          ],
          "mesh3d": [
           {
            "colorbar": {
             "outlinewidth": 0,
             "ticks": ""
            },
            "type": "mesh3d"
           }
          ],
          "parcoords": [
           {
            "line": {
             "colorbar": {
              "outlinewidth": 0,
              "ticks": ""
             }
            },
            "type": "parcoords"
           }
          ],
          "pie": [
           {
            "automargin": true,
            "type": "pie"
           }
          ],
          "scatter": [
           {
            "fillpattern": {
             "fillmode": "overlay",
             "size": 10,
             "solidity": 0.2
            },
            "type": "scatter"
           }
          ],
          "scatter3d": [
           {
            "line": {
             "colorbar": {
              "outlinewidth": 0,
              "ticks": ""
             }
            },
            "marker": {
             "colorbar": {
              "outlinewidth": 0,
              "ticks": ""
             }
            },
            "type": "scatter3d"
           }
          ],
          "scattercarpet": [
           {
            "marker": {
             "colorbar": {
              "outlinewidth": 0,
              "ticks": ""
             }
            },
            "type": "scattercarpet"
           }
          ],
          "scattergeo": [
           {
            "marker": {
             "colorbar": {
              "outlinewidth": 0,
              "ticks": ""
             }
            },
            "type": "scattergeo"
           }
          ],
          "scattergl": [
           {
            "marker": {
             "colorbar": {
              "outlinewidth": 0,
              "ticks": ""
             }
            },
            "type": "scattergl"
           }
          ],
          "scattermap": [
           {
            "marker": {
             "colorbar": {
              "outlinewidth": 0,
              "ticks": ""
             }
            },
            "type": "scattermap"
           }
          ],
          "scattermapbox": [
           {
            "marker": {
             "colorbar": {
              "outlinewidth": 0,
              "ticks": ""
             }
            },
            "type": "scattermapbox"
           }
          ],
          "scatterpolar": [
           {
            "marker": {
             "colorbar": {
              "outlinewidth": 0,
              "ticks": ""
             }
            },
            "type": "scatterpolar"
           }
          ],
          "scatterpolargl": [
           {
            "marker": {
             "colorbar": {
              "outlinewidth": 0,
              "ticks": ""
             }
            },
            "type": "scatterpolargl"
           }
          ],
          "scatterternary": [
           {
            "marker": {
             "colorbar": {
              "outlinewidth": 0,
              "ticks": ""
             }
            },
            "type": "scatterternary"
           }
          ],
          "surface": [
           {
            "colorbar": {
             "outlinewidth": 0,
             "ticks": ""
            },
            "colorscale": [
             [
              0,
              "#0d0887"
             ],
             [
              0.1111111111111111,
              "#46039f"
             ],
             [
              0.2222222222222222,
              "#7201a8"
             ],
             [
              0.3333333333333333,
              "#9c179e"
             ],
             [
              0.4444444444444444,
              "#bd3786"
             ],
             [
              0.5555555555555556,
              "#d8576b"
             ],
             [
              0.6666666666666666,
              "#ed7953"
             ],
             [
              0.7777777777777778,
              "#fb9f3a"
             ],
             [
              0.8888888888888888,
              "#fdca26"
             ],
             [
              1,
              "#f0f921"
             ]
            ],
            "type": "surface"
           }
          ],
          "table": [
           {
            "cells": {
             "fill": {
              "color": "#EBF0F8"
             },
             "line": {
              "color": "white"
             }
            },
            "header": {
             "fill": {
              "color": "#C8D4E3"
             },
             "line": {
              "color": "white"
             }
            },
            "type": "table"
           }
          ]
         },
         "layout": {
          "annotationdefaults": {
           "arrowcolor": "#2a3f5f",
           "arrowhead": 0,
           "arrowwidth": 1
          },
          "autotypenumbers": "strict",
          "coloraxis": {
           "colorbar": {
            "outlinewidth": 0,
            "ticks": ""
           }
          },
          "colorscale": {
           "diverging": [
            [
             0,
             "#8e0152"
            ],
            [
             0.1,
             "#c51b7d"
            ],
            [
             0.2,
             "#de77ae"
            ],
            [
             0.3,
             "#f1b6da"
            ],
            [
             0.4,
             "#fde0ef"
            ],
            [
             0.5,
             "#f7f7f7"
            ],
            [
             0.6,
             "#e6f5d0"
            ],
            [
             0.7,
             "#b8e186"
            ],
            [
             0.8,
             "#7fbc41"
            ],
            [
             0.9,
             "#4d9221"
            ],
            [
             1,
             "#276419"
            ]
           ],
           "sequential": [
            [
             0,
             "#0d0887"
            ],
            [
             0.1111111111111111,
             "#46039f"
            ],
            [
             0.2222222222222222,
             "#7201a8"
            ],
            [
             0.3333333333333333,
             "#9c179e"
            ],
            [
             0.4444444444444444,
             "#bd3786"
            ],
            [
             0.5555555555555556,
             "#d8576b"
            ],
            [
             0.6666666666666666,
             "#ed7953"
            ],
            [
             0.7777777777777778,
             "#fb9f3a"
            ],
            [
             0.8888888888888888,
             "#fdca26"
            ],
            [
             1,
             "#f0f921"
            ]
           ],
           "sequentialminus": [
            [
             0,
             "#0d0887"
            ],
            [
             0.1111111111111111,
             "#46039f"
            ],
            [
             0.2222222222222222,
             "#7201a8"
            ],
            [
             0.3333333333333333,
             "#9c179e"
            ],
            [
             0.4444444444444444,
             "#bd3786"
            ],
            [
             0.5555555555555556,
             "#d8576b"
            ],
            [
             0.6666666666666666,
             "#ed7953"
            ],
            [
             0.7777777777777778,
             "#fb9f3a"
            ],
            [
             0.8888888888888888,
             "#fdca26"
            ],
            [
             1,
             "#f0f921"
            ]
           ]
          },
          "colorway": [
           "#636efa",
           "#EF553B",
           "#00cc96",
           "#ab63fa",
           "#FFA15A",
           "#19d3f3",
           "#FF6692",
           "#B6E880",
           "#FF97FF",
           "#FECB52"
          ],
          "font": {
           "color": "#2a3f5f"
          },
          "geo": {
           "bgcolor": "white",
           "lakecolor": "white",
           "landcolor": "#E5ECF6",
           "showlakes": true,
           "showland": true,
           "subunitcolor": "white"
          },
          "hoverlabel": {
           "align": "left"
          },
          "hovermode": "closest",
          "mapbox": {
           "style": "light"
          },
          "paper_bgcolor": "white",
          "plot_bgcolor": "#E5ECF6",
          "polar": {
           "angularaxis": {
            "gridcolor": "white",
            "linecolor": "white",
            "ticks": ""
           },
           "bgcolor": "#E5ECF6",
           "radialaxis": {
            "gridcolor": "white",
            "linecolor": "white",
            "ticks": ""
           }
          },
          "scene": {
           "xaxis": {
            "backgroundcolor": "#E5ECF6",
            "gridcolor": "white",
            "gridwidth": 2,
            "linecolor": "white",
            "showbackground": true,
            "ticks": "",
            "zerolinecolor": "white"
           },
           "yaxis": {
            "backgroundcolor": "#E5ECF6",
            "gridcolor": "white",
            "gridwidth": 2,
            "linecolor": "white",
            "showbackground": true,
            "ticks": "",
            "zerolinecolor": "white"
           },
           "zaxis": {
            "backgroundcolor": "#E5ECF6",
            "gridcolor": "white",
            "gridwidth": 2,
            "linecolor": "white",
            "showbackground": true,
            "ticks": "",
            "zerolinecolor": "white"
           }
          },
          "shapedefaults": {
           "line": {
            "color": "#2a3f5f"
           }
          },
          "ternary": {
           "aaxis": {
            "gridcolor": "white",
            "linecolor": "white",
            "ticks": ""
           },
           "baxis": {
            "gridcolor": "white",
            "linecolor": "white",
            "ticks": ""
           },
           "bgcolor": "#E5ECF6",
           "caxis": {
            "gridcolor": "white",
            "linecolor": "white",
            "ticks": ""
           }
          },
          "title": {
           "x": 0.05
          },
          "xaxis": {
           "automargin": true,
           "gridcolor": "white",
           "linecolor": "white",
           "ticks": "",
           "title": {
            "standoff": 15
           },
           "zerolinecolor": "white",
           "zerolinewidth": 2
          },
          "yaxis": {
           "automargin": true,
           "gridcolor": "white",
           "linecolor": "white",
           "ticks": "",
           "title": {
            "standoff": 15
           },
           "zerolinecolor": "white",
           "zerolinewidth": 2
          }
         }
        },
        "title": {
         "text": "Succeeding stage after incorrect Find the Error or Test stage"
        },
        "xaxis": {
         "anchor": "y",
         "domain": [
          0,
          1
         ],
         "title": {
          "text": "Succeeding Stage"
         }
        },
        "yaxis": {
         "anchor": "x",
         "domain": [
          0,
          1
         ],
         "title": {
          "text": "Frequency"
         }
        }
       }
      }
     },
     "metadata": {},
     "output_type": "display_data"
    }
   ],
   "source": [
    "# Create a DataFrame to track succeeding stages after incorrect Find the Error or Test stage\n",
    "df_succeeding_stages = DataFrame(columns=[\"Stage\", \"Succeeding Stage\"])\n",
    "\n",
    "for exercise_log in EXERCISE_LOGS:\n",
    "    incorrect_find_the_error_stages: list[StageLog] = [stage_log for stage_log in exercise_log.stage_logs if stage_log.stage_name == DebuggingStage.find_error and not stage_log.correct]\n",
    "    incorrect_test_stages: list[StageLog] = [stage_log for stage_log in exercise_log.stage_logs if stage_log.stage_name == DebuggingStage.test and not stage_log.correct]\n",
    "    for stage_log in incorrect_find_the_error_stages:\n",
    "        succeeding_stage: StageLog = ExerciseLogProcessor.get_succeeding_stage(exercise_log, stage_log)\n",
    "        if succeeding_stage is not None:\n",
    "            df_succeeding_stages.loc[len(df_succeeding_stages)] = [DebuggingStage.find_error.name, succeeding_stage.stage_name.name]\n",
    "    for stage_log in incorrect_test_stages:\n",
    "        succeeding_stage: StageLog = ExerciseLogProcessor.get_succeeding_stage(exercise_log, stage_log)\n",
    "        if succeeding_stage is not None:\n",
    "                        df_succeeding_stages.loc[len(df_succeeding_stages)] = [DebuggingStage.test.name, succeeding_stage.stage_name.name]\n",
    "\n",
    "\n",
    "px.bar(\n",
    "    df_succeeding_stages,\n",
    "    color=\"Stage\",\n",
    "    barmode=\"group\",\n",
    "    labels={\"count\": \"Frequency\", \"value\": \"Succeeding Stage\"},\n",
    "    title=\"Succeeding stage after incorrect Find the Error or Test stage\"\n",
    ").show()\n"
   ]
  },
  {
   "cell_type": "markdown",
   "metadata": {},
   "source": [
    "For the *Test* stages where students reported their code as correct, what was the actual correctness of students' changes?"
   ]
  },
  {
   "cell_type": "code",
   "execution_count": 10,
   "metadata": {},
   "outputs": [
    {
     "name": "stdout",
     "output_type": "stream",
     "text": [
      "Docker image built\n",
      "Docker container created\n",
      "Number of actual correct Test stages for students who self-reported correctness on the Test stage: 38/50 (76.00%) \n"
     ]
    }
   ],
   "source": [
    "n_self_reported_correct_test_stages: int = 0\n",
    "n_actual_correct_test_stages: int = 0\n",
    "\n",
    "docker_interface: DockerInterface = DockerInterface.get_instance()\n",
    "docker_interface.create_docker_container()\n",
    "\n",
    "for exercise_log in EXERCISE_LOGS:\n",
    "    correct_test_stages: list[StageLog] = [stage_log for stage_log in exercise_log.stage_logs if stage_log.stage_name == DebuggingStage.test and stage_log.correct]\n",
    "    for stage_log in correct_test_stages:\n",
    "        if stage_log.program_logs is not None and len(stage_log.program_logs) > 0:\n",
    "            n_self_reported_correct_test_stages += 1\n",
    "            last_snapshot_in_stage: str = stage_log.program_logs[-1].snapshot\n",
    "            test_report: TestReport = docker_interface.test_student_program(last_snapshot_in_stage, exercise_log.student_id, exercise_log.exercise_name)\n",
    "            if test_report.n_successful_tests == test_report.n_total_tests:\n",
    "                n_actual_correct_test_stages += 1\n",
    "\n",
    "docker_interface.close_docker_container()\n",
    "print(f\"Number of actual correct Test stages for students who self-reported correctness on the Test stage: {display_percentage_string(n_actual_correct_test_stages, n_self_reported_correct_test_stages)} \")"
   ]
  },
  {
   "cell_type": "markdown",
   "metadata": {},
   "source": [
    "Students who reported being successful vs. unsuccessful in the test stage.\\\n",
    "Note that this was not properly logged due to an error in the logging system for the tool. Therefore, we have inferred students' response where possible, but this lowers the sample size."
   ]
  },
  {
   "cell_type": "code",
   "execution_count": 11,
   "metadata": {},
   "outputs": [
    {
     "name": "stdout",
     "output_type": "stream",
     "text": [
      "Number of correct Test stages: 75\n",
      "Number of correct Test stages with zero runs: 25\n",
      "Number of incorrect Test stages: 389\n"
     ]
    }
   ],
   "source": [
    "correct_test_stages: list[StageLog] = [stage_log for stage_log in STAGE_LOGS if stage_log.stage_name == DebuggingStage.test and stage_log.correct]\n",
    "incorrect_test_stages: list[StageLog] = [stage_log for stage_log in STAGE_LOGS if stage_log.stage_name == DebuggingStage.test and not stage_log.correct]\n",
    "print(f\"Number of correct Test stages: {len(correct_test_stages)}\")\n",
    "correct_test_stages_with_zero_runs: list[StageLog] = [stage_log for stage_log in correct_test_stages if StageLogProcessor.get_number_of_runs(stage_log) == 0]\n",
    "print(f\"Number of correct Test stages with zero runs: {len(correct_test_stages_with_zero_runs)}\")\n",
    "print(f\"Number of incorrect Test stages: {len(incorrect_test_stages)}\")"
   ]
  },
  {
   "cell_type": "markdown",
   "metadata": {},
   "source": [
    "## 5. Correlation Between Log Data and Survey Responses\n",
    "Based on students' survey responses (see `survey_analysis_results.ipynb`), we wanted to investigate whether students' log data was associated with these survey responses, which is what this cells investigates. First, we prepare the following data in a `DataFrame` for each student who attempted at least one exercise and responded to the survey (n=45):\n",
    "- Survey responses:\n",
    "  - Mean response to the survey items related to the restrictive aspects of the tool.\n",
    "  - Response to the utility of the underlying SIFFT process.\n",
    "- Log data:\n",
    "  - Number of attempted challenges.\n",
    "  - Mean time per challenge.\n",
    "  - Mean time per stage.\n",
    "  - Number of successful challenges."
   ]
  },
  {
   "cell_type": "code",
   "execution_count": 15,
   "metadata": {},
   "outputs": [
    {
     "name": "stdout",
     "output_type": "stream",
     "text": [
      "Number of students who completed the survey: 45\n"
     ]
    }
   ],
   "source": [
    "survey_responses: DataFrame = read_csv(\"data/survey_responses_numeric.csv\")\n",
    "print(f\"Number of students who completed the survey: {len(survey_responses)}\")\n",
    "\n",
    "survey_response_log_data_mapping: DataFrame = DataFrame(columns=[\"Perceived restrictive features utility\", \"Perceived SIFFT utility\", \"Number of attempted challenges\", \"Number of successful challenges\", \"Mean time per challenge\", \"Mean time per stage\"], index=Index([], name=\"student_id\"))\n",
    "survey_responses = survey_responses[[\"student_id\",\"Q2_1\", \"Q2_2\", \"Q2_3\", \"Q2_4\", \"Q5\"]] #Only keep relevant columns for analysis\n",
    "for row in survey_responses.itertuples():\n",
    "    student_id: str = row.student_id\n",
    "    student_exercise_logs: list[ExerciseLog] = [exercise_log for exercise_log in EXERCISE_LOGS if exercise_log.student_id == student_id]\n",
    "    if len(student_exercise_logs) > 0:\n",
    "        #Calcuate survey response metrics\n",
    "        restrictive_feature_responses: float = np.mean([row.Q2_1, row.Q2_2, row.Q2_3, row.Q2_4])\n",
    "        sifft_utility_response: float = row.Q5\n",
    "\n",
    "        #Calculate log data metrics\n",
    "        n_attempted_challenges: int = len(student_exercise_logs)\n",
    "        total_time_on_challenges: float = sum([ExerciseLogProcessor.get_time_on_exercise(exercise_log) for exercise_log in student_exercise_logs])\n",
    "        mean_time_per_challenge: float = total_time_on_challenges / n_attempted_challenges if n_attempted_challenges > 0 else 0\n",
    "        student_stage_logs: list[StageLog] = [stage_log for exercise_log in student_exercise_logs for stage_log in exercise_log.stage_logs]\n",
    "        mean_time_per_stage: float = np.mean([StageLogProcessor.get_time_on_stage(stage_log) for stage_log in student_stage_logs if StageLogProcessor.get_time_on_stage(stage_log) is not None])\n",
    "        n_successful_challenges: int = len([exercise_log for exercise_log in student_exercise_logs if exercise_log.test_report is not None and exercise_log.test_report.n_successful_tests == exercise_log.test_report.n_total_tests])\n",
    "        \n",
    "        survey_response_log_data_mapping.loc[student_id] = [\n",
    "            restrictive_feature_responses,\n",
    "            sifft_utility_response,\n",
    "            n_attempted_challenges,\n",
    "            mean_time_per_challenge,\n",
    "            mean_time_per_stage,\n",
    "            n_successful_challenges\n",
    "        ]"
   ]
  },
  {
   "cell_type": "markdown",
   "metadata": {},
   "source": [
    "Before plotting a correlation matrix, we need to decide which correlation coefficient to use, which is influenced by whether the data in the `DataFrame` is parametric or non-parametric. To find this out, we perform Shapiro-Wilk and Kolmogorov-Smirnov tests for each column."
   ]
  },
  {
   "cell_type": "code",
   "execution_count": 16,
   "metadata": {},
   "outputs": [
    {
     "name": "stdout",
     "output_type": "stream",
     "text": [
      "Shapiro-Wilk value for Perceived restrictive features utility: 0.9518, p-value: 0.0874\n",
      "Kolmogorov-Smirnov value for Perceived restrictive features utility: 0.8413, p-value: 0.0000\n",
      "\n",
      "Shapiro-Wilk value for Perceived SIFFT utility: 0.8430, p-value: 0.0001\n",
      "Kolmogorov-Smirnov value for Perceived SIFFT utility: 0.8413, p-value: 0.0000\n",
      "\n",
      "Shapiro-Wilk value for Number of attempted challenges: 0.8634, p-value: 0.0002\n",
      "Kolmogorov-Smirnov value for Number of attempted challenges: 0.8522, p-value: 0.0000\n",
      "\n",
      "Shapiro-Wilk value for Number of successful challenges: 0.9133, p-value: 0.0048\n",
      "Kolmogorov-Smirnov value for Number of successful challenges: 1.0000, p-value: 0.0000\n",
      "\n",
      "Shapiro-Wilk value for Mean time per challenge: 0.8828, p-value: 0.0006\n",
      "Kolmogorov-Smirnov value for Mean time per challenge: 1.0000, p-value: 0.0000\n",
      "\n",
      "Shapiro-Wilk value for Mean time per stage: 0.8492, p-value: 0.0001\n",
      "Kolmogorov-Smirnov value for Mean time per stage: 0.5163, p-value: 0.0000\n",
      "\n"
     ]
    }
   ],
   "source": [
    "for column in survey_response_log_data_mapping.columns:\n",
    "    shapiro_wilk_value: stats.shapiro = stats.shapiro(survey_response_log_data_mapping[column].dropna())\n",
    "    print(f\"Shapiro-Wilk value for {column}: {shapiro_wilk_value.statistic:.4f}, p-value: {shapiro_wilk_value.pvalue:.4f}\")\n",
    "    kolmogorov_smirnov_value: stats.kstest = stats.kstest(survey_response_log_data_mapping[column].dropna(), 'norm')\n",
    "    print(f\"Kolmogorov-Smirnov value for {column}: {kolmogorov_smirnov_value.statistic:.4f}, p-value: {kolmogorov_smirnov_value.pvalue:.4f}\\n\")\n"
   ]
  },
  {
   "cell_type": "markdown",
   "metadata": {},
   "source": [
    "### Correlation Coefficients\n",
    "Almost all of the data is not normally distributed, so a non-parametric correlation measure is required. Most of this data is ordinal in practice, some of which may contain lots of ties, we use Kendall's tau correlation"
   ]
  },
  {
   "cell_type": "code",
   "execution_count": 17,
   "metadata": {},
   "outputs": [
    {
     "data": {
      "application/vnd.plotly.v1+json": {
       "config": {
        "plotlyServerURL": "https://plot.ly"
       },
       "data": [
        {
         "text": [
          [
           "-0.20 (p=0.096)",
           "-0.15 (p=0.247)"
          ],
          [
           "0.24 (p=0.038)",
           "0.26 (p=0.032)"
          ],
          [
           "0.28 (p=0.013)",
           "0.32 (p=0.009)"
          ],
          [
           "-0.16 (p=0.198)",
           "-0.07 (p=0.575)"
          ]
         ],
         "texttemplate": "%{text}",
         "type": "heatmap",
         "x": [
          "Perceived restrictive<br>features utility",
          "Perceived SIFFT<br>utility"
         ],
         "y": [
          "Number of attempted<br>challenges",
          "Number of successful<br>challenges",
          "Mean time per<br>challenge",
          "Mean time per<br>stage"
         ],
         "z": {
          "bdata": "qZOAcsGCyb/ChzlRaRjDv5K28JRFbM4/DhXrM1XW0D+qSFF5KSLSPw/tqpudjtQ/KW/AHIklxL+675dwit+yvw==",
          "dtype": "f8",
          "shape": "4, 2"
         },
         "zmax": 0.5,
         "zmin": -0.5
        }
       ],
       "layout": {
        "font": {
         "size": 16
        },
        "height": 550,
        "template": {
         "data": {
          "bar": [
           {
            "error_x": {
             "color": "#2a3f5f"
            },
            "error_y": {
             "color": "#2a3f5f"
            },
            "marker": {
             "line": {
              "color": "#E5ECF6",
              "width": 0.5
             },
             "pattern": {
              "fillmode": "overlay",
              "size": 10,
              "solidity": 0.2
             }
            },
            "type": "bar"
           }
          ],
          "barpolar": [
           {
            "marker": {
             "line": {
              "color": "#E5ECF6",
              "width": 0.5
             },
             "pattern": {
              "fillmode": "overlay",
              "size": 10,
              "solidity": 0.2
             }
            },
            "type": "barpolar"
           }
          ],
          "carpet": [
           {
            "aaxis": {
             "endlinecolor": "#2a3f5f",
             "gridcolor": "white",
             "linecolor": "white",
             "minorgridcolor": "white",
             "startlinecolor": "#2a3f5f"
            },
            "baxis": {
             "endlinecolor": "#2a3f5f",
             "gridcolor": "white",
             "linecolor": "white",
             "minorgridcolor": "white",
             "startlinecolor": "#2a3f5f"
            },
            "type": "carpet"
           }
          ],
          "choropleth": [
           {
            "colorbar": {
             "outlinewidth": 0,
             "ticks": ""
            },
            "type": "choropleth"
           }
          ],
          "contour": [
           {
            "colorbar": {
             "outlinewidth": 0,
             "ticks": ""
            },
            "colorscale": [
             [
              0,
              "#0d0887"
             ],
             [
              0.1111111111111111,
              "#46039f"
             ],
             [
              0.2222222222222222,
              "#7201a8"
             ],
             [
              0.3333333333333333,
              "#9c179e"
             ],
             [
              0.4444444444444444,
              "#bd3786"
             ],
             [
              0.5555555555555556,
              "#d8576b"
             ],
             [
              0.6666666666666666,
              "#ed7953"
             ],
             [
              0.7777777777777778,
              "#fb9f3a"
             ],
             [
              0.8888888888888888,
              "#fdca26"
             ],
             [
              1,
              "#f0f921"
             ]
            ],
            "type": "contour"
           }
          ],
          "contourcarpet": [
           {
            "colorbar": {
             "outlinewidth": 0,
             "ticks": ""
            },
            "type": "contourcarpet"
           }
          ],
          "heatmap": [
           {
            "colorbar": {
             "outlinewidth": 0,
             "ticks": ""
            },
            "colorscale": [
             [
              0,
              "#0d0887"
             ],
             [
              0.1111111111111111,
              "#46039f"
             ],
             [
              0.2222222222222222,
              "#7201a8"
             ],
             [
              0.3333333333333333,
              "#9c179e"
             ],
             [
              0.4444444444444444,
              "#bd3786"
             ],
             [
              0.5555555555555556,
              "#d8576b"
             ],
             [
              0.6666666666666666,
              "#ed7953"
             ],
             [
              0.7777777777777778,
              "#fb9f3a"
             ],
             [
              0.8888888888888888,
              "#fdca26"
             ],
             [
              1,
              "#f0f921"
             ]
            ],
            "type": "heatmap"
           }
          ],
          "histogram": [
           {
            "marker": {
             "pattern": {
              "fillmode": "overlay",
              "size": 10,
              "solidity": 0.2
             }
            },
            "type": "histogram"
           }
          ],
          "histogram2d": [
           {
            "colorbar": {
             "outlinewidth": 0,
             "ticks": ""
            },
            "colorscale": [
             [
              0,
              "#0d0887"
             ],
             [
              0.1111111111111111,
              "#46039f"
             ],
             [
              0.2222222222222222,
              "#7201a8"
             ],
             [
              0.3333333333333333,
              "#9c179e"
             ],
             [
              0.4444444444444444,
              "#bd3786"
             ],
             [
              0.5555555555555556,
              "#d8576b"
             ],
             [
              0.6666666666666666,
              "#ed7953"
             ],
             [
              0.7777777777777778,
              "#fb9f3a"
             ],
             [
              0.8888888888888888,
              "#fdca26"
             ],
             [
              1,
              "#f0f921"
             ]
            ],
            "type": "histogram2d"
           }
          ],
          "histogram2dcontour": [
           {
            "colorbar": {
             "outlinewidth": 0,
             "ticks": ""
            },
            "colorscale": [
             [
              0,
              "#0d0887"
             ],
             [
              0.1111111111111111,
              "#46039f"
             ],
             [
              0.2222222222222222,
              "#7201a8"
             ],
             [
              0.3333333333333333,
              "#9c179e"
             ],
             [
              0.4444444444444444,
              "#bd3786"
             ],
             [
              0.5555555555555556,
              "#d8576b"
             ],
             [
              0.6666666666666666,
              "#ed7953"
             ],
             [
              0.7777777777777778,
              "#fb9f3a"
             ],
             [
              0.8888888888888888,
              "#fdca26"
             ],
             [
              1,
              "#f0f921"
             ]
            ],
            "type": "histogram2dcontour"
           }
          ],
          "mesh3d": [
           {
            "colorbar": {
             "outlinewidth": 0,
             "ticks": ""
            },
            "type": "mesh3d"
           }
          ],
          "parcoords": [
           {
            "line": {
             "colorbar": {
              "outlinewidth": 0,
              "ticks": ""
             }
            },
            "type": "parcoords"
           }
          ],
          "pie": [
           {
            "automargin": true,
            "type": "pie"
           }
          ],
          "scatter": [
           {
            "fillpattern": {
             "fillmode": "overlay",
             "size": 10,
             "solidity": 0.2
            },
            "type": "scatter"
           }
          ],
          "scatter3d": [
           {
            "line": {
             "colorbar": {
              "outlinewidth": 0,
              "ticks": ""
             }
            },
            "marker": {
             "colorbar": {
              "outlinewidth": 0,
              "ticks": ""
             }
            },
            "type": "scatter3d"
           }
          ],
          "scattercarpet": [
           {
            "marker": {
             "colorbar": {
              "outlinewidth": 0,
              "ticks": ""
             }
            },
            "type": "scattercarpet"
           }
          ],
          "scattergeo": [
           {
            "marker": {
             "colorbar": {
              "outlinewidth": 0,
              "ticks": ""
             }
            },
            "type": "scattergeo"
           }
          ],
          "scattergl": [
           {
            "marker": {
             "colorbar": {
              "outlinewidth": 0,
              "ticks": ""
             }
            },
            "type": "scattergl"
           }
          ],
          "scattermap": [
           {
            "marker": {
             "colorbar": {
              "outlinewidth": 0,
              "ticks": ""
             }
            },
            "type": "scattermap"
           }
          ],
          "scattermapbox": [
           {
            "marker": {
             "colorbar": {
              "outlinewidth": 0,
              "ticks": ""
             }
            },
            "type": "scattermapbox"
           }
          ],
          "scatterpolar": [
           {
            "marker": {
             "colorbar": {
              "outlinewidth": 0,
              "ticks": ""
             }
            },
            "type": "scatterpolar"
           }
          ],
          "scatterpolargl": [
           {
            "marker": {
             "colorbar": {
              "outlinewidth": 0,
              "ticks": ""
             }
            },
            "type": "scatterpolargl"
           }
          ],
          "scatterternary": [
           {
            "marker": {
             "colorbar": {
              "outlinewidth": 0,
              "ticks": ""
             }
            },
            "type": "scatterternary"
           }
          ],
          "surface": [
           {
            "colorbar": {
             "outlinewidth": 0,
             "ticks": ""
            },
            "colorscale": [
             [
              0,
              "#0d0887"
             ],
             [
              0.1111111111111111,
              "#46039f"
             ],
             [
              0.2222222222222222,
              "#7201a8"
             ],
             [
              0.3333333333333333,
              "#9c179e"
             ],
             [
              0.4444444444444444,
              "#bd3786"
             ],
             [
              0.5555555555555556,
              "#d8576b"
             ],
             [
              0.6666666666666666,
              "#ed7953"
             ],
             [
              0.7777777777777778,
              "#fb9f3a"
             ],
             [
              0.8888888888888888,
              "#fdca26"
             ],
             [
              1,
              "#f0f921"
             ]
            ],
            "type": "surface"
           }
          ],
          "table": [
           {
            "cells": {
             "fill": {
              "color": "#EBF0F8"
             },
             "line": {
              "color": "white"
             }
            },
            "header": {
             "fill": {
              "color": "#C8D4E3"
             },
             "line": {
              "color": "white"
             }
            },
            "type": "table"
           }
          ]
         },
         "layout": {
          "annotationdefaults": {
           "arrowcolor": "#2a3f5f",
           "arrowhead": 0,
           "arrowwidth": 1
          },
          "autotypenumbers": "strict",
          "coloraxis": {
           "colorbar": {
            "outlinewidth": 0,
            "ticks": ""
           }
          },
          "colorscale": {
           "diverging": [
            [
             0,
             "#8e0152"
            ],
            [
             0.1,
             "#c51b7d"
            ],
            [
             0.2,
             "#de77ae"
            ],
            [
             0.3,
             "#f1b6da"
            ],
            [
             0.4,
             "#fde0ef"
            ],
            [
             0.5,
             "#f7f7f7"
            ],
            [
             0.6,
             "#e6f5d0"
            ],
            [
             0.7,
             "#b8e186"
            ],
            [
             0.8,
             "#7fbc41"
            ],
            [
             0.9,
             "#4d9221"
            ],
            [
             1,
             "#276419"
            ]
           ],
           "sequential": [
            [
             0,
             "#0d0887"
            ],
            [
             0.1111111111111111,
             "#46039f"
            ],
            [
             0.2222222222222222,
             "#7201a8"
            ],
            [
             0.3333333333333333,
             "#9c179e"
            ],
            [
             0.4444444444444444,
             "#bd3786"
            ],
            [
             0.5555555555555556,
             "#d8576b"
            ],
            [
             0.6666666666666666,
             "#ed7953"
            ],
            [
             0.7777777777777778,
             "#fb9f3a"
            ],
            [
             0.8888888888888888,
             "#fdca26"
            ],
            [
             1,
             "#f0f921"
            ]
           ],
           "sequentialminus": [
            [
             0,
             "#0d0887"
            ],
            [
             0.1111111111111111,
             "#46039f"
            ],
            [
             0.2222222222222222,
             "#7201a8"
            ],
            [
             0.3333333333333333,
             "#9c179e"
            ],
            [
             0.4444444444444444,
             "#bd3786"
            ],
            [
             0.5555555555555556,
             "#d8576b"
            ],
            [
             0.6666666666666666,
             "#ed7953"
            ],
            [
             0.7777777777777778,
             "#fb9f3a"
            ],
            [
             0.8888888888888888,
             "#fdca26"
            ],
            [
             1,
             "#f0f921"
            ]
           ]
          },
          "colorway": [
           "#636efa",
           "#EF553B",
           "#00cc96",
           "#ab63fa",
           "#FFA15A",
           "#19d3f3",
           "#FF6692",
           "#B6E880",
           "#FF97FF",
           "#FECB52"
          ],
          "font": {
           "color": "#2a3f5f"
          },
          "geo": {
           "bgcolor": "white",
           "lakecolor": "white",
           "landcolor": "#E5ECF6",
           "showlakes": true,
           "showland": true,
           "subunitcolor": "white"
          },
          "hoverlabel": {
           "align": "left"
          },
          "hovermode": "closest",
          "mapbox": {
           "style": "light"
          },
          "paper_bgcolor": "white",
          "plot_bgcolor": "#E5ECF6",
          "polar": {
           "angularaxis": {
            "gridcolor": "white",
            "linecolor": "white",
            "ticks": ""
           },
           "bgcolor": "#E5ECF6",
           "radialaxis": {
            "gridcolor": "white",
            "linecolor": "white",
            "ticks": ""
           }
          },
          "scene": {
           "xaxis": {
            "backgroundcolor": "#E5ECF6",
            "gridcolor": "white",
            "gridwidth": 2,
            "linecolor": "white",
            "showbackground": true,
            "ticks": "",
            "zerolinecolor": "white"
           },
           "yaxis": {
            "backgroundcolor": "#E5ECF6",
            "gridcolor": "white",
            "gridwidth": 2,
            "linecolor": "white",
            "showbackground": true,
            "ticks": "",
            "zerolinecolor": "white"
           },
           "zaxis": {
            "backgroundcolor": "#E5ECF6",
            "gridcolor": "white",
            "gridwidth": 2,
            "linecolor": "white",
            "showbackground": true,
            "ticks": "",
            "zerolinecolor": "white"
           }
          },
          "shapedefaults": {
           "line": {
            "color": "#2a3f5f"
           }
          },
          "ternary": {
           "aaxis": {
            "gridcolor": "white",
            "linecolor": "white",
            "ticks": ""
           },
           "baxis": {
            "gridcolor": "white",
            "linecolor": "white",
            "ticks": ""
           },
           "bgcolor": "#E5ECF6",
           "caxis": {
            "gridcolor": "white",
            "linecolor": "white",
            "ticks": ""
           }
          },
          "title": {
           "x": 0.05
          },
          "xaxis": {
           "automargin": true,
           "gridcolor": "white",
           "linecolor": "white",
           "ticks": "",
           "title": {
            "standoff": 15
           },
           "zerolinecolor": "white",
           "zerolinewidth": 2
          },
          "yaxis": {
           "automargin": true,
           "gridcolor": "white",
           "linecolor": "white",
           "ticks": "",
           "title": {
            "standoff": 15
           },
           "zerolinecolor": "white",
           "zerolinewidth": 2
          }
         }
        },
        "width": 700
       }
      }
     },
     "metadata": {},
     "output_type": "display_data"
    }
   ],
   "source": [
    "import plotly.graph_objects as go\n",
    "\n",
    "correlation_matrix: DataFrame = DataFrame(columns=[\"Perceived restrictive features utility\", \"Perceived SIFFT utility\"])\n",
    "correlation_matrix_text: DataFrame = DataFrame(columns=[\"Perceived restrictive features utility\", \"Perceived SIFFT utility\"])\n",
    "for row in [\"Number of attempted challenges\", \"Number of successful challenges\", \"Mean time per challenge\", \"Mean time per stage\"]:\n",
    "    correlations_restrictive_features: stats.kendalltau = stats.kendalltau(survey_response_log_data_mapping[\"Perceived restrictive features utility\"], survey_response_log_data_mapping[row])\n",
    "    correlations_sifft_utility: stats.kendalltau = stats.kendalltau(survey_response_log_data_mapping[\"Perceived SIFFT utility\"], survey_response_log_data_mapping[row])\n",
    "    correlation_matrix.loc[row] = [\n",
    "        correlations_restrictive_features.correlation,\n",
    "        correlations_sifft_utility.correlation\n",
    "    ]\n",
    "    correlation_matrix_text.loc[row] = [\n",
    "        f\"{correlations_restrictive_features.correlation:.2f} (p={correlations_restrictive_features.pvalue:.3f})\",\n",
    "        f\"{correlations_sifft_utility.correlation:.2f} (p={correlations_sifft_utility.pvalue:.3f})\"\n",
    "    ]\n",
    "\n",
    "def add_line_breaks(label, every=3):\n",
    "    words = label.split()\n",
    "    return '<br>'.join([' '.join(words[i:i+every]) for i in range(0, len(words), every)])\n",
    "\n",
    "go.Figure(\n",
    "    data=go.Heatmap(\n",
    "        z=correlation_matrix.values,\n",
    "        x=[add_line_breaks(label, every=2) for label in correlation_matrix.columns],\n",
    "        y=[add_line_breaks(label) for label in correlation_matrix.index],\n",
    "        text=correlation_matrix_text.values,\n",
    "        texttemplate=\"%{text}\",\n",
    "        zmin=-0.5, zmax=0.5,\n",
    "    ),\n",
    "    layout=dict(height=550, width=700, font=dict(size=16))\n",
    ").show()"
   ]
  }
 ],
 "metadata": {
  "kernelspec": {
   "display_name": ".venv (3.13.0)",
   "language": "python",
   "name": "python3"
  },
  "language_info": {
   "codemirror_mode": {
    "name": "ipython",
    "version": 3
   },
   "file_extension": ".py",
   "mimetype": "text/x-python",
   "name": "python",
   "nbconvert_exporter": "python",
   "pygments_lexer": "ipython3",
   "version": "3.13.0"
  }
 },
 "nbformat": 4,
 "nbformat_minor": 2
}
